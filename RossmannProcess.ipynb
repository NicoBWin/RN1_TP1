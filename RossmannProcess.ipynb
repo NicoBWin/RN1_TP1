{
 "cells": [
  {
   "cell_type": "markdown",
   "id": "935656eb",
   "metadata": {
    "papermill": {
     "duration": 0.014125,
     "end_time": "2023-11-29T02:08:42.890776",
     "exception": false,
     "start_time": "2023-11-29T02:08:42.876651",
     "status": "completed"
    },
    "tags": []
   },
   "source": [
    "# TP2 - Redes Neuronales (22.45)\n",
    "En este trabajo páctico se busca mejorar la red otorgada por la cátedra con todos los conocimientos vistos en las clases.\n",
    "\n",
    "Autor: Nicolás Bustelo - 61431"
   ]
  },
  {
   "cell_type": "code",
   "execution_count": 1,
   "id": "8fd2184f",
   "metadata": {
    "execution": {
     "iopub.execute_input": "2023-11-29T02:08:42.921634Z",
     "iopub.status.busy": "2023-11-29T02:08:42.921246Z",
     "iopub.status.idle": "2023-11-29T02:09:00.106958Z",
     "shell.execute_reply": "2023-11-29T02:09:00.105829Z"
    },
    "papermill": {
     "duration": 17.204,
     "end_time": "2023-11-29T02:09:00.109764",
     "exception": false,
     "start_time": "2023-11-29T02:08:42.905764",
     "status": "completed"
    },
    "tags": []
   },
   "outputs": [
    {
     "name": "stderr",
     "output_type": "stream",
     "text": [
      "/opt/conda/lib/python3.10/site-packages/scipy/__init__.py:146: UserWarning: A NumPy version >=1.16.5 and <1.23.0 is required for this version of SciPy (detected version 1.24.3\n",
      "  warnings.warn(f\"A NumPy version >={np_minversion} and <{np_maxversion}\"\n"
     ]
    }
   ],
   "source": [
    "from tensorflow.compat.v1 import ConfigProto\n",
    "from tensorflow.compat.v1 import InteractiveSession\n",
    "config = ConfigProto()\n",
    "config.gpu_options.allow_growth = True\n",
    "session = InteractiveSession(config=config)"
   ]
  },
  {
   "cell_type": "code",
   "execution_count": 2,
   "id": "33f0e67b",
   "metadata": {
    "execution": {
     "iopub.execute_input": "2023-11-29T02:09:00.147010Z",
     "iopub.status.busy": "2023-11-29T02:09:00.146284Z",
     "iopub.status.idle": "2023-11-29T02:09:00.156234Z",
     "shell.execute_reply": "2023-11-29T02:09:00.155102Z"
    },
    "papermill": {
     "duration": 0.029717,
     "end_time": "2023-11-29T02:09:00.158838",
     "exception": false,
     "start_time": "2023-11-29T02:09:00.129121",
     "status": "completed"
    },
    "tags": []
   },
   "outputs": [],
   "source": [
    "import pandas as pd\n",
    "import numpy as np\n",
    "import datetime\n",
    "from pandas_summary import DataFrameSummary"
   ]
  },
  {
   "cell_type": "code",
   "execution_count": 3,
   "id": "3485bba1",
   "metadata": {
    "execution": {
     "iopub.execute_input": "2023-11-29T02:09:00.192053Z",
     "iopub.status.busy": "2023-11-29T02:09:00.191645Z",
     "iopub.status.idle": "2023-11-29T02:09:00.319273Z",
     "shell.execute_reply": "2023-11-29T02:09:00.318273Z"
    },
    "papermill": {
     "duration": 0.147207,
     "end_time": "2023-11-29T02:09:00.321955",
     "exception": false,
     "start_time": "2023-11-29T02:09:00.174748",
     "status": "completed"
    },
    "tags": []
   },
   "outputs": [],
   "source": [
    "from tensorflow.keras.utils import to_categorical"
   ]
  },
  {
   "cell_type": "code",
   "execution_count": 4,
   "id": "ca40d63a",
   "metadata": {
    "execution": {
     "iopub.execute_input": "2023-11-29T02:09:00.353519Z",
     "iopub.status.busy": "2023-11-29T02:09:00.353104Z",
     "iopub.status.idle": "2023-11-29T02:09:01.728589Z",
     "shell.execute_reply": "2023-11-29T02:09:01.727535Z"
    },
    "papermill": {
     "duration": 1.394462,
     "end_time": "2023-11-29T02:09:01.731296",
     "exception": false,
     "start_time": "2023-11-29T02:09:00.336834",
     "status": "completed"
    },
    "tags": []
   },
   "outputs": [],
   "source": [
    "df = pd.read_feather('/kaggle/input/normalized/train_normalized_data.fth')\n",
    "df_test = pd.read_feather('/kaggle/input/normalized/test_normalized_data.fth')"
   ]
  },
  {
   "cell_type": "code",
   "execution_count": 5,
   "id": "5b2e365a",
   "metadata": {
    "execution": {
     "iopub.execute_input": "2023-11-29T02:09:01.761644Z",
     "iopub.status.busy": "2023-11-29T02:09:01.761259Z",
     "iopub.status.idle": "2023-11-29T02:09:01.766830Z",
     "shell.execute_reply": "2023-11-29T02:09:01.765870Z"
    },
    "papermill": {
     "duration": 0.023418,
     "end_time": "2023-11-29T02:09:01.769191",
     "exception": false,
     "start_time": "2023-11-29T02:09:01.745773",
     "status": "completed"
    },
    "tags": []
   },
   "outputs": [],
   "source": [
    "cat_vars = ['Store', 'DayOfWeek', 'Year', 'Month', 'Day', 'StateHoliday', 'CompetitionMonthsOpen', 'Promo2Weeks', \n",
    "            'StoreType', 'Assortment', 'PromoInterval', 'CompetitionOpenSinceYear', 'Promo2SinceYear', 'State', \n",
    "            'Week', 'Events', 'Promo_fw', 'Promo_bw', 'StateHoliday_bool_fw', 'StateHoliday_bool_bw', 'SchoolHoliday_fw', 'SchoolHoliday_bw']\n",
    "\n",
    "#cat_vars = ['Store', 'DayOfWeek']"
   ]
  },
  {
   "cell_type": "code",
   "execution_count": 6,
   "id": "9a08feae",
   "metadata": {
    "execution": {
     "iopub.execute_input": "2023-11-29T02:09:01.799924Z",
     "iopub.status.busy": "2023-11-29T02:09:01.799527Z",
     "iopub.status.idle": "2023-11-29T02:09:01.805378Z",
     "shell.execute_reply": "2023-11-29T02:09:01.804207Z"
    },
    "papermill": {
     "duration": 0.02391,
     "end_time": "2023-11-29T02:09:01.807614",
     "exception": false,
     "start_time": "2023-11-29T02:09:01.783704",
     "status": "completed"
    },
    "tags": []
   },
   "outputs": [],
   "source": [
    "contin_vars = ['CompetitionDistance', \n",
    "   'Max_TemperatureC', 'Mean_TemperatureC', 'Min_TemperatureC', 'Precipitationmm',\n",
    "   'Max_Humidity', 'Mean_Humidity', 'Min_Humidity', 'Max_Wind_SpeedKm_h', \n",
    "   'Mean_Wind_SpeedKm_h', 'CloudCover', 'trend', 'trend_DE',\n",
    "   'AfterStateHoliday_bool', 'BeforeStateHoliday_bool', 'Promo', 'SchoolHoliday', 'StateHoliday_bool']\n",
    "#contin_vars = ['BeforeStateHoliday_bool', 'Max_TemperatureC']"
   ]
  },
  {
   "cell_type": "code",
   "execution_count": 7,
   "id": "02b9427a",
   "metadata": {
    "execution": {
     "iopub.execute_input": "2023-11-29T02:09:01.838813Z",
     "iopub.status.busy": "2023-11-29T02:09:01.837912Z",
     "iopub.status.idle": "2023-11-29T02:09:03.774918Z",
     "shell.execute_reply": "2023-11-29T02:09:03.773831Z"
    },
    "papermill": {
     "duration": 1.955416,
     "end_time": "2023-11-29T02:09:03.777439",
     "exception": false,
     "start_time": "2023-11-29T02:09:01.822023",
     "status": "completed"
    },
    "tags": []
   },
   "outputs": [
    {
     "data": {
      "text/html": [
       "<div>\n",
       "<style scoped>\n",
       "    .dataframe tbody tr th:only-of-type {\n",
       "        vertical-align: middle;\n",
       "    }\n",
       "\n",
       "    .dataframe tbody tr th {\n",
       "        vertical-align: top;\n",
       "    }\n",
       "\n",
       "    .dataframe thead th {\n",
       "        text-align: right;\n",
       "    }\n",
       "</style>\n",
       "<table border=\"1\" class=\"dataframe\">\n",
       "  <thead>\n",
       "    <tr style=\"text-align: right;\">\n",
       "      <th></th>\n",
       "      <th>uniques</th>\n",
       "    </tr>\n",
       "  </thead>\n",
       "  <tbody>\n",
       "    <tr>\n",
       "      <th>Store</th>\n",
       "      <td>1115</td>\n",
       "    </tr>\n",
       "    <tr>\n",
       "      <th>DayOfWeek</th>\n",
       "      <td>7</td>\n",
       "    </tr>\n",
       "    <tr>\n",
       "      <th>Year</th>\n",
       "      <td>3</td>\n",
       "    </tr>\n",
       "    <tr>\n",
       "      <th>Month</th>\n",
       "      <td>12</td>\n",
       "    </tr>\n",
       "    <tr>\n",
       "      <th>Day</th>\n",
       "      <td>31</td>\n",
       "    </tr>\n",
       "    <tr>\n",
       "      <th>StateHoliday</th>\n",
       "      <td>4</td>\n",
       "    </tr>\n",
       "    <tr>\n",
       "      <th>CompetitionMonthsOpen</th>\n",
       "      <td>25</td>\n",
       "    </tr>\n",
       "    <tr>\n",
       "      <th>Promo2Weeks</th>\n",
       "      <td>26</td>\n",
       "    </tr>\n",
       "    <tr>\n",
       "      <th>StoreType</th>\n",
       "      <td>4</td>\n",
       "    </tr>\n",
       "    <tr>\n",
       "      <th>Assortment</th>\n",
       "      <td>3</td>\n",
       "    </tr>\n",
       "    <tr>\n",
       "      <th>PromoInterval</th>\n",
       "      <td>4</td>\n",
       "    </tr>\n",
       "    <tr>\n",
       "      <th>CompetitionOpenSinceYear</th>\n",
       "      <td>21</td>\n",
       "    </tr>\n",
       "    <tr>\n",
       "      <th>Promo2SinceYear</th>\n",
       "      <td>8</td>\n",
       "    </tr>\n",
       "    <tr>\n",
       "      <th>State</th>\n",
       "      <td>12</td>\n",
       "    </tr>\n",
       "    <tr>\n",
       "      <th>Week</th>\n",
       "      <td>52</td>\n",
       "    </tr>\n",
       "    <tr>\n",
       "      <th>Events</th>\n",
       "      <td>22</td>\n",
       "    </tr>\n",
       "    <tr>\n",
       "      <th>Promo_fw</th>\n",
       "      <td>6</td>\n",
       "    </tr>\n",
       "    <tr>\n",
       "      <th>Promo_bw</th>\n",
       "      <td>6</td>\n",
       "    </tr>\n",
       "    <tr>\n",
       "      <th>StateHoliday_bool_fw</th>\n",
       "      <td>3</td>\n",
       "    </tr>\n",
       "    <tr>\n",
       "      <th>StateHoliday_bool_bw</th>\n",
       "      <td>3</td>\n",
       "    </tr>\n",
       "    <tr>\n",
       "      <th>SchoolHoliday_fw</th>\n",
       "      <td>8</td>\n",
       "    </tr>\n",
       "    <tr>\n",
       "      <th>SchoolHoliday_bw</th>\n",
       "      <td>8</td>\n",
       "    </tr>\n",
       "  </tbody>\n",
       "</table>\n",
       "</div>"
      ],
      "text/plain": [
       "                         uniques\n",
       "Store                       1115\n",
       "DayOfWeek                      7\n",
       "Year                           3\n",
       "Month                         12\n",
       "Day                           31\n",
       "StateHoliday                   4\n",
       "CompetitionMonthsOpen         25\n",
       "Promo2Weeks                   26\n",
       "StoreType                      4\n",
       "Assortment                     3\n",
       "PromoInterval                  4\n",
       "CompetitionOpenSinceYear      21\n",
       "Promo2SinceYear                8\n",
       "State                         12\n",
       "Week                          52\n",
       "Events                        22\n",
       "Promo_fw                       6\n",
       "Promo_bw                       6\n",
       "StateHoliday_bool_fw           3\n",
       "StateHoliday_bool_bw           3\n",
       "SchoolHoliday_fw               8\n",
       "SchoolHoliday_bw               8"
      ]
     },
     "execution_count": 7,
     "metadata": {},
     "output_type": "execute_result"
    }
   ],
   "source": [
    "uniques = DataFrameSummary(df[cat_vars]).summary().loc[['uniques']]\n",
    "uniques.T"
   ]
  },
  {
   "cell_type": "markdown",
   "id": "9c2fd233",
   "metadata": {
    "papermill": {
     "duration": 0.014467,
     "end_time": "2023-11-29T02:09:03.806528",
     "exception": false,
     "start_time": "2023-11-29T02:09:03.792061",
     "status": "completed"
    },
    "tags": []
   },
   "source": [
    "# Asignación de dimensión de embeddings"
   ]
  },
  {
   "cell_type": "code",
   "execution_count": 8,
   "id": "8a576302",
   "metadata": {
    "execution": {
     "iopub.execute_input": "2023-11-29T02:09:03.838312Z",
     "iopub.status.busy": "2023-11-29T02:09:03.837576Z",
     "iopub.status.idle": "2023-11-29T02:09:03.845586Z",
     "shell.execute_reply": "2023-11-29T02:09:03.844471Z"
    },
    "papermill": {
     "duration": 0.027028,
     "end_time": "2023-11-29T02:09:03.848075",
     "exception": false,
     "start_time": "2023-11-29T02:09:03.821047",
     "status": "completed"
    },
    "tags": []
   },
   "outputs": [],
   "source": [
    "'''\n",
    "cat_var_dict = {'Store': 50, 'DayOfWeek': 7, 'Year': 2, 'Month': 12,\n",
    "'Day': 10, 'StateHoliday': 2, 'CompetitionMonthsOpen': 2,\n",
    "'Promo2Weeks': 1, 'StoreType': 2, 'Assortment': 3, 'PromoInterval': 3,\n",
    "'CompetitionOpenSinceYear': 4, 'Promo2SinceYear': 4, 'State': 6,\n",
    "'Week': 25, 'Events': 4, 'Promo_fw': 1,\n",
    "'Promo_bw': 1, 'StateHoliday_bool_fw': 1,\n",
    "'StateHoliday_bool_bw': 1, 'SchoolHoliday_fw': 1,\n",
    "'SchoolHoliday_bw': 1}\n",
    "'''\n",
    "cat_var_dict = {\n",
    "    'Store': 1115, \n",
    "    'DayOfWeek': 7, \n",
    "    'Year': 3, \n",
    "    'Month': 12,\n",
    "    'Day': 31, \n",
    "    'StateHoliday': 4, \n",
    "    'CompetitionMonthsOpen': 25,\n",
    "    'Promo2Weeks': 26,\n",
    "    'StoreType': 4,\n",
    "    'Assortment': 3,\n",
    "    'PromoInterval': 4,\n",
    "    'CompetitionOpenSinceYear': 21,\n",
    "    'Promo2SinceYear': 8, \n",
    "    'State': 12,\n",
    "    'Week': 52,\n",
    "    'Events': 22,\n",
    "    'Promo_fw': 6,\n",
    "    'Promo_bw': 6,\n",
    "    'StateHoliday_bool_fw': 3,\n",
    "    'StateHoliday_bool_bw': 3,\n",
    "    'SchoolHoliday_fw': 8,\n",
    "    'SchoolHoliday_bw': 8}"
   ]
  },
  {
   "cell_type": "code",
   "execution_count": 9,
   "id": "4e1a6de9",
   "metadata": {
    "execution": {
     "iopub.execute_input": "2023-11-29T02:09:03.879534Z",
     "iopub.status.busy": "2023-11-29T02:09:03.879091Z",
     "iopub.status.idle": "2023-11-29T02:09:03.996337Z",
     "shell.execute_reply": "2023-11-29T02:09:03.995119Z"
    },
    "papermill": {
     "duration": 0.136035,
     "end_time": "2023-11-29T02:09:03.999119",
     "exception": false,
     "start_time": "2023-11-29T02:09:03.863084",
     "status": "completed"
    },
    "tags": []
   },
   "outputs": [
    {
     "name": "stdout",
     "output_type": "stream",
     "text": [
      "Store 1115 1115 [   0    1    2 ... 1112 1113 1114]\n",
      "\n",
      "DayOfWeek 7 7 [0 1 2 3 4 5 6]\n",
      "\n",
      "Year 3 3 [0 1 2]\n",
      "\n",
      "Month 12 12 [ 0  1  2  3  4  5  6  7  8  9 10 11]\n",
      "\n",
      "Day 31 31 [ 0  1  2  3  4  5  6  7  8  9 10 11 12 13 14 15 16 17 18 19 20 21 22 23\n",
      " 24 25 26 27 28 29 30]\n",
      "\n",
      "StateHoliday 4 4 [0 1 2 3]\n",
      "\n",
      "CompetitionMonthsOpen 25 25 [ 0  1  2  3  4  5  6  7  8  9 10 11 12 13 14 15 16 17 18 19 20 21 22 23\n",
      " 24]\n",
      "\n",
      "Promo2Weeks 26 26 [ 0  1  2  3  4  5  6  7  8  9 10 11 12 13 14 15 16 17 18 19 20 21 22 23\n",
      " 24 25]\n",
      "\n",
      "StoreType 4 4 [0 1 2 3]\n",
      "\n",
      "Assortment 3 3 [0 1 2]\n",
      "\n",
      "PromoInterval 4 4 [0 1 2 3]\n",
      "\n",
      "CompetitionOpenSinceYear 21 21 [ 0  1  2  3  4  5  6  7  8  9 10 11 12 13 14 15 16 17 18 19 20]\n",
      "\n",
      "Promo2SinceYear 8 8 [0 1 2 3 4 5 6 7]\n",
      "\n",
      "State 12 12 [ 0  1  2  3  4  5  6  7  8  9 10 11]\n",
      "\n",
      "Week 52 52 [ 0  1  2  3  4  5  6  7  8  9 10 11 12 13 14 15 16 17 18 19 20 21 22 23\n",
      " 24 25 26 27 28 29 30 31 32 33 34 35 36 37 38 39 40 41 42 43 44 45 46 47\n",
      " 48 49 50 51]\n",
      "\n",
      "Events 22 22 [ 0  1  2  3  4  5  6  7  8  9 10 11 12 13 14 15 16 17 18 19 20 21]\n",
      "\n",
      "Promo_fw 6 6 [0 1 2 3 4 5]\n",
      "\n",
      "Promo_bw 6 6 [0 1 2 3 4 5]\n",
      "\n",
      "StateHoliday_bool_fw 3 3 [0 1 2]\n",
      "\n",
      "StateHoliday_bool_bw 3 3 [0 1 2]\n",
      "\n",
      "SchoolHoliday_fw 8 8 [0 1 2 3 4 5 6 7]\n",
      "\n",
      "SchoolHoliday_bw 8 8 [0 1 2 3 4 5 6 7]\n",
      "\n"
     ]
    }
   ],
   "source": [
    "for v in cat_vars:\n",
    "    uniques_ = df[v].unique()\n",
    "    uniques_.sort()\n",
    "    print(v, cat_var_dict[v], len(uniques_), uniques_)\n",
    "    print()"
   ]
  },
  {
   "cell_type": "markdown",
   "id": "a45527be",
   "metadata": {
    "papermill": {
     "duration": 0.015047,
     "end_time": "2023-11-29T02:09:04.091409",
     "exception": false,
     "start_time": "2023-11-29T02:09:04.076362",
     "status": "completed"
    },
    "tags": []
   },
   "source": [
    "# Definición de modelo"
   ]
  },
  {
   "cell_type": "code",
   "execution_count": 10,
   "id": "f5ab940a",
   "metadata": {
    "execution": {
     "iopub.execute_input": "2023-11-29T02:09:04.126714Z",
     "iopub.status.busy": "2023-11-29T02:09:04.125789Z",
     "iopub.status.idle": "2023-11-29T02:09:04.134656Z",
     "shell.execute_reply": "2023-11-29T02:09:04.133650Z"
    },
    "papermill": {
     "duration": 0.029151,
     "end_time": "2023-11-29T02:09:04.137196",
     "exception": false,
     "start_time": "2023-11-29T02:09:04.108045",
     "status": "completed"
    },
    "tags": []
   },
   "outputs": [],
   "source": [
    "from tensorflow.keras.models import Model\n",
    "from tensorflow.keras.callbacks import ModelCheckpoint\n",
    "from tensorflow.keras.optimizers import Adam\n",
    "from tensorflow.keras.layers import Embedding, Input, Flatten, Concatenate, Dense, BatchNormalization, Activation, LeakyReLU, Dropout\n",
    "from tensorflow.keras.regularizers import l2"
   ]
  },
  {
   "cell_type": "code",
   "execution_count": 11,
   "id": "2ef65b8d",
   "metadata": {
    "execution": {
     "iopub.execute_input": "2023-11-29T02:09:04.171392Z",
     "iopub.status.busy": "2023-11-29T02:09:04.170638Z",
     "iopub.status.idle": "2023-11-29T02:09:04.180332Z",
     "shell.execute_reply": "2023-11-29T02:09:04.179296Z"
    },
    "papermill": {
     "duration": 0.029229,
     "end_time": "2023-11-29T02:09:04.182615",
     "exception": false,
     "start_time": "2023-11-29T02:09:04.153386",
     "status": "completed"
    },
    "tags": []
   },
   "outputs": [],
   "source": [
    "def get_cat_vars_model(cat_vars, uniques, cat_var_dict):\n",
    "    cat_vars_embed_outs = []\n",
    "    cat_var_inputs = []\n",
    "    for cat_var in cat_vars:\n",
    "        cat_var_in = Input(shape=(1,), name=f\"{cat_var}_input\")\n",
    "        cat_var_inputs.append(cat_var_in)\n",
    "        embed_out = Embedding(uniques[cat_var][0], cat_var_dict[cat_var], name=f'{cat_var}_Embed')(cat_var_in)\n",
    "        flatten_out = Flatten(name=f\"{cat_var}_flat\")(embed_out)\n",
    "        cat_vars_embed_outs.append(flatten_out)\n",
    "    return cat_var_inputs, cat_vars_embed_outs\n",
    "\n",
    "def get_cont_vars_input(contin_vars, dense_layer=False):\n",
    "    cont_vars_inputs = []\n",
    "    cont_vars_outputs = []\n",
    "    for cont_var in contin_vars:\n",
    "        cont_var_in = Input(shape=(1,), name=f\"{cont_var}_input\")\n",
    "        cont_vars_inputs.append(cont_var_in)\n",
    "        if dense_layer:\n",
    "            cont_var_out = Dense(1, name=f\"{cont_var}_input\", activation = 'linear')(cont_var_in)\n",
    "            cont_vars_outputs.append(cont_var_out)\n",
    "        else:\n",
    "            cont_vars_outputs.append(cont_var_in)\n",
    "    return cont_vars_inputs, cont_vars_outputs"
   ]
  },
  {
   "cell_type": "code",
   "execution_count": 12,
   "id": "9917db83",
   "metadata": {
    "execution": {
     "iopub.execute_input": "2023-11-29T02:09:04.216068Z",
     "iopub.status.busy": "2023-11-29T02:09:04.215084Z",
     "iopub.status.idle": "2023-11-29T02:09:04.733972Z",
     "shell.execute_reply": "2023-11-29T02:09:04.732763Z"
    },
    "papermill": {
     "duration": 0.538755,
     "end_time": "2023-11-29T02:09:04.736900",
     "exception": false,
     "start_time": "2023-11-29T02:09:04.198145",
     "status": "completed"
    },
    "tags": []
   },
   "outputs": [
    {
     "name": "stderr",
     "output_type": "stream",
     "text": [
      "/tmp/ipykernel_28/543933484.py:7: FutureWarning: Series.__getitem__ treating keys as positions is deprecated. In a future version, integer keys will always be treated as labels (consistent with DataFrame behavior). To access a value by position, use `ser.iloc[pos]`\n",
      "  embed_out = Embedding(uniques[cat_var][0], cat_var_dict[cat_var], name=f'{cat_var}_Embed')(cat_var_in)\n"
     ]
    }
   ],
   "source": [
    "add_customers = True\n",
    "log_output = True\n",
    "output_activation = 'linear'\n",
    "cat_var_inputs, cat_vars_embed_outs = get_cat_vars_model(cat_vars, uniques, cat_var_dict)\n",
    "cont_vars_inputs,  cont_vars_outs= get_cont_vars_input(contin_vars)"
   ]
  },
  {
   "cell_type": "code",
   "execution_count": 13,
   "id": "464683ec",
   "metadata": {
    "execution": {
     "iopub.execute_input": "2023-11-29T02:09:04.769732Z",
     "iopub.status.busy": "2023-11-29T02:09:04.769365Z",
     "iopub.status.idle": "2023-11-29T02:09:04.773826Z",
     "shell.execute_reply": "2023-11-29T02:09:04.772799Z"
    },
    "papermill": {
     "duration": 0.022913,
     "end_time": "2023-11-29T02:09:04.776014",
     "exception": false,
     "start_time": "2023-11-29T02:09:04.753101",
     "status": "completed"
    },
    "tags": []
   },
   "outputs": [],
   "source": [
    "# Descomentar para ver resultados\n",
    "# cat_vars_embed_outs\n",
    "# cat_var_inputs\n",
    "# cont_vars_inputs\n",
    "# cont_vars_outs"
   ]
  },
  {
   "cell_type": "markdown",
   "id": "cdbf2f19",
   "metadata": {
    "papermill": {
     "duration": 0.014919,
     "end_time": "2023-11-29T02:09:04.806244",
     "exception": false,
     "start_time": "2023-11-29T02:09:04.791325",
     "status": "completed"
    },
    "tags": []
   },
   "source": [
    "## Modelo de red"
   ]
  },
  {
   "cell_type": "code",
   "execution_count": 14,
   "id": "23cb753b",
   "metadata": {
    "execution": {
     "iopub.execute_input": "2023-11-29T02:09:04.838336Z",
     "iopub.status.busy": "2023-11-29T02:09:04.837922Z",
     "iopub.status.idle": "2023-11-29T02:09:04.845107Z",
     "shell.execute_reply": "2023-11-29T02:09:04.844015Z"
    },
    "papermill": {
     "duration": 0.025799,
     "end_time": "2023-11-29T02:09:04.847429",
     "exception": false,
     "start_time": "2023-11-29T02:09:04.821630",
     "status": "completed"
    },
    "tags": []
   },
   "outputs": [],
   "source": [
    "# Importo las bibliotecas a utilizar\n",
    "from tensorflow.keras.models import Sequential\n",
    "from tensorflow.keras.layers import Dense, Dropout, BatchNormalization, Flatten\n",
    "from tensorflow.keras.optimizers import SGD, Adam, RMSprop\n",
    "from tensorflow.keras.regularizers import l1, l2\n",
    "from tensorflow.keras.constraints import MaxNorm\n",
    "from tensorflow.keras import initializers\n",
    "from tensorflow.keras.callbacks import ReduceLROnPlateau, EarlyStopping, ModelCheckpoint, TensorBoard"
   ]
  },
  {
   "cell_type": "code",
   "execution_count": 15,
   "id": "e7608dbd",
   "metadata": {
    "execution": {
     "iopub.execute_input": "2023-11-29T02:09:04.879432Z",
     "iopub.status.busy": "2023-11-29T02:09:04.879015Z",
     "iopub.status.idle": "2023-11-29T02:09:05.058621Z",
     "shell.execute_reply": "2023-11-29T02:09:05.057495Z"
    },
    "papermill": {
     "duration": 0.198773,
     "end_time": "2023-11-29T02:09:05.061509",
     "exception": false,
     "start_time": "2023-11-29T02:09:04.862736",
     "status": "completed"
    },
    "tags": []
   },
   "outputs": [],
   "source": [
    "l2_lambda = 1e-4\n",
    "merged = Concatenate(name='All_Concatenate')(cat_vars_embed_outs + cont_vars_inputs)\n",
    "\n",
    "x = Dense(1024, kernel_constraint=MaxNorm(5), kernel_initializer=initializers.RandomNormal(stddev=0.1), kernel_regularizer=l2(l2_lambda))(merged)\n",
    "x = BatchNormalization()(x)\n",
    "x = Activation('relu')(x)\n",
    "x = Dropout(0.1)(x)\n",
    "\n",
    "x = Dense(515, kernel_constraint=MaxNorm(5))(merged)\n",
    "x = Activation('relu')(x)\n",
    "x = Dropout(0.1)(x)\n",
    "\n",
    "x = Dense(1024, kernel_constraint=MaxNorm(5), kernel_initializer=initializers.RandomNormal(stddev=0.1), kernel_regularizer=l2(l2_lambda))(x)\n",
    "x = BatchNormalization()(x)\n",
    "x = Activation('relu')(x)\n",
    "x = Dropout(0.1)(x)\n",
    "\n",
    "# x = LeakyReLU()(x)\n",
    "\n",
    "output_1 = Dense(1, name='Sales', activation=output_activation)(x)\n",
    "output_2 = Dense(1, name='Customers', activation=output_activation)(x)"
   ]
  },
  {
   "cell_type": "code",
   "execution_count": 16,
   "id": "71a4fd31",
   "metadata": {
    "execution": {
     "iopub.execute_input": "2023-11-29T02:09:05.095327Z",
     "iopub.status.busy": "2023-11-29T02:09:05.094348Z",
     "iopub.status.idle": "2023-11-29T02:09:05.117853Z",
     "shell.execute_reply": "2023-11-29T02:09:05.116895Z"
    },
    "papermill": {
     "duration": 0.043261,
     "end_time": "2023-11-29T02:09:05.120568",
     "exception": false,
     "start_time": "2023-11-29T02:09:05.077307",
     "status": "completed"
    },
    "tags": []
   },
   "outputs": [],
   "source": [
    "if add_customers:\n",
    "    model = Model(cat_var_inputs + cont_vars_inputs, [output_1, output_2])\n",
    "else: \n",
    "    model = Model(cat_var_inputs + cont_vars_inputs, [output_1])"
   ]
  },
  {
   "cell_type": "code",
   "execution_count": 17,
   "id": "0ca5dca5",
   "metadata": {
    "execution": {
     "iopub.execute_input": "2023-11-29T02:09:05.162580Z",
     "iopub.status.busy": "2023-11-29T02:09:05.161817Z",
     "iopub.status.idle": "2023-11-29T02:09:05.168503Z",
     "shell.execute_reply": "2023-11-29T02:09:05.166140Z"
    },
    "papermill": {
     "duration": 0.032892,
     "end_time": "2023-11-29T02:09:05.171512",
     "exception": false,
     "start_time": "2023-11-29T02:09:05.138620",
     "status": "completed"
    },
    "tags": []
   },
   "outputs": [],
   "source": [
    "# Descomentar para ver\n",
    "#model.summary()"
   ]
  },
  {
   "cell_type": "code",
   "execution_count": 18,
   "id": "56edfc94",
   "metadata": {
    "execution": {
     "iopub.execute_input": "2023-11-29T02:09:05.213957Z",
     "iopub.status.busy": "2023-11-29T02:09:05.212978Z",
     "iopub.status.idle": "2023-11-29T02:09:05.310347Z",
     "shell.execute_reply": "2023-11-29T02:09:05.309257Z"
    },
    "papermill": {
     "duration": 0.121124,
     "end_time": "2023-11-29T02:09:05.313259",
     "exception": false,
     "start_time": "2023-11-29T02:09:05.192135",
     "status": "completed"
    },
    "tags": []
   },
   "outputs": [],
   "source": [
    "model.save_weights('initial_weights.hdf5')"
   ]
  },
  {
   "cell_type": "code",
   "execution_count": 19,
   "id": "04dbe2ab",
   "metadata": {
    "execution": {
     "iopub.execute_input": "2023-11-29T02:09:05.346025Z",
     "iopub.status.busy": "2023-11-29T02:09:05.345632Z",
     "iopub.status.idle": "2023-11-29T02:09:05.657719Z",
     "shell.execute_reply": "2023-11-29T02:09:05.656622Z"
    },
    "papermill": {
     "duration": 0.331298,
     "end_time": "2023-11-29T02:09:05.660203",
     "exception": false,
     "start_time": "2023-11-29T02:09:05.328905",
     "status": "completed"
    },
    "tags": []
   },
   "outputs": [
    {
     "name": "stdout",
     "output_type": "stream",
     "text": [
      "Cantidad en val: 30188, porcentaje: 0.9642465458145908\n"
     ]
    }
   ],
   "source": [
    "df_train = df[df.Date < datetime.datetime(2015, 7, 1)]  \n",
    "df_val = df[df.Date >= datetime.datetime(2015, 7, 1)]\n",
    "print(f'Cantidad en val: {len(df_val)}, porcentaje: {len(df_train)/(len(df_train) + len(df_val))}')"
   ]
  },
  {
   "cell_type": "code",
   "execution_count": 20,
   "id": "1d93cd84",
   "metadata": {
    "execution": {
     "iopub.execute_input": "2023-11-29T02:09:05.694212Z",
     "iopub.status.busy": "2023-11-29T02:09:05.693800Z",
     "iopub.status.idle": "2023-11-29T02:09:07.161401Z",
     "shell.execute_reply": "2023-11-29T02:09:07.160316Z"
    },
    "papermill": {
     "duration": 1.487414,
     "end_time": "2023-11-29T02:09:07.164191",
     "exception": false,
     "start_time": "2023-11-29T02:09:05.676777",
     "status": "completed"
    },
    "tags": []
   },
   "outputs": [],
   "source": [
    "stores_mean = {}\n",
    "for store, g_df in df_train.groupby('Store'):\n",
    "    stores_mean[store] = g_df[g_df['Sales'] > 0]['Sales'].mean()"
   ]
  },
  {
   "cell_type": "code",
   "execution_count": 21,
   "id": "cf0be6c9",
   "metadata": {
    "execution": {
     "iopub.execute_input": "2023-11-29T02:09:07.197599Z",
     "iopub.status.busy": "2023-11-29T02:09:07.196928Z",
     "iopub.status.idle": "2023-11-29T02:09:07.617846Z",
     "shell.execute_reply": "2023-11-29T02:09:07.616798Z"
    },
    "papermill": {
     "duration": 0.440603,
     "end_time": "2023-11-29T02:09:07.620276",
     "exception": false,
     "start_time": "2023-11-29T02:09:07.179673",
     "status": "completed"
    },
    "tags": []
   },
   "outputs": [
    {
     "name": "stderr",
     "output_type": "stream",
     "text": [
      "/tmp/ipykernel_28/3553976367.py:1: SettingWithCopyWarning: \n",
      "A value is trying to be set on a copy of a slice from a DataFrame.\n",
      "Try using .loc[row_indexer,col_indexer] = value instead\n",
      "\n",
      "See the caveats in the documentation: https://pandas.pydata.org/pandas-docs/stable/user_guide/indexing.html#returning-a-view-versus-a-copy\n",
      "  df_train.loc[:, 'mean_by_store'] = df_train['Store'].apply(stores_mean.get)\n",
      "/tmp/ipykernel_28/3553976367.py:2: SettingWithCopyWarning: \n",
      "A value is trying to be set on a copy of a slice from a DataFrame.\n",
      "Try using .loc[row_indexer,col_indexer] = value instead\n",
      "\n",
      "See the caveats in the documentation: https://pandas.pydata.org/pandas-docs/stable/user_guide/indexing.html#returning-a-view-versus-a-copy\n",
      "  df_val.loc[:, 'mean_by_store'] = df_val['Store'].apply(stores_mean.get)\n",
      "/tmp/ipykernel_28/3553976367.py:4: SettingWithCopyWarning: \n",
      "A value is trying to be set on a copy of a slice from a DataFrame.\n",
      "Try using .loc[row_indexer,col_indexer] = value instead\n",
      "\n",
      "See the caveats in the documentation: https://pandas.pydata.org/pandas-docs/stable/user_guide/indexing.html#returning-a-view-versus-a-copy\n",
      "  df_train.loc[:, 'Sales_store'] = df_train['Sales'] - df_train['mean_by_store']\n",
      "/tmp/ipykernel_28/3553976367.py:5: SettingWithCopyWarning: \n",
      "A value is trying to be set on a copy of a slice from a DataFrame.\n",
      "Try using .loc[row_indexer,col_indexer] = value instead\n",
      "\n",
      "See the caveats in the documentation: https://pandas.pydata.org/pandas-docs/stable/user_guide/indexing.html#returning-a-view-versus-a-copy\n",
      "  df_val.loc[:, 'Sales_store'] = df_val['Sales'] - df_val['mean_by_store']\n"
     ]
    }
   ],
   "source": [
    "df_train.loc[:, 'mean_by_store'] = df_train['Store'].apply(stores_mean.get)\n",
    "df_val.loc[:, 'mean_by_store'] = df_val['Store'].apply(stores_mean.get)\n",
    "\n",
    "df_train.loc[:, 'Sales_store'] = df_train['Sales'] - df_train['mean_by_store']\n",
    "df_val.loc[:, 'Sales_store'] = df_val['Sales'] - df_val['mean_by_store']"
   ]
  },
  {
   "cell_type": "code",
   "execution_count": 22,
   "id": "adc13a05",
   "metadata": {
    "execution": {
     "iopub.execute_input": "2023-11-29T02:09:07.653643Z",
     "iopub.status.busy": "2023-11-29T02:09:07.652778Z",
     "iopub.status.idle": "2023-11-29T02:09:07.657861Z",
     "shell.execute_reply": "2023-11-29T02:09:07.656809Z"
    },
    "papermill": {
     "duration": 0.0242,
     "end_time": "2023-11-29T02:09:07.660055",
     "exception": false,
     "start_time": "2023-11-29T02:09:07.635855",
     "status": "completed"
    },
    "tags": []
   },
   "outputs": [],
   "source": [
    "from tensorflow.keras import backend as K"
   ]
  },
  {
   "cell_type": "code",
   "execution_count": 23,
   "id": "697f28cd",
   "metadata": {
    "execution": {
     "iopub.execute_input": "2023-11-29T02:09:07.693113Z",
     "iopub.status.busy": "2023-11-29T02:09:07.692681Z",
     "iopub.status.idle": "2023-11-29T02:09:07.699196Z",
     "shell.execute_reply": "2023-11-29T02:09:07.698326Z"
    },
    "papermill": {
     "duration": 0.026024,
     "end_time": "2023-11-29T02:09:07.701805",
     "exception": false,
     "start_time": "2023-11-29T02:09:07.675781",
     "status": "completed"
    },
    "tags": []
   },
   "outputs": [],
   "source": [
    "def rmspe(y_true, y_pred):\n",
    "    return K.sqrt(K.mean(K.square((y_true - y_pred)/y_true)))"
   ]
  },
  {
   "cell_type": "code",
   "execution_count": 24,
   "id": "eeebc0fa",
   "metadata": {
    "execution": {
     "iopub.execute_input": "2023-11-29T02:09:07.736263Z",
     "iopub.status.busy": "2023-11-29T02:09:07.735525Z",
     "iopub.status.idle": "2023-11-29T02:09:07.745356Z",
     "shell.execute_reply": "2023-11-29T02:09:07.744092Z"
    },
    "papermill": {
     "duration": 0.029607,
     "end_time": "2023-11-29T02:09:07.748031",
     "exception": false,
     "start_time": "2023-11-29T02:09:07.718424",
     "status": "completed"
    },
    "tags": []
   },
   "outputs": [
    {
     "data": {
      "text/plain": [
       "0.3071746085338871"
      ]
     },
     "execution_count": 24,
     "metadata": {},
     "output_type": "execute_result"
    }
   ],
   "source": [
    "def get_metric(df, sales_):\n",
    "    return np.sqrt((((df['Sales'] - sales_)/df['Sales'])**2).mean())\n",
    "get_metric(df_val, df_val['mean_by_store'])"
   ]
  },
  {
   "cell_type": "code",
   "execution_count": 25,
   "id": "03740470",
   "metadata": {
    "execution": {
     "iopub.execute_input": "2023-11-29T02:09:07.783148Z",
     "iopub.status.busy": "2023-11-29T02:09:07.782299Z",
     "iopub.status.idle": "2023-11-29T02:09:07.989100Z",
     "shell.execute_reply": "2023-11-29T02:09:07.987896Z"
    },
    "papermill": {
     "duration": 0.226557,
     "end_time": "2023-11-29T02:09:07.991948",
     "exception": false,
     "start_time": "2023-11-29T02:09:07.765391",
     "status": "completed"
    },
    "tags": []
   },
   "outputs": [],
   "source": [
    "all_vars = cat_vars + contin_vars\n",
    "X_train = np.hsplit(df_train[all_vars].values, len(all_vars))\n",
    "X_val = np.hsplit(df_val[all_vars].values, len(all_vars))\n",
    "X_test = np.hsplit(df_test[all_vars].values, len(all_vars))"
   ]
  },
  {
   "cell_type": "code",
   "execution_count": 26,
   "id": "fc03acad",
   "metadata": {
    "execution": {
     "iopub.execute_input": "2023-11-29T02:09:08.024978Z",
     "iopub.status.busy": "2023-11-29T02:09:08.024545Z",
     "iopub.status.idle": "2023-11-29T02:09:08.062486Z",
     "shell.execute_reply": "2023-11-29T02:09:08.061121Z"
    },
    "papermill": {
     "duration": 0.057987,
     "end_time": "2023-11-29T02:09:08.065432",
     "exception": false,
     "start_time": "2023-11-29T02:09:08.007445",
     "status": "completed"
    },
    "tags": []
   },
   "outputs": [],
   "source": [
    "if add_customers:\n",
    "    y_out_columns = ['Sales', 'Customers']\n",
    "else:\n",
    "    y_out_columns = ['Sales_store']\n",
    "    \n",
    "if log_output:\n",
    "    # Escala logaritmica\n",
    "    max_log_y = np.max(np.log(df[y_out_columns].values))\n",
    "    y_train = np.log(df_train[y_out_columns].values)/max_log_y\n",
    "    y_val = np.log(df_val[y_out_columns].values)/max_log_y\n",
    "else:\n",
    "    # Normalización\n",
    "    y_mean = df_train[y_out_columns].mean().values\n",
    "    y_std = df_train[y_out_columns].std().values\n",
    "    #y_train = (df_train[y_out_columns].values - y_mean)/y_std\n",
    "    #y_val = (df_val[y_out_columns].values - y_mean)/y_std\n",
    "    y_max = df_train[y_out_columns].max().values\n",
    "    y_train = df_train[y_out_columns].values/y_max\n",
    "    y_val = df_val[y_out_columns].values/y_max\n",
    "y_train = np.hsplit(y_train, y_train.shape[1])\n",
    "y_val = np.hsplit(y_val, y_val.shape[1])"
   ]
  },
  {
   "cell_type": "code",
   "execution_count": 27,
   "id": "5311c209",
   "metadata": {
    "execution": {
     "iopub.execute_input": "2023-11-29T02:09:08.099191Z",
     "iopub.status.busy": "2023-11-29T02:09:08.098353Z",
     "iopub.status.idle": "2023-11-29T02:09:08.120018Z",
     "shell.execute_reply": "2023-11-29T02:09:08.119123Z"
    },
    "papermill": {
     "duration": 0.041968,
     "end_time": "2023-11-29T02:09:08.123330",
     "exception": false,
     "start_time": "2023-11-29T02:09:08.081362",
     "status": "completed"
    },
    "tags": []
   },
   "outputs": [],
   "source": [
    "lr = 0.0001\n",
    "model.compile(optimizer=Adam(lr=lr), metrics=['mse', rmspe], loss='mse')"
   ]
  },
  {
   "cell_type": "code",
   "execution_count": 28,
   "id": "ad1f0029",
   "metadata": {
    "execution": {
     "iopub.execute_input": "2023-11-29T02:09:08.157578Z",
     "iopub.status.busy": "2023-11-29T02:09:08.157129Z",
     "iopub.status.idle": "2023-11-29T02:09:08.162903Z",
     "shell.execute_reply": "2023-11-29T02:09:08.161864Z"
    },
    "papermill": {
     "duration": 0.025825,
     "end_time": "2023-11-29T02:09:08.165632",
     "exception": false,
     "start_time": "2023-11-29T02:09:08.139807",
     "status": "completed"
    },
    "tags": []
   },
   "outputs": [],
   "source": [
    "if add_customers:\n",
    "    checkpoint = ModelCheckpoint('bestmodel.hdf5', monitor='val_Sales_mse', verbose=1, save_best_only=True)\n",
    "else:\n",
    "    checkpoint = ModelCheckpoint('bestmodel.hdf5', monitor='val_loss', verbose=1, save_best_only=True)"
   ]
  },
  {
   "cell_type": "code",
   "execution_count": 29,
   "id": "81482ec9",
   "metadata": {
    "execution": {
     "iopub.execute_input": "2023-11-29T02:09:08.200149Z",
     "iopub.status.busy": "2023-11-29T02:09:08.198977Z",
     "iopub.status.idle": "2023-11-29T02:09:08.205092Z",
     "shell.execute_reply": "2023-11-29T02:09:08.203989Z"
    },
    "papermill": {
     "duration": 0.025944,
     "end_time": "2023-11-29T02:09:08.207547",
     "exception": false,
     "start_time": "2023-11-29T02:09:08.181603",
     "status": "completed"
    },
    "tags": []
   },
   "outputs": [],
   "source": [
    "rlrop = ReduceLROnPlateau(\n",
    "    monitor = \"val_Sales_mse\",\n",
    "    factor = 0.5,\n",
    "    patience = 3,\n",
    "    verbose = 1,\n",
    "    min_lr = 1e-5\n",
    ")"
   ]
  },
  {
   "cell_type": "code",
   "execution_count": 30,
   "id": "220800f3",
   "metadata": {
    "execution": {
     "iopub.execute_input": "2023-11-29T02:09:08.241831Z",
     "iopub.status.busy": "2023-11-29T02:09:08.240853Z",
     "iopub.status.idle": "2023-11-29T02:09:08.246131Z",
     "shell.execute_reply": "2023-11-29T02:09:08.245082Z"
    },
    "papermill": {
     "duration": 0.024997,
     "end_time": "2023-11-29T02:09:08.248415",
     "exception": false,
     "start_time": "2023-11-29T02:09:08.223418",
     "status": "completed"
    },
    "tags": []
   },
   "outputs": [],
   "source": [
    "es = EarlyStopping(\n",
    "    monitor = \"val_Sales_mse\",\n",
    "    patience = 7, \n",
    "    verbose = 1,\n",
    "    restore_best_weights = True,\n",
    ")"
   ]
  },
  {
   "cell_type": "code",
   "execution_count": 31,
   "id": "b752be26",
   "metadata": {
    "execution": {
     "iopub.execute_input": "2023-11-29T02:09:08.282265Z",
     "iopub.status.busy": "2023-11-29T02:09:08.281226Z",
     "iopub.status.idle": "2023-11-29T02:35:26.002069Z",
     "shell.execute_reply": "2023-11-29T02:35:26.000976Z"
    },
    "papermill": {
     "duration": 1577.74022,
     "end_time": "2023-11-29T02:35:26.004591",
     "exception": false,
     "start_time": "2023-11-29T02:09:08.264371",
     "status": "completed"
    },
    "tags": []
   },
   "outputs": [
    {
     "name": "stdout",
     "output_type": "stream",
     "text": [
      "Epoch 1/25\n",
      "\n",
      "Epoch 1: val_Sales_mse improved from inf to 0.00075, saving model to bestmodel.hdf5\n",
      "6361/6361 - 142s - loss: 0.1474 - Sales_loss: 0.0151 - Customers_loss: 0.0102 - Sales_mse: 0.0151 - Sales_rmspe: 0.0950 - Customers_mse: 0.0102 - Customers_rmspe: 0.1002 - val_loss: 0.0015 - val_Sales_loss: 7.5499e-04 - val_Customers_loss: 2.9452e-04 - val_Sales_mse: 7.5499e-04 - val_Sales_rmspe: 0.0329 - val_Customers_mse: 2.9452e-04 - val_Customers_rmspe: 0.0276 - lr: 0.0010 - 142s/epoch - 22ms/step\n",
      "Epoch 2/25\n"
     ]
    },
    {
     "name": "stderr",
     "output_type": "stream",
     "text": [
      "/opt/conda/lib/python3.10/site-packages/keras/src/engine/training.py:3000: UserWarning: You are saving your model as an HDF5 file via `model.save()`. This file format is considered legacy. We recommend using instead the native Keras format, e.g. `model.save('my_model.keras')`.\n",
      "  saving_api.save_model(\n"
     ]
    },
    {
     "name": "stdout",
     "output_type": "stream",
     "text": [
      "\n",
      "Epoch 2: val_Sales_mse improved from 0.00075 to 0.00022, saving model to bestmodel.hdf5\n",
      "6361/6361 - 108s - loss: 6.8299e-04 - Sales_loss: 3.2306e-04 - Customers_loss: 2.2722e-04 - Sales_mse: 3.2306e-04 - Sales_rmspe: 0.0210 - Customers_mse: 2.2722e-04 - Customers_rmspe: 0.0241 - val_loss: 4.1982e-04 - val_Sales_loss: 2.2199e-04 - val_Customers_loss: 1.5356e-04 - val_Sales_mse: 2.2199e-04 - val_Sales_rmspe: 0.0179 - val_Customers_mse: 1.5356e-04 - val_Customers_rmspe: 0.0199 - lr: 0.0010 - 108s/epoch - 17ms/step\n",
      "Epoch 3/25\n",
      "\n",
      "Epoch 3: val_Sales_mse improved from 0.00022 to 0.00015, saving model to bestmodel.hdf5\n",
      "6361/6361 - 107s - loss: 3.4760e-04 - Sales_loss: 1.6947e-04 - Customers_loss: 1.4403e-04 - Sales_mse: 1.6947e-04 - Sales_rmspe: 0.0159 - Customers_mse: 1.4403e-04 - Customers_rmspe: 0.0197 - val_loss: 3.0589e-04 - val_Sales_loss: 1.4853e-04 - val_Customers_loss: 1.2574e-04 - val_Sales_mse: 1.4853e-04 - val_Sales_rmspe: 0.0146 - val_Customers_mse: 1.2574e-04 - val_Customers_rmspe: 0.0178 - lr: 0.0010 - 107s/epoch - 17ms/step\n",
      "Epoch 4/25\n",
      "\n",
      "Epoch 4: val_Sales_mse improved from 0.00015 to 0.00012, saving model to bestmodel.hdf5\n",
      "6361/6361 - 107s - loss: 3.1131e-04 - Sales_loss: 1.5121e-04 - Customers_loss: 1.2712e-04 - Sales_mse: 1.5121e-04 - Sales_rmspe: 0.0151 - Customers_mse: 1.2712e-04 - Customers_rmspe: 0.0185 - val_loss: 2.3255e-04 - val_Sales_loss: 1.1609e-04 - val_Customers_loss: 8.4784e-05 - val_Sales_mse: 1.1609e-04 - val_Sales_rmspe: 0.0130 - val_Customers_mse: 8.4784e-05 - val_Customers_rmspe: 0.0149 - lr: 0.0010 - 107s/epoch - 17ms/step\n",
      "Epoch 5/25\n",
      "\n",
      "Epoch 5: val_Sales_mse did not improve from 0.00012\n",
      "6361/6361 - 105s - loss: 2.8934e-04 - Sales_loss: 1.3927e-04 - Customers_loss: 1.1654e-04 - Sales_mse: 1.3927e-04 - Sales_rmspe: 0.0144 - Customers_mse: 1.1654e-04 - Customers_rmspe: 0.0177 - val_loss: 2.6406e-04 - val_Sales_loss: 1.2885e-04 - val_Customers_loss: 9.7092e-05 - val_Sales_mse: 1.2885e-04 - val_Sales_rmspe: 0.0137 - val_Customers_mse: 9.7092e-05 - val_Customers_rmspe: 0.0160 - lr: 0.0010 - 105s/epoch - 16ms/step\n",
      "Epoch 6/25\n",
      "\n",
      "Epoch 6: val_Sales_mse did not improve from 0.00012\n",
      "6361/6361 - 104s - loss: 2.7723e-04 - Sales_loss: 1.3309e-04 - Customers_loss: 1.1163e-04 - Sales_mse: 1.3309e-04 - Sales_rmspe: 0.0141 - Customers_mse: 1.1163e-04 - Customers_rmspe: 0.0173 - val_loss: 2.6083e-04 - val_Sales_loss: 1.2680e-04 - val_Customers_loss: 9.9947e-05 - val_Sales_mse: 1.2680e-04 - val_Sales_rmspe: 0.0136 - val_Customers_mse: 9.9947e-05 - val_Customers_rmspe: 0.0162 - lr: 0.0010 - 104s/epoch - 16ms/step\n",
      "Epoch 7/25\n",
      "\n",
      "Epoch 7: ReduceLROnPlateau reducing learning rate to 0.0005000000237487257.\n",
      "\n",
      "Epoch 7: val_Sales_mse improved from 0.00012 to 0.00011, saving model to bestmodel.hdf5\n",
      "6361/6361 - 105s - loss: 2.6926e-04 - Sales_loss: 1.2873e-04 - Customers_loss: 1.0814e-04 - Sales_mse: 1.2873e-04 - Sales_rmspe: 0.0139 - Customers_mse: 1.0814e-04 - Customers_rmspe: 0.0170 - val_loss: 2.6123e-04 - val_Sales_loss: 1.1214e-04 - val_Customers_loss: 1.0989e-04 - val_Sales_mse: 1.1214e-04 - val_Sales_rmspe: 0.0127 - val_Customers_mse: 1.0989e-04 - val_Customers_rmspe: 0.0165 - lr: 0.0010 - 105s/epoch - 16ms/step\n",
      "Epoch 8/25\n",
      "\n",
      "Epoch 8: val_Sales_mse improved from 0.00011 to 0.00010, saving model to bestmodel.hdf5\n",
      "6361/6361 - 103s - loss: 2.2680e-04 - Sales_loss: 1.1307e-04 - Customers_loss: 9.3455e-05 - Sales_mse: 1.1307e-04 - Sales_rmspe: 0.0130 - Customers_mse: 9.3455e-05 - Customers_rmspe: 0.0158 - val_loss: 1.8754e-04 - val_Sales_loss: 9.9206e-05 - val_Customers_loss: 6.8678e-05 - val_Sales_mse: 9.9206e-05 - val_Sales_rmspe: 0.0120 - val_Customers_mse: 6.8678e-05 - val_Customers_rmspe: 0.0134 - lr: 5.0000e-04 - 103s/epoch - 16ms/step\n",
      "Epoch 9/25\n",
      "\n",
      "Epoch 9: val_Sales_mse did not improve from 0.00010\n",
      "6361/6361 - 100s - loss: 2.2257e-04 - Sales_loss: 1.1102e-04 - Customers_loss: 9.2052e-05 - Sales_mse: 1.1102e-04 - Sales_rmspe: 0.0129 - Customers_mse: 9.2052e-05 - Customers_rmspe: 0.0157 - val_loss: 2.1469e-04 - val_Sales_loss: 1.0970e-04 - val_Customers_loss: 8.5346e-05 - val_Sales_mse: 1.0970e-04 - val_Sales_rmspe: 0.0126 - val_Customers_mse: 8.5346e-05 - val_Customers_rmspe: 0.0149 - lr: 5.0000e-04 - 100s/epoch - 16ms/step\n",
      "Epoch 10/25\n",
      "\n",
      "Epoch 10: ReduceLROnPlateau reducing learning rate to 0.0002500000118743628.\n",
      "\n",
      "Epoch 10: val_Sales_mse did not improve from 0.00010\n",
      "6361/6361 - 99s - loss: 2.2075e-04 - Sales_loss: 1.1008e-04 - Customers_loss: 9.0978e-05 - Sales_mse: 1.1008e-04 - Sales_rmspe: 0.0128 - Customers_mse: 9.0978e-05 - Customers_rmspe: 0.0156 - val_loss: 2.0287e-04 - val_Sales_loss: 1.0377e-04 - val_Customers_loss: 7.9210e-05 - val_Sales_mse: 1.0377e-04 - val_Sales_rmspe: 0.0123 - val_Customers_mse: 7.9210e-05 - val_Customers_rmspe: 0.0144 - lr: 5.0000e-04 - 99s/epoch - 15ms/step\n",
      "Epoch 11/25\n",
      "\n",
      "Epoch 11: val_Sales_mse did not improve from 0.00010\n",
      "6361/6361 - 100s - loss: 1.9405e-04 - Sales_loss: 1.0036e-04 - Customers_loss: 8.1834e-05 - Sales_mse: 1.0036e-04 - Sales_rmspe: 0.0122 - Customers_mse: 8.1834e-05 - Customers_rmspe: 0.0148 - val_loss: 1.8351e-04 - val_Sales_loss: 1.0174e-04 - val_Customers_loss: 7.0175e-05 - val_Sales_mse: 1.0174e-04 - val_Sales_rmspe: 0.0121 - val_Customers_mse: 7.0175e-05 - val_Customers_rmspe: 0.0135 - lr: 2.5000e-04 - 100s/epoch - 16ms/step\n",
      "Epoch 12/25\n",
      "\n",
      "Epoch 12: val_Sales_mse did not improve from 0.00010\n",
      "6361/6361 - 99s - loss: 1.9049e-04 - Sales_loss: 9.8791e-05 - Customers_loss: 8.0353e-05 - Sales_mse: 9.8791e-05 - Sales_rmspe: 0.0121 - Customers_mse: 8.0353e-05 - Customers_rmspe: 0.0146 - val_loss: 1.8165e-04 - val_Sales_loss: 9.9768e-05 - val_Customers_loss: 7.0707e-05 - val_Sales_mse: 9.9768e-05 - val_Sales_rmspe: 0.0120 - val_Customers_mse: 7.0707e-05 - val_Customers_rmspe: 0.0136 - lr: 2.5000e-04 - 99s/epoch - 16ms/step\n",
      "Epoch 13/25\n",
      "\n",
      "Epoch 13: ReduceLROnPlateau reducing learning rate to 0.0001250000059371814.\n",
      "\n",
      "Epoch 13: val_Sales_mse did not improve from 0.00010\n",
      "6361/6361 - 98s - loss: 1.8955e-04 - Sales_loss: 9.8135e-05 - Customers_loss: 8.0106e-05 - Sales_mse: 9.8135e-05 - Sales_rmspe: 0.0121 - Customers_mse: 8.0106e-05 - Customers_rmspe: 0.0146 - val_loss: 1.8414e-04 - val_Sales_loss: 1.0261e-04 - val_Customers_loss: 7.0424e-05 - val_Sales_mse: 1.0261e-04 - val_Sales_rmspe: 0.0121 - val_Customers_mse: 7.0424e-05 - val_Customers_rmspe: 0.0135 - lr: 2.5000e-04 - 98s/epoch - 15ms/step\n",
      "Epoch 14/25\n",
      "\n",
      "Epoch 14: val_Sales_mse did not improve from 0.00010\n",
      "6361/6361 - 99s - loss: 1.7304e-04 - Sales_loss: 9.1952e-05 - Customers_loss: 7.4074e-05 - Sales_mse: 9.1952e-05 - Sales_rmspe: 0.0117 - Customers_mse: 7.4074e-05 - Customers_rmspe: 0.0141 - val_loss: 1.8746e-04 - val_Sales_loss: 1.0855e-04 - val_Customers_loss: 7.2634e-05 - val_Sales_mse: 1.0855e-04 - val_Sales_rmspe: 0.0125 - val_Customers_mse: 7.2634e-05 - val_Customers_rmspe: 0.0137 - lr: 1.2500e-04 - 99s/epoch - 16ms/step\n",
      "Epoch 15/25\n",
      "Restoring model weights from the end of the best epoch: 8.\n",
      "\n",
      "Epoch 15: val_Sales_mse did not improve from 0.00010\n",
      "6361/6361 - 102s - loss: 1.7081e-04 - Sales_loss: 9.1059e-05 - Customers_loss: 7.3247e-05 - Sales_mse: 9.1059e-05 - Sales_rmspe: 0.0116 - Customers_mse: 7.3247e-05 - Customers_rmspe: 0.0140 - val_loss: 1.7448e-04 - val_Sales_loss: 9.9557e-05 - val_Customers_loss: 6.8355e-05 - val_Sales_mse: 9.9557e-05 - val_Sales_rmspe: 0.0120 - val_Customers_mse: 6.8355e-05 - val_Customers_rmspe: 0.0134 - lr: 1.2500e-04 - 102s/epoch - 16ms/step\n",
      "Epoch 15: early stopping\n"
     ]
    }
   ],
   "source": [
    "epochs = 25\n",
    "batch_size = 128\n",
    "history = model.fit(\n",
    "    X_train, y_train, \n",
    "    validation_data=(X_val, y_val),  \n",
    "    epochs=epochs, \n",
    "    batch_size=batch_size, \n",
    "    callbacks=[rlrop, es, checkpoint], \n",
    "    verbose=2\n",
    ")"
   ]
  },
  {
   "cell_type": "code",
   "execution_count": 32,
   "id": "e1be6b65",
   "metadata": {
    "execution": {
     "iopub.execute_input": "2023-11-29T02:35:26.047450Z",
     "iopub.status.busy": "2023-11-29T02:35:26.046495Z",
     "iopub.status.idle": "2023-11-29T02:35:26.051474Z",
     "shell.execute_reply": "2023-11-29T02:35:26.050459Z"
    },
    "papermill": {
     "duration": 0.028018,
     "end_time": "2023-11-29T02:35:26.053749",
     "exception": false,
     "start_time": "2023-11-29T02:35:26.025731",
     "status": "completed"
    },
    "tags": []
   },
   "outputs": [],
   "source": [
    "import matplotlib.pyplot as plt"
   ]
  },
  {
   "cell_type": "code",
   "execution_count": 33,
   "id": "cefe4aa3",
   "metadata": {
    "execution": {
     "iopub.execute_input": "2023-11-29T02:35:26.094370Z",
     "iopub.status.busy": "2023-11-29T02:35:26.093953Z",
     "iopub.status.idle": "2023-11-29T02:35:26.469456Z",
     "shell.execute_reply": "2023-11-29T02:35:26.468222Z"
    },
    "papermill": {
     "duration": 0.398839,
     "end_time": "2023-11-29T02:35:26.471892",
     "exception": false,
     "start_time": "2023-11-29T02:35:26.073053",
     "status": "completed"
    },
    "tags": []
   },
   "outputs": [
    {
     "data": {
      "text/plain": [
       "<matplotlib.legend.Legend at 0x7aae1e3ca560>"
      ]
     },
     "execution_count": 33,
     "metadata": {},
     "output_type": "execute_result"
    },
    {
     "data": {
      "image/png": "[encoded data removed]",
      "text/plain": [
       "<Figure size 640x480 with 1 Axes>"
      ]
     },
     "metadata": {},
     "output_type": "display_data"
    }
   ],
   "source": [
    "plt.plot(history.history[\"loss\"], label='Train')\n",
    "plt.plot(history.history[\"val_loss\"], label='Validation')\n",
    "plt.title(\"Loss\")\n",
    "plt.legend()\n",
    "#plt.plot(history.history['val_loss'])\n",
    "# plt.plot(history.history['val_Customers_mse'])\n",
    "# plt.plot(history.history['val_Sales_mse'])\n",
    "#plt.show()\n",
    "#plt.plot(history.history['loss'])\n",
    "# plt.plot(history.history['Customers_mse'])\n",
    "# plt.plot(history.history['Sales_mse'])"
   ]
  },
  {
   "cell_type": "markdown",
   "id": "a83bd76f",
   "metadata": {
    "papermill": {
     "duration": 0.019771,
     "end_time": "2023-11-29T02:35:26.511766",
     "exception": false,
     "start_time": "2023-11-29T02:35:26.491995",
     "status": "completed"
    },
    "tags": []
   },
   "source": [
    "# Métrica"
   ]
  },
  {
   "cell_type": "markdown",
   "id": "0ff5c603",
   "metadata": {
    "papermill": {
     "duration": 0.019439,
     "end_time": "2023-11-29T02:35:26.550984",
     "exception": false,
     "start_time": "2023-11-29T02:35:26.531545",
     "status": "completed"
    },
    "tags": []
   },
   "source": [
    "$$\n",
    "\\textrm{RMSE} = \\sqrt{\\frac{1}{n} \\sum_{i=1}^{n} \\left(\\frac{\\hat{y}_i - y_i}{y_i}\\right)^2}\n",
    "$$"
   ]
  },
  {
   "cell_type": "code",
   "execution_count": 34,
   "id": "c819cee2",
   "metadata": {
    "execution": {
     "iopub.execute_input": "2023-11-29T02:35:26.592845Z",
     "iopub.status.busy": "2023-11-29T02:35:26.592456Z",
     "iopub.status.idle": "2023-11-29T02:35:33.041294Z",
     "shell.execute_reply": "2023-11-29T02:35:33.040241Z"
    },
    "papermill": {
     "duration": 6.473552,
     "end_time": "2023-11-29T02:35:33.043747",
     "exception": false,
     "start_time": "2023-11-29T02:35:26.570195",
     "status": "completed"
    },
    "tags": []
   },
   "outputs": [
    {
     "name": "stdout",
     "output_type": "stream",
     "text": [
      "944/944 [==============================] - 6s 7ms/step - loss: 1.8754e-04 - Sales_loss: 9.9206e-05 - Customers_loss: 6.8678e-05 - Sales_mse: 9.9206e-05 - Sales_rmspe: 0.0118 - Customers_mse: 6.8678e-05 - Customers_rmspe: 0.0133\n"
     ]
    },
    {
     "data": {
      "text/plain": [
       "[0.00018754108168650419,\n",
       " 9.920616139424965e-05,\n",
       " 6.867761112516746e-05,\n",
       " 9.920616139424965e-05,\n",
       " 0.011831125244498253,\n",
       " 6.867761112516746e-05,\n",
       " 0.013261932879686356]"
      ]
     },
     "execution_count": 34,
     "metadata": {},
     "output_type": "execute_result"
    }
   ],
   "source": [
    "model.evaluate(X_val, y_val)"
   ]
  },
  {
   "cell_type": "code",
   "execution_count": 35,
   "id": "e068124f",
   "metadata": {
    "execution": {
     "iopub.execute_input": "2023-11-29T02:35:33.110004Z",
     "iopub.status.busy": "2023-11-29T02:35:33.109575Z",
     "iopub.status.idle": "2023-11-29T02:35:39.563494Z",
     "shell.execute_reply": "2023-11-29T02:35:39.562367Z"
    },
    "papermill": {
     "duration": 6.48964,
     "end_time": "2023-11-29T02:35:39.565961",
     "exception": false,
     "start_time": "2023-11-29T02:35:33.076321",
     "status": "completed"
    },
    "tags": []
   },
   "outputs": [
    {
     "name": "stdout",
     "output_type": "stream",
     "text": [
      "944/944 [==============================] - 6s 7ms/step - loss: 1.8754e-04 - Sales_loss: 9.9206e-05 - Customers_loss: 6.8678e-05 - Sales_mse: 9.9206e-05 - Sales_rmspe: 0.0118 - Customers_mse: 6.8678e-05 - Customers_rmspe: 0.0133\n"
     ]
    },
    {
     "data": {
      "text/plain": [
       "[0.00018754108168650419,\n",
       " 9.920616139424965e-05,\n",
       " 6.867761112516746e-05,\n",
       " 9.920616139424965e-05,\n",
       " 0.011831125244498253,\n",
       " 6.867761112516746e-05,\n",
       " 0.013261932879686356]"
      ]
     },
     "execution_count": 35,
     "metadata": {},
     "output_type": "execute_result"
    }
   ],
   "source": [
    "model.load_weights('bestmodel.hdf5')\n",
    "model.evaluate(X_val, y_val)"
   ]
  },
  {
   "cell_type": "code",
   "execution_count": 36,
   "id": "fc600335",
   "metadata": {
    "execution": {
     "iopub.execute_input": "2023-11-29T02:35:39.660008Z",
     "iopub.status.busy": "2023-11-29T02:35:39.659066Z",
     "iopub.status.idle": "2023-11-29T02:35:54.084354Z",
     "shell.execute_reply": "2023-11-29T02:35:54.083364Z"
    },
    "papermill": {
     "duration": 14.473494,
     "end_time": "2023-11-29T02:35:54.086933",
     "exception": false,
     "start_time": "2023-11-29T02:35:39.613439",
     "status": "completed"
    },
    "tags": []
   },
   "outputs": [
    {
     "name": "stdout",
     "output_type": "stream",
     "text": [
      "944/944 [==============================] - 5s 5ms/step\n",
      "1284/1284 [==============================] - 7s 5ms/step\n"
     ]
    }
   ],
   "source": [
    "if log_output:\n",
    "    if add_customers:\n",
    "        y_pred = np.exp(model.predict(X_val, verbose=1)[0][:, 0]*max_log_y)\n",
    "        y_pred_test = np.exp(model.predict(X_test, verbose=1)[0][:, 0]*max_log_y)\n",
    "    else:\n",
    "        y_pred = np.exp(model.predict(X_val, verbose=1)*max_log_y)[:,0]\n",
    "        y_pred_test = np.exp(model.predict(X_test, verbose=1)*max_log_y)[:,0]\n",
    "else:\n",
    "    if add_customers:\n",
    "        y_pred = (model.predict(X_val, verbose=1)[0]*y_std[0] + y_mean[0])[:,0]\n",
    "        y_pred_test = (model.predict(X_test, verbose=1)[0]*y_std[0] + y_mean[0])[:,0]\n",
    "    else:\n",
    "        #y_pred = model.predict(X_val, verbose=1)[:,0]*y_std + y_mean\n",
    "        #y_pred_test = model.predict(X_test, verbose=1)[:,0]*y_std + y_mean\n",
    "        y_pred = model.predict(X_val, verbose=1)[:,0]*y_max\n",
    "        y_pred_test = model.predict(X_test, verbose=1)[:,0]*y_max\n",
    "y_pred_test[df_test['Open'] == 0] = 0"
   ]
  },
  {
   "cell_type": "code",
   "execution_count": 37,
   "id": "39ab2a19",
   "metadata": {
    "execution": {
     "iopub.execute_input": "2023-11-29T02:35:54.214129Z",
     "iopub.status.busy": "2023-11-29T02:35:54.213707Z",
     "iopub.status.idle": "2023-11-29T02:35:54.223003Z",
     "shell.execute_reply": "2023-11-29T02:35:54.221993Z"
    },
    "papermill": {
     "duration": 0.075753,
     "end_time": "2023-11-29T02:35:54.225115",
     "exception": false,
     "start_time": "2023-11-29T02:35:54.149362",
     "status": "completed"
    },
    "tags": []
   },
   "outputs": [
    {
     "data": {
      "text/plain": [
       "0.11393986549080878"
      ]
     },
     "execution_count": 37,
     "metadata": {},
     "output_type": "execute_result"
    }
   ],
   "source": [
    "np.sqrt((((df_val['Sales'].values - y_pred)/df_val['Sales'].values)**2).sum()/len(y_pred))"
   ]
  },
  {
   "cell_type": "code",
   "execution_count": 38,
   "id": "8210e950",
   "metadata": {
    "execution": {
     "iopub.execute_input": "2023-11-29T02:35:54.348949Z",
     "iopub.status.busy": "2023-11-29T02:35:54.348230Z",
     "iopub.status.idle": "2023-11-29T02:35:54.355271Z",
     "shell.execute_reply": "2023-11-29T02:35:54.354229Z"
    },
    "papermill": {
     "duration": 0.071051,
     "end_time": "2023-11-29T02:35:54.357579",
     "exception": false,
     "start_time": "2023-11-29T02:35:54.286528",
     "status": "completed"
    },
    "tags": []
   },
   "outputs": [
    {
     "data": {
      "text/plain": [
       "array([4330.2007, 6996.502 , 8688.218 , 7045.7026, 7396.5474, 5705.8223,\n",
       "       7091.976 , 7764.292 , 4482.6875, 5850.263 ], dtype=float32)"
      ]
     },
     "execution_count": 38,
     "metadata": {},
     "output_type": "execute_result"
    }
   ],
   "source": [
    "y_pred_test[:10]"
   ]
  },
  {
   "cell_type": "markdown",
   "id": "e28afeef",
   "metadata": {
    "papermill": {
     "duration": 0.062702,
     "end_time": "2023-11-29T02:35:54.481552",
     "exception": false,
     "start_time": "2023-11-29T02:35:54.418850",
     "status": "completed"
    },
    "tags": []
   },
   "source": [
    "# Sumbit a la competición"
   ]
  },
  {
   "cell_type": "code",
   "execution_count": 39,
   "id": "c72e37c0",
   "metadata": {
    "execution": {
     "iopub.execute_input": "2023-11-29T02:35:54.603065Z",
     "iopub.status.busy": "2023-11-29T02:35:54.602112Z",
     "iopub.status.idle": "2023-11-29T02:35:54.607288Z",
     "shell.execute_reply": "2023-11-29T02:35:54.606219Z"
    },
    "papermill": {
     "duration": 0.06805,
     "end_time": "2023-11-29T02:35:54.609537",
     "exception": false,
     "start_time": "2023-11-29T02:35:54.541487",
     "status": "completed"
    },
    "tags": []
   },
   "outputs": [],
   "source": [
    "import pandas as pd"
   ]
  },
  {
   "cell_type": "code",
   "execution_count": 40,
   "id": "3dd42c5d",
   "metadata": {
    "execution": {
     "iopub.execute_input": "2023-11-29T02:35:54.736125Z",
     "iopub.status.busy": "2023-11-29T02:35:54.735129Z",
     "iopub.status.idle": "2023-11-29T02:35:54.916876Z",
     "shell.execute_reply": "2023-11-29T02:35:54.915894Z"
    },
    "papermill": {
     "duration": 0.249683,
     "end_time": "2023-11-29T02:35:54.919518",
     "exception": false,
     "start_time": "2023-11-29T02:35:54.669835",
     "status": "completed"
    },
    "tags": []
   },
   "outputs": [],
   "source": [
    "sample_csv = pd.read_csv('/kaggle/input/rossmann-store-sales/sample_submission.csv')\n",
    "sample_csv['Sales'] = y_pred_test\n",
    "sample_csv.head()\n",
    "\n",
    "sample_csv.to_csv(f'submision.csv', index=False)"
   ]
  },
  {
   "cell_type": "markdown",
   "id": "d58ca33e",
   "metadata": {
    "papermill": {
     "duration": 0.063417,
     "end_time": "2023-11-29T02:35:55.044547",
     "exception": false,
     "start_time": "2023-11-29T02:35:54.981130",
     "status": "completed"
    },
    "tags": []
   },
   "source": [
    "# Analisis de embedings"
   ]
  },
  {
   "cell_type": "code",
   "execution_count": 41,
   "id": "3c50ceee",
   "metadata": {
    "execution": {
     "iopub.execute_input": "2023-11-29T02:35:55.177716Z",
     "iopub.status.busy": "2023-11-29T02:35:55.176247Z",
     "iopub.status.idle": "2023-11-29T02:35:55.186485Z",
     "shell.execute_reply": "2023-11-29T02:35:55.185317Z"
    },
    "papermill": {
     "duration": 0.084228,
     "end_time": "2023-11-29T02:35:55.189211",
     "exception": false,
     "start_time": "2023-11-29T02:35:55.104983",
     "status": "completed"
    },
    "tags": []
   },
   "outputs": [],
   "source": [
    "def plot_embed(layer_name, cat_names):\n",
    "    Y = model.get_layer(layer_name).get_weights()[0]\n",
    "    print(Y.shape)\n",
    "    plt.figure(figsize=(8,8))\n",
    "    plt.scatter(-Y[:, 0], -Y[:, 1])\n",
    "    for i, txt in enumerate(cat_names):\n",
    "        plt.annotate(txt, (-Y[i, 0],-Y[i, 1]), xytext = (-5, 8), textcoords = 'offset points')"
   ]
  },
  {
   "cell_type": "code",
   "execution_count": 42,
   "id": "e1ca3166",
   "metadata": {
    "execution": {
     "iopub.execute_input": "2023-11-29T02:35:55.321488Z",
     "iopub.status.busy": "2023-11-29T02:35:55.321092Z",
     "iopub.status.idle": "2023-11-29T02:35:55.661463Z",
     "shell.execute_reply": "2023-11-29T02:35:55.660386Z"
    },
    "papermill": {
     "duration": 0.406761,
     "end_time": "2023-11-29T02:35:55.663822",
     "exception": false,
     "start_time": "2023-11-29T02:35:55.257061",
     "status": "completed"
    },
    "tags": []
   },
   "outputs": [
    {
     "name": "stdout",
     "output_type": "stream",
     "text": [
      "(7, 7)\n"
     ]
    },
    {
     "data": {
      "image/png": "[encoded data removed]",
      "text/plain": [
       "<Figure size 800x800 with 1 Axes>"
      ]
     },
     "metadata": {},
     "output_type": "display_data"
    }
   ],
   "source": [
    "model.load_weights('bestmodel.hdf5')\n",
    "plot_embed('DayOfWeek_Embed', ['Mon', 'Tue', 'Wed', 'Thu', 'Fri', 'Sat','Sun'])"
   ]
  }
 ],
 "metadata": {
  "kaggle": {
   "accelerator": "gpu",
   "dataSources": [
    {
     "databundleVersionId": 860645,
     "sourceId": 4594,
     "sourceType": "competition"
    },
    {
     "datasetId": 4002046,
     "sourceId": 6966028,
     "sourceType": "datasetVersion"
    }
   ],
   "dockerImageVersionId": 30579,
   "isGpuEnabled": true,
   "isInternetEnabled": true,
   "language": "python",
   "sourceType": "notebook"
  },
  "kernelspec": {
   "display_name": "Python 3",
   "language": "python",
   "name": "python3"
  },
  "language_info": {
   "codemirror_mode": {
    "name": "ipython",
    "version": 3
   },
   "file_extension": ".py",
   "mimetype": "text/x-python",
   "name": "python",
   "nbconvert_exporter": "python",
   "pygments_lexer": "ipython3",
   "version": "3.10.12"
  },
  "papermill": {
   "default_parameters": {},
   "duration": 1639.695902,
   "end_time": "2023-11-29T02:35:58.452140",
   "environment_variables": {},
   "exception": null,
   "input_path": "__notebook__.ipynb",
   "output_path": "__notebook__.ipynb",
   "parameters": {},
   "start_time": "2023-11-29T02:08:38.756238",
   "version": "2.4.0"
  }
 },
 "nbformat": 4,
 "nbformat_minor": 5
}
