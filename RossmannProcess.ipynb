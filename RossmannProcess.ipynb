{
 "cells": [
  {
   "cell_type": "markdown",
   "id": "51a544a3",
   "metadata": {
    "papermill": {
     "duration": 0.012003,
     "end_time": "2023-11-29T00:01:19.892550",
     "exception": false,
     "start_time": "2023-11-29T00:01:19.880547",
     "status": "completed"
    },
    "tags": []
   },
   "source": [
    "# TP2 - Redes Neuronales (22.45)\n",
    "En este trabajo páctico se busca mejorar la red otorgada por la cátedra con todos los conocimientos vistos en las clases.\n",
    "\n",
    "Autor: Nicolás Bustelo - 61431"
   ]
  },
  {
   "cell_type": "code",
   "execution_count": 1,
   "id": "fc03b3b1",
   "metadata": {
    "execution": {
     "iopub.execute_input": "2023-11-29T00:01:19.918151Z",
     "iopub.status.busy": "2023-11-29T00:01:19.917352Z",
     "iopub.status.idle": "2023-11-29T00:01:34.579820Z",
     "shell.execute_reply": "2023-11-29T00:01:34.578990Z"
    },
    "papermill": {
     "duration": 14.677912,
     "end_time": "2023-11-29T00:01:34.582182",
     "exception": false,
     "start_time": "2023-11-29T00:01:19.904270",
     "status": "completed"
    },
    "tags": []
   },
   "outputs": [
    {
     "name": "stderr",
     "output_type": "stream",
     "text": [
      "/opt/conda/lib/python3.10/site-packages/scipy/__init__.py:146: UserWarning: A NumPy version >=1.16.5 and <1.23.0 is required for this version of SciPy (detected version 1.24.3\n",
      "  warnings.warn(f\"A NumPy version >={np_minversion} and <{np_maxversion}\"\n"
     ]
    }
   ],
   "source": [
    "from tensorflow.compat.v1 import ConfigProto\n",
    "from tensorflow.compat.v1 import InteractiveSession\n",
    "config = ConfigProto()\n",
    "config.gpu_options.allow_growth = True\n",
    "session = InteractiveSession(config=config)"
   ]
  },
  {
   "cell_type": "code",
   "execution_count": 2,
   "id": "b448a724",
   "metadata": {
    "execution": {
     "iopub.execute_input": "2023-11-29T00:01:34.614846Z",
     "iopub.status.busy": "2023-11-29T00:01:34.613665Z",
     "iopub.status.idle": "2023-11-29T00:01:34.621487Z",
     "shell.execute_reply": "2023-11-29T00:01:34.620683Z"
    },
    "papermill": {
     "duration": 0.024036,
     "end_time": "2023-11-29T00:01:34.623385",
     "exception": false,
     "start_time": "2023-11-29T00:01:34.599349",
     "status": "completed"
    },
    "tags": []
   },
   "outputs": [],
   "source": [
    "import pandas as pd\n",
    "import numpy as np\n",
    "import datetime\n",
    "from pandas_summary import DataFrameSummary"
   ]
  },
  {
   "cell_type": "code",
   "execution_count": 3,
   "id": "6203b09c",
   "metadata": {
    "execution": {
     "iopub.execute_input": "2023-11-29T00:01:34.650429Z",
     "iopub.status.busy": "2023-11-29T00:01:34.649610Z",
     "iopub.status.idle": "2023-11-29T00:01:34.750222Z",
     "shell.execute_reply": "2023-11-29T00:01:34.749253Z"
    },
    "papermill": {
     "duration": 0.116419,
     "end_time": "2023-11-29T00:01:34.752682",
     "exception": false,
     "start_time": "2023-11-29T00:01:34.636263",
     "status": "completed"
    },
    "tags": []
   },
   "outputs": [],
   "source": [
    "from tensorflow.keras.utils import to_categorical"
   ]
  },
  {
   "cell_type": "code",
   "execution_count": 4,
   "id": "23a66407",
   "metadata": {
    "execution": {
     "iopub.execute_input": "2023-11-29T00:01:34.779509Z",
     "iopub.status.busy": "2023-11-29T00:01:34.778660Z",
     "iopub.status.idle": "2023-11-29T00:01:36.030579Z",
     "shell.execute_reply": "2023-11-29T00:01:36.029775Z"
    },
    "papermill": {
     "duration": 1.26739,
     "end_time": "2023-11-29T00:01:36.032877",
     "exception": false,
     "start_time": "2023-11-29T00:01:34.765487",
     "status": "completed"
    },
    "tags": []
   },
   "outputs": [],
   "source": [
    "df = pd.read_feather('/kaggle/input/normalized/train_normalized_data.fth')\n",
    "df_test = pd.read_feather('/kaggle/input/normalized/test_normalized_data.fth')"
   ]
  },
  {
   "cell_type": "code",
   "execution_count": 5,
   "id": "bd681239",
   "metadata": {
    "execution": {
     "iopub.execute_input": "2023-11-29T00:01:36.058262Z",
     "iopub.status.busy": "2023-11-29T00:01:36.057932Z",
     "iopub.status.idle": "2023-11-29T00:01:36.063036Z",
     "shell.execute_reply": "2023-11-29T00:01:36.062137Z"
    },
    "papermill": {
     "duration": 0.019608,
     "end_time": "2023-11-29T00:01:36.064853",
     "exception": false,
     "start_time": "2023-11-29T00:01:36.045245",
     "status": "completed"
    },
    "tags": []
   },
   "outputs": [],
   "source": [
    "cat_vars = ['Store', 'DayOfWeek', 'Year', 'Month', 'Day', 'StateHoliday', 'CompetitionMonthsOpen', 'Promo2Weeks', \n",
    "            'StoreType', 'Assortment', 'PromoInterval', 'CompetitionOpenSinceYear', 'Promo2SinceYear', 'State', \n",
    "            'Week', 'Events', 'Promo_fw', 'Promo_bw', 'StateHoliday_bool_fw', 'StateHoliday_bool_bw', 'SchoolHoliday_fw', 'SchoolHoliday_bw']\n",
    "\n",
    "#cat_vars = ['Store', 'DayOfWeek']"
   ]
  },
  {
   "cell_type": "code",
   "execution_count": 6,
   "id": "a5775575",
   "metadata": {
    "execution": {
     "iopub.execute_input": "2023-11-29T00:01:36.089133Z",
     "iopub.status.busy": "2023-11-29T00:01:36.088810Z",
     "iopub.status.idle": "2023-11-29T00:01:36.093622Z",
     "shell.execute_reply": "2023-11-29T00:01:36.092818Z"
    },
    "papermill": {
     "duration": 0.019045,
     "end_time": "2023-11-29T00:01:36.095482",
     "exception": false,
     "start_time": "2023-11-29T00:01:36.076437",
     "status": "completed"
    },
    "tags": []
   },
   "outputs": [],
   "source": [
    "contin_vars = ['CompetitionDistance', \n",
    "   'Max_TemperatureC', 'Mean_TemperatureC', 'Min_TemperatureC', 'Precipitationmm',\n",
    "   'Max_Humidity', 'Mean_Humidity', 'Min_Humidity', 'Max_Wind_SpeedKm_h', \n",
    "   'Mean_Wind_SpeedKm_h', 'CloudCover', 'trend', 'trend_DE',\n",
    "   'AfterStateHoliday_bool', 'BeforeStateHoliday_bool', 'Promo', 'SchoolHoliday', 'StateHoliday_bool']\n",
    "#contin_vars = ['BeforeStateHoliday_bool', 'Max_TemperatureC']"
   ]
  },
  {
   "cell_type": "code",
   "execution_count": 7,
   "id": "0f43eac8",
   "metadata": {
    "execution": {
     "iopub.execute_input": "2023-11-29T00:01:36.119523Z",
     "iopub.status.busy": "2023-11-29T00:01:36.119252Z",
     "iopub.status.idle": "2023-11-29T00:01:37.774693Z",
     "shell.execute_reply": "2023-11-29T00:01:37.773779Z"
    },
    "papermill": {
     "duration": 1.66977,
     "end_time": "2023-11-29T00:01:37.776734",
     "exception": false,
     "start_time": "2023-11-29T00:01:36.106964",
     "status": "completed"
    },
    "tags": []
   },
   "outputs": [
    {
     "data": {
      "text/html": [
       "<div>\n",
       "<style scoped>\n",
       "    .dataframe tbody tr th:only-of-type {\n",
       "        vertical-align: middle;\n",
       "    }\n",
       "\n",
       "    .dataframe tbody tr th {\n",
       "        vertical-align: top;\n",
       "    }\n",
       "\n",
       "    .dataframe thead th {\n",
       "        text-align: right;\n",
       "    }\n",
       "</style>\n",
       "<table border=\"1\" class=\"dataframe\">\n",
       "  <thead>\n",
       "    <tr style=\"text-align: right;\">\n",
       "      <th></th>\n",
       "      <th>uniques</th>\n",
       "    </tr>\n",
       "  </thead>\n",
       "  <tbody>\n",
       "    <tr>\n",
       "      <th>Store</th>\n",
       "      <td>1115</td>\n",
       "    </tr>\n",
       "    <tr>\n",
       "      <th>DayOfWeek</th>\n",
       "      <td>7</td>\n",
       "    </tr>\n",
       "    <tr>\n",
       "      <th>Year</th>\n",
       "      <td>3</td>\n",
       "    </tr>\n",
       "    <tr>\n",
       "      <th>Month</th>\n",
       "      <td>12</td>\n",
       "    </tr>\n",
       "    <tr>\n",
       "      <th>Day</th>\n",
       "      <td>31</td>\n",
       "    </tr>\n",
       "    <tr>\n",
       "      <th>StateHoliday</th>\n",
       "      <td>4</td>\n",
       "    </tr>\n",
       "    <tr>\n",
       "      <th>CompetitionMonthsOpen</th>\n",
       "      <td>25</td>\n",
       "    </tr>\n",
       "    <tr>\n",
       "      <th>Promo2Weeks</th>\n",
       "      <td>26</td>\n",
       "    </tr>\n",
       "    <tr>\n",
       "      <th>StoreType</th>\n",
       "      <td>4</td>\n",
       "    </tr>\n",
       "    <tr>\n",
       "      <th>Assortment</th>\n",
       "      <td>3</td>\n",
       "    </tr>\n",
       "    <tr>\n",
       "      <th>PromoInterval</th>\n",
       "      <td>4</td>\n",
       "    </tr>\n",
       "    <tr>\n",
       "      <th>CompetitionOpenSinceYear</th>\n",
       "      <td>21</td>\n",
       "    </tr>\n",
       "    <tr>\n",
       "      <th>Promo2SinceYear</th>\n",
       "      <td>8</td>\n",
       "    </tr>\n",
       "    <tr>\n",
       "      <th>State</th>\n",
       "      <td>12</td>\n",
       "    </tr>\n",
       "    <tr>\n",
       "      <th>Week</th>\n",
       "      <td>52</td>\n",
       "    </tr>\n",
       "    <tr>\n",
       "      <th>Events</th>\n",
       "      <td>22</td>\n",
       "    </tr>\n",
       "    <tr>\n",
       "      <th>Promo_fw</th>\n",
       "      <td>6</td>\n",
       "    </tr>\n",
       "    <tr>\n",
       "      <th>Promo_bw</th>\n",
       "      <td>6</td>\n",
       "    </tr>\n",
       "    <tr>\n",
       "      <th>StateHoliday_bool_fw</th>\n",
       "      <td>3</td>\n",
       "    </tr>\n",
       "    <tr>\n",
       "      <th>StateHoliday_bool_bw</th>\n",
       "      <td>3</td>\n",
       "    </tr>\n",
       "    <tr>\n",
       "      <th>SchoolHoliday_fw</th>\n",
       "      <td>8</td>\n",
       "    </tr>\n",
       "    <tr>\n",
       "      <th>SchoolHoliday_bw</th>\n",
       "      <td>8</td>\n",
       "    </tr>\n",
       "  </tbody>\n",
       "</table>\n",
       "</div>"
      ],
      "text/plain": [
       "                         uniques\n",
       "Store                       1115\n",
       "DayOfWeek                      7\n",
       "Year                           3\n",
       "Month                         12\n",
       "Day                           31\n",
       "StateHoliday                   4\n",
       "CompetitionMonthsOpen         25\n",
       "Promo2Weeks                   26\n",
       "StoreType                      4\n",
       "Assortment                     3\n",
       "PromoInterval                  4\n",
       "CompetitionOpenSinceYear      21\n",
       "Promo2SinceYear                8\n",
       "State                         12\n",
       "Week                          52\n",
       "Events                        22\n",
       "Promo_fw                       6\n",
       "Promo_bw                       6\n",
       "StateHoliday_bool_fw           3\n",
       "StateHoliday_bool_bw           3\n",
       "SchoolHoliday_fw               8\n",
       "SchoolHoliday_bw               8"
      ]
     },
     "execution_count": 7,
     "metadata": {},
     "output_type": "execute_result"
    }
   ],
   "source": [
    "uniques = DataFrameSummary(df[cat_vars]).summary().loc[['uniques']]\n",
    "uniques.T"
   ]
  },
  {
   "cell_type": "markdown",
   "id": "9ae83c3d",
   "metadata": {
    "papermill": {
     "duration": 0.011732,
     "end_time": "2023-11-29T00:01:37.800405",
     "exception": false,
     "start_time": "2023-11-29T00:01:37.788673",
     "status": "completed"
    },
    "tags": []
   },
   "source": [
    "# Asignación de dimensión de embeddings"
   ]
  },
  {
   "cell_type": "code",
   "execution_count": 8,
   "id": "d8c41a2c",
   "metadata": {
    "execution": {
     "iopub.execute_input": "2023-11-29T00:01:37.825400Z",
     "iopub.status.busy": "2023-11-29T00:01:37.825083Z",
     "iopub.status.idle": "2023-11-29T00:01:37.832167Z",
     "shell.execute_reply": "2023-11-29T00:01:37.831361Z"
    },
    "papermill": {
     "duration": 0.021978,
     "end_time": "2023-11-29T00:01:37.834120",
     "exception": false,
     "start_time": "2023-11-29T00:01:37.812142",
     "status": "completed"
    },
    "tags": []
   },
   "outputs": [],
   "source": [
    "'''\n",
    "cat_var_dict = {'Store': 50, 'DayOfWeek': 7, 'Year': 2, 'Month': 12,\n",
    "'Day': 10, 'StateHoliday': 2, 'CompetitionMonthsOpen': 2,\n",
    "'Promo2Weeks': 1, 'StoreType': 2, 'Assortment': 3, 'PromoInterval': 3,\n",
    "'CompetitionOpenSinceYear': 4, 'Promo2SinceYear': 4, 'State': 6,\n",
    "'Week': 25, 'Events': 4, 'Promo_fw': 1,\n",
    "'Promo_bw': 1, 'StateHoliday_bool_fw': 1,\n",
    "'StateHoliday_bool_bw': 1, 'SchoolHoliday_fw': 1,\n",
    "'SchoolHoliday_bw': 1}\n",
    "'''\n",
    "cat_var_dict = {\n",
    "    'Store': 1115, \n",
    "    'DayOfWeek': 7, \n",
    "    'Year': 3, \n",
    "    'Month': 12,\n",
    "    'Day': 31, \n",
    "    'StateHoliday': 4, \n",
    "    'CompetitionMonthsOpen': 25,\n",
    "    'Promo2Weeks': 26,\n",
    "    'StoreType': 4,\n",
    "    'Assortment': 3,\n",
    "    'PromoInterval': 4,\n",
    "    'CompetitionOpenSinceYear': 21,\n",
    "    'Promo2SinceYear': 8, \n",
    "    'State': 12,\n",
    "    'Week': 52,\n",
    "    'Events': 22,\n",
    "    'Promo_fw': 6,\n",
    "    'Promo_bw': 6,\n",
    "    'StateHoliday_bool_fw': 3,\n",
    "    'StateHoliday_bool_bw': 3,\n",
    "    'SchoolHoliday_fw': 8,\n",
    "    'SchoolHoliday_bw': 8}"
   ]
  },
  {
   "cell_type": "code",
   "execution_count": 9,
   "id": "113e3e85",
   "metadata": {
    "execution": {
     "iopub.execute_input": "2023-11-29T00:01:37.905396Z",
     "iopub.status.busy": "2023-11-29T00:01:37.904662Z",
     "iopub.status.idle": "2023-11-29T00:01:38.004762Z",
     "shell.execute_reply": "2023-11-29T00:01:38.003729Z"
    },
    "papermill": {
     "duration": 0.161053,
     "end_time": "2023-11-29T00:01:38.007154",
     "exception": false,
     "start_time": "2023-11-29T00:01:37.846101",
     "status": "completed"
    },
    "tags": []
   },
   "outputs": [
    {
     "name": "stdout",
     "output_type": "stream",
     "text": [
      "Store 1115 1115 [   0    1    2 ... 1112 1113 1114]\n",
      "\n",
      "DayOfWeek 7 7 [0 1 2 3 4 5 6]\n",
      "\n",
      "Year 3 3 [0 1 2]\n",
      "\n",
      "Month 12 12 [ 0  1  2  3  4  5  6  7  8  9 10 11]\n",
      "\n",
      "Day 31 31 [ 0  1  2  3  4  5  6  7  8  9 10 11 12 13 14 15 16 17 18 19 20 21 22 23\n",
      " 24 25 26 27 28 29 30]\n",
      "\n",
      "StateHoliday 4 4 [0 1 2 3]\n",
      "\n",
      "CompetitionMonthsOpen 25 25 [ 0  1  2  3  4  5  6  7  8  9 10 11 12 13 14 15 16 17 18 19 20 21 22 23\n",
      " 24]\n",
      "\n",
      "Promo2Weeks 26 26 [ 0  1  2  3  4  5  6  7  8  9 10 11 12 13 14 15 16 17 18 19 20 21 22 23\n",
      " 24 25]\n",
      "\n",
      "StoreType 4 4 [0 1 2 3]\n",
      "\n",
      "Assortment 3 3 [0 1 2]\n",
      "\n",
      "PromoInterval 4 4 [0 1 2 3]\n",
      "\n",
      "CompetitionOpenSinceYear 21 21 [ 0  1  2  3  4  5  6  7  8  9 10 11 12 13 14 15 16 17 18 19 20]\n",
      "\n",
      "Promo2SinceYear 8 8 [0 1 2 3 4 5 6 7]\n",
      "\n",
      "State 12 12 [ 0  1  2  3  4  5  6  7  8  9 10 11]\n",
      "\n",
      "Week 52 52 [ 0  1  2  3  4  5  6  7  8  9 10 11 12 13 14 15 16 17 18 19 20 21 22 23\n",
      " 24 25 26 27 28 29 30 31 32 33 34 35 36 37 38 39 40 41 42 43 44 45 46 47\n",
      " 48 49 50 51]\n",
      "\n",
      "Events 22 22 [ 0  1  2  3  4  5  6  7  8  9 10 11 12 13 14 15 16 17 18 19 20 21]\n",
      "\n",
      "Promo_fw 6 6 [0 1 2 3 4 5]\n",
      "\n",
      "Promo_bw 6 6 [0 1 2 3 4 5]\n",
      "\n",
      "StateHoliday_bool_fw 3 3 [0 1 2]\n",
      "\n",
      "StateHoliday_bool_bw 3 3 [0 1 2]\n",
      "\n",
      "SchoolHoliday_fw 8 8 [0 1 2 3 4 5 6 7]\n",
      "\n",
      "SchoolHoliday_bw 8 8 [0 1 2 3 4 5 6 7]\n",
      "\n"
     ]
    }
   ],
   "source": [
    "for v in cat_vars:\n",
    "    uniques_ = df[v].unique()\n",
    "    uniques_.sort()\n",
    "    print(v, cat_var_dict[v], len(uniques_), uniques_)\n",
    "    print()"
   ]
  },
  {
   "cell_type": "markdown",
   "id": "50bfa84e",
   "metadata": {
    "papermill": {
     "duration": 0.012011,
     "end_time": "2023-11-29T00:01:38.031544",
     "exception": false,
     "start_time": "2023-11-29T00:01:38.019533",
     "status": "completed"
    },
    "tags": []
   },
   "source": [
    "# Definición de modelo"
   ]
  },
  {
   "cell_type": "code",
   "execution_count": 10,
   "id": "80593cdb",
   "metadata": {
    "execution": {
     "iopub.execute_input": "2023-11-29T00:01:38.057353Z",
     "iopub.status.busy": "2023-11-29T00:01:38.056731Z",
     "iopub.status.idle": "2023-11-29T00:01:38.064257Z",
     "shell.execute_reply": "2023-11-29T00:01:38.063523Z"
    },
    "papermill": {
     "duration": 0.022453,
     "end_time": "2023-11-29T00:01:38.066184",
     "exception": false,
     "start_time": "2023-11-29T00:01:38.043731",
     "status": "completed"
    },
    "tags": []
   },
   "outputs": [],
   "source": [
    "from tensorflow.keras.models import Model\n",
    "from tensorflow.keras.callbacks import ModelCheckpoint\n",
    "from tensorflow.keras.optimizers import Adam\n",
    "from tensorflow.keras.layers import Embedding, Input, Flatten, Concatenate, Dense, BatchNormalization, Activation, LeakyReLU, Dropout\n",
    "from tensorflow.keras.regularizers import l2"
   ]
  },
  {
   "cell_type": "code",
   "execution_count": 11,
   "id": "0be53e01",
   "metadata": {
    "execution": {
     "iopub.execute_input": "2023-11-29T00:01:38.091351Z",
     "iopub.status.busy": "2023-11-29T00:01:38.090961Z",
     "iopub.status.idle": "2023-11-29T00:01:38.099103Z",
     "shell.execute_reply": "2023-11-29T00:01:38.098162Z"
    },
    "papermill": {
     "duration": 0.022766,
     "end_time": "2023-11-29T00:01:38.100927",
     "exception": false,
     "start_time": "2023-11-29T00:01:38.078161",
     "status": "completed"
    },
    "tags": []
   },
   "outputs": [],
   "source": [
    "def get_cat_vars_model(cat_vars, uniques, cat_var_dict):\n",
    "    cat_vars_embed_outs = []\n",
    "    cat_var_inputs = []\n",
    "    for cat_var in cat_vars:\n",
    "        cat_var_in = Input(shape=(1,), name=f\"{cat_var}_input\")\n",
    "        cat_var_inputs.append(cat_var_in)\n",
    "        embed_out = Embedding(uniques[cat_var][0], cat_var_dict[cat_var], name=f'{cat_var}_Embed')(cat_var_in)\n",
    "        flatten_out = Flatten(name=f\"{cat_var}_flat\")(embed_out)\n",
    "        cat_vars_embed_outs.append(flatten_out)\n",
    "    return cat_var_inputs, cat_vars_embed_outs\n",
    "\n",
    "def get_cont_vars_input(contin_vars, dense_layer=False):\n",
    "    cont_vars_inputs = []\n",
    "    cont_vars_outputs = []\n",
    "    for cont_var in contin_vars:\n",
    "        cont_var_in = Input(shape=(1,), name=f\"{cont_var}_input\")\n",
    "        cont_vars_inputs.append(cont_var_in)\n",
    "        if dense_layer:\n",
    "            cont_var_out = Dense(1, name=f\"{cont_var}_input\", activation = 'linear')(cont_var_in)\n",
    "            cont_vars_outputs.append(cont_var_out)\n",
    "        else:\n",
    "            cont_vars_outputs.append(cont_var_in)\n",
    "    return cont_vars_inputs, cont_vars_outputs"
   ]
  },
  {
   "cell_type": "code",
   "execution_count": 12,
   "id": "e9024f1b",
   "metadata": {
    "execution": {
     "iopub.execute_input": "2023-11-29T00:01:38.125808Z",
     "iopub.status.busy": "2023-11-29T00:01:38.125514Z",
     "iopub.status.idle": "2023-11-29T00:01:38.524092Z",
     "shell.execute_reply": "2023-11-29T00:01:38.523319Z"
    },
    "papermill": {
     "duration": 0.413646,
     "end_time": "2023-11-29T00:01:38.526401",
     "exception": false,
     "start_time": "2023-11-29T00:01:38.112755",
     "status": "completed"
    },
    "tags": []
   },
   "outputs": [
    {
     "name": "stderr",
     "output_type": "stream",
     "text": [
      "/tmp/ipykernel_26/543933484.py:7: FutureWarning: Series.__getitem__ treating keys as positions is deprecated. In a future version, integer keys will always be treated as labels (consistent with DataFrame behavior). To access a value by position, use `ser.iloc[pos]`\n",
      "  embed_out = Embedding(uniques[cat_var][0], cat_var_dict[cat_var], name=f'{cat_var}_Embed')(cat_var_in)\n"
     ]
    }
   ],
   "source": [
    "add_customers = True\n",
    "log_output = True\n",
    "output_activation = 'linear'\n",
    "cat_var_inputs, cat_vars_embed_outs = get_cat_vars_model(cat_vars, uniques, cat_var_dict)\n",
    "cont_vars_inputs,  cont_vars_outs= get_cont_vars_input(contin_vars)"
   ]
  },
  {
   "cell_type": "code",
   "execution_count": 13,
   "id": "9b8bcf9b",
   "metadata": {
    "execution": {
     "iopub.execute_input": "2023-11-29T00:01:38.553439Z",
     "iopub.status.busy": "2023-11-29T00:01:38.553111Z",
     "iopub.status.idle": "2023-11-29T00:01:38.557213Z",
     "shell.execute_reply": "2023-11-29T00:01:38.556391Z"
    },
    "papermill": {
     "duration": 0.019654,
     "end_time": "2023-11-29T00:01:38.559171",
     "exception": false,
     "start_time": "2023-11-29T00:01:38.539517",
     "status": "completed"
    },
    "tags": []
   },
   "outputs": [],
   "source": [
    "# Descomentar para ver resultados\n",
    "# cat_vars_embed_outs\n",
    "# cat_var_inputs\n",
    "# cont_vars_inputs\n",
    "# cont_vars_outs"
   ]
  },
  {
   "cell_type": "markdown",
   "id": "4fdf80bd",
   "metadata": {
    "papermill": {
     "duration": 0.011789,
     "end_time": "2023-11-29T00:01:38.583430",
     "exception": false,
     "start_time": "2023-11-29T00:01:38.571641",
     "status": "completed"
    },
    "tags": []
   },
   "source": [
    "## Modelo de red"
   ]
  },
  {
   "cell_type": "code",
   "execution_count": 14,
   "id": "ce0a2992",
   "metadata": {
    "execution": {
     "iopub.execute_input": "2023-11-29T00:01:38.609208Z",
     "iopub.status.busy": "2023-11-29T00:01:38.608506Z",
     "iopub.status.idle": "2023-11-29T00:01:38.614866Z",
     "shell.execute_reply": "2023-11-29T00:01:38.613942Z"
    },
    "papermill": {
     "duration": 0.021583,
     "end_time": "2023-11-29T00:01:38.616893",
     "exception": false,
     "start_time": "2023-11-29T00:01:38.595310",
     "status": "completed"
    },
    "tags": []
   },
   "outputs": [],
   "source": [
    "# Importo las bibliotecas a utilizar\n",
    "from tensorflow.keras.models import Sequential\n",
    "from tensorflow.keras.layers import Dense, Dropout, BatchNormalization, Flatten\n",
    "from tensorflow.keras.optimizers import SGD, Adam, RMSprop\n",
    "from tensorflow.keras.regularizers import l1, l2\n",
    "from tensorflow.keras.constraints import MaxNorm\n",
    "from tensorflow.keras import initializers\n",
    "from tensorflow.keras.callbacks import ReduceLROnPlateau, EarlyStopping, ModelCheckpoint, TensorBoard"
   ]
  },
  {
   "cell_type": "code",
   "execution_count": 15,
   "id": "80e6e996",
   "metadata": {
    "execution": {
     "iopub.execute_input": "2023-11-29T00:01:38.642481Z",
     "iopub.status.busy": "2023-11-29T00:01:38.642185Z",
     "iopub.status.idle": "2023-11-29T00:01:38.781857Z",
     "shell.execute_reply": "2023-11-29T00:01:38.781058Z"
    },
    "papermill": {
     "duration": 0.154941,
     "end_time": "2023-11-29T00:01:38.784177",
     "exception": false,
     "start_time": "2023-11-29T00:01:38.629236",
     "status": "completed"
    },
    "tags": []
   },
   "outputs": [],
   "source": [
    "l2_lambda = 1e-4\n",
    "merged = Concatenate(name='All_Concatenate')(cat_vars_embed_outs + cont_vars_inputs)\n",
    "\n",
    "x = Dense(1024, kernel_constraint=MaxNorm(5), kernel_initializer=initializers.RandomNormal(stddev=0.1), kernel_regularizer=l2(l2_lambda))(merged)\n",
    "x = BatchNormalization()(x)\n",
    "x = Activation('relu')(x)\n",
    "x = Dropout(0.1)(x)\n",
    "\n",
    "x = Dense(515, kernel_constraint=MaxNorm(5))(merged)\n",
    "x = Activation('sigmoid')(x)\n",
    "x = Dropout(0.1)(x)\n",
    "\n",
    "x = Dense(1024, kernel_constraint=MaxNorm(5), kernel_initializer=initializers.RandomNormal(stddev=0.1), kernel_regularizer=l2(l2_lambda))(x)\n",
    "x = BatchNormalization()(x)\n",
    "x = Activation('relu')(x)\n",
    "x = Dropout(0.1)(x)\n",
    "\n",
    "# x = LeakyReLU()(x)\n",
    "\n",
    "output_1 = Dense(1, name='Sales', activation=output_activation)(x)\n",
    "output_2 = Dense(1, name='Customers', activation=output_activation)(x)"
   ]
  },
  {
   "cell_type": "code",
   "execution_count": 16,
   "id": "dbf59f54",
   "metadata": {
    "execution": {
     "iopub.execute_input": "2023-11-29T00:01:38.811175Z",
     "iopub.status.busy": "2023-11-29T00:01:38.810352Z",
     "iopub.status.idle": "2023-11-29T00:01:38.828965Z",
     "shell.execute_reply": "2023-11-29T00:01:38.828064Z"
    },
    "papermill": {
     "duration": 0.034096,
     "end_time": "2023-11-29T00:01:38.831002",
     "exception": false,
     "start_time": "2023-11-29T00:01:38.796906",
     "status": "completed"
    },
    "tags": []
   },
   "outputs": [],
   "source": [
    "if add_customers:\n",
    "    model = Model(cat_var_inputs + cont_vars_inputs, [output_1, output_2])\n",
    "else: \n",
    "    model = Model(cat_var_inputs + cont_vars_inputs, [output_1])"
   ]
  },
  {
   "cell_type": "code",
   "execution_count": 17,
   "id": "81a4bf8e",
   "metadata": {
    "execution": {
     "iopub.execute_input": "2023-11-29T00:01:38.856714Z",
     "iopub.status.busy": "2023-11-29T00:01:38.856399Z",
     "iopub.status.idle": "2023-11-29T00:01:38.860969Z",
     "shell.execute_reply": "2023-11-29T00:01:38.860001Z"
    },
    "papermill": {
     "duration": 0.019701,
     "end_time": "2023-11-29T00:01:38.863030",
     "exception": false,
     "start_time": "2023-11-29T00:01:38.843329",
     "status": "completed"
    },
    "tags": []
   },
   "outputs": [],
   "source": [
    "# Descomentar para ver\n",
    "#model.summary()"
   ]
  },
  {
   "cell_type": "code",
   "execution_count": 18,
   "id": "c7275693",
   "metadata": {
    "execution": {
     "iopub.execute_input": "2023-11-29T00:01:38.890721Z",
     "iopub.status.busy": "2023-11-29T00:01:38.890439Z",
     "iopub.status.idle": "2023-11-29T00:01:38.970219Z",
     "shell.execute_reply": "2023-11-29T00:01:38.969452Z"
    },
    "papermill": {
     "duration": 0.094868,
     "end_time": "2023-11-29T00:01:38.972519",
     "exception": false,
     "start_time": "2023-11-29T00:01:38.877651",
     "status": "completed"
    },
    "tags": []
   },
   "outputs": [],
   "source": [
    "model.save_weights('initial_weights.hdf5')"
   ]
  },
  {
   "cell_type": "code",
   "execution_count": 19,
   "id": "589bafc4",
   "metadata": {
    "execution": {
     "iopub.execute_input": "2023-11-29T00:01:38.998856Z",
     "iopub.status.busy": "2023-11-29T00:01:38.998551Z",
     "iopub.status.idle": "2023-11-29T00:01:39.284653Z",
     "shell.execute_reply": "2023-11-29T00:01:39.283729Z"
    },
    "papermill": {
     "duration": 0.301982,
     "end_time": "2023-11-29T00:01:39.287009",
     "exception": false,
     "start_time": "2023-11-29T00:01:38.985027",
     "status": "completed"
    },
    "tags": []
   },
   "outputs": [
    {
     "name": "stdout",
     "output_type": "stream",
     "text": [
      "Cantidad en val: 30188, porcentaje: 0.9642465458145908\n"
     ]
    }
   ],
   "source": [
    "df_train = df[df.Date < datetime.datetime(2015, 7, 1)]  \n",
    "df_val = df[df.Date >= datetime.datetime(2015, 7, 1)]\n",
    "print(f'Cantidad en val: {len(df_val)}, porcentaje: {len(df_train)/(len(df_train) + len(df_val))}')"
   ]
  },
  {
   "cell_type": "code",
   "execution_count": 20,
   "id": "005a7146",
   "metadata": {
    "execution": {
     "iopub.execute_input": "2023-11-29T00:01:39.314308Z",
     "iopub.status.busy": "2023-11-29T00:01:39.313636Z",
     "iopub.status.idle": "2023-11-29T00:01:40.587871Z",
     "shell.execute_reply": "2023-11-29T00:01:40.587064Z"
    },
    "papermill": {
     "duration": 1.289928,
     "end_time": "2023-11-29T00:01:40.590276",
     "exception": false,
     "start_time": "2023-11-29T00:01:39.300348",
     "status": "completed"
    },
    "tags": []
   },
   "outputs": [],
   "source": [
    "stores_mean = {}\n",
    "for store, g_df in df_train.groupby('Store'):\n",
    "    stores_mean[store] = g_df[g_df['Sales'] > 0]['Sales'].mean()"
   ]
  },
  {
   "cell_type": "code",
   "execution_count": 21,
   "id": "3f9dba46",
   "metadata": {
    "execution": {
     "iopub.execute_input": "2023-11-29T00:01:40.621835Z",
     "iopub.status.busy": "2023-11-29T00:01:40.620947Z",
     "iopub.status.idle": "2023-11-29T00:01:40.983965Z",
     "shell.execute_reply": "2023-11-29T00:01:40.982986Z"
    },
    "papermill": {
     "duration": 0.380533,
     "end_time": "2023-11-29T00:01:40.986179",
     "exception": false,
     "start_time": "2023-11-29T00:01:40.605646",
     "status": "completed"
    },
    "tags": []
   },
   "outputs": [
    {
     "name": "stderr",
     "output_type": "stream",
     "text": [
      "/tmp/ipykernel_26/3553976367.py:1: SettingWithCopyWarning: \n",
      "A value is trying to be set on a copy of a slice from a DataFrame.\n",
      "Try using .loc[row_indexer,col_indexer] = value instead\n",
      "\n",
      "See the caveats in the documentation: https://pandas.pydata.org/pandas-docs/stable/user_guide/indexing.html#returning-a-view-versus-a-copy\n",
      "  df_train.loc[:, 'mean_by_store'] = df_train['Store'].apply(stores_mean.get)\n",
      "/tmp/ipykernel_26/3553976367.py:2: SettingWithCopyWarning: \n",
      "A value is trying to be set on a copy of a slice from a DataFrame.\n",
      "Try using .loc[row_indexer,col_indexer] = value instead\n",
      "\n",
      "See the caveats in the documentation: https://pandas.pydata.org/pandas-docs/stable/user_guide/indexing.html#returning-a-view-versus-a-copy\n",
      "  df_val.loc[:, 'mean_by_store'] = df_val['Store'].apply(stores_mean.get)\n",
      "/tmp/ipykernel_26/3553976367.py:4: SettingWithCopyWarning: \n",
      "A value is trying to be set on a copy of a slice from a DataFrame.\n",
      "Try using .loc[row_indexer,col_indexer] = value instead\n",
      "\n",
      "See the caveats in the documentation: https://pandas.pydata.org/pandas-docs/stable/user_guide/indexing.html#returning-a-view-versus-a-copy\n",
      "  df_train.loc[:, 'Sales_store'] = df_train['Sales'] - df_train['mean_by_store']\n",
      "/tmp/ipykernel_26/3553976367.py:5: SettingWithCopyWarning: \n",
      "A value is trying to be set on a copy of a slice from a DataFrame.\n",
      "Try using .loc[row_indexer,col_indexer] = value instead\n",
      "\n",
      "See the caveats in the documentation: https://pandas.pydata.org/pandas-docs/stable/user_guide/indexing.html#returning-a-view-versus-a-copy\n",
      "  df_val.loc[:, 'Sales_store'] = df_val['Sales'] - df_val['mean_by_store']\n"
     ]
    }
   ],
   "source": [
    "df_train.loc[:, 'mean_by_store'] = df_train['Store'].apply(stores_mean.get)\n",
    "df_val.loc[:, 'mean_by_store'] = df_val['Store'].apply(stores_mean.get)\n",
    "\n",
    "df_train.loc[:, 'Sales_store'] = df_train['Sales'] - df_train['mean_by_store']\n",
    "df_val.loc[:, 'Sales_store'] = df_val['Sales'] - df_val['mean_by_store']"
   ]
  },
  {
   "cell_type": "code",
   "execution_count": 22,
   "id": "27395cb0",
   "metadata": {
    "execution": {
     "iopub.execute_input": "2023-11-29T00:01:41.012403Z",
     "iopub.status.busy": "2023-11-29T00:01:41.012117Z",
     "iopub.status.idle": "2023-11-29T00:01:41.016000Z",
     "shell.execute_reply": "2023-11-29T00:01:41.015210Z"
    },
    "papermill": {
     "duration": 0.018982,
     "end_time": "2023-11-29T00:01:41.017973",
     "exception": false,
     "start_time": "2023-11-29T00:01:40.998991",
     "status": "completed"
    },
    "tags": []
   },
   "outputs": [],
   "source": [
    "from tensorflow.keras import backend as K"
   ]
  },
  {
   "cell_type": "code",
   "execution_count": 23,
   "id": "9f48cda6",
   "metadata": {
    "execution": {
     "iopub.execute_input": "2023-11-29T00:01:41.043575Z",
     "iopub.status.busy": "2023-11-29T00:01:41.043308Z",
     "iopub.status.idle": "2023-11-29T00:01:41.047614Z",
     "shell.execute_reply": "2023-11-29T00:01:41.046693Z"
    },
    "papermill": {
     "duration": 0.019251,
     "end_time": "2023-11-29T00:01:41.049380",
     "exception": false,
     "start_time": "2023-11-29T00:01:41.030129",
     "status": "completed"
    },
    "tags": []
   },
   "outputs": [],
   "source": [
    "def rmspe(y_true, y_pred):\n",
    "    return K.sqrt(K.mean(K.square((y_true - y_pred)/y_true)))"
   ]
  },
  {
   "cell_type": "code",
   "execution_count": 24,
   "id": "5c5aeec7",
   "metadata": {
    "execution": {
     "iopub.execute_input": "2023-11-29T00:01:41.075557Z",
     "iopub.status.busy": "2023-11-29T00:01:41.075077Z",
     "iopub.status.idle": "2023-11-29T00:01:41.083413Z",
     "shell.execute_reply": "2023-11-29T00:01:41.082568Z"
    },
    "papermill": {
     "duration": 0.023818,
     "end_time": "2023-11-29T00:01:41.085310",
     "exception": false,
     "start_time": "2023-11-29T00:01:41.061492",
     "status": "completed"
    },
    "tags": []
   },
   "outputs": [
    {
     "data": {
      "text/plain": [
       "0.3071746085338871"
      ]
     },
     "execution_count": 24,
     "metadata": {},
     "output_type": "execute_result"
    }
   ],
   "source": [
    "def get_metric(df, sales_):\n",
    "    return np.sqrt((((df['Sales'] - sales_)/df['Sales'])**2).mean())\n",
    "get_metric(df_val, df_val['mean_by_store'])"
   ]
  },
  {
   "cell_type": "code",
   "execution_count": 25,
   "id": "f6988904",
   "metadata": {
    "execution": {
     "iopub.execute_input": "2023-11-29T00:01:41.111375Z",
     "iopub.status.busy": "2023-11-29T00:01:41.111089Z",
     "iopub.status.idle": "2023-11-29T00:01:41.297197Z",
     "shell.execute_reply": "2023-11-29T00:01:41.296391Z"
    },
    "papermill": {
     "duration": 0.201589,
     "end_time": "2023-11-29T00:01:41.299494",
     "exception": false,
     "start_time": "2023-11-29T00:01:41.097905",
     "status": "completed"
    },
    "tags": []
   },
   "outputs": [],
   "source": [
    "all_vars = cat_vars + contin_vars\n",
    "X_train = np.hsplit(df_train[all_vars].values, len(all_vars))\n",
    "X_val = np.hsplit(df_val[all_vars].values, len(all_vars))\n",
    "X_test = np.hsplit(df_test[all_vars].values, len(all_vars))"
   ]
  },
  {
   "cell_type": "code",
   "execution_count": 26,
   "id": "26bbd100",
   "metadata": {
    "execution": {
     "iopub.execute_input": "2023-11-29T00:01:41.325925Z",
     "iopub.status.busy": "2023-11-29T00:01:41.325626Z",
     "iopub.status.idle": "2023-11-29T00:01:41.355367Z",
     "shell.execute_reply": "2023-11-29T00:01:41.354541Z"
    },
    "papermill": {
     "duration": 0.045414,
     "end_time": "2023-11-29T00:01:41.357560",
     "exception": false,
     "start_time": "2023-11-29T00:01:41.312146",
     "status": "completed"
    },
    "tags": []
   },
   "outputs": [],
   "source": [
    "if add_customers:\n",
    "    y_out_columns = ['Sales', 'Customers']\n",
    "else:\n",
    "    y_out_columns = ['Sales_store']\n",
    "    \n",
    "if log_output:\n",
    "    # Escala logaritmica\n",
    "    max_log_y = np.max(np.log(df[y_out_columns].values))\n",
    "    y_train = np.log(df_train[y_out_columns].values)/max_log_y\n",
    "    y_val = np.log(df_val[y_out_columns].values)/max_log_y\n",
    "else:\n",
    "    # Normalización\n",
    "    y_mean = df_train[y_out_columns].mean().values\n",
    "    y_std = df_train[y_out_columns].std().values\n",
    "    #y_train = (df_train[y_out_columns].values - y_mean)/y_std\n",
    "    #y_val = (df_val[y_out_columns].values - y_mean)/y_std\n",
    "    y_max = df_train[y_out_columns].max().values\n",
    "    y_train = df_train[y_out_columns].values/y_max\n",
    "    y_val = df_val[y_out_columns].values/y_max\n",
    "y_train = np.hsplit(y_train, y_train.shape[1])\n",
    "y_val = np.hsplit(y_val, y_val.shape[1])"
   ]
  },
  {
   "cell_type": "code",
   "execution_count": 27,
   "id": "ece20d94",
   "metadata": {
    "execution": {
     "iopub.execute_input": "2023-11-29T00:01:41.384918Z",
     "iopub.status.busy": "2023-11-29T00:01:41.384245Z",
     "iopub.status.idle": "2023-11-29T00:01:41.401033Z",
     "shell.execute_reply": "2023-11-29T00:01:41.400333Z"
    },
    "papermill": {
     "duration": 0.032536,
     "end_time": "2023-11-29T00:01:41.402938",
     "exception": false,
     "start_time": "2023-11-29T00:01:41.370402",
     "status": "completed"
    },
    "tags": []
   },
   "outputs": [],
   "source": [
    "lr = 0.0001\n",
    "model.compile(optimizer=Adam(lr=lr), metrics=['mse', rmspe], loss='mse')"
   ]
  },
  {
   "cell_type": "code",
   "execution_count": 28,
   "id": "2f1201c8",
   "metadata": {
    "execution": {
     "iopub.execute_input": "2023-11-29T00:01:41.429740Z",
     "iopub.status.busy": "2023-11-29T00:01:41.428955Z",
     "iopub.status.idle": "2023-11-29T00:01:41.433794Z",
     "shell.execute_reply": "2023-11-29T00:01:41.432975Z"
    },
    "papermill": {
     "duration": 0.020385,
     "end_time": "2023-11-29T00:01:41.435735",
     "exception": false,
     "start_time": "2023-11-29T00:01:41.415350",
     "status": "completed"
    },
    "tags": []
   },
   "outputs": [],
   "source": [
    "if add_customers:\n",
    "    checkpoint = ModelCheckpoint('bestmodel.hdf5', monitor='val_Sales_mse', verbose=1, save_best_only=True)\n",
    "else:\n",
    "    checkpoint = ModelCheckpoint('bestmodel.hdf5', monitor='val_loss', verbose=1, save_best_only=True)"
   ]
  },
  {
   "cell_type": "code",
   "execution_count": 29,
   "id": "c649e1ab",
   "metadata": {
    "execution": {
     "iopub.execute_input": "2023-11-29T00:01:41.463498Z",
     "iopub.status.busy": "2023-11-29T00:01:41.462824Z",
     "iopub.status.idle": "2023-11-29T00:01:41.467292Z",
     "shell.execute_reply": "2023-11-29T00:01:41.466432Z"
    },
    "papermill": {
     "duration": 0.020888,
     "end_time": "2023-11-29T00:01:41.469286",
     "exception": false,
     "start_time": "2023-11-29T00:01:41.448398",
     "status": "completed"
    },
    "tags": []
   },
   "outputs": [],
   "source": [
    "rlrop = ReduceLROnPlateau(\n",
    "    monitor = \"val_Sales_mse\",\n",
    "    factor = 0.5,\n",
    "    patience = 3,\n",
    "    verbose = 1,\n",
    "    min_lr = 1e-5\n",
    ")"
   ]
  },
  {
   "cell_type": "code",
   "execution_count": 30,
   "id": "a5468804",
   "metadata": {
    "execution": {
     "iopub.execute_input": "2023-11-29T00:01:41.495958Z",
     "iopub.status.busy": "2023-11-29T00:01:41.495382Z",
     "iopub.status.idle": "2023-11-29T00:01:41.500057Z",
     "shell.execute_reply": "2023-11-29T00:01:41.499085Z"
    },
    "papermill": {
     "duration": 0.01996,
     "end_time": "2023-11-29T00:01:41.501882",
     "exception": false,
     "start_time": "2023-11-29T00:01:41.481922",
     "status": "completed"
    },
    "tags": []
   },
   "outputs": [],
   "source": [
    "es = EarlyStopping(\n",
    "    monitor = \"val_Sales_mse\",\n",
    "    patience = 7, \n",
    "    verbose = 1,\n",
    "    restore_best_weights = True,\n",
    ")"
   ]
  },
  {
   "cell_type": "code",
   "execution_count": 31,
   "id": "c1bbcba8",
   "metadata": {
    "execution": {
     "iopub.execute_input": "2023-11-29T00:01:41.528039Z",
     "iopub.status.busy": "2023-11-29T00:01:41.527433Z",
     "iopub.status.idle": "2023-11-29T00:13:27.705689Z",
     "shell.execute_reply": "2023-11-29T00:13:27.704687Z"
    },
    "papermill": {
     "duration": 706.205696,
     "end_time": "2023-11-29T00:13:27.719921",
     "exception": false,
     "start_time": "2023-11-29T00:01:41.514225",
     "status": "completed"
    },
    "tags": []
   },
   "outputs": [
    {
     "name": "stdout",
     "output_type": "stream",
     "text": [
      "Epoch 1/15\n",
      "\n",
      "Epoch 1: val_Sales_mse improved from inf to 0.00166, saving model to bestmodel.hdf5\n",
      "3181/3181 - 74s - loss: 0.2159 - Sales_loss: 0.0259 - Customers_loss: 0.0121 - Sales_mse: 0.0259 - Sales_rmspe: 0.1151 - Customers_mse: 0.0121 - Customers_rmspe: 0.1019 - val_loss: 0.0076 - val_Sales_loss: 0.0017 - val_Customers_loss: 5.7925e-04 - val_Sales_mse: 0.0017 - val_Sales_rmspe: 0.0504 - val_Customers_mse: 5.7925e-04 - val_Customers_rmspe: 0.0379 - lr: 0.0010 - 74s/epoch - 23ms/step\n",
      "Epoch 2/15\n"
     ]
    },
    {
     "name": "stderr",
     "output_type": "stream",
     "text": [
      "/opt/conda/lib/python3.10/site-packages/keras/src/engine/training.py:3000: UserWarning: You are saving your model as an HDF5 file via `model.save()`. This file format is considered legacy. We recommend using instead the native Keras format, e.g. `model.save('my_model.keras')`.\n",
      "  saving_api.save_model(\n"
     ]
    },
    {
     "name": "stdout",
     "output_type": "stream",
     "text": [
      "\n",
      "Epoch 2: val_Sales_mse did not improve from 0.00166\n",
      "3181/3181 - 45s - loss: 0.0047 - Sales_loss: 0.0014 - Customers_loss: 9.1201e-04 - Sales_mse: 0.0014 - Sales_rmspe: 0.0443 - Customers_mse: 9.1201e-04 - Customers_rmspe: 0.0485 - val_loss: 0.0318 - val_Sales_loss: 0.0214 - val_Customers_loss: 0.0099 - val_Sales_mse: 0.0214 - val_Sales_rmspe: 0.1774 - val_Customers_mse: 0.0099 - val_Customers_rmspe: 0.1629 - lr: 0.0010 - 45s/epoch - 14ms/step\n",
      "Epoch 3/15\n",
      "\n",
      "Epoch 3: val_Sales_mse improved from 0.00166 to 0.00021, saving model to bestmodel.hdf5\n",
      "3181/3181 - 45s - loss: 6.2589e-04 - Sales_loss: 2.8291e-04 - Customers_loss: 2.3298e-04 - Sales_mse: 2.8291e-04 - Sales_rmspe: 0.0206 - Customers_mse: 2.3298e-04 - Customers_rmspe: 0.0251 - val_loss: 4.3676e-04 - val_Sales_loss: 2.0802e-04 - val_Customers_loss: 1.8906e-04 - val_Sales_mse: 2.0802e-04 - val_Sales_rmspe: 0.0173 - val_Customers_mse: 1.8906e-04 - val_Customers_rmspe: 0.0223 - lr: 0.0010 - 45s/epoch - 14ms/step\n",
      "Epoch 4/15\n",
      "\n",
      "Epoch 4: val_Sales_mse improved from 0.00021 to 0.00020, saving model to bestmodel.hdf5\n",
      "3181/3181 - 45s - loss: 3.7516e-04 - Sales_loss: 1.8607e-04 - Customers_loss: 1.5186e-04 - Sales_mse: 1.8607e-04 - Sales_rmspe: 0.0168 - Customers_mse: 1.5186e-04 - Customers_rmspe: 0.0205 - val_loss: 3.5387e-04 - val_Sales_loss: 1.9610e-04 - val_Customers_loss: 1.1889e-04 - val_Sales_mse: 1.9610e-04 - val_Sales_rmspe: 0.0166 - val_Customers_mse: 1.1889e-04 - val_Customers_rmspe: 0.0177 - lr: 0.0010 - 45s/epoch - 14ms/step\n",
      "Epoch 5/15\n",
      "\n",
      "Epoch 5: val_Sales_mse improved from 0.00020 to 0.00013, saving model to bestmodel.hdf5\n",
      "3181/3181 - 44s - loss: 3.1184e-04 - Sales_loss: 1.5402e-04 - Customers_loss: 1.2521e-04 - Sales_mse: 1.5402e-04 - Sales_rmspe: 0.0153 - Customers_mse: 1.2521e-04 - Customers_rmspe: 0.0186 - val_loss: 2.6251e-04 - val_Sales_loss: 1.3144e-04 - val_Customers_loss: 9.9363e-05 - val_Sales_mse: 1.3144e-04 - val_Sales_rmspe: 0.0138 - val_Customers_mse: 9.9363e-05 - val_Customers_rmspe: 0.0162 - lr: 0.0010 - 44s/epoch - 14ms/step\n",
      "Epoch 6/15\n",
      "\n",
      "Epoch 6: ReduceLROnPlateau reducing learning rate to 0.0005000000237487257.\n",
      "\n",
      "Epoch 6: val_Sales_mse did not improve from 0.00013\n",
      "3181/3181 - 45s - loss: 2.7843e-04 - Sales_loss: 1.3829e-04 - Customers_loss: 1.1132e-04 - Sales_mse: 1.3829e-04 - Sales_rmspe: 0.0145 - Customers_mse: 1.1132e-04 - Customers_rmspe: 0.0176 - val_loss: 2.7332e-04 - val_Sales_loss: 1.3226e-04 - val_Customers_loss: 1.0759e-04 - val_Sales_mse: 1.3226e-04 - val_Sales_rmspe: 0.0138 - val_Customers_mse: 1.0759e-04 - val_Customers_rmspe: 0.0166 - lr: 0.0010 - 45s/epoch - 14ms/step\n",
      "Epoch 7/15\n",
      "\n",
      "Epoch 7: val_Sales_mse improved from 0.00013 to 0.00012, saving model to bestmodel.hdf5\n",
      "3181/3181 - 45s - loss: 2.3225e-04 - Sales_loss: 1.1952e-04 - Customers_loss: 9.3605e-05 - Sales_mse: 1.1952e-04 - Sales_rmspe: 0.0135 - Customers_mse: 9.3605e-05 - Customers_rmspe: 0.0161 - val_loss: 2.2796e-04 - val_Sales_loss: 1.2196e-04 - val_Customers_loss: 8.7356e-05 - val_Sales_mse: 1.2196e-04 - val_Sales_rmspe: 0.0133 - val_Customers_mse: 8.7356e-05 - val_Customers_rmspe: 0.0152 - lr: 5.0000e-04 - 45s/epoch - 14ms/step\n",
      "Epoch 8/15\n",
      "\n",
      "Epoch 8: val_Sales_mse did not improve from 0.00012\n",
      "3181/3181 - 44s - loss: 2.2360e-04 - Sales_loss: 1.1512e-04 - Customers_loss: 9.0150e-05 - Sales_mse: 1.1512e-04 - Sales_rmspe: 0.0132 - Customers_mse: 9.0150e-05 - Customers_rmspe: 0.0158 - val_loss: 2.8954e-04 - val_Sales_loss: 1.6249e-04 - val_Customers_loss: 1.0744e-04 - val_Sales_mse: 1.6249e-04 - val_Sales_rmspe: 0.0150 - val_Customers_mse: 1.0744e-04 - val_Customers_rmspe: 0.0164 - lr: 5.0000e-04 - 44s/epoch - 14ms/step\n",
      "Epoch 9/15\n",
      "\n",
      "Epoch 9: ReduceLROnPlateau reducing learning rate to 0.0002500000118743628.\n",
      "\n",
      "Epoch 9: val_Sales_mse improved from 0.00012 to 0.00011, saving model to bestmodel.hdf5\n",
      "3181/3181 - 43s - loss: 2.1836e-04 - Sales_loss: 1.1228e-04 - Customers_loss: 8.7605e-05 - Sales_mse: 1.1228e-04 - Sales_rmspe: 0.0131 - Customers_mse: 8.7605e-05 - Customers_rmspe: 0.0156 - val_loss: 2.0519e-04 - val_Sales_loss: 1.0941e-04 - val_Customers_loss: 7.6596e-05 - val_Sales_mse: 1.0941e-04 - val_Sales_rmspe: 0.0127 - val_Customers_mse: 7.6596e-05 - val_Customers_rmspe: 0.0143 - lr: 5.0000e-04 - 43s/epoch - 13ms/step\n",
      "Epoch 10/15\n",
      "\n",
      "Epoch 10: val_Sales_mse improved from 0.00011 to 0.00010, saving model to bestmodel.hdf5\n",
      "3181/3181 - 46s - loss: 1.9541e-04 - Sales_loss: 1.0338e-04 - Customers_loss: 7.9360e-05 - Sales_mse: 1.0338e-04 - Sales_rmspe: 0.0125 - Customers_mse: 7.9360e-05 - Customers_rmspe: 0.0148 - val_loss: 1.9227e-04 - val_Sales_loss: 1.0413e-04 - val_Customers_loss: 7.5638e-05 - val_Sales_mse: 1.0413e-04 - val_Sales_rmspe: 0.0123 - val_Customers_mse: 7.5638e-05 - val_Customers_rmspe: 0.0141 - lr: 2.5000e-04 - 46s/epoch - 14ms/step\n",
      "Epoch 11/15\n",
      "\n",
      "Epoch 11: val_Sales_mse did not improve from 0.00010\n",
      "3181/3181 - 46s - loss: 1.9035e-04 - Sales_loss: 1.0094e-04 - Customers_loss: 7.7493e-05 - Sales_mse: 1.0094e-04 - Sales_rmspe: 0.0124 - Customers_mse: 7.7493e-05 - Customers_rmspe: 0.0147 - val_loss: 1.9333e-04 - val_Sales_loss: 1.0516e-04 - val_Customers_loss: 7.6355e-05 - val_Sales_mse: 1.0516e-04 - val_Sales_rmspe: 0.0124 - val_Customers_mse: 7.6355e-05 - val_Customers_rmspe: 0.0143 - lr: 2.5000e-04 - 46s/epoch - 14ms/step\n",
      "Epoch 12/15\n",
      "\n",
      "Epoch 12: val_Sales_mse did not improve from 0.00010\n",
      "3181/3181 - 46s - loss: 1.8865e-04 - Sales_loss: 1.0015e-04 - Customers_loss: 7.6512e-05 - Sales_mse: 1.0015e-04 - Sales_rmspe: 0.0123 - Customers_mse: 7.6512e-05 - Customers_rmspe: 0.0146 - val_loss: 2.0914e-04 - val_Sales_loss: 1.1450e-04 - val_Customers_loss: 8.2198e-05 - val_Sales_mse: 1.1450e-04 - val_Sales_rmspe: 0.0129 - val_Customers_mse: 8.2198e-05 - val_Customers_rmspe: 0.0146 - lr: 2.5000e-04 - 46s/epoch - 14ms/step\n",
      "Epoch 13/15\n",
      "\n",
      "Epoch 13: ReduceLROnPlateau reducing learning rate to 0.0001250000059371814.\n",
      "\n",
      "Epoch 13: val_Sales_mse improved from 0.00010 to 0.00010, saving model to bestmodel.hdf5\n",
      "3181/3181 - 46s - loss: 1.8699e-04 - Sales_loss: 9.9410e-05 - Customers_loss: 7.5480e-05 - Sales_mse: 9.9410e-05 - Sales_rmspe: 0.0123 - Customers_mse: 7.5480e-05 - Customers_rmspe: 0.0145 - val_loss: 1.9478e-04 - val_Sales_loss: 1.0343e-04 - val_Customers_loss: 7.8647e-05 - val_Sales_mse: 1.0343e-04 - val_Sales_rmspe: 0.0123 - val_Customers_mse: 7.8647e-05 - val_Customers_rmspe: 0.0144 - lr: 2.5000e-04 - 46s/epoch - 15ms/step\n",
      "Epoch 14/15\n",
      "\n",
      "Epoch 14: val_Sales_mse improved from 0.00010 to 0.00010, saving model to bestmodel.hdf5\n",
      "3181/3181 - 47s - loss: 1.7433e-04 - Sales_loss: 9.4177e-05 - Customers_loss: 7.1107e-05 - Sales_mse: 9.4177e-05 - Sales_rmspe: 0.0120 - Customers_mse: 7.1107e-05 - Customers_rmspe: 0.0140 - val_loss: 1.7661e-04 - val_Sales_loss: 9.8688e-05 - val_Customers_loss: 6.9524e-05 - val_Sales_mse: 9.8688e-05 - val_Sales_rmspe: 0.0120 - val_Customers_mse: 6.9524e-05 - val_Customers_rmspe: 0.0136 - lr: 1.2500e-04 - 47s/epoch - 15ms/step\n",
      "Epoch 15/15\n",
      "\n",
      "Epoch 15: val_Sales_mse did not improve from 0.00010\n",
      "3181/3181 - 47s - loss: 1.7234e-04 - Sales_loss: 9.3819e-05 - Customers_loss: 7.0391e-05 - Sales_mse: 9.3819e-05 - Sales_rmspe: 0.0119 - Customers_mse: 7.0391e-05 - Customers_rmspe: 0.0140 - val_loss: 1.7904e-04 - val_Sales_loss: 1.0105e-04 - val_Customers_loss: 6.9829e-05 - val_Sales_mse: 1.0105e-04 - val_Sales_rmspe: 0.0121 - val_Customers_mse: 6.9829e-05 - val_Customers_rmspe: 0.0136 - lr: 1.2500e-04 - 47s/epoch - 15ms/step\n"
     ]
    }
   ],
   "source": [
    "epochs = 15\n",
    "batch_size = 256\n",
    "history = model.fit(\n",
    "    X_train, y_train, \n",
    "    validation_data=(X_val, y_val),  \n",
    "    epochs=epochs, \n",
    "    batch_size=batch_size, \n",
    "    callbacks=[rlrop, es, checkpoint], \n",
    "    verbose=2\n",
    ")"
   ]
  },
  {
   "cell_type": "code",
   "execution_count": 32,
   "id": "c68a653c",
   "metadata": {
    "execution": {
     "iopub.execute_input": "2023-11-29T00:13:27.754865Z",
     "iopub.status.busy": "2023-11-29T00:13:27.753960Z",
     "iopub.status.idle": "2023-11-29T00:13:27.758521Z",
     "shell.execute_reply": "2023-11-29T00:13:27.757627Z"
    },
    "papermill": {
     "duration": 0.024114,
     "end_time": "2023-11-29T00:13:27.760407",
     "exception": false,
     "start_time": "2023-11-29T00:13:27.736293",
     "status": "completed"
    },
    "tags": []
   },
   "outputs": [],
   "source": [
    "import matplotlib.pyplot as plt"
   ]
  },
  {
   "cell_type": "code",
   "execution_count": 33,
   "id": "8d865bba",
   "metadata": {
    "execution": {
     "iopub.execute_input": "2023-11-29T00:13:27.795159Z",
     "iopub.status.busy": "2023-11-29T00:13:27.794500Z",
     "iopub.status.idle": "2023-11-29T00:13:28.075867Z",
     "shell.execute_reply": "2023-11-29T00:13:28.074858Z"
    },
    "papermill": {
     "duration": 0.300939,
     "end_time": "2023-11-29T00:13:28.077922",
     "exception": false,
     "start_time": "2023-11-29T00:13:27.776983",
     "status": "completed"
    },
    "tags": []
   },
   "outputs": [
    {
     "data": {
      "text/plain": [
       "<matplotlib.legend.Legend at 0x7d279c02bb80>"
      ]
     },
     "execution_count": 33,
     "metadata": {},
     "output_type": "execute_result"
    },
    {
     "data": {
      "image/png": "[encoded data removed]",
      "text/plain": [
       "<Figure size 640x480 with 1 Axes>"
      ]
     },
     "metadata": {},
     "output_type": "display_data"
    }
   ],
   "source": [
    "plt.plot(history.history[\"loss\"], label='Train')\n",
    "plt.plot(history.history[\"val_loss\"], label='Validation')\n",
    "plt.title(\"Loss\")\n",
    "plt.legend()\n",
    "#plt.plot(history.history['val_loss'])\n",
    "# plt.plot(history.history['val_Customers_mse'])\n",
    "# plt.plot(history.history['val_Sales_mse'])\n",
    "#plt.show()\n",
    "#plt.plot(history.history['loss'])\n",
    "# plt.plot(history.history['Customers_mse'])\n",
    "# plt.plot(history.history['Sales_mse'])"
   ]
  },
  {
   "cell_type": "markdown",
   "id": "017bf803",
   "metadata": {
    "papermill": {
     "duration": 0.016887,
     "end_time": "2023-11-29T00:13:28.111785",
     "exception": false,
     "start_time": "2023-11-29T00:13:28.094898",
     "status": "completed"
    },
    "tags": []
   },
   "source": [
    "# Métrica"
   ]
  },
  {
   "cell_type": "markdown",
   "id": "538bd016",
   "metadata": {
    "papermill": {
     "duration": 0.017685,
     "end_time": "2023-11-29T00:13:28.147084",
     "exception": false,
     "start_time": "2023-11-29T00:13:28.129399",
     "status": "completed"
    },
    "tags": []
   },
   "source": [
    "$$\n",
    "\\textrm{RMSE} = \\sqrt{\\frac{1}{n} \\sum_{i=1}^{n} \\left(\\frac{\\hat{y}_i - y_i}{y_i}\\right)^2}\n",
    "$$"
   ]
  },
  {
   "cell_type": "code",
   "execution_count": 34,
   "id": "0e1b90c8",
   "metadata": {
    "execution": {
     "iopub.execute_input": "2023-11-29T00:13:28.183098Z",
     "iopub.status.busy": "2023-11-29T00:13:28.182704Z",
     "iopub.status.idle": "2023-11-29T00:13:33.872792Z",
     "shell.execute_reply": "2023-11-29T00:13:33.872023Z"
    },
    "papermill": {
     "duration": 5.710751,
     "end_time": "2023-11-29T00:13:33.874928",
     "exception": false,
     "start_time": "2023-11-29T00:13:28.164177",
     "status": "completed"
    },
    "tags": []
   },
   "outputs": [
    {
     "name": "stdout",
     "output_type": "stream",
     "text": [
      "944/944 [==============================] - 6s 6ms/step - loss: 1.7904e-04 - Sales_loss: 1.0105e-04 - Customers_loss: 6.9829e-05 - Sales_mse: 1.0105e-04 - Sales_rmspe: 0.0119 - Customers_mse: 6.9829e-05 - Customers_rmspe: 0.0134\n"
     ]
    },
    {
     "data": {
      "text/plain": [
       "[0.00017904424748849124,\n",
       " 0.00010104780085384846,\n",
       " 6.98286821716465e-05,\n",
       " 0.00010104780085384846,\n",
       " 0.011946950107812881,\n",
       " 6.98286821716465e-05,\n",
       " 0.013351568952202797]"
      ]
     },
     "execution_count": 34,
     "metadata": {},
     "output_type": "execute_result"
    }
   ],
   "source": [
    "model.evaluate(X_val, y_val)"
   ]
  },
  {
   "cell_type": "code",
   "execution_count": 35,
   "id": "75a626ba",
   "metadata": {
    "execution": {
     "iopub.execute_input": "2023-11-29T00:13:33.928781Z",
     "iopub.status.busy": "2023-11-29T00:13:33.928417Z",
     "iopub.status.idle": "2023-11-29T00:13:39.486660Z",
     "shell.execute_reply": "2023-11-29T00:13:39.485761Z"
    },
    "papermill": {
     "duration": 5.587614,
     "end_time": "2023-11-29T00:13:39.488861",
     "exception": false,
     "start_time": "2023-11-29T00:13:33.901247",
     "status": "completed"
    },
    "tags": []
   },
   "outputs": [
    {
     "name": "stdout",
     "output_type": "stream",
     "text": [
      "944/944 [==============================] - 5s 6ms/step - loss: 1.7661e-04 - Sales_loss: 9.8688e-05 - Customers_loss: 6.9524e-05 - Sales_mse: 9.8688e-05 - Sales_rmspe: 0.0118 - Customers_mse: 6.9524e-05 - Customers_rmspe: 0.0133\n"
     ]
    },
    {
     "data": {
      "text/plain": [
       "[0.00017660847515799105,\n",
       " 9.86880695563741e-05,\n",
       " 6.952426338102669e-05,\n",
       " 9.86880695563741e-05,\n",
       " 0.011830535717308521,\n",
       " 6.952426338102669e-05,\n",
       " 0.01331391278654337]"
      ]
     },
     "execution_count": 35,
     "metadata": {},
     "output_type": "execute_result"
    }
   ],
   "source": [
    "model.load_weights('bestmodel.hdf5')\n",
    "model.evaluate(X_val, y_val)"
   ]
  },
  {
   "cell_type": "code",
   "execution_count": 36,
   "id": "dcbbab7b",
   "metadata": {
    "execution": {
     "iopub.execute_input": "2023-11-29T00:13:39.560945Z",
     "iopub.status.busy": "2023-11-29T00:13:39.560062Z",
     "iopub.status.idle": "2023-11-29T00:13:52.771710Z",
     "shell.execute_reply": "2023-11-29T00:13:52.770809Z"
    },
    "papermill": {
     "duration": 13.249997,
     "end_time": "2023-11-29T00:13:52.774061",
     "exception": false,
     "start_time": "2023-11-29T00:13:39.524064",
     "status": "completed"
    },
    "tags": []
   },
   "outputs": [
    {
     "name": "stdout",
     "output_type": "stream",
     "text": [
      "944/944 [==============================] - 4s 4ms/step\n",
      "1284/1284 [==============================] - 7s 5ms/step\n"
     ]
    }
   ],
   "source": [
    "if log_output:\n",
    "    if add_customers:\n",
    "        y_pred = np.exp(model.predict(X_val, verbose=1)[0][:, 0]*max_log_y)\n",
    "        y_pred_test = np.exp(model.predict(X_test, verbose=1)[0][:, 0]*max_log_y)\n",
    "    else:\n",
    "        y_pred = np.exp(model.predict(X_val, verbose=1)*max_log_y)[:,0]\n",
    "        y_pred_test = np.exp(model.predict(X_test, verbose=1)*max_log_y)[:,0]\n",
    "else:\n",
    "    if add_customers:\n",
    "        y_pred = (model.predict(X_val, verbose=1)[0]*y_std[0] + y_mean[0])[:,0]\n",
    "        y_pred_test = (model.predict(X_test, verbose=1)[0]*y_std[0] + y_mean[0])[:,0]\n",
    "    else:\n",
    "        #y_pred = model.predict(X_val, verbose=1)[:,0]*y_std + y_mean\n",
    "        #y_pred_test = model.predict(X_test, verbose=1)[:,0]*y_std + y_mean\n",
    "        y_pred = model.predict(X_val, verbose=1)[:,0]*y_max\n",
    "        y_pred_test = model.predict(X_test, verbose=1)[:,0]*y_max\n",
    "y_pred_test[df_test['Open'] == 0] = 0"
   ]
  },
  {
   "cell_type": "code",
   "execution_count": 37,
   "id": "ca330851",
   "metadata": {
    "execution": {
     "iopub.execute_input": "2023-11-29T00:13:52.875797Z",
     "iopub.status.busy": "2023-11-29T00:13:52.875087Z",
     "iopub.status.idle": "2023-11-29T00:13:52.882873Z",
     "shell.execute_reply": "2023-11-29T00:13:52.881921Z"
    },
    "papermill": {
     "duration": 0.060625,
     "end_time": "2023-11-29T00:13:52.884869",
     "exception": false,
     "start_time": "2023-11-29T00:13:52.824244",
     "status": "completed"
    },
    "tags": []
   },
   "outputs": [
    {
     "data": {
      "text/plain": [
       "0.11327811120461234"
      ]
     },
     "execution_count": 37,
     "metadata": {},
     "output_type": "execute_result"
    }
   ],
   "source": [
    "np.sqrt((((df_val['Sales'].values - y_pred)/df_val['Sales'].values)**2).sum()/len(y_pred))"
   ]
  },
  {
   "cell_type": "code",
   "execution_count": 38,
   "id": "85fa4514",
   "metadata": {
    "execution": {
     "iopub.execute_input": "2023-11-29T00:13:52.986669Z",
     "iopub.status.busy": "2023-11-29T00:13:52.985757Z",
     "iopub.status.idle": "2023-11-29T00:13:52.992631Z",
     "shell.execute_reply": "2023-11-29T00:13:52.991652Z"
    },
    "papermill": {
     "duration": 0.060147,
     "end_time": "2023-11-29T00:13:52.994703",
     "exception": false,
     "start_time": "2023-11-29T00:13:52.934556",
     "status": "completed"
    },
    "tags": []
   },
   "outputs": [
    {
     "data": {
      "text/plain": [
       "array([4311.46  , 6583.2383, 8931.814 , 7017.2773, 7345.1626, 5553.8823,\n",
       "       7300.733 , 7460.2705, 4709.726 , 5592.021 ], dtype=float32)"
      ]
     },
     "execution_count": 38,
     "metadata": {},
     "output_type": "execute_result"
    }
   ],
   "source": [
    "y_pred_test[:10]"
   ]
  },
  {
   "cell_type": "markdown",
   "id": "eff98f6c",
   "metadata": {
    "papermill": {
     "duration": 0.050205,
     "end_time": "2023-11-29T00:13:53.096155",
     "exception": false,
     "start_time": "2023-11-29T00:13:53.045950",
     "status": "completed"
    },
    "tags": []
   },
   "source": [
    "# Sumbit a la competición"
   ]
  },
  {
   "cell_type": "code",
   "execution_count": 39,
   "id": "bf9da79f",
   "metadata": {
    "execution": {
     "iopub.execute_input": "2023-11-29T00:13:53.198465Z",
     "iopub.status.busy": "2023-11-29T00:13:53.198070Z",
     "iopub.status.idle": "2023-11-29T00:13:53.202490Z",
     "shell.execute_reply": "2023-11-29T00:13:53.201567Z"
    },
    "papermill": {
     "duration": 0.058057,
     "end_time": "2023-11-29T00:13:53.204479",
     "exception": false,
     "start_time": "2023-11-29T00:13:53.146422",
     "status": "completed"
    },
    "tags": []
   },
   "outputs": [],
   "source": [
    "import pandas as pd"
   ]
  },
  {
   "cell_type": "code",
   "execution_count": 40,
   "id": "dd53ef4f",
   "metadata": {
    "execution": {
     "iopub.execute_input": "2023-11-29T00:13:53.309621Z",
     "iopub.status.busy": "2023-11-29T00:13:53.308722Z",
     "iopub.status.idle": "2023-11-29T00:13:53.467827Z",
     "shell.execute_reply": "2023-11-29T00:13:53.466695Z"
    },
    "papermill": {
     "duration": 0.213819,
     "end_time": "2023-11-29T00:13:53.470336",
     "exception": false,
     "start_time": "2023-11-29T00:13:53.256517",
     "status": "completed"
    },
    "tags": []
   },
   "outputs": [],
   "source": [
    "sample_csv = pd.read_csv('/kaggle/input/rossmann-store-sales/sample_submission.csv')\n",
    "sample_csv['Sales'] = y_pred_test\n",
    "sample_csv.head()\n",
    "\n",
    "sample_csv.to_csv(f'submision.csv', index=False)"
   ]
  },
  {
   "cell_type": "markdown",
   "id": "9a129ee7",
   "metadata": {
    "papermill": {
     "duration": 0.050479,
     "end_time": "2023-11-29T00:13:53.572029",
     "exception": false,
     "start_time": "2023-11-29T00:13:53.521550",
     "status": "completed"
    },
    "tags": []
   },
   "source": [
    "# Analisis de embedings"
   ]
  },
  {
   "cell_type": "code",
   "execution_count": 41,
   "id": "ebead8bf",
   "metadata": {
    "execution": {
     "iopub.execute_input": "2023-11-29T00:13:53.674450Z",
     "iopub.status.busy": "2023-11-29T00:13:53.673767Z",
     "iopub.status.idle": "2023-11-29T00:13:53.680365Z",
     "shell.execute_reply": "2023-11-29T00:13:53.679453Z"
    },
    "papermill": {
     "duration": 0.059853,
     "end_time": "2023-11-29T00:13:53.682360",
     "exception": false,
     "start_time": "2023-11-29T00:13:53.622507",
     "status": "completed"
    },
    "tags": []
   },
   "outputs": [],
   "source": [
    "def plot_embed(layer_name, cat_names):\n",
    "    Y = model.get_layer(layer_name).get_weights()[0]\n",
    "    print(Y.shape)\n",
    "    plt.figure(figsize=(8,8))\n",
    "    plt.scatter(-Y[:, 0], -Y[:, 1])\n",
    "    for i, txt in enumerate(cat_names):\n",
    "        plt.annotate(txt, (-Y[i, 0],-Y[i, 1]), xytext = (-5, 8), textcoords = 'offset points')"
   ]
  },
  {
   "cell_type": "code",
   "execution_count": 42,
   "id": "44185e2f",
   "metadata": {
    "execution": {
     "iopub.execute_input": "2023-11-29T00:13:53.785883Z",
     "iopub.status.busy": "2023-11-29T00:13:53.784978Z",
     "iopub.status.idle": "2023-11-29T00:13:54.113134Z",
     "shell.execute_reply": "2023-11-29T00:13:54.112065Z"
    },
    "papermill": {
     "duration": 0.382521,
     "end_time": "2023-11-29T00:13:54.115405",
     "exception": false,
     "start_time": "2023-11-29T00:13:53.732884",
     "status": "completed"
    },
    "tags": []
   },
   "outputs": [
    {
     "name": "stdout",
     "output_type": "stream",
     "text": [
      "(7, 7)\n"
     ]
    },
    {
     "data": {
      "image/png": "[encoded data removed]",
      "text/plain": [
       "<Figure size 800x800 with 1 Axes>"
      ]
     },
     "metadata": {},
     "output_type": "display_data"
    }
   ],
   "source": [
    "model.load_weights('bestmodel.hdf5')\n",
    "plot_embed('DayOfWeek_Embed', ['Mon', 'Tue', 'Wed', 'Thu', 'Fri', 'Sat','Sun'])"
   ]
  }
 ],
 "metadata": {
  "kaggle": {
   "accelerator": "gpu",
   "dataSources": [
    {
     "databundleVersionId": 860645,
     "sourceId": 4594,
     "sourceType": "competition"
    },
    {
     "datasetId": 4002046,
     "sourceId": 6966028,
     "sourceType": "datasetVersion"
    }
   ],
   "dockerImageVersionId": 30579,
   "isGpuEnabled": true,
   "isInternetEnabled": true,
   "language": "python",
   "sourceType": "notebook"
  },
  "kernelspec": {
   "display_name": "Python 3",
   "language": "python",
   "name": "python3"
  },
  "language_info": {
   "codemirror_mode": {
    "name": "ipython",
    "version": 3
   },
   "file_extension": ".py",
   "mimetype": "text/x-python",
   "name": "python",
   "nbconvert_exporter": "python",
   "pygments_lexer": "ipython3",
   "version": "3.10.12"
  },
  "papermill": {
   "default_parameters": {},
   "duration": 760.778048,
   "end_time": "2023-11-29T00:13:57.305444",
   "environment_variables": {},
   "exception": null,
   "input_path": "__notebook__.ipynb",
   "output_path": "__notebook__.ipynb",
   "parameters": {},
   "start_time": "2023-11-29T00:01:16.527396",
   "version": "2.4.0"
  }
 },
 "nbformat": 4,
 "nbformat_minor": 5
}
