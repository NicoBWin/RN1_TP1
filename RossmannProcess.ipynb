{
 "cells": [
  {
   "cell_type": "markdown",
   "id": "c91e6222",
   "metadata": {
    "papermill": {
     "duration": 0.011835,
     "end_time": "2023-11-29T01:33:02.102406",
     "exception": false,
     "start_time": "2023-11-29T01:33:02.090571",
     "status": "completed"
    },
    "tags": []
   },
   "source": [
    "# TP2 - Redes Neuronales (22.45)\n",
    "En este trabajo páctico se busca mejorar la red otorgada por la cátedra con todos los conocimientos vistos en las clases.\n",
    "\n",
    "Autor: Nicolás Bustelo - 61431"
   ]
  },
  {
   "cell_type": "code",
   "execution_count": 1,
   "id": "d05c22af",
   "metadata": {
    "execution": {
     "iopub.execute_input": "2023-11-29T01:33:02.126444Z",
     "iopub.status.busy": "2023-11-29T01:33:02.126158Z",
     "iopub.status.idle": "2023-11-29T01:33:15.687611Z",
     "shell.execute_reply": "2023-11-29T01:33:15.686762Z"
    },
    "papermill": {
     "duration": 13.57598,
     "end_time": "2023-11-29T01:33:15.689918",
     "exception": false,
     "start_time": "2023-11-29T01:33:02.113938",
     "status": "completed"
    },
    "tags": []
   },
   "outputs": [
    {
     "name": "stderr",
     "output_type": "stream",
     "text": [
      "/opt/conda/lib/python3.10/site-packages/scipy/__init__.py:146: UserWarning: A NumPy version >=1.16.5 and <1.23.0 is required for this version of SciPy (detected version 1.24.3\n",
      "  warnings.warn(f\"A NumPy version >={np_minversion} and <{np_maxversion}\"\n"
     ]
    }
   ],
   "source": [
    "from tensorflow.compat.v1 import ConfigProto\n",
    "from tensorflow.compat.v1 import InteractiveSession\n",
    "config = ConfigProto()\n",
    "config.gpu_options.allow_growth = True\n",
    "session = InteractiveSession(config=config)"
   ]
  },
  {
   "cell_type": "code",
   "execution_count": 2,
   "id": "d796b224",
   "metadata": {
    "execution": {
     "iopub.execute_input": "2023-11-29T01:33:15.714800Z",
     "iopub.status.busy": "2023-11-29T01:33:15.714230Z",
     "iopub.status.idle": "2023-11-29T01:33:15.721043Z",
     "shell.execute_reply": "2023-11-29T01:33:15.720381Z"
    },
    "papermill": {
     "duration": 0.021131,
     "end_time": "2023-11-29T01:33:15.722857",
     "exception": false,
     "start_time": "2023-11-29T01:33:15.701726",
     "status": "completed"
    },
    "tags": []
   },
   "outputs": [],
   "source": [
    "import pandas as pd\n",
    "import numpy as np\n",
    "import datetime\n",
    "from pandas_summary import DataFrameSummary"
   ]
  },
  {
   "cell_type": "code",
   "execution_count": 3,
   "id": "493d9471",
   "metadata": {
    "execution": {
     "iopub.execute_input": "2023-11-29T01:33:15.746888Z",
     "iopub.status.busy": "2023-11-29T01:33:15.746612Z",
     "iopub.status.idle": "2023-11-29T01:33:15.849777Z",
     "shell.execute_reply": "2023-11-29T01:33:15.849023Z"
    },
    "papermill": {
     "duration": 0.117398,
     "end_time": "2023-11-29T01:33:15.851841",
     "exception": false,
     "start_time": "2023-11-29T01:33:15.734443",
     "status": "completed"
    },
    "tags": []
   },
   "outputs": [],
   "source": [
    "from tensorflow.keras.utils import to_categorical"
   ]
  },
  {
   "cell_type": "code",
   "execution_count": 4,
   "id": "e45e76cb",
   "metadata": {
    "execution": {
     "iopub.execute_input": "2023-11-29T01:33:15.877063Z",
     "iopub.status.busy": "2023-11-29T01:33:15.876771Z",
     "iopub.status.idle": "2023-11-29T01:33:17.168162Z",
     "shell.execute_reply": "2023-11-29T01:33:17.167397Z"
    },
    "papermill": {
     "duration": 1.305978,
     "end_time": "2023-11-29T01:33:17.170428",
     "exception": false,
     "start_time": "2023-11-29T01:33:15.864450",
     "status": "completed"
    },
    "tags": []
   },
   "outputs": [],
   "source": [
    "df = pd.read_feather('/kaggle/input/normalized/train_normalized_data.fth')\n",
    "df_test = pd.read_feather('/kaggle/input/normalized/test_normalized_data.fth')"
   ]
  },
  {
   "cell_type": "code",
   "execution_count": 5,
   "id": "257cb58a",
   "metadata": {
    "execution": {
     "iopub.execute_input": "2023-11-29T01:33:17.194817Z",
     "iopub.status.busy": "2023-11-29T01:33:17.194497Z",
     "iopub.status.idle": "2023-11-29T01:33:17.199253Z",
     "shell.execute_reply": "2023-11-29T01:33:17.198512Z"
    },
    "papermill": {
     "duration": 0.018926,
     "end_time": "2023-11-29T01:33:17.201129",
     "exception": false,
     "start_time": "2023-11-29T01:33:17.182203",
     "status": "completed"
    },
    "tags": []
   },
   "outputs": [],
   "source": [
    "cat_vars = ['Store', 'DayOfWeek', 'Year', 'Month', 'Day', 'StateHoliday', 'CompetitionMonthsOpen', 'Promo2Weeks', \n",
    "            'StoreType', 'Assortment', 'PromoInterval', 'CompetitionOpenSinceYear', 'Promo2SinceYear', 'State', \n",
    "            'Week', 'Events', 'Promo_fw', 'Promo_bw', 'StateHoliday_bool_fw', 'StateHoliday_bool_bw', 'SchoolHoliday_fw', 'SchoolHoliday_bw']\n",
    "\n",
    "#cat_vars = ['Store', 'DayOfWeek']"
   ]
  },
  {
   "cell_type": "code",
   "execution_count": 6,
   "id": "ff9aedc0",
   "metadata": {
    "execution": {
     "iopub.execute_input": "2023-11-29T01:33:17.225093Z",
     "iopub.status.busy": "2023-11-29T01:33:17.224818Z",
     "iopub.status.idle": "2023-11-29T01:33:17.229342Z",
     "shell.execute_reply": "2023-11-29T01:33:17.228480Z"
    },
    "papermill": {
     "duration": 0.018648,
     "end_time": "2023-11-29T01:33:17.231181",
     "exception": false,
     "start_time": "2023-11-29T01:33:17.212533",
     "status": "completed"
    },
    "tags": []
   },
   "outputs": [],
   "source": [
    "contin_vars = ['CompetitionDistance', \n",
    "   'Max_TemperatureC', 'Mean_TemperatureC', 'Min_TemperatureC', 'Precipitationmm',\n",
    "   'Max_Humidity', 'Mean_Humidity', 'Min_Humidity', 'Max_Wind_SpeedKm_h', \n",
    "   'Mean_Wind_SpeedKm_h', 'CloudCover', 'trend', 'trend_DE',\n",
    "   'AfterStateHoliday_bool', 'BeforeStateHoliday_bool', 'Promo', 'SchoolHoliday', 'StateHoliday_bool']\n",
    "#contin_vars = ['BeforeStateHoliday_bool', 'Max_TemperatureC']"
   ]
  },
  {
   "cell_type": "code",
   "execution_count": 7,
   "id": "85f33306",
   "metadata": {
    "execution": {
     "iopub.execute_input": "2023-11-29T01:33:17.255226Z",
     "iopub.status.busy": "2023-11-29T01:33:17.254951Z",
     "iopub.status.idle": "2023-11-29T01:33:18.892106Z",
     "shell.execute_reply": "2023-11-29T01:33:18.891154Z"
    },
    "papermill": {
     "duration": 1.65158,
     "end_time": "2023-11-29T01:33:18.894118",
     "exception": false,
     "start_time": "2023-11-29T01:33:17.242538",
     "status": "completed"
    },
    "tags": []
   },
   "outputs": [
    {
     "data": {
      "text/html": [
       "<div>\n",
       "<style scoped>\n",
       "    .dataframe tbody tr th:only-of-type {\n",
       "        vertical-align: middle;\n",
       "    }\n",
       "\n",
       "    .dataframe tbody tr th {\n",
       "        vertical-align: top;\n",
       "    }\n",
       "\n",
       "    .dataframe thead th {\n",
       "        text-align: right;\n",
       "    }\n",
       "</style>\n",
       "<table border=\"1\" class=\"dataframe\">\n",
       "  <thead>\n",
       "    <tr style=\"text-align: right;\">\n",
       "      <th></th>\n",
       "      <th>uniques</th>\n",
       "    </tr>\n",
       "  </thead>\n",
       "  <tbody>\n",
       "    <tr>\n",
       "      <th>Store</th>\n",
       "      <td>1115</td>\n",
       "    </tr>\n",
       "    <tr>\n",
       "      <th>DayOfWeek</th>\n",
       "      <td>7</td>\n",
       "    </tr>\n",
       "    <tr>\n",
       "      <th>Year</th>\n",
       "      <td>3</td>\n",
       "    </tr>\n",
       "    <tr>\n",
       "      <th>Month</th>\n",
       "      <td>12</td>\n",
       "    </tr>\n",
       "    <tr>\n",
       "      <th>Day</th>\n",
       "      <td>31</td>\n",
       "    </tr>\n",
       "    <tr>\n",
       "      <th>StateHoliday</th>\n",
       "      <td>4</td>\n",
       "    </tr>\n",
       "    <tr>\n",
       "      <th>CompetitionMonthsOpen</th>\n",
       "      <td>25</td>\n",
       "    </tr>\n",
       "    <tr>\n",
       "      <th>Promo2Weeks</th>\n",
       "      <td>26</td>\n",
       "    </tr>\n",
       "    <tr>\n",
       "      <th>StoreType</th>\n",
       "      <td>4</td>\n",
       "    </tr>\n",
       "    <tr>\n",
       "      <th>Assortment</th>\n",
       "      <td>3</td>\n",
       "    </tr>\n",
       "    <tr>\n",
       "      <th>PromoInterval</th>\n",
       "      <td>4</td>\n",
       "    </tr>\n",
       "    <tr>\n",
       "      <th>CompetitionOpenSinceYear</th>\n",
       "      <td>21</td>\n",
       "    </tr>\n",
       "    <tr>\n",
       "      <th>Promo2SinceYear</th>\n",
       "      <td>8</td>\n",
       "    </tr>\n",
       "    <tr>\n",
       "      <th>State</th>\n",
       "      <td>12</td>\n",
       "    </tr>\n",
       "    <tr>\n",
       "      <th>Week</th>\n",
       "      <td>52</td>\n",
       "    </tr>\n",
       "    <tr>\n",
       "      <th>Events</th>\n",
       "      <td>22</td>\n",
       "    </tr>\n",
       "    <tr>\n",
       "      <th>Promo_fw</th>\n",
       "      <td>6</td>\n",
       "    </tr>\n",
       "    <tr>\n",
       "      <th>Promo_bw</th>\n",
       "      <td>6</td>\n",
       "    </tr>\n",
       "    <tr>\n",
       "      <th>StateHoliday_bool_fw</th>\n",
       "      <td>3</td>\n",
       "    </tr>\n",
       "    <tr>\n",
       "      <th>StateHoliday_bool_bw</th>\n",
       "      <td>3</td>\n",
       "    </tr>\n",
       "    <tr>\n",
       "      <th>SchoolHoliday_fw</th>\n",
       "      <td>8</td>\n",
       "    </tr>\n",
       "    <tr>\n",
       "      <th>SchoolHoliday_bw</th>\n",
       "      <td>8</td>\n",
       "    </tr>\n",
       "  </tbody>\n",
       "</table>\n",
       "</div>"
      ],
      "text/plain": [
       "                         uniques\n",
       "Store                       1115\n",
       "DayOfWeek                      7\n",
       "Year                           3\n",
       "Month                         12\n",
       "Day                           31\n",
       "StateHoliday                   4\n",
       "CompetitionMonthsOpen         25\n",
       "Promo2Weeks                   26\n",
       "StoreType                      4\n",
       "Assortment                     3\n",
       "PromoInterval                  4\n",
       "CompetitionOpenSinceYear      21\n",
       "Promo2SinceYear                8\n",
       "State                         12\n",
       "Week                          52\n",
       "Events                        22\n",
       "Promo_fw                       6\n",
       "Promo_bw                       6\n",
       "StateHoliday_bool_fw           3\n",
       "StateHoliday_bool_bw           3\n",
       "SchoolHoliday_fw               8\n",
       "SchoolHoliday_bw               8"
      ]
     },
     "execution_count": 7,
     "metadata": {},
     "output_type": "execute_result"
    }
   ],
   "source": [
    "uniques = DataFrameSummary(df[cat_vars]).summary().loc[['uniques']]\n",
    "uniques.T"
   ]
  },
  {
   "cell_type": "markdown",
   "id": "b7faea8b",
   "metadata": {
    "papermill": {
     "duration": 0.011517,
     "end_time": "2023-11-29T01:33:18.917737",
     "exception": false,
     "start_time": "2023-11-29T01:33:18.906220",
     "status": "completed"
    },
    "tags": []
   },
   "source": [
    "# Asignación de dimensión de embeddings"
   ]
  },
  {
   "cell_type": "code",
   "execution_count": 8,
   "id": "b926d864",
   "metadata": {
    "execution": {
     "iopub.execute_input": "2023-11-29T01:33:18.942134Z",
     "iopub.status.busy": "2023-11-29T01:33:18.941848Z",
     "iopub.status.idle": "2023-11-29T01:33:18.948121Z",
     "shell.execute_reply": "2023-11-29T01:33:18.947269Z"
    },
    "papermill": {
     "duration": 0.020616,
     "end_time": "2023-11-29T01:33:18.949984",
     "exception": false,
     "start_time": "2023-11-29T01:33:18.929368",
     "status": "completed"
    },
    "tags": []
   },
   "outputs": [],
   "source": [
    "'''\n",
    "cat_var_dict = {'Store': 50, 'DayOfWeek': 7, 'Year': 2, 'Month': 12,\n",
    "'Day': 10, 'StateHoliday': 2, 'CompetitionMonthsOpen': 2,\n",
    "'Promo2Weeks': 1, 'StoreType': 2, 'Assortment': 3, 'PromoInterval': 3,\n",
    "'CompetitionOpenSinceYear': 4, 'Promo2SinceYear': 4, 'State': 6,\n",
    "'Week': 25, 'Events': 4, 'Promo_fw': 1,\n",
    "'Promo_bw': 1, 'StateHoliday_bool_fw': 1,\n",
    "'StateHoliday_bool_bw': 1, 'SchoolHoliday_fw': 1,\n",
    "'SchoolHoliday_bw': 1}\n",
    "'''\n",
    "cat_var_dict = {\n",
    "    'Store': 1115, \n",
    "    'DayOfWeek': 7, \n",
    "    'Year': 3, \n",
    "    'Month': 12,\n",
    "    'Day': 31, \n",
    "    'StateHoliday': 4, \n",
    "    'CompetitionMonthsOpen': 25,\n",
    "    'Promo2Weeks': 26,\n",
    "    'StoreType': 4,\n",
    "    'Assortment': 3,\n",
    "    'PromoInterval': 4,\n",
    "    'CompetitionOpenSinceYear': 21,\n",
    "    'Promo2SinceYear': 8, \n",
    "    'State': 12,\n",
    "    'Week': 52,\n",
    "    'Events': 22,\n",
    "    'Promo_fw': 6,\n",
    "    'Promo_bw': 6,\n",
    "    'StateHoliday_bool_fw': 3,\n",
    "    'StateHoliday_bool_bw': 3,\n",
    "    'SchoolHoliday_fw': 8,\n",
    "    'SchoolHoliday_bw': 8}"
   ]
  },
  {
   "cell_type": "code",
   "execution_count": 9,
   "id": "e380c02a",
   "metadata": {
    "execution": {
     "iopub.execute_input": "2023-11-29T01:33:19.017218Z",
     "iopub.status.busy": "2023-11-29T01:33:19.016427Z",
     "iopub.status.idle": "2023-11-29T01:33:19.115080Z",
     "shell.execute_reply": "2023-11-29T01:33:19.114103Z"
    },
    "papermill": {
     "duration": 0.155358,
     "end_time": "2023-11-29T01:33:19.117072",
     "exception": false,
     "start_time": "2023-11-29T01:33:18.961714",
     "status": "completed"
    },
    "tags": []
   },
   "outputs": [
    {
     "name": "stdout",
     "output_type": "stream",
     "text": [
      "Store 1115 1115 [   0    1    2 ... 1112 1113 1114]\n",
      "\n",
      "DayOfWeek 7 7 [0 1 2 3 4 5 6]\n",
      "\n",
      "Year 3 3 [0 1 2]\n",
      "\n",
      "Month 12 12 [ 0  1  2  3  4  5  6  7  8  9 10 11]\n",
      "\n",
      "Day 31 31 [ 0  1  2  3  4  5  6  7  8  9 10 11 12 13 14 15 16 17 18 19 20 21 22 23\n",
      " 24 25 26 27 28 29 30]\n",
      "\n",
      "StateHoliday 4 4 [0 1 2 3]\n",
      "\n",
      "CompetitionMonthsOpen 25 25 [ 0  1  2  3  4  5  6  7  8  9 10 11 12 13 14 15 16 17 18 19 20 21 22 23\n",
      " 24]\n",
      "\n",
      "Promo2Weeks 26 26 [ 0  1  2  3  4  5  6  7  8  9 10 11 12 13 14 15 16 17 18 19 20 21 22 23\n",
      " 24 25]\n",
      "\n",
      "StoreType 4 4 [0 1 2 3]\n",
      "\n",
      "Assortment 3 3 [0 1 2]\n",
      "\n",
      "PromoInterval 4 4 [0 1 2 3]\n",
      "\n",
      "CompetitionOpenSinceYear 21 21 [ 0  1  2  3  4  5  6  7  8  9 10 11 12 13 14 15 16 17 18 19 20]\n",
      "\n",
      "Promo2SinceYear 8 8 [0 1 2 3 4 5 6 7]\n",
      "\n",
      "State 12 12 [ 0  1  2  3  4  5  6  7  8  9 10 11]\n",
      "\n",
      "Week 52 52 [ 0  1  2  3  4  5  6  7  8  9 10 11 12 13 14 15 16 17 18 19 20 21 22 23\n",
      " 24 25 26 27 28 29 30 31 32 33 34 35 36 37 38 39 40 41 42 43 44 45 46 47\n",
      " 48 49 50 51]\n",
      "\n",
      "Events 22 22 [ 0  1  2  3  4  5  6  7  8  9 10 11 12 13 14 15 16 17 18 19 20 21]\n",
      "\n",
      "Promo_fw 6 6 [0 1 2 3 4 5]\n",
      "\n",
      "Promo_bw 6 6 [0 1 2 3 4 5]\n",
      "\n",
      "StateHoliday_bool_fw 3 3 [0 1 2]\n",
      "\n",
      "StateHoliday_bool_bw 3 3 [0 1 2]\n",
      "\n",
      "SchoolHoliday_fw 8 8 [0 1 2 3 4 5 6 7]\n",
      "\n",
      "SchoolHoliday_bw 8 8 [0 1 2 3 4 5 6 7]\n",
      "\n"
     ]
    }
   ],
   "source": [
    "for v in cat_vars:\n",
    "    uniques_ = df[v].unique()\n",
    "    uniques_.sort()\n",
    "    print(v, cat_var_dict[v], len(uniques_), uniques_)\n",
    "    print()"
   ]
  },
  {
   "cell_type": "markdown",
   "id": "5bb7c146",
   "metadata": {
    "papermill": {
     "duration": 0.01164,
     "end_time": "2023-11-29T01:33:19.140797",
     "exception": false,
     "start_time": "2023-11-29T01:33:19.129157",
     "status": "completed"
    },
    "tags": []
   },
   "source": [
    "# Definición de modelo"
   ]
  },
  {
   "cell_type": "code",
   "execution_count": 10,
   "id": "55c9796c",
   "metadata": {
    "execution": {
     "iopub.execute_input": "2023-11-29T01:33:19.165487Z",
     "iopub.status.busy": "2023-11-29T01:33:19.165197Z",
     "iopub.status.idle": "2023-11-29T01:33:19.172070Z",
     "shell.execute_reply": "2023-11-29T01:33:19.171385Z"
    },
    "papermill": {
     "duration": 0.021271,
     "end_time": "2023-11-29T01:33:19.173897",
     "exception": false,
     "start_time": "2023-11-29T01:33:19.152626",
     "status": "completed"
    },
    "tags": []
   },
   "outputs": [],
   "source": [
    "from tensorflow.keras.models import Model\n",
    "from tensorflow.keras.callbacks import ModelCheckpoint\n",
    "from tensorflow.keras.optimizers import Adam\n",
    "from tensorflow.keras.layers import Embedding, Input, Flatten, Concatenate, Dense, BatchNormalization, Activation, LeakyReLU, Dropout\n",
    "from tensorflow.keras.regularizers import l2"
   ]
  },
  {
   "cell_type": "code",
   "execution_count": 11,
   "id": "202eb619",
   "metadata": {
    "execution": {
     "iopub.execute_input": "2023-11-29T01:33:19.198552Z",
     "iopub.status.busy": "2023-11-29T01:33:19.198286Z",
     "iopub.status.idle": "2023-11-29T01:33:19.205797Z",
     "shell.execute_reply": "2023-11-29T01:33:19.204977Z"
    },
    "papermill": {
     "duration": 0.021943,
     "end_time": "2023-11-29T01:33:19.207689",
     "exception": false,
     "start_time": "2023-11-29T01:33:19.185746",
     "status": "completed"
    },
    "tags": []
   },
   "outputs": [],
   "source": [
    "def get_cat_vars_model(cat_vars, uniques, cat_var_dict):\n",
    "    cat_vars_embed_outs = []\n",
    "    cat_var_inputs = []\n",
    "    for cat_var in cat_vars:\n",
    "        cat_var_in = Input(shape=(1,), name=f\"{cat_var}_input\")\n",
    "        cat_var_inputs.append(cat_var_in)\n",
    "        embed_out = Embedding(uniques[cat_var][0], cat_var_dict[cat_var], name=f'{cat_var}_Embed')(cat_var_in)\n",
    "        flatten_out = Flatten(name=f\"{cat_var}_flat\")(embed_out)\n",
    "        cat_vars_embed_outs.append(flatten_out)\n",
    "    return cat_var_inputs, cat_vars_embed_outs\n",
    "\n",
    "def get_cont_vars_input(contin_vars, dense_layer=False):\n",
    "    cont_vars_inputs = []\n",
    "    cont_vars_outputs = []\n",
    "    for cont_var in contin_vars:\n",
    "        cont_var_in = Input(shape=(1,), name=f\"{cont_var}_input\")\n",
    "        cont_vars_inputs.append(cont_var_in)\n",
    "        if dense_layer:\n",
    "            cont_var_out = Dense(1, name=f\"{cont_var}_input\", activation = 'linear')(cont_var_in)\n",
    "            cont_vars_outputs.append(cont_var_out)\n",
    "        else:\n",
    "            cont_vars_outputs.append(cont_var_in)\n",
    "    return cont_vars_inputs, cont_vars_outputs"
   ]
  },
  {
   "cell_type": "code",
   "execution_count": 12,
   "id": "b013228a",
   "metadata": {
    "execution": {
     "iopub.execute_input": "2023-11-29T01:33:19.232165Z",
     "iopub.status.busy": "2023-11-29T01:33:19.231887Z",
     "iopub.status.idle": "2023-11-29T01:33:19.594091Z",
     "shell.execute_reply": "2023-11-29T01:33:19.593377Z"
    },
    "papermill": {
     "duration": 0.376855,
     "end_time": "2023-11-29T01:33:19.596227",
     "exception": false,
     "start_time": "2023-11-29T01:33:19.219372",
     "status": "completed"
    },
    "tags": []
   },
   "outputs": [
    {
     "name": "stderr",
     "output_type": "stream",
     "text": [
      "/tmp/ipykernel_26/543933484.py:7: FutureWarning: Series.__getitem__ treating keys as positions is deprecated. In a future version, integer keys will always be treated as labels (consistent with DataFrame behavior). To access a value by position, use `ser.iloc[pos]`\n",
      "  embed_out = Embedding(uniques[cat_var][0], cat_var_dict[cat_var], name=f'{cat_var}_Embed')(cat_var_in)\n"
     ]
    }
   ],
   "source": [
    "add_customers = True\n",
    "log_output = True\n",
    "output_activation = 'linear'\n",
    "cat_var_inputs, cat_vars_embed_outs = get_cat_vars_model(cat_vars, uniques, cat_var_dict)\n",
    "cont_vars_inputs,  cont_vars_outs= get_cont_vars_input(contin_vars)"
   ]
  },
  {
   "cell_type": "code",
   "execution_count": 13,
   "id": "35a30600",
   "metadata": {
    "execution": {
     "iopub.execute_input": "2023-11-29T01:33:19.622871Z",
     "iopub.status.busy": "2023-11-29T01:33:19.622307Z",
     "iopub.status.idle": "2023-11-29T01:33:19.625952Z",
     "shell.execute_reply": "2023-11-29T01:33:19.625160Z"
    },
    "papermill": {
     "duration": 0.018867,
     "end_time": "2023-11-29T01:33:19.627763",
     "exception": false,
     "start_time": "2023-11-29T01:33:19.608896",
     "status": "completed"
    },
    "tags": []
   },
   "outputs": [],
   "source": [
    "# Descomentar para ver resultados\n",
    "# cat_vars_embed_outs\n",
    "# cat_var_inputs\n",
    "# cont_vars_inputs\n",
    "# cont_vars_outs"
   ]
  },
  {
   "cell_type": "markdown",
   "id": "4a72bf05",
   "metadata": {
    "papermill": {
     "duration": 0.011793,
     "end_time": "2023-11-29T01:33:19.651706",
     "exception": false,
     "start_time": "2023-11-29T01:33:19.639913",
     "status": "completed"
    },
    "tags": []
   },
   "source": [
    "## Modelo de red"
   ]
  },
  {
   "cell_type": "code",
   "execution_count": 14,
   "id": "ff48003c",
   "metadata": {
    "execution": {
     "iopub.execute_input": "2023-11-29T01:33:19.677139Z",
     "iopub.status.busy": "2023-11-29T01:33:19.676459Z",
     "iopub.status.idle": "2023-11-29T01:33:19.682242Z",
     "shell.execute_reply": "2023-11-29T01:33:19.681563Z"
    },
    "papermill": {
     "duration": 0.02057,
     "end_time": "2023-11-29T01:33:19.684084",
     "exception": false,
     "start_time": "2023-11-29T01:33:19.663514",
     "status": "completed"
    },
    "tags": []
   },
   "outputs": [],
   "source": [
    "# Importo las bibliotecas a utilizar\n",
    "from tensorflow.keras.models import Sequential\n",
    "from tensorflow.keras.layers import Dense, Dropout, BatchNormalization, Flatten\n",
    "from tensorflow.keras.optimizers import SGD, Adam, RMSprop\n",
    "from tensorflow.keras.regularizers import l1, l2\n",
    "from tensorflow.keras.constraints import MaxNorm\n",
    "from tensorflow.keras import initializers\n",
    "from tensorflow.keras.callbacks import ReduceLROnPlateau, EarlyStopping, ModelCheckpoint, TensorBoard"
   ]
  },
  {
   "cell_type": "code",
   "execution_count": 15,
   "id": "5c72771b",
   "metadata": {
    "execution": {
     "iopub.execute_input": "2023-11-29T01:33:19.708941Z",
     "iopub.status.busy": "2023-11-29T01:33:19.708478Z",
     "iopub.status.idle": "2023-11-29T01:33:19.843549Z",
     "shell.execute_reply": "2023-11-29T01:33:19.842850Z"
    },
    "papermill": {
     "duration": 0.149638,
     "end_time": "2023-11-29T01:33:19.845557",
     "exception": false,
     "start_time": "2023-11-29T01:33:19.695919",
     "status": "completed"
    },
    "tags": []
   },
   "outputs": [],
   "source": [
    "l2_lambda = 1e-4\n",
    "merged = Concatenate(name='All_Concatenate')(cat_vars_embed_outs + cont_vars_inputs)\n",
    "\n",
    "x = Dense(1024, kernel_constraint=MaxNorm(5), kernel_initializer=initializers.RandomNormal(stddev=0.1), kernel_regularizer=l2(l2_lambda))(merged)\n",
    "x = BatchNormalization()(x)\n",
    "x = Activation('relu')(x)\n",
    "x = Dropout(0.1)(x)\n",
    "\n",
    "x = Dense(515, kernel_constraint=MaxNorm(5))(merged)\n",
    "x = Activation('relu')(x)\n",
    "x = Dropout(0.1)(x)\n",
    "\n",
    "x = Dense(1024, kernel_constraint=MaxNorm(5), kernel_initializer=initializers.RandomNormal(stddev=0.1), kernel_regularizer=l2(l2_lambda))(x)\n",
    "x = BatchNormalization()(x)\n",
    "x = Activation('relu')(x)\n",
    "x = Dropout(0.1)(x)\n",
    "\n",
    "# x = LeakyReLU()(x)\n",
    "\n",
    "output_1 = Dense(1, name='Sales', activation=output_activation)(x)\n",
    "output_2 = Dense(1, name='Customers', activation=output_activation)(x)"
   ]
  },
  {
   "cell_type": "code",
   "execution_count": 16,
   "id": "7c8a6a27",
   "metadata": {
    "execution": {
     "iopub.execute_input": "2023-11-29T01:33:19.870706Z",
     "iopub.status.busy": "2023-11-29T01:33:19.870410Z",
     "iopub.status.idle": "2023-11-29T01:33:19.886763Z",
     "shell.execute_reply": "2023-11-29T01:33:19.886092Z"
    },
    "papermill": {
     "duration": 0.031019,
     "end_time": "2023-11-29T01:33:19.888669",
     "exception": false,
     "start_time": "2023-11-29T01:33:19.857650",
     "status": "completed"
    },
    "tags": []
   },
   "outputs": [],
   "source": [
    "if add_customers:\n",
    "    model = Model(cat_var_inputs + cont_vars_inputs, [output_1, output_2])\n",
    "else: \n",
    "    model = Model(cat_var_inputs + cont_vars_inputs, [output_1])"
   ]
  },
  {
   "cell_type": "code",
   "execution_count": 17,
   "id": "b8175edc",
   "metadata": {
    "execution": {
     "iopub.execute_input": "2023-11-29T01:33:19.913534Z",
     "iopub.status.busy": "2023-11-29T01:33:19.913287Z",
     "iopub.status.idle": "2023-11-29T01:33:19.916801Z",
     "shell.execute_reply": "2023-11-29T01:33:19.915967Z"
    },
    "papermill": {
     "duration": 0.017965,
     "end_time": "2023-11-29T01:33:19.918640",
     "exception": false,
     "start_time": "2023-11-29T01:33:19.900675",
     "status": "completed"
    },
    "tags": []
   },
   "outputs": [],
   "source": [
    "# Descomentar para ver\n",
    "#model.summary()"
   ]
  },
  {
   "cell_type": "code",
   "execution_count": 18,
   "id": "34b0eb3d",
   "metadata": {
    "execution": {
     "iopub.execute_input": "2023-11-29T01:33:19.943281Z",
     "iopub.status.busy": "2023-11-29T01:33:19.943010Z",
     "iopub.status.idle": "2023-11-29T01:33:20.021106Z",
     "shell.execute_reply": "2023-11-29T01:33:20.020346Z"
    },
    "papermill": {
     "duration": 0.092755,
     "end_time": "2023-11-29T01:33:20.023152",
     "exception": false,
     "start_time": "2023-11-29T01:33:19.930397",
     "status": "completed"
    },
    "tags": []
   },
   "outputs": [],
   "source": [
    "model.save_weights('initial_weights.hdf5')"
   ]
  },
  {
   "cell_type": "code",
   "execution_count": 19,
   "id": "a66499d8",
   "metadata": {
    "execution": {
     "iopub.execute_input": "2023-11-29T01:33:20.048678Z",
     "iopub.status.busy": "2023-11-29T01:33:20.048379Z",
     "iopub.status.idle": "2023-11-29T01:33:20.320871Z",
     "shell.execute_reply": "2023-11-29T01:33:20.319923Z"
    },
    "papermill": {
     "duration": 0.287633,
     "end_time": "2023-11-29T01:33:20.323047",
     "exception": false,
     "start_time": "2023-11-29T01:33:20.035414",
     "status": "completed"
    },
    "tags": []
   },
   "outputs": [
    {
     "name": "stdout",
     "output_type": "stream",
     "text": [
      "Cantidad en val: 30188, porcentaje: 0.9642465458145908\n"
     ]
    }
   ],
   "source": [
    "df_train = df[df.Date < datetime.datetime(2015, 7, 1)]  \n",
    "df_val = df[df.Date >= datetime.datetime(2015, 7, 1)]\n",
    "print(f'Cantidad en val: {len(df_val)}, porcentaje: {len(df_train)/(len(df_train) + len(df_val))}')"
   ]
  },
  {
   "cell_type": "code",
   "execution_count": 20,
   "id": "bbc43b85",
   "metadata": {
    "execution": {
     "iopub.execute_input": "2023-11-29T01:33:20.348593Z",
     "iopub.status.busy": "2023-11-29T01:33:20.348287Z",
     "iopub.status.idle": "2023-11-29T01:33:21.575236Z",
     "shell.execute_reply": "2023-11-29T01:33:21.574465Z"
    },
    "papermill": {
     "duration": 1.242197,
     "end_time": "2023-11-29T01:33:21.577521",
     "exception": false,
     "start_time": "2023-11-29T01:33:20.335324",
     "status": "completed"
    },
    "tags": []
   },
   "outputs": [],
   "source": [
    "stores_mean = {}\n",
    "for store, g_df in df_train.groupby('Store'):\n",
    "    stores_mean[store] = g_df[g_df['Sales'] > 0]['Sales'].mean()"
   ]
  },
  {
   "cell_type": "code",
   "execution_count": 21,
   "id": "910a1ea6",
   "metadata": {
    "execution": {
     "iopub.execute_input": "2023-11-29T01:33:21.603202Z",
     "iopub.status.busy": "2023-11-29T01:33:21.602936Z",
     "iopub.status.idle": "2023-11-29T01:33:21.962135Z",
     "shell.execute_reply": "2023-11-29T01:33:21.961158Z"
    },
    "papermill": {
     "duration": 0.374391,
     "end_time": "2023-11-29T01:33:21.964423",
     "exception": false,
     "start_time": "2023-11-29T01:33:21.590032",
     "status": "completed"
    },
    "tags": []
   },
   "outputs": [
    {
     "name": "stderr",
     "output_type": "stream",
     "text": [
      "/tmp/ipykernel_26/3553976367.py:1: SettingWithCopyWarning: \n",
      "A value is trying to be set on a copy of a slice from a DataFrame.\n",
      "Try using .loc[row_indexer,col_indexer] = value instead\n",
      "\n",
      "See the caveats in the documentation: https://pandas.pydata.org/pandas-docs/stable/user_guide/indexing.html#returning-a-view-versus-a-copy\n",
      "  df_train.loc[:, 'mean_by_store'] = df_train['Store'].apply(stores_mean.get)\n",
      "/tmp/ipykernel_26/3553976367.py:2: SettingWithCopyWarning: \n",
      "A value is trying to be set on a copy of a slice from a DataFrame.\n",
      "Try using .loc[row_indexer,col_indexer] = value instead\n",
      "\n",
      "See the caveats in the documentation: https://pandas.pydata.org/pandas-docs/stable/user_guide/indexing.html#returning-a-view-versus-a-copy\n",
      "  df_val.loc[:, 'mean_by_store'] = df_val['Store'].apply(stores_mean.get)\n",
      "/tmp/ipykernel_26/3553976367.py:4: SettingWithCopyWarning: \n",
      "A value is trying to be set on a copy of a slice from a DataFrame.\n",
      "Try using .loc[row_indexer,col_indexer] = value instead\n",
      "\n",
      "See the caveats in the documentation: https://pandas.pydata.org/pandas-docs/stable/user_guide/indexing.html#returning-a-view-versus-a-copy\n",
      "  df_train.loc[:, 'Sales_store'] = df_train['Sales'] - df_train['mean_by_store']\n",
      "/tmp/ipykernel_26/3553976367.py:5: SettingWithCopyWarning: \n",
      "A value is trying to be set on a copy of a slice from a DataFrame.\n",
      "Try using .loc[row_indexer,col_indexer] = value instead\n",
      "\n",
      "See the caveats in the documentation: https://pandas.pydata.org/pandas-docs/stable/user_guide/indexing.html#returning-a-view-versus-a-copy\n",
      "  df_val.loc[:, 'Sales_store'] = df_val['Sales'] - df_val['mean_by_store']\n"
     ]
    }
   ],
   "source": [
    "df_train.loc[:, 'mean_by_store'] = df_train['Store'].apply(stores_mean.get)\n",
    "df_val.loc[:, 'mean_by_store'] = df_val['Store'].apply(stores_mean.get)\n",
    "\n",
    "df_train.loc[:, 'Sales_store'] = df_train['Sales'] - df_train['mean_by_store']\n",
    "df_val.loc[:, 'Sales_store'] = df_val['Sales'] - df_val['mean_by_store']"
   ]
  },
  {
   "cell_type": "code",
   "execution_count": 22,
   "id": "8a3b7cb5",
   "metadata": {
    "execution": {
     "iopub.execute_input": "2023-11-29T01:33:21.990473Z",
     "iopub.status.busy": "2023-11-29T01:33:21.989942Z",
     "iopub.status.idle": "2023-11-29T01:33:21.994130Z",
     "shell.execute_reply": "2023-11-29T01:33:21.993245Z"
    },
    "papermill": {
     "duration": 0.019217,
     "end_time": "2023-11-29T01:33:21.996036",
     "exception": false,
     "start_time": "2023-11-29T01:33:21.976819",
     "status": "completed"
    },
    "tags": []
   },
   "outputs": [],
   "source": [
    "from tensorflow.keras import backend as K"
   ]
  },
  {
   "cell_type": "code",
   "execution_count": 23,
   "id": "df9a48c1",
   "metadata": {
    "execution": {
     "iopub.execute_input": "2023-11-29T01:33:22.021326Z",
     "iopub.status.busy": "2023-11-29T01:33:22.021076Z",
     "iopub.status.idle": "2023-11-29T01:33:22.025443Z",
     "shell.execute_reply": "2023-11-29T01:33:22.024615Z"
    },
    "papermill": {
     "duration": 0.019283,
     "end_time": "2023-11-29T01:33:22.027384",
     "exception": false,
     "start_time": "2023-11-29T01:33:22.008101",
     "status": "completed"
    },
    "tags": []
   },
   "outputs": [],
   "source": [
    "def rmspe(y_true, y_pred):\n",
    "    return K.sqrt(K.mean(K.square((y_true - y_pred)/y_true)))"
   ]
  },
  {
   "cell_type": "code",
   "execution_count": 24,
   "id": "5ac6d058",
   "metadata": {
    "execution": {
     "iopub.execute_input": "2023-11-29T01:33:22.052722Z",
     "iopub.status.busy": "2023-11-29T01:33:22.052448Z",
     "iopub.status.idle": "2023-11-29T01:33:22.060133Z",
     "shell.execute_reply": "2023-11-29T01:33:22.059322Z"
    },
    "papermill": {
     "duration": 0.022696,
     "end_time": "2023-11-29T01:33:22.062225",
     "exception": false,
     "start_time": "2023-11-29T01:33:22.039529",
     "status": "completed"
    },
    "tags": []
   },
   "outputs": [
    {
     "data": {
      "text/plain": [
       "0.3071746085338871"
      ]
     },
     "execution_count": 24,
     "metadata": {},
     "output_type": "execute_result"
    }
   ],
   "source": [
    "def get_metric(df, sales_):\n",
    "    return np.sqrt((((df['Sales'] - sales_)/df['Sales'])**2).mean())\n",
    "get_metric(df_val, df_val['mean_by_store'])"
   ]
  },
  {
   "cell_type": "code",
   "execution_count": 25,
   "id": "f455335d",
   "metadata": {
    "execution": {
     "iopub.execute_input": "2023-11-29T01:33:22.087816Z",
     "iopub.status.busy": "2023-11-29T01:33:22.087524Z",
     "iopub.status.idle": "2023-11-29T01:33:22.272981Z",
     "shell.execute_reply": "2023-11-29T01:33:22.272000Z"
    },
    "papermill": {
     "duration": 0.200954,
     "end_time": "2023-11-29T01:33:22.275435",
     "exception": false,
     "start_time": "2023-11-29T01:33:22.074481",
     "status": "completed"
    },
    "tags": []
   },
   "outputs": [],
   "source": [
    "all_vars = cat_vars + contin_vars\n",
    "X_train = np.hsplit(df_train[all_vars].values, len(all_vars))\n",
    "X_val = np.hsplit(df_val[all_vars].values, len(all_vars))\n",
    "X_test = np.hsplit(df_test[all_vars].values, len(all_vars))"
   ]
  },
  {
   "cell_type": "code",
   "execution_count": 26,
   "id": "00b852f5",
   "metadata": {
    "execution": {
     "iopub.execute_input": "2023-11-29T01:33:22.301888Z",
     "iopub.status.busy": "2023-11-29T01:33:22.301563Z",
     "iopub.status.idle": "2023-11-29T01:33:22.328469Z",
     "shell.execute_reply": "2023-11-29T01:33:22.327732Z"
    },
    "papermill": {
     "duration": 0.042285,
     "end_time": "2023-11-29T01:33:22.330628",
     "exception": false,
     "start_time": "2023-11-29T01:33:22.288343",
     "status": "completed"
    },
    "tags": []
   },
   "outputs": [],
   "source": [
    "if add_customers:\n",
    "    y_out_columns = ['Sales', 'Customers']\n",
    "else:\n",
    "    y_out_columns = ['Sales_store']\n",
    "    \n",
    "if log_output:\n",
    "    # Escala logaritmica\n",
    "    max_log_y = np.max(np.log(df[y_out_columns].values))\n",
    "    y_train = np.log(df_train[y_out_columns].values)/max_log_y\n",
    "    y_val = np.log(df_val[y_out_columns].values)/max_log_y\n",
    "else:\n",
    "    # Normalización\n",
    "    y_mean = df_train[y_out_columns].mean().values\n",
    "    y_std = df_train[y_out_columns].std().values\n",
    "    #y_train = (df_train[y_out_columns].values - y_mean)/y_std\n",
    "    #y_val = (df_val[y_out_columns].values - y_mean)/y_std\n",
    "    y_max = df_train[y_out_columns].max().values\n",
    "    y_train = df_train[y_out_columns].values/y_max\n",
    "    y_val = df_val[y_out_columns].values/y_max\n",
    "y_train = np.hsplit(y_train, y_train.shape[1])\n",
    "y_val = np.hsplit(y_val, y_val.shape[1])"
   ]
  },
  {
   "cell_type": "code",
   "execution_count": 27,
   "id": "90af8a9a",
   "metadata": {
    "execution": {
     "iopub.execute_input": "2023-11-29T01:33:22.356538Z",
     "iopub.status.busy": "2023-11-29T01:33:22.356260Z",
     "iopub.status.idle": "2023-11-29T01:33:22.373017Z",
     "shell.execute_reply": "2023-11-29T01:33:22.372324Z"
    },
    "papermill": {
     "duration": 0.031798,
     "end_time": "2023-11-29T01:33:22.374931",
     "exception": false,
     "start_time": "2023-11-29T01:33:22.343133",
     "status": "completed"
    },
    "tags": []
   },
   "outputs": [],
   "source": [
    "lr = 0.0001\n",
    "model.compile(optimizer=Adam(lr=lr), metrics=['mse', rmspe], loss='mse')"
   ]
  },
  {
   "cell_type": "code",
   "execution_count": 28,
   "id": "63298de3",
   "metadata": {
    "execution": {
     "iopub.execute_input": "2023-11-29T01:33:22.400393Z",
     "iopub.status.busy": "2023-11-29T01:33:22.400150Z",
     "iopub.status.idle": "2023-11-29T01:33:22.404618Z",
     "shell.execute_reply": "2023-11-29T01:33:22.403881Z"
    },
    "papermill": {
     "duration": 0.019424,
     "end_time": "2023-11-29T01:33:22.406473",
     "exception": false,
     "start_time": "2023-11-29T01:33:22.387049",
     "status": "completed"
    },
    "tags": []
   },
   "outputs": [],
   "source": [
    "if add_customers:\n",
    "    checkpoint = ModelCheckpoint('bestmodel.hdf5', monitor='val_Sales_mse', verbose=1, save_best_only=True)\n",
    "else:\n",
    "    checkpoint = ModelCheckpoint('bestmodel.hdf5', monitor='val_loss', verbose=1, save_best_only=True)"
   ]
  },
  {
   "cell_type": "code",
   "execution_count": 29,
   "id": "0a247f9b",
   "metadata": {
    "execution": {
     "iopub.execute_input": "2023-11-29T01:33:22.432127Z",
     "iopub.status.busy": "2023-11-29T01:33:22.431479Z",
     "iopub.status.idle": "2023-11-29T01:33:22.435540Z",
     "shell.execute_reply": "2023-11-29T01:33:22.434812Z"
    },
    "papermill": {
     "duration": 0.018733,
     "end_time": "2023-11-29T01:33:22.437336",
     "exception": false,
     "start_time": "2023-11-29T01:33:22.418603",
     "status": "completed"
    },
    "tags": []
   },
   "outputs": [],
   "source": [
    "rlrop = ReduceLROnPlateau(\n",
    "    monitor = \"val_Sales_mse\",\n",
    "    factor = 0.5,\n",
    "    patience = 3,\n",
    "    verbose = 1,\n",
    "    min_lr = 1e-5\n",
    ")"
   ]
  },
  {
   "cell_type": "code",
   "execution_count": 30,
   "id": "45f3b1ca",
   "metadata": {
    "execution": {
     "iopub.execute_input": "2023-11-29T01:33:22.462657Z",
     "iopub.status.busy": "2023-11-29T01:33:22.462370Z",
     "iopub.status.idle": "2023-11-29T01:33:22.466393Z",
     "shell.execute_reply": "2023-11-29T01:33:22.465559Z"
    },
    "papermill": {
     "duration": 0.01883,
     "end_time": "2023-11-29T01:33:22.468335",
     "exception": false,
     "start_time": "2023-11-29T01:33:22.449505",
     "status": "completed"
    },
    "tags": []
   },
   "outputs": [],
   "source": [
    "es = EarlyStopping(\n",
    "    monitor = \"val_Sales_mse\",\n",
    "    patience = 7, \n",
    "    verbose = 1,\n",
    "    restore_best_weights = True,\n",
    ")"
   ]
  },
  {
   "cell_type": "code",
   "execution_count": 31,
   "id": "72a65cdc",
   "metadata": {
    "execution": {
     "iopub.execute_input": "2023-11-29T01:33:22.493660Z",
     "iopub.status.busy": "2023-11-29T01:33:22.493389Z",
     "iopub.status.idle": "2023-11-29T02:07:29.074422Z",
     "shell.execute_reply": "2023-11-29T02:07:29.073471Z"
    },
    "papermill": {
     "duration": 2046.612758,
     "end_time": "2023-11-29T02:07:29.093255",
     "exception": false,
     "start_time": "2023-11-29T01:33:22.480497",
     "status": "completed"
    },
    "tags": []
   },
   "outputs": [
    {
     "name": "stdout",
     "output_type": "stream",
     "text": [
      "Epoch 1/25\n",
      "\n",
      "Epoch 1: val_Sales_mse improved from inf to 0.00060, saving model to bestmodel.hdf5\n",
      "6361/6361 - 110s - loss: 0.1467 - Sales_loss: 0.0148 - Customers_loss: 0.0094 - Sales_mse: 0.0148 - Sales_rmspe: 0.0941 - Customers_mse: 0.0094 - Customers_rmspe: 0.0960 - val_loss: 0.0014 - val_Sales_loss: 6.0161e-04 - val_Customers_loss: 2.8649e-04 - val_Sales_mse: 6.0161e-04 - val_Sales_rmspe: 0.0294 - val_Customers_mse: 2.8649e-04 - val_Customers_rmspe: 0.0273 - lr: 0.0010 - 110s/epoch - 17ms/step\n",
      "Epoch 2/25\n"
     ]
    },
    {
     "name": "stderr",
     "output_type": "stream",
     "text": [
      "/opt/conda/lib/python3.10/site-packages/keras/src/engine/training.py:3000: UserWarning: You are saving your model as an HDF5 file via `model.save()`. This file format is considered legacy. We recommend using instead the native Keras format, e.g. `model.save('my_model.keras')`.\n",
      "  saving_api.save_model(\n"
     ]
    },
    {
     "name": "stdout",
     "output_type": "stream",
     "text": [
      "\n",
      "Epoch 2: val_Sales_mse improved from 0.00060 to 0.00015, saving model to bestmodel.hdf5\n",
      "6361/6361 - 81s - loss: 6.6810e-04 - Sales_loss: 3.1771e-04 - Customers_loss: 2.2302e-04 - Sales_mse: 3.1771e-04 - Sales_rmspe: 0.0209 - Customers_mse: 2.2302e-04 - Customers_rmspe: 0.0239 - val_loss: 3.3568e-04 - val_Sales_loss: 1.5391e-04 - val_Customers_loss: 1.3795e-04 - val_Sales_mse: 1.5391e-04 - val_Sales_rmspe: 0.0149 - val_Customers_mse: 1.3795e-04 - val_Customers_rmspe: 0.0189 - lr: 0.0010 - 81s/epoch - 13ms/step\n",
      "Epoch 3/25\n",
      "\n",
      "Epoch 3: val_Sales_mse did not improve from 0.00015\n",
      "6361/6361 - 80s - loss: 3.5188e-04 - Sales_loss: 1.7157e-04 - Customers_loss: 1.4587e-04 - Sales_mse: 1.7157e-04 - Sales_rmspe: 0.0160 - Customers_mse: 1.4587e-04 - Customers_rmspe: 0.0198 - val_loss: 3.3342e-04 - val_Sales_loss: 1.5827e-04 - val_Customers_loss: 1.4089e-04 - val_Sales_mse: 1.5827e-04 - val_Sales_rmspe: 0.0151 - val_Customers_mse: 1.4089e-04 - val_Customers_rmspe: 0.0185 - lr: 0.0010 - 80s/epoch - 13ms/step\n",
      "Epoch 4/25\n",
      "\n",
      "Epoch 4: val_Sales_mse improved from 0.00015 to 0.00012, saving model to bestmodel.hdf5\n",
      "6361/6361 - 81s - loss: 3.0862e-04 - Sales_loss: 1.4994e-04 - Customers_loss: 1.2635e-04 - Sales_mse: 1.4994e-04 - Sales_rmspe: 0.0150 - Customers_mse: 1.2635e-04 - Customers_rmspe: 0.0185 - val_loss: 2.3942e-04 - val_Sales_loss: 1.1693e-04 - val_Customers_loss: 9.1146e-05 - val_Sales_mse: 1.1693e-04 - val_Sales_rmspe: 0.0130 - val_Customers_mse: 9.1146e-05 - val_Customers_rmspe: 0.0154 - lr: 0.0010 - 81s/epoch - 13ms/step\n",
      "Epoch 5/25\n",
      "\n",
      "Epoch 5: ReduceLROnPlateau reducing learning rate to 0.0005000000237487257.\n",
      "\n",
      "Epoch 5: val_Sales_mse did not improve from 0.00012\n",
      "6361/6361 - 80s - loss: 2.8900e-04 - Sales_loss: 1.3934e-04 - Customers_loss: 1.1727e-04 - Sales_mse: 1.3934e-04 - Sales_rmspe: 0.0144 - Customers_mse: 1.1727e-04 - Customers_rmspe: 0.0177 - val_loss: 2.6919e-04 - val_Sales_loss: 1.2669e-04 - val_Customers_loss: 1.1094e-04 - val_Sales_mse: 1.2669e-04 - val_Sales_rmspe: 0.0136 - val_Customers_mse: 1.1094e-04 - val_Customers_rmspe: 0.0171 - lr: 0.0010 - 80s/epoch - 13ms/step\n",
      "Epoch 6/25\n",
      "\n",
      "Epoch 6: val_Sales_mse did not improve from 0.00012\n",
      "6361/6361 - 80s - loss: 2.3659e-04 - Sales_loss: 1.1874e-04 - Customers_loss: 9.8128e-05 - Sales_mse: 1.1874e-04 - Sales_rmspe: 0.0133 - Customers_mse: 9.8128e-05 - Customers_rmspe: 0.0162 - val_loss: 2.6714e-04 - val_Sales_loss: 1.2873e-04 - val_Customers_loss: 1.1850e-04 - val_Sales_mse: 1.2873e-04 - val_Sales_rmspe: 0.0136 - val_Customers_mse: 1.1850e-04 - val_Customers_rmspe: 0.0176 - lr: 5.0000e-04 - 80s/epoch - 13ms/step\n",
      "Epoch 7/25\n",
      "\n",
      "Epoch 7: val_Sales_mse improved from 0.00012 to 0.00012, saving model to bestmodel.hdf5\n",
      "6361/6361 - 82s - loss: 2.2887e-04 - Sales_loss: 1.1509e-04 - Customers_loss: 9.4639e-05 - Sales_mse: 1.1509e-04 - Sales_rmspe: 0.0131 - Customers_mse: 9.4639e-05 - Customers_rmspe: 0.0159 - val_loss: 2.2946e-04 - val_Sales_loss: 1.1643e-04 - val_Customers_loss: 9.4193e-05 - val_Sales_mse: 1.1643e-04 - val_Sales_rmspe: 0.0129 - val_Customers_mse: 9.4193e-05 - val_Customers_rmspe: 0.0155 - lr: 5.0000e-04 - 82s/epoch - 13ms/step\n",
      "Epoch 8/25\n",
      "\n",
      "Epoch 8: ReduceLROnPlateau reducing learning rate to 0.0002500000118743628.\n",
      "\n",
      "Epoch 8: val_Sales_mse improved from 0.00012 to 0.00010, saving model to bestmodel.hdf5\n",
      "6361/6361 - 81s - loss: 2.2542e-04 - Sales_loss: 1.1292e-04 - Customers_loss: 9.3374e-05 - Sales_mse: 1.1292e-04 - Sales_rmspe: 0.0130 - Customers_mse: 9.3374e-05 - Customers_rmspe: 0.0158 - val_loss: 2.0140e-04 - val_Sales_loss: 1.0259e-04 - val_Customers_loss: 7.9825e-05 - val_Sales_mse: 1.0259e-04 - val_Sales_rmspe: 0.0122 - val_Customers_mse: 7.9825e-05 - val_Customers_rmspe: 0.0144 - lr: 5.0000e-04 - 81s/epoch - 13ms/step\n",
      "Epoch 9/25\n",
      "\n",
      "Epoch 9: val_Sales_mse did not improve from 0.00010\n",
      "6361/6361 - 81s - loss: 1.9761e-04 - Sales_loss: 1.0288e-04 - Customers_loss: 8.3285e-05 - Sales_mse: 1.0288e-04 - Sales_rmspe: 0.0124 - Customers_mse: 8.3285e-05 - Customers_rmspe: 0.0149 - val_loss: 1.9117e-04 - val_Sales_loss: 1.0313e-04 - val_Customers_loss: 7.7230e-05 - val_Sales_mse: 1.0313e-04 - val_Sales_rmspe: 0.0122 - val_Customers_mse: 7.7230e-05 - val_Customers_rmspe: 0.0141 - lr: 2.5000e-04 - 81s/epoch - 13ms/step\n",
      "Epoch 10/25\n",
      "\n",
      "Epoch 10: val_Sales_mse improved from 0.00010 to 0.00010, saving model to bestmodel.hdf5\n",
      "6361/6361 - 80s - loss: 1.9258e-04 - Sales_loss: 1.0031e-04 - Customers_loss: 8.1386e-05 - Sales_mse: 1.0031e-04 - Sales_rmspe: 0.0122 - Customers_mse: 8.1386e-05 - Customers_rmspe: 0.0148 - val_loss: 1.8488e-04 - val_Sales_loss: 1.0026e-04 - val_Customers_loss: 7.3233e-05 - val_Sales_mse: 1.0026e-04 - val_Sales_rmspe: 0.0120 - val_Customers_mse: 7.3233e-05 - val_Customers_rmspe: 0.0138 - lr: 2.5000e-04 - 80s/epoch - 13ms/step\n",
      "Epoch 11/25\n",
      "\n",
      "Epoch 11: ReduceLROnPlateau reducing learning rate to 0.0001250000059371814.\n",
      "\n",
      "Epoch 11: val_Sales_mse did not improve from 0.00010\n",
      "6361/6361 - 80s - loss: 1.9195e-04 - Sales_loss: 9.9863e-05 - Customers_loss: 8.1139e-05 - Sales_mse: 9.9863e-05 - Sales_rmspe: 0.0122 - Customers_mse: 8.1139e-05 - Customers_rmspe: 0.0147 - val_loss: 1.8430e-04 - val_Sales_loss: 1.0174e-04 - val_Customers_loss: 7.2096e-05 - val_Sales_mse: 1.0174e-04 - val_Sales_rmspe: 0.0122 - val_Customers_mse: 7.2096e-05 - val_Customers_rmspe: 0.0137 - lr: 2.5000e-04 - 80s/epoch - 13ms/step\n",
      "Epoch 12/25\n",
      "\n",
      "Epoch 12: val_Sales_mse did not improve from 0.00010\n",
      "6361/6361 - 80s - loss: 1.7402e-04 - Sales_loss: 9.2845e-05 - Customers_loss: 7.4279e-05 - Sales_mse: 9.2845e-05 - Sales_rmspe: 0.0118 - Customers_mse: 7.4279e-05 - Customers_rmspe: 0.0141 - val_loss: 1.8867e-04 - val_Sales_loss: 1.0983e-04 - val_Customers_loss: 7.2447e-05 - val_Sales_mse: 1.0983e-04 - val_Sales_rmspe: 0.0126 - val_Customers_mse: 7.2447e-05 - val_Customers_rmspe: 0.0138 - lr: 1.2500e-04 - 80s/epoch - 13ms/step\n",
      "Epoch 13/25\n",
      "\n",
      "Epoch 13: val_Sales_mse did not improve from 0.00010\n",
      "6361/6361 - 80s - loss: 1.7174e-04 - Sales_loss: 9.1581e-05 - Customers_loss: 7.3729e-05 - Sales_mse: 9.1581e-05 - Sales_rmspe: 0.0117 - Customers_mse: 7.3729e-05 - Customers_rmspe: 0.0140 - val_loss: 1.8034e-04 - val_Sales_loss: 1.0134e-04 - val_Customers_loss: 7.2120e-05 - val_Sales_mse: 1.0134e-04 - val_Sales_rmspe: 0.0121 - val_Customers_mse: 7.2120e-05 - val_Customers_rmspe: 0.0137 - lr: 1.2500e-04 - 80s/epoch - 13ms/step\n",
      "Epoch 14/25\n",
      "\n",
      "Epoch 14: ReduceLROnPlateau reducing learning rate to 6.25000029685907e-05.\n",
      "\n",
      "Epoch 14: val_Sales_mse improved from 0.00010 to 0.00010, saving model to bestmodel.hdf5\n",
      "6361/6361 - 80s - loss: 1.7096e-04 - Sales_loss: 9.1354e-05 - Customers_loss: 7.3139e-05 - Sales_mse: 9.1354e-05 - Sales_rmspe: 0.0117 - Customers_mse: 7.3139e-05 - Customers_rmspe: 0.0140 - val_loss: 1.7432e-04 - val_Sales_loss: 9.7781e-05 - val_Customers_loss: 6.9910e-05 - val_Sales_mse: 9.7781e-05 - val_Sales_rmspe: 0.0119 - val_Customers_mse: 6.9910e-05 - val_Customers_rmspe: 0.0135 - lr: 1.2500e-04 - 80s/epoch - 13ms/step\n",
      "Epoch 15/25\n",
      "\n",
      "Epoch 15: val_Sales_mse improved from 0.00010 to 0.00010, saving model to bestmodel.hdf5\n",
      "6361/6361 - 83s - loss: 1.6121e-04 - Sales_loss: 8.7417e-05 - Customers_loss: 6.9064e-05 - Sales_mse: 8.7417e-05 - Sales_rmspe: 0.0114 - Customers_mse: 6.9064e-05 - Customers_rmspe: 0.0136 - val_loss: 1.6455e-04 - val_Sales_loss: 9.5272e-05 - val_Customers_loss: 6.5165e-05 - val_Sales_mse: 9.5272e-05 - val_Sales_rmspe: 0.0118 - val_Customers_mse: 6.5165e-05 - val_Customers_rmspe: 0.0131 - lr: 6.2500e-05 - 83s/epoch - 13ms/step\n",
      "Epoch 16/25\n",
      "\n",
      "Epoch 16: val_Sales_mse did not improve from 0.00010\n",
      "6361/6361 - 81s - loss: 1.5886e-04 - Sales_loss: 8.6331e-05 - Customers_loss: 6.8402e-05 - Sales_mse: 8.6331e-05 - Sales_rmspe: 0.0113 - Customers_mse: 6.8402e-05 - Customers_rmspe: 0.0135 - val_loss: 1.6460e-04 - val_Sales_loss: 9.5308e-05 - val_Customers_loss: 6.5195e-05 - val_Sales_mse: 9.5308e-05 - val_Sales_rmspe: 0.0118 - val_Customers_mse: 6.5195e-05 - val_Customers_rmspe: 0.0131 - lr: 6.2500e-05 - 81s/epoch - 13ms/step\n",
      "Epoch 17/25\n",
      "\n",
      "Epoch 17: ReduceLROnPlateau reducing learning rate to 3.125000148429535e-05.\n",
      "\n",
      "Epoch 17: val_Sales_mse did not improve from 0.00010\n",
      "6361/6361 - 81s - loss: 1.5870e-04 - Sales_loss: 8.6202e-05 - Customers_loss: 6.8409e-05 - Sales_mse: 8.6202e-05 - Sales_rmspe: 0.0113 - Customers_mse: 6.8409e-05 - Customers_rmspe: 0.0135 - val_loss: 1.7058e-04 - val_Sales_loss: 9.7515e-05 - val_Customers_loss: 6.8950e-05 - val_Sales_mse: 9.7515e-05 - val_Sales_rmspe: 0.0120 - val_Customers_mse: 6.8950e-05 - val_Customers_rmspe: 0.0135 - lr: 6.2500e-05 - 81s/epoch - 13ms/step\n",
      "Epoch 18/25\n",
      "\n",
      "Epoch 18: val_Sales_mse improved from 0.00010 to 0.00009, saving model to bestmodel.hdf5\n",
      "6361/6361 - 82s - loss: 1.5313e-04 - Sales_loss: 8.3746e-05 - Customers_loss: 6.5951e-05 - Sales_mse: 8.3746e-05 - Sales_rmspe: 0.0112 - Customers_mse: 6.5951e-05 - Customers_rmspe: 0.0133 - val_loss: 1.6405e-04 - val_Sales_loss: 9.4701e-05 - val_Customers_loss: 6.6226e-05 - val_Sales_mse: 9.4701e-05 - val_Sales_rmspe: 0.0117 - val_Customers_mse: 6.6226e-05 - val_Customers_rmspe: 0.0131 - lr: 3.1250e-05 - 82s/epoch - 13ms/step\n",
      "Epoch 19/25\n",
      "\n",
      "Epoch 19: val_Sales_mse did not improve from 0.00009\n",
      "6361/6361 - 80s - loss: 1.5169e-04 - Sales_loss: 8.3238e-05 - Customers_loss: 6.5477e-05 - Sales_mse: 8.3238e-05 - Sales_rmspe: 0.0111 - Customers_mse: 6.5477e-05 - Customers_rmspe: 0.0132 - val_loss: 1.6447e-04 - val_Sales_loss: 9.5275e-05 - val_Customers_loss: 6.6310e-05 - val_Sales_mse: 9.5275e-05 - val_Sales_rmspe: 0.0118 - val_Customers_mse: 6.6310e-05 - val_Customers_rmspe: 0.0131 - lr: 3.1250e-05 - 80s/epoch - 13ms/step\n",
      "Epoch 20/25\n",
      "\n",
      "Epoch 20: ReduceLROnPlateau reducing learning rate to 1.5625000742147677e-05.\n",
      "\n",
      "Epoch 20: val_Sales_mse did not improve from 0.00009\n",
      "6361/6361 - 80s - loss: 1.5163e-04 - Sales_loss: 8.3352e-05 - Customers_loss: 6.5465e-05 - Sales_mse: 8.3352e-05 - Sales_rmspe: 0.0111 - Customers_mse: 6.5465e-05 - Customers_rmspe: 0.0132 - val_loss: 1.6867e-04 - val_Sales_loss: 9.6835e-05 - val_Customers_loss: 6.9050e-05 - val_Sales_mse: 9.6835e-05 - val_Sales_rmspe: 0.0118 - val_Customers_mse: 6.9050e-05 - val_Customers_rmspe: 0.0134 - lr: 3.1250e-05 - 80s/epoch - 13ms/step\n",
      "Epoch 21/25\n",
      "\n",
      "Epoch 21: val_Sales_mse improved from 0.00009 to 0.00009, saving model to bestmodel.hdf5\n",
      "6361/6361 - 81s - loss: 1.4844e-04 - Sales_loss: 8.1790e-05 - Customers_loss: 6.4095e-05 - Sales_mse: 8.1790e-05 - Sales_rmspe: 0.0110 - Customers_mse: 6.4095e-05 - Customers_rmspe: 0.0131 - val_loss: 1.6188e-04 - val_Sales_loss: 9.4445e-05 - val_Customers_loss: 6.5036e-05 - val_Sales_mse: 9.4445e-05 - val_Sales_rmspe: 0.0117 - val_Customers_mse: 6.5036e-05 - val_Customers_rmspe: 0.0131 - lr: 1.5625e-05 - 81s/epoch - 13ms/step\n",
      "Epoch 22/25\n",
      "\n",
      "Epoch 22: val_Sales_mse did not improve from 0.00009\n",
      "6361/6361 - 80s - loss: 1.4785e-04 - Sales_loss: 8.1689e-05 - Customers_loss: 6.3848e-05 - Sales_mse: 8.1689e-05 - Sales_rmspe: 0.0110 - Customers_mse: 6.3848e-05 - Customers_rmspe: 0.0131 - val_loss: 1.6365e-04 - val_Sales_loss: 9.4937e-05 - val_Customers_loss: 6.6501e-05 - val_Sales_mse: 9.4937e-05 - val_Sales_rmspe: 0.0117 - val_Customers_mse: 6.6501e-05 - val_Customers_rmspe: 0.0132 - lr: 1.5625e-05 - 80s/epoch - 13ms/step\n",
      "Epoch 23/25\n",
      "\n",
      "Epoch 23: ReduceLROnPlateau reducing learning rate to 1e-05.\n",
      "\n",
      "Epoch 23: val_Sales_mse did not improve from 0.00009\n",
      "6361/6361 - 80s - loss: 1.4741e-04 - Sales_loss: 8.1632e-05 - Customers_loss: 6.3585e-05 - Sales_mse: 8.1632e-05 - Sales_rmspe: 0.0110 - Customers_mse: 6.3585e-05 - Customers_rmspe: 0.0131 - val_loss: 1.6362e-04 - val_Sales_loss: 9.5700e-05 - val_Customers_loss: 6.5776e-05 - val_Sales_mse: 9.5700e-05 - val_Sales_rmspe: 0.0118 - val_Customers_mse: 6.5776e-05 - val_Customers_rmspe: 0.0131 - lr: 1.5625e-05 - 80s/epoch - 13ms/step\n",
      "Epoch 24/25\n",
      "\n",
      "Epoch 24: val_Sales_mse did not improve from 0.00009\n",
      "6361/6361 - 80s - loss: 1.4534e-04 - Sales_loss: 8.0599e-05 - Customers_loss: 6.2677e-05 - Sales_mse: 8.0599e-05 - Sales_rmspe: 0.0110 - Customers_mse: 6.2677e-05 - Customers_rmspe: 0.0130 - val_loss: 1.6308e-04 - val_Sales_loss: 9.5159e-05 - val_Customers_loss: 6.5944e-05 - val_Sales_mse: 9.5159e-05 - val_Sales_rmspe: 0.0117 - val_Customers_mse: 6.5944e-05 - val_Customers_rmspe: 0.0131 - lr: 1.0000e-05 - 80s/epoch - 13ms/step\n",
      "Epoch 25/25\n",
      "\n",
      "Epoch 25: val_Sales_mse did not improve from 0.00009\n",
      "6361/6361 - 81s - loss: 1.4559e-04 - Sales_loss: 8.0690e-05 - Customers_loss: 6.2932e-05 - Sales_mse: 8.0690e-05 - Sales_rmspe: 0.0110 - Customers_mse: 6.2932e-05 - Customers_rmspe: 0.0130 - val_loss: 1.6247e-04 - val_Sales_loss: 9.5567e-05 - val_Customers_loss: 6.4974e-05 - val_Sales_mse: 9.5567e-05 - val_Sales_rmspe: 0.0118 - val_Customers_mse: 6.4974e-05 - val_Customers_rmspe: 0.0131 - lr: 1.0000e-05 - 81s/epoch - 13ms/step\n"
     ]
    }
   ],
   "source": [
    "epochs = 25\n",
    "batch_size = 128\n",
    "history = model.fit(\n",
    "    X_train, y_train, \n",
    "    validation_data=(X_val, y_val),  \n",
    "    epochs=epochs, \n",
    "    batch_size=batch_size, \n",
    "    callbacks=[rlrop, es, checkpoint], \n",
    "    verbose=2\n",
    ")"
   ]
  },
  {
   "cell_type": "code",
   "execution_count": 32,
   "id": "db0cd866",
   "metadata": {
    "execution": {
     "iopub.execute_input": "2023-11-29T02:07:29.131649Z",
     "iopub.status.busy": "2023-11-29T02:07:29.131317Z",
     "iopub.status.idle": "2023-11-29T02:07:29.135377Z",
     "shell.execute_reply": "2023-11-29T02:07:29.134547Z"
    },
    "papermill": {
     "duration": 0.02521,
     "end_time": "2023-11-29T02:07:29.137121",
     "exception": false,
     "start_time": "2023-11-29T02:07:29.111911",
     "status": "completed"
    },
    "tags": []
   },
   "outputs": [],
   "source": [
    "import matplotlib.pyplot as plt"
   ]
  },
  {
   "cell_type": "code",
   "execution_count": 33,
   "id": "d26ced33",
   "metadata": {
    "execution": {
     "iopub.execute_input": "2023-11-29T02:07:29.175049Z",
     "iopub.status.busy": "2023-11-29T02:07:29.174758Z",
     "iopub.status.idle": "2023-11-29T02:07:29.513652Z",
     "shell.execute_reply": "2023-11-29T02:07:29.512783Z"
    },
    "papermill": {
     "duration": 0.360214,
     "end_time": "2023-11-29T02:07:29.515680",
     "exception": false,
     "start_time": "2023-11-29T02:07:29.155466",
     "status": "completed"
    },
    "tags": []
   },
   "outputs": [
    {
     "data": {
      "text/plain": [
       "<matplotlib.legend.Legend at 0x789afc12ae30>"
      ]
     },
     "execution_count": 33,
     "metadata": {},
     "output_type": "execute_result"
    },
    {
     "data": {
      "image/png": "[encoded data removed]",
      "text/plain": [
       "<Figure size 640x480 with 1 Axes>"
      ]
     },
     "metadata": {},
     "output_type": "display_data"
    }
   ],
   "source": [
    "plt.plot(history.history[\"loss\"], label='Train')\n",
    "plt.plot(history.history[\"val_loss\"], label='Validation')\n",
    "plt.title(\"Loss\")\n",
    "plt.legend()\n",
    "#plt.plot(history.history['val_loss'])\n",
    "# plt.plot(history.history['val_Customers_mse'])\n",
    "# plt.plot(history.history['val_Sales_mse'])\n",
    "#plt.show()\n",
    "#plt.plot(history.history['loss'])\n",
    "# plt.plot(history.history['Customers_mse'])\n",
    "# plt.plot(history.history['Sales_mse'])"
   ]
  },
  {
   "cell_type": "markdown",
   "id": "c55438ba",
   "metadata": {
    "papermill": {
     "duration": 0.019332,
     "end_time": "2023-11-29T02:07:29.554924",
     "exception": false,
     "start_time": "2023-11-29T02:07:29.535592",
     "status": "completed"
    },
    "tags": []
   },
   "source": [
    "# Métrica"
   ]
  },
  {
   "cell_type": "markdown",
   "id": "f5082a3f",
   "metadata": {
    "papermill": {
     "duration": 0.018959,
     "end_time": "2023-11-29T02:07:29.592991",
     "exception": false,
     "start_time": "2023-11-29T02:07:29.574032",
     "status": "completed"
    },
    "tags": []
   },
   "source": [
    "$$\n",
    "\\textrm{RMSE} = \\sqrt{\\frac{1}{n} \\sum_{i=1}^{n} \\left(\\frac{\\hat{y}_i - y_i}{y_i}\\right)^2}\n",
    "$$"
   ]
  },
  {
   "cell_type": "code",
   "execution_count": 34,
   "id": "bac8441f",
   "metadata": {
    "execution": {
     "iopub.execute_input": "2023-11-29T02:07:29.633135Z",
     "iopub.status.busy": "2023-11-29T02:07:29.632402Z",
     "iopub.status.idle": "2023-11-29T02:07:34.611809Z",
     "shell.execute_reply": "2023-11-29T02:07:34.610624Z"
    },
    "papermill": {
     "duration": 5.002011,
     "end_time": "2023-11-29T02:07:34.614049",
     "exception": false,
     "start_time": "2023-11-29T02:07:29.612038",
     "status": "completed"
    },
    "tags": []
   },
   "outputs": [
    {
     "name": "stdout",
     "output_type": "stream",
     "text": [
      "944/944 [==============================] - 5s 5ms/step - loss: 1.6247e-04 - Sales_loss: 9.5567e-05 - Customers_loss: 6.4974e-05 - Sales_mse: 9.5567e-05 - Sales_rmspe: 0.0116 - Customers_mse: 6.4974e-05 - Customers_rmspe: 0.0129\n"
     ]
    },
    {
     "data": {
      "text/plain": [
       "[0.00016247281746473163,\n",
       " 9.556704026181251e-05,\n",
       " 6.497434515040368e-05,\n",
       " 9.556704026181251e-05,\n",
       " 0.01162583939731121,\n",
       " 6.497434515040368e-05,\n",
       " 0.012880288995802402]"
      ]
     },
     "execution_count": 34,
     "metadata": {},
     "output_type": "execute_result"
    }
   ],
   "source": [
    "model.evaluate(X_val, y_val)"
   ]
  },
  {
   "cell_type": "code",
   "execution_count": 35,
   "id": "0e1e054d",
   "metadata": {
    "execution": {
     "iopub.execute_input": "2023-11-29T02:07:34.670290Z",
     "iopub.status.busy": "2023-11-29T02:07:34.669594Z",
     "iopub.status.idle": "2023-11-29T02:07:39.741235Z",
     "shell.execute_reply": "2023-11-29T02:07:39.740251Z"
    },
    "papermill": {
     "duration": 5.101516,
     "end_time": "2023-11-29T02:07:39.743071",
     "exception": false,
     "start_time": "2023-11-29T02:07:34.641555",
     "status": "completed"
    },
    "tags": []
   },
   "outputs": [
    {
     "name": "stdout",
     "output_type": "stream",
     "text": [
      "944/944 [==============================] - 5s 5ms/step - loss: 1.6188e-04 - Sales_loss: 9.4445e-05 - Customers_loss: 6.5036e-05 - Sales_mse: 9.4445e-05 - Sales_rmspe: 0.0116 - Customers_mse: 6.5036e-05 - Customers_rmspe: 0.0129\n"
     ]
    },
    {
     "data": {
      "text/plain": [
       "[0.00016188119479920715,\n",
       " 9.444470924790949e-05,\n",
       " 6.50359143037349e-05,\n",
       " 9.444470924790949e-05,\n",
       " 0.011552496813237667,\n",
       " 6.50359143037349e-05,\n",
       " 0.012889949604868889]"
      ]
     },
     "execution_count": 35,
     "metadata": {},
     "output_type": "execute_result"
    }
   ],
   "source": [
    "model.load_weights('bestmodel.hdf5')\n",
    "model.evaluate(X_val, y_val)"
   ]
  },
  {
   "cell_type": "code",
   "execution_count": 36,
   "id": "4b7db66b",
   "metadata": {
    "execution": {
     "iopub.execute_input": "2023-11-29T02:07:39.815592Z",
     "iopub.status.busy": "2023-11-29T02:07:39.814821Z",
     "iopub.status.idle": "2023-11-29T02:07:52.057255Z",
     "shell.execute_reply": "2023-11-29T02:07:52.056427Z"
    },
    "papermill": {
     "duration": 12.280984,
     "end_time": "2023-11-29T02:07:52.059742",
     "exception": false,
     "start_time": "2023-11-29T02:07:39.778758",
     "status": "completed"
    },
    "tags": []
   },
   "outputs": [
    {
     "name": "stdout",
     "output_type": "stream",
     "text": [
      "944/944 [==============================] - 4s 4ms/step\n",
      "1284/1284 [==============================] - 6s 5ms/step\n"
     ]
    }
   ],
   "source": [
    "if log_output:\n",
    "    if add_customers:\n",
    "        y_pred = np.exp(model.predict(X_val, verbose=1)[0][:, 0]*max_log_y)\n",
    "        y_pred_test = np.exp(model.predict(X_test, verbose=1)[0][:, 0]*max_log_y)\n",
    "    else:\n",
    "        y_pred = np.exp(model.predict(X_val, verbose=1)*max_log_y)[:,0]\n",
    "        y_pred_test = np.exp(model.predict(X_test, verbose=1)*max_log_y)[:,0]\n",
    "else:\n",
    "    if add_customers:\n",
    "        y_pred = (model.predict(X_val, verbose=1)[0]*y_std[0] + y_mean[0])[:,0]\n",
    "        y_pred_test = (model.predict(X_test, verbose=1)[0]*y_std[0] + y_mean[0])[:,0]\n",
    "    else:\n",
    "        #y_pred = model.predict(X_val, verbose=1)[:,0]*y_std + y_mean\n",
    "        #y_pred_test = model.predict(X_test, verbose=1)[:,0]*y_std + y_mean\n",
    "        y_pred = model.predict(X_val, verbose=1)[:,0]*y_max\n",
    "        y_pred_test = model.predict(X_test, verbose=1)[:,0]*y_max\n",
    "y_pred_test[df_test['Open'] == 0] = 0"
   ]
  },
  {
   "cell_type": "code",
   "execution_count": 37,
   "id": "b3f87202",
   "metadata": {
    "execution": {
     "iopub.execute_input": "2023-11-29T02:07:52.158977Z",
     "iopub.status.busy": "2023-11-29T02:07:52.158627Z",
     "iopub.status.idle": "2023-11-29T02:07:52.166014Z",
     "shell.execute_reply": "2023-11-29T02:07:52.165184Z"
    },
    "papermill": {
     "duration": 0.058919,
     "end_time": "2023-11-29T02:07:52.167919",
     "exception": false,
     "start_time": "2023-11-29T02:07:52.109000",
     "status": "completed"
    },
    "tags": []
   },
   "outputs": [
    {
     "data": {
      "text/plain": [
       "0.10849959774971757"
      ]
     },
     "execution_count": 37,
     "metadata": {},
     "output_type": "execute_result"
    }
   ],
   "source": [
    "np.sqrt((((df_val['Sales'].values - y_pred)/df_val['Sales'].values)**2).sum()/len(y_pred))"
   ]
  },
  {
   "cell_type": "code",
   "execution_count": 38,
   "id": "294da22b",
   "metadata": {
    "execution": {
     "iopub.execute_input": "2023-11-29T02:07:52.266027Z",
     "iopub.status.busy": "2023-11-29T02:07:52.265713Z",
     "iopub.status.idle": "2023-11-29T02:07:52.272133Z",
     "shell.execute_reply": "2023-11-29T02:07:52.271261Z"
    },
    "papermill": {
     "duration": 0.057644,
     "end_time": "2023-11-29T02:07:52.274026",
     "exception": false,
     "start_time": "2023-11-29T02:07:52.216382",
     "status": "completed"
    },
    "tags": []
   },
   "outputs": [
    {
     "data": {
      "text/plain": [
       "array([4203.2593, 7104.1743, 8305.51  , 7457.1694, 7439.212 , 5454.882 ,\n",
       "       6834.5454, 7709.2944, 4596.854 , 5448.7466], dtype=float32)"
      ]
     },
     "execution_count": 38,
     "metadata": {},
     "output_type": "execute_result"
    }
   ],
   "source": [
    "y_pred_test[:10]"
   ]
  },
  {
   "cell_type": "markdown",
   "id": "5710c82c",
   "metadata": {
    "papermill": {
     "duration": 0.048461,
     "end_time": "2023-11-29T02:07:52.371525",
     "exception": false,
     "start_time": "2023-11-29T02:07:52.323064",
     "status": "completed"
    },
    "tags": []
   },
   "source": [
    "# Sumbit a la competición"
   ]
  },
  {
   "cell_type": "code",
   "execution_count": 39,
   "id": "a803d7d0",
   "metadata": {
    "execution": {
     "iopub.execute_input": "2023-11-29T02:07:52.470725Z",
     "iopub.status.busy": "2023-11-29T02:07:52.469896Z",
     "iopub.status.idle": "2023-11-29T02:07:52.474162Z",
     "shell.execute_reply": "2023-11-29T02:07:52.473304Z"
    },
    "papermill": {
     "duration": 0.055708,
     "end_time": "2023-11-29T02:07:52.475952",
     "exception": false,
     "start_time": "2023-11-29T02:07:52.420244",
     "status": "completed"
    },
    "tags": []
   },
   "outputs": [],
   "source": [
    "import pandas as pd"
   ]
  },
  {
   "cell_type": "code",
   "execution_count": 40,
   "id": "e729d46f",
   "metadata": {
    "execution": {
     "iopub.execute_input": "2023-11-29T02:07:52.575574Z",
     "iopub.status.busy": "2023-11-29T02:07:52.575223Z",
     "iopub.status.idle": "2023-11-29T02:07:52.725345Z",
     "shell.execute_reply": "2023-11-29T02:07:52.724324Z"
    },
    "papermill": {
     "duration": 0.202793,
     "end_time": "2023-11-29T02:07:52.727732",
     "exception": false,
     "start_time": "2023-11-29T02:07:52.524939",
     "status": "completed"
    },
    "tags": []
   },
   "outputs": [],
   "source": [
    "sample_csv = pd.read_csv('/kaggle/input/rossmann-store-sales/sample_submission.csv')\n",
    "sample_csv['Sales'] = y_pred_test\n",
    "sample_csv.head()\n",
    "\n",
    "sample_csv.to_csv(f'submision.csv', index=False)"
   ]
  },
  {
   "cell_type": "markdown",
   "id": "c631a1d6",
   "metadata": {
    "papermill": {
     "duration": 0.04896,
     "end_time": "2023-11-29T02:07:52.826720",
     "exception": false,
     "start_time": "2023-11-29T02:07:52.777760",
     "status": "completed"
    },
    "tags": []
   },
   "source": [
    "# Analisis de embedings"
   ]
  },
  {
   "cell_type": "code",
   "execution_count": 41,
   "id": "a0f99f3a",
   "metadata": {
    "execution": {
     "iopub.execute_input": "2023-11-29T02:07:52.927738Z",
     "iopub.status.busy": "2023-11-29T02:07:52.926930Z",
     "iopub.status.idle": "2023-11-29T02:07:52.933325Z",
     "shell.execute_reply": "2023-11-29T02:07:52.932466Z"
    },
    "papermill": {
     "duration": 0.0588,
     "end_time": "2023-11-29T02:07:52.935226",
     "exception": false,
     "start_time": "2023-11-29T02:07:52.876426",
     "status": "completed"
    },
    "tags": []
   },
   "outputs": [],
   "source": [
    "def plot_embed(layer_name, cat_names):\n",
    "    Y = model.get_layer(layer_name).get_weights()[0]\n",
    "    print(Y.shape)\n",
    "    plt.figure(figsize=(8,8))\n",
    "    plt.scatter(-Y[:, 0], -Y[:, 1])\n",
    "    for i, txt in enumerate(cat_names):\n",
    "        plt.annotate(txt, (-Y[i, 0],-Y[i, 1]), xytext = (-5, 8), textcoords = 'offset points')"
   ]
  },
  {
   "cell_type": "code",
   "execution_count": 42,
   "id": "f1ed5e85",
   "metadata": {
    "execution": {
     "iopub.execute_input": "2023-11-29T02:07:53.035074Z",
     "iopub.status.busy": "2023-11-29T02:07:53.034756Z",
     "iopub.status.idle": "2023-11-29T02:07:53.408785Z",
     "shell.execute_reply": "2023-11-29T02:07:53.407873Z"
    },
    "papermill": {
     "duration": 0.426148,
     "end_time": "2023-11-29T02:07:53.410894",
     "exception": false,
     "start_time": "2023-11-29T02:07:52.984746",
     "status": "completed"
    },
    "tags": []
   },
   "outputs": [
    {
     "name": "stdout",
     "output_type": "stream",
     "text": [
      "(7, 7)\n"
     ]
    },
    {
     "data": {
      "image/png": "[encoded data removed]",
      "text/plain": [
       "<Figure size 800x800 with 1 Axes>"
      ]
     },
     "metadata": {},
     "output_type": "display_data"
    }
   ],
   "source": [
    "model.load_weights('bestmodel.hdf5')\n",
    "plot_embed('DayOfWeek_Embed', ['Mon', 'Tue', 'Wed', 'Thu', 'Fri', 'Sat','Sun'])"
   ]
  }
 ],
 "metadata": {
  "kaggle": {
   "accelerator": "gpu",
   "dataSources": [
    {
     "databundleVersionId": 860645,
     "sourceId": 4594,
     "sourceType": "competition"
    },
    {
     "datasetId": 4002046,
     "sourceId": 6966028,
     "sourceType": "datasetVersion"
    }
   ],
   "dockerImageVersionId": 30579,
   "isGpuEnabled": true,
   "isInternetEnabled": true,
   "language": "python",
   "sourceType": "notebook"
  },
  "kernelspec": {
   "display_name": "Python 3",
   "language": "python",
   "name": "python3"
  },
  "language_info": {
   "codemirror_mode": {
    "name": "ipython",
    "version": 3
   },
   "file_extension": ".py",
   "mimetype": "text/x-python",
   "name": "python",
   "nbconvert_exporter": "python",
   "pygments_lexer": "ipython3",
   "version": "3.10.12"
  },
  "papermill": {
   "default_parameters": {},
   "duration": 2097.241619,
   "end_time": "2023-11-29T02:07:56.110247",
   "environment_variables": {},
   "exception": null,
   "input_path": "__notebook__.ipynb",
   "output_path": "__notebook__.ipynb",
   "parameters": {},
   "start_time": "2023-11-29T01:32:58.868628",
   "version": "2.4.0"
  }
 },
 "nbformat": 4,
 "nbformat_minor": 5
}
