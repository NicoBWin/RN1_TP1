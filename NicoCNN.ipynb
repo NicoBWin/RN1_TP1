{
 "cells": [
  {
   "cell_type": "markdown",
   "id": "8dbbe833",
   "metadata": {
    "papermill": {
     "duration": 0.010702,
     "end_time": "2023-10-31T18:51:18.143763",
     "exception": false,
     "start_time": "2023-10-31T18:51:18.133061",
     "status": "completed"
    },
    "tags": []
   },
   "source": [
    "# TP2 - Redes Neuronales (22.45)\n",
    "\n",
    "En este trabajo páctico se busca armar una red neuronal CONVOLUCIONAL capaz de obtener el mayor acuracy para lograr la mejor posición en la competencia de Kaggle. Se utiliza el dataset \"cifar-100\" y todos los conocimientos vistos en clase para la realización de la red capaz de identificar las fotos dentro del dataset.\n",
    "\n",
    "*Autor: Nicolás Bustelo - 61431*"
   ]
  },
  {
   "cell_type": "code",
   "execution_count": 1,
   "id": "2924ef18",
   "metadata": {
    "_cell_guid": "b1076dfc-b9ad-4769-8c92-a6c4dae69d19",
    "_uuid": "8f2839f25d086af736a60e9eeb907d3b93b6e0e5",
    "execution": {
     "iopub.execute_input": "2023-10-31T18:51:18.165310Z",
     "iopub.status.busy": "2023-10-31T18:51:18.165006Z",
     "iopub.status.idle": "2023-10-31T18:51:26.398555Z",
     "shell.execute_reply": "2023-10-31T18:51:26.397554Z"
    },
    "papermill": {
     "duration": 8.246599,
     "end_time": "2023-10-31T18:51:26.400631",
     "exception": false,
     "start_time": "2023-10-31T18:51:18.154032",
     "status": "completed"
    },
    "tags": []
   },
   "outputs": [
    {
     "name": "stderr",
     "output_type": "stream",
     "text": [
      "/opt/conda/lib/python3.10/site-packages/scipy/__init__.py:146: UserWarning: A NumPy version >=1.16.5 and <1.23.0 is required for this version of SciPy (detected version 1.23.5\n",
      "  warnings.warn(f\"A NumPy version >={np_minversion} and <{np_maxversion}\"\n"
     ]
    },
    {
     "name": "stdout",
     "output_type": "stream",
     "text": [
      "/kaggle/input/itba-rn-2245-cifar-100-2023q2/y_train_fine.npy\n",
      "/kaggle/input/itba-rn-2245-cifar-100-2023q2/y_train_coarse.npy\n",
      "/kaggle/input/itba-rn-2245-cifar-100-2023q2/fine_label_names.pck\n",
      "/kaggle/input/itba-rn-2245-cifar-100-2023q2/coarse_label_names.pck\n",
      "/kaggle/input/itba-rn-2245-cifar-100-2023q2/x_test.npy\n",
      "/kaggle/input/itba-rn-2245-cifar-100-2023q2/x_train.npy\n"
     ]
    }
   ],
   "source": [
    "# This Python 3 environment comes with many helpful analytics libraries installed\n",
    "# It is defined by the kaggle/python Docker image: https://github.com/kaggle/docker-python\n",
    "# For example, here's several helpful packages to load\n",
    "\n",
    "import numpy as np # linear algebra\n",
    "import pandas as pd # data processing, CSV file I/O (e.g. pd.read_csv)\n",
    "from tensorflow.keras.utils import plot_model\n",
    "\n",
    "# Input data files are available in the read-only \"../input/\" directory\n",
    "# For example, running this (by clicking run or pressing Shift+Enter) will list all files under the input directory\n",
    "\n",
    "import os\n",
    "for dirname, _, filenames in os.walk('/kaggle/input'):\n",
    "    for filename in filenames:\n",
    "        print(os.path.join(dirname, filename))\n",
    "\n",
    "# You can write up to 20GB to the current directory (/kaggle/working/) that gets preserved as output when you create a version using \"Save & Run All\" \n",
    "# You can also write temporary files to /kaggle/temp/, but they won't be saved outside of the current session"
   ]
  },
  {
   "cell_type": "markdown",
   "id": "9d0ec816",
   "metadata": {
    "papermill": {
     "duration": 0.010375,
     "end_time": "2023-10-31T18:51:26.421609",
     "exception": false,
     "start_time": "2023-10-31T18:51:26.411234",
     "status": "completed"
    },
    "tags": []
   },
   "source": [
    "## Dataset load"
   ]
  },
  {
   "cell_type": "code",
   "execution_count": 2,
   "id": "50c150dd",
   "metadata": {
    "execution": {
     "iopub.execute_input": "2023-10-31T18:51:26.444265Z",
     "iopub.status.busy": "2023-10-31T18:51:26.443479Z",
     "iopub.status.idle": "2023-10-31T18:51:28.535584Z",
     "shell.execute_reply": "2023-10-31T18:51:28.534766Z"
    },
    "papermill": {
     "duration": 2.105681,
     "end_time": "2023-10-31T18:51:28.537889",
     "exception": false,
     "start_time": "2023-10-31T18:51:26.432208",
     "status": "completed"
    },
    "tags": []
   },
   "outputs": [],
   "source": [
    "x_train = np.load(\"/kaggle/input/itba-rn-2245-cifar-100-2023q2/x_train.npy\")/255.\n",
    "x_test = np.load(\"/kaggle/input/itba-rn-2245-cifar-100-2023q2/x_test.npy\")/255.\n",
    "y_train_coarse = np.load(\"/kaggle/input/itba-rn-2245-cifar-100-2023q2/y_train_coarse.npy\")\n",
    "y_train_fine = np.load(\"/kaggle/input/itba-rn-2245-cifar-100-2023q2/y_train_fine.npy\")"
   ]
  },
  {
   "cell_type": "code",
   "execution_count": 3,
   "id": "f73049e0",
   "metadata": {
    "execution": {
     "iopub.execute_input": "2023-10-31T18:51:28.560971Z",
     "iopub.status.busy": "2023-10-31T18:51:28.560646Z",
     "iopub.status.idle": "2023-10-31T18:51:28.577141Z",
     "shell.execute_reply": "2023-10-31T18:51:28.576428Z"
    },
    "papermill": {
     "duration": 0.029918,
     "end_time": "2023-10-31T18:51:28.578917",
     "exception": false,
     "start_time": "2023-10-31T18:51:28.548999",
     "status": "completed"
    },
    "tags": []
   },
   "outputs": [],
   "source": [
    "import pickle\n",
    "with open(\"/kaggle/input/itba-rn-2245-cifar-100-2023q2/fine_label_names.pck\", \"rb\") as f:\n",
    "    labels_fine = pickle.load(f)\n",
    "with open(\"/kaggle/input/itba-rn-2245-cifar-100-2023q2/coarse_label_names.pck\", \"rb\") as f:\n",
    "    labels_coarse = pickle.load(f)"
   ]
  },
  {
   "cell_type": "code",
   "execution_count": 4,
   "id": "96248da2",
   "metadata": {
    "execution": {
     "iopub.execute_input": "2023-10-31T18:51:28.601162Z",
     "iopub.status.busy": "2023-10-31T18:51:28.600890Z",
     "iopub.status.idle": "2023-10-31T18:51:28.604837Z",
     "shell.execute_reply": "2023-10-31T18:51:28.603988Z"
    },
    "papermill": {
     "duration": 0.017314,
     "end_time": "2023-10-31T18:51:28.606622",
     "exception": false,
     "start_time": "2023-10-31T18:51:28.589308",
     "status": "completed"
    },
    "tags": []
   },
   "outputs": [],
   "source": [
    "from matplotlib import pyplot as plt"
   ]
  },
  {
   "cell_type": "markdown",
   "id": "51f7dc33",
   "metadata": {
    "papermill": {
     "duration": 0.010048,
     "end_time": "2023-10-31T18:51:28.627138",
     "exception": false,
     "start_time": "2023-10-31T18:51:28.617090",
     "status": "completed"
    },
    "tags": []
   },
   "source": [
    "## Dataset sample viewing\n",
    "En esta sección se analizan los datos, su tamaño y sus caracteristicas"
   ]
  },
  {
   "cell_type": "code",
   "execution_count": 5,
   "id": "7d434f9f",
   "metadata": {
    "execution": {
     "iopub.execute_input": "2023-10-31T18:51:28.649163Z",
     "iopub.status.busy": "2023-10-31T18:51:28.648857Z",
     "iopub.status.idle": "2023-10-31T18:51:28.653645Z",
     "shell.execute_reply": "2023-10-31T18:51:28.652638Z"
    },
    "papermill": {
     "duration": 0.018219,
     "end_time": "2023-10-31T18:51:28.655859",
     "exception": false,
     "start_time": "2023-10-31T18:51:28.637640",
     "status": "completed"
    },
    "tags": []
   },
   "outputs": [
    {
     "name": "stdout",
     "output_type": "stream",
     "text": [
      "Grano grueso: 20\n",
      "Grano fino: 100\n"
     ]
    }
   ],
   "source": [
    "# Tenemos que clasificar entre 100 clases\n",
    "print(\"Grano grueso:\", len(labels_coarse))\n",
    "print(\"Grano fino:\", len(labels_fine))"
   ]
  },
  {
   "cell_type": "code",
   "execution_count": 6,
   "id": "f2ae7ad6",
   "metadata": {
    "execution": {
     "iopub.execute_input": "2023-10-31T18:51:28.678154Z",
     "iopub.status.busy": "2023-10-31T18:51:28.677900Z",
     "iopub.status.idle": "2023-10-31T18:51:29.992878Z",
     "shell.execute_reply": "2023-10-31T18:51:29.991944Z"
    },
    "papermill": {
     "duration": 1.329386,
     "end_time": "2023-10-31T18:51:29.995934",
     "exception": false,
     "start_time": "2023-10-31T18:51:28.666548",
     "status": "completed"
    },
    "tags": []
   },
   "outputs": [
    {
     "data": {
      "image/png": "[encoded data removed]",
      "text/plain": [
       "<Figure size 1500x800 with 20 Axes>"
      ]
     },
     "metadata": {},
     "output_type": "display_data"
    }
   ],
   "source": [
    "# Imprimimos una foto de cada grano grueso\n",
    "plt.figure(figsize=(15,8))\n",
    "for i in range(20):\n",
    "    plt.subplot(4,5,i+1)\n",
    "    plt.xticks([])\n",
    "    plt.yticks([])\n",
    "    plt.grid(False)\n",
    "    plt.imshow(x_train[y_train_coarse==i][0])\n",
    "    plt.xlabel(labels_coarse[i])\n",
    "plt.show()"
   ]
  },
  {
   "cell_type": "code",
   "execution_count": 7,
   "id": "e5565783",
   "metadata": {
    "execution": {
     "iopub.execute_input": "2023-10-31T18:51:30.022832Z",
     "iopub.status.busy": "2023-10-31T18:51:30.022516Z",
     "iopub.status.idle": "2023-10-31T18:51:30.314462Z",
     "shell.execute_reply": "2023-10-31T18:51:30.313342Z"
    },
    "papermill": {
     "duration": 0.307209,
     "end_time": "2023-10-31T18:51:30.316418",
     "exception": false,
     "start_time": "2023-10-31T18:51:30.009209",
     "status": "completed"
    },
    "tags": []
   },
   "outputs": [
    {
     "data": {
      "text/plain": [
       "Text(0.5, 1.0, 'large_omnivores_and_herbivores')"
      ]
     },
     "execution_count": 7,
     "metadata": {},
     "output_type": "execute_result"
    },
    {
     "data": {
      "image/png": "[encoded data removed]",
      "text/plain": [
       "<Figure size 300x300 with 1 Axes>"
      ]
     },
     "metadata": {},
     "output_type": "display_data"
    }
   ],
   "source": [
    "# Una imagen\n",
    "plt.figure(figsize=(3,3))\n",
    "plt.imshow(x_train[y_train_coarse==11][0])\n",
    "plt.xlabel(labels_fine[y_train_fine[0]])\n",
    "plt.title(labels_coarse[11])"
   ]
  },
  {
   "cell_type": "code",
   "execution_count": 8,
   "id": "7f7aad49",
   "metadata": {
    "execution": {
     "iopub.execute_input": "2023-10-31T18:51:30.344869Z",
     "iopub.status.busy": "2023-10-31T18:51:30.344559Z",
     "iopub.status.idle": "2023-10-31T18:51:30.350356Z",
     "shell.execute_reply": "2023-10-31T18:51:30.349424Z"
    },
    "papermill": {
     "duration": 0.021604,
     "end_time": "2023-10-31T18:51:30.352152",
     "exception": false,
     "start_time": "2023-10-31T18:51:30.330548",
     "status": "completed"
    },
    "tags": []
   },
   "outputs": [
    {
     "name": "stdout",
     "output_type": "stream",
     "text": [
      "Grano grueso: large_omnivores_and_herbivores\n",
      "Grano fino: camel\n",
      "Grano fino: cattle\n",
      "Grano fino: chimpanzee\n",
      "Grano fino: elephant\n",
      "Grano fino: kangaroo\n"
     ]
    }
   ],
   "source": [
    "# Me fijo para la categoría anterior, cuáles son las categorías de grano fino\n",
    "coarse = 11\n",
    "print(f\"Grano grueso: {labels_coarse[coarse]}\")\n",
    "for fine in np.unique(y_train_fine[y_train_coarse == coarse]):\n",
    "    print(f\"Grano fino: {labels_fine[fine]}\")"
   ]
  },
  {
   "cell_type": "code",
   "execution_count": 9,
   "id": "2901030d",
   "metadata": {
    "execution": {
     "iopub.execute_input": "2023-10-31T18:51:30.378531Z",
     "iopub.status.busy": "2023-10-31T18:51:30.378232Z",
     "iopub.status.idle": "2023-10-31T18:51:30.381966Z",
     "shell.execute_reply": "2023-10-31T18:51:30.381180Z"
    },
    "papermill": {
     "duration": 0.018928,
     "end_time": "2023-10-31T18:51:30.383775",
     "exception": false,
     "start_time": "2023-10-31T18:51:30.364847",
     "status": "completed"
    },
    "tags": []
   },
   "outputs": [],
   "source": [
    "# Hay una misma cantidad de datos de cada clase fina, podriamos confirmar una distribución uniforme\n",
    "#count=[np.count_nonzero(y_train_fine==value) for value in range(100)]\n",
    "#plt.bar(range(100), count)\n",
    "#plt.xlabel('Train fine classes')\n",
    "#plt.title('Train Composition')"
   ]
  },
  {
   "cell_type": "markdown",
   "id": "1777e571",
   "metadata": {
    "papermill": {
     "duration": 0.012203,
     "end_time": "2023-10-31T18:51:30.408619",
     "exception": false,
     "start_time": "2023-10-31T18:51:30.396416",
     "status": "completed"
    },
    "tags": []
   },
   "source": [
    "### Data convert to GreyScale: \n",
    "grayImages es el vector con todas las imagenes en escala de grises. Se probó la red con las imagenes en escala de grises y se obtuvo un peor rendimiendo que a color."
   ]
  },
  {
   "cell_type": "code",
   "execution_count": 10,
   "id": "6ba981ce",
   "metadata": {
    "execution": {
     "iopub.execute_input": "2023-10-31T18:51:30.434627Z",
     "iopub.status.busy": "2023-10-31T18:51:30.434367Z",
     "iopub.status.idle": "2023-10-31T18:51:31.612122Z",
     "shell.execute_reply": "2023-10-31T18:51:31.611187Z"
    },
    "papermill": {
     "duration": 1.193109,
     "end_time": "2023-10-31T18:51:31.614289",
     "exception": false,
     "start_time": "2023-10-31T18:51:30.421180",
     "status": "completed"
    },
    "tags": []
   },
   "outputs": [
    {
     "data": {
      "text/plain": [
       "51200000"
      ]
     },
     "execution_count": 10,
     "metadata": {},
     "output_type": "execute_result"
    },
    {
     "data": {
      "image/png": "[encoded data removed]",
      "text/plain": [
       "<Figure size 200x200 with 1 Axes>"
      ]
     },
     "metadata": {},
     "output_type": "display_data"
    }
   ],
   "source": [
    "grayImages = np.dot(x_train[...,:3], [0.2989, 0.5870, 0.1140])\n",
    "plt.figure(figsize=(2,2))\n",
    "plt.imshow(grayImages[0], cmap=plt.get_cmap('gray'), vmin=0, vmax=1)\n",
    "grayImages.size"
   ]
  },
  {
   "cell_type": "code",
   "execution_count": 11,
   "id": "89674ff6",
   "metadata": {
    "execution": {
     "iopub.execute_input": "2023-10-31T18:51:31.642882Z",
     "iopub.status.busy": "2023-10-31T18:51:31.642571Z",
     "iopub.status.idle": "2023-10-31T18:51:32.444793Z",
     "shell.execute_reply": "2023-10-31T18:51:32.443986Z"
    },
    "papermill": {
     "duration": 0.819138,
     "end_time": "2023-10-31T18:51:32.447076",
     "exception": false,
     "start_time": "2023-10-31T18:51:31.627938",
     "status": "completed"
    },
    "tags": []
   },
   "outputs": [],
   "source": [
    "from sklearn.model_selection import train_test_split"
   ]
  },
  {
   "cell_type": "code",
   "execution_count": 12,
   "id": "e6117990",
   "metadata": {
    "execution": {
     "iopub.execute_input": "2023-10-31T18:51:32.474418Z",
     "iopub.status.busy": "2023-10-31T18:51:32.474144Z",
     "iopub.status.idle": "2023-10-31T18:51:32.850442Z",
     "shell.execute_reply": "2023-10-31T18:51:32.849620Z"
    },
    "papermill": {
     "duration": 0.392511,
     "end_time": "2023-10-31T18:51:32.852851",
     "exception": false,
     "start_time": "2023-10-31T18:51:32.460340",
     "status": "completed"
    },
    "tags": []
   },
   "outputs": [],
   "source": [
    " x_train, x_val, y_train, y_val = train_test_split(x_train, y_train_fine, test_size=0.2, random_state=42, stratify=y_train_fine)"
   ]
  },
  {
   "cell_type": "markdown",
   "id": "da001c36",
   "metadata": {
    "papermill": {
     "duration": 0.01265,
     "end_time": "2023-10-31T18:51:32.878983",
     "exception": false,
     "start_time": "2023-10-31T18:51:32.866333",
     "status": "completed"
    },
    "tags": []
   },
   "source": [
    "## Data Augmentation with flip image\n",
    "\n",
    "Demostró aumentar significativamente el accuracy "
   ]
  },
  {
   "cell_type": "code",
   "execution_count": 13,
   "id": "541278c6",
   "metadata": {
    "execution": {
     "iopub.execute_input": "2023-10-31T18:51:32.907195Z",
     "iopub.status.busy": "2023-10-31T18:51:32.906917Z",
     "iopub.status.idle": "2023-10-31T18:51:33.889323Z",
     "shell.execute_reply": "2023-10-31T18:51:33.888530Z"
    },
    "papermill": {
     "duration": 0.999833,
     "end_time": "2023-10-31T18:51:33.891662",
     "exception": false,
     "start_time": "2023-10-31T18:51:32.891829",
     "status": "completed"
    },
    "tags": []
   },
   "outputs": [],
   "source": [
    "aux = np.flip(x_train, axis=2)\n",
    "x_train_aug2 = np.concatenate((x_train, aux))\n",
    "y_train_fine_aug2 = np.concatenate((y_train, y_train))"
   ]
  },
  {
   "cell_type": "code",
   "execution_count": 14,
   "id": "8809e800",
   "metadata": {
    "execution": {
     "iopub.execute_input": "2023-10-31T18:51:33.960263Z",
     "iopub.status.busy": "2023-10-31T18:51:33.959443Z",
     "iopub.status.idle": "2023-10-31T18:51:35.213798Z",
     "shell.execute_reply": "2023-10-31T18:51:35.212951Z"
    },
    "papermill": {
     "duration": 1.271035,
     "end_time": "2023-10-31T18:51:35.216224",
     "exception": false,
     "start_time": "2023-10-31T18:51:33.945189",
     "status": "completed"
    },
    "tags": []
   },
   "outputs": [],
   "source": [
    "# Se intento aumentar más los datos y no resultó en un mejor accuracy\n",
    "aux2 = np.flip(x_train_aug2, axis=1)\n",
    "x_train_aug4 = np.concatenate((x_train_aug2, aux2))\n",
    "y_train_fine_aug4 = np.concatenate((y_train_fine_aug2, y_train_fine_aug2))"
   ]
  },
  {
   "cell_type": "markdown",
   "id": "ee65732f",
   "metadata": {
    "papermill": {
     "duration": 0.012825,
     "end_time": "2023-10-31T18:51:35.242657",
     "exception": false,
     "start_time": "2023-10-31T18:51:35.229832",
     "status": "completed"
    },
    "tags": []
   },
   "source": [
    "## Model Training:"
   ]
  },
  {
   "cell_type": "code",
   "execution_count": 15,
   "id": "6cc2e1b5",
   "metadata": {
    "execution": {
     "iopub.execute_input": "2023-10-31T18:51:35.270028Z",
     "iopub.status.busy": "2023-10-31T18:51:35.269443Z",
     "iopub.status.idle": "2023-10-31T18:51:35.278175Z",
     "shell.execute_reply": "2023-10-31T18:51:35.277495Z"
    },
    "papermill": {
     "duration": 0.024545,
     "end_time": "2023-10-31T18:51:35.280100",
     "exception": false,
     "start_time": "2023-10-31T18:51:35.255555",
     "status": "completed"
    },
    "tags": []
   },
   "outputs": [],
   "source": [
    "# Importo las bibliotecas a utilizar\n",
    "from tensorflow.keras.models import Sequential\n",
    "from tensorflow.keras.layers import Dense, Dropout, BatchNormalization, Flatten\n",
    "from tensorflow.keras.optimizers import SGD, Adam, RMSprop\n",
    "from tensorflow.keras.regularizers import l1, l2\n",
    "from tensorflow.keras.constraints import MaxNorm\n",
    "from tensorflow.keras import initializers\n",
    "from tensorflow.keras.callbacks import ReduceLROnPlateau, EarlyStopping, ModelCheckpoint, TensorBoard\n",
    "\n",
    "import keras\n",
    "from keras.utils import to_categorical\n",
    "from keras.callbacks import ModelCheckpoint, EarlyStopping\n",
    "from keras.models import Model\n",
    "from keras.layers.core import Dense, Flatten, Activation\n",
    "from keras.layers import Conv2D, AveragePooling2D, BatchNormalization, Dropout, MaxPooling2D, Input,Add"
   ]
  },
  {
   "cell_type": "markdown",
   "id": "0966b9fe",
   "metadata": {
    "papermill": {
     "duration": 0.013108,
     "end_time": "2023-10-31T18:51:35.306019",
     "exception": false,
     "start_time": "2023-10-31T18:51:35.292911",
     "status": "completed"
    },
    "tags": []
   },
   "source": [
    "**Red utilizada**\n",
    "\n",
    "Primero se utilizó una flatten de entrada. Luego como hidden layers se utilizó una combinación entre capas con activación Relu y capas con activación Sigmoide ya que eran las que mejores resultados arrojaba. \n",
    "En la capa de salida se utilizo la Softmax.\n",
    "\n",
    "Una mejora importante se dió con el uso del kernel Constraint!"
   ]
  },
  {
   "cell_type": "code",
   "execution_count": 16,
   "id": "b2bae832",
   "metadata": {
    "execution": {
     "iopub.execute_input": "2023-10-31T18:51:35.333407Z",
     "iopub.status.busy": "2023-10-31T18:51:35.332763Z",
     "iopub.status.idle": "2023-10-31T18:51:35.339017Z",
     "shell.execute_reply": "2023-10-31T18:51:35.338217Z"
    },
    "papermill": {
     "duration": 0.021853,
     "end_time": "2023-10-31T18:51:35.340932",
     "exception": false,
     "start_time": "2023-10-31T18:51:35.319079",
     "status": "completed"
    },
    "tags": []
   },
   "outputs": [
    {
     "data": {
      "text/plain": [
       "'\\nmodel = Sequential()\\n#model.add(Flatten(input_shape=(32,32))) #B&W IMAGES\\nmodel.add(Flatten(input_shape=(32,32,3))) #COLOR IMAGES\\nmodel.add(Dense(1024, activation=\\'relu\\', kernel_initializer=initializers.RandomNormal(stddev=0.1), kernel_constraint=MaxNorm(5)))\\nmodel.add(Dropout(0.1))\\nmodel.add(Dense(512, activation=\\'sigmoid\\', kernel_constraint=MaxNorm(5)))\\nmodel.add(Dropout(0.1))\\nmodel.add(Dense(1024, activation=\\'relu\\', kernel_initializer=initializers.RandomNormal(stddev=0.1), kernel_constraint=MaxNorm(5)))\\nmodel.add(Dropout(0.1))\\nmodel.add(Dense(512, activation=\\'sigmoid\\', kernel_constraint=MaxNorm(5)))\\nmodel.add(Dropout(0.1))\\nmodel.add(Dense(100, activation=\"softmax\"))\\nmodel.compile(loss=\"sparse_categorical_crossentropy\", metrics = [\"accuracy\"], optimizer = Adam(learning_rate=0.001))\\n'"
      ]
     },
     "execution_count": 16,
     "metadata": {},
     "output_type": "execute_result"
    }
   ],
   "source": [
    "'''\n",
    "model = Sequential()\n",
    "#model.add(Flatten(input_shape=(32,32))) #B&W IMAGES\n",
    "model.add(Flatten(input_shape=(32,32,3))) #COLOR IMAGES\n",
    "model.add(Dense(1024, activation='relu', kernel_initializer=initializers.RandomNormal(stddev=0.1), kernel_constraint=MaxNorm(5)))\n",
    "model.add(Dropout(0.1))\n",
    "model.add(Dense(512, activation='sigmoid', kernel_constraint=MaxNorm(5)))\n",
    "model.add(Dropout(0.1))\n",
    "model.add(Dense(1024, activation='relu', kernel_initializer=initializers.RandomNormal(stddev=0.1), kernel_constraint=MaxNorm(5)))\n",
    "model.add(Dropout(0.1))\n",
    "model.add(Dense(512, activation='sigmoid', kernel_constraint=MaxNorm(5)))\n",
    "model.add(Dropout(0.1))\n",
    "model.add(Dense(100, activation=\"softmax\"))\n",
    "model.compile(loss=\"sparse_categorical_crossentropy\", metrics = [\"accuracy\"], optimizer = Adam(learning_rate=0.001))\n",
    "'''"
   ]
  },
  {
   "cell_type": "code",
   "execution_count": 17,
   "id": "af305b9f",
   "metadata": {
    "execution": {
     "iopub.execute_input": "2023-10-31T18:51:35.369956Z",
     "iopub.status.busy": "2023-10-31T18:51:35.369261Z",
     "iopub.status.idle": "2023-10-31T18:51:35.376039Z",
     "shell.execute_reply": "2023-10-31T18:51:35.375190Z"
    },
    "papermill": {
     "duration": 0.022351,
     "end_time": "2023-10-31T18:51:35.377876",
     "exception": false,
     "start_time": "2023-10-31T18:51:35.355525",
     "status": "completed"
    },
    "tags": []
   },
   "outputs": [
    {
     "data": {
      "text/plain": [
       "'\\nnet_input = Input(shape=(32,32,3))\\n\\ndef inception_block(input_layer,filters=64):\\n    tower_1 = Conv2D(filters, (1,1), padding=\\'same\\', activation=\\'relu\\')(input_layer)\\n    tower_1 = Conv2D(filters, (3,3), padding=\\'same\\', activation=\\'relu\\')(tower_1)\\n    tower_2 = Conv2D(filters, (1,1), padding=\\'same\\', activation=\\'relu\\')(input_layer)\\n    tower_2 = Conv2D(64, (5,5), padding=\\'same\\', activation=\\'relu\\')(tower_2)\\n    tower_3 = MaxPooling2D((3,3), strides=(1,1), padding=\\'same\\')(input_layer)\\n    tower_3 = Conv2D(filters, (1,1), padding=\\'same\\', activation=\\'relu\\')(tower_3)\\n    output = keras.layers.concatenate([tower_1, tower_2, tower_3], axis = 3)\\n    return output\\n\\n\\nnet=inception_block(net_input,filters=4)\\nnet=inception_block(net,filters=4)\\nnet=inception_block(net,filters=4)\\nnet=inception_block(net,filters=4)\\nnet=inception_block(net,filters=4)\\nnet=inception_block(net,filters=4)\\n\\nnet=Flatten()(net)\\n\\nnet=Dense(units=128, activation=\\'relu\\')(net)\\nnet=Dropout(0.1)(net)\\nnet=Dense(units=256, activation=\\'relu\\')(net)\\nnet=Dropout(0.1)(net)\\nnet=Dense(units=100, activation = \\'softmax\\')(net)\\n\\nmodel=Model(net_input,net)\\n\\nmodel.compile(loss=\"sparse_categorical_crossentropy\", metrics = [\"accuracy\"], optimizer = \\'Adam\\')\\n\\nmodel.summary()\\n'"
      ]
     },
     "execution_count": 17,
     "metadata": {},
     "output_type": "execute_result"
    }
   ],
   "source": [
    "# Tipo Inception\n",
    "'''\n",
    "net_input = Input(shape=(32,32,3))\n",
    "\n",
    "def inception_block(input_layer,filters=64):\n",
    "    tower_1 = Conv2D(filters, (1,1), padding='same', activation='relu')(input_layer)\n",
    "    tower_1 = Conv2D(filters, (3,3), padding='same', activation='relu')(tower_1)\n",
    "    tower_2 = Conv2D(filters, (1,1), padding='same', activation='relu')(input_layer)\n",
    "    tower_2 = Conv2D(64, (5,5), padding='same', activation='relu')(tower_2)\n",
    "    tower_3 = MaxPooling2D((3,3), strides=(1,1), padding='same')(input_layer)\n",
    "    tower_3 = Conv2D(filters, (1,1), padding='same', activation='relu')(tower_3)\n",
    "    output = keras.layers.concatenate([tower_1, tower_2, tower_3], axis = 3)\n",
    "    return output\n",
    "\n",
    "\n",
    "net=inception_block(net_input,filters=4)\n",
    "net=inception_block(net,filters=4)\n",
    "net=inception_block(net,filters=4)\n",
    "net=inception_block(net,filters=4)\n",
    "net=inception_block(net,filters=4)\n",
    "net=inception_block(net,filters=4)\n",
    "\n",
    "net=Flatten()(net)\n",
    "\n",
    "net=Dense(units=128, activation='relu')(net)\n",
    "net=Dropout(0.1)(net)\n",
    "net=Dense(units=256, activation='relu')(net)\n",
    "net=Dropout(0.1)(net)\n",
    "net=Dense(units=100, activation = 'softmax')(net)\n",
    "\n",
    "model=Model(net_input,net)\n",
    "\n",
    "model.compile(loss=\"sparse_categorical_crossentropy\", metrics = [\"accuracy\"], optimizer = 'Adam')\n",
    "\n",
    "model.summary()\n",
    "'''"
   ]
  },
  {
   "cell_type": "code",
   "execution_count": 18,
   "id": "c7cf05d3",
   "metadata": {
    "execution": {
     "iopub.execute_input": "2023-10-31T18:51:35.404899Z",
     "iopub.status.busy": "2023-10-31T18:51:35.404629Z",
     "iopub.status.idle": "2023-10-31T18:51:39.391620Z",
     "shell.execute_reply": "2023-10-31T18:51:39.390858Z"
    },
    "papermill": {
     "duration": 4.003133,
     "end_time": "2023-10-31T18:51:39.393944",
     "exception": false,
     "start_time": "2023-10-31T18:51:35.390811",
     "status": "completed"
    },
    "tags": []
   },
   "outputs": [],
   "source": [
    "# Tipo ResNET\n",
    "net_input = Input(shape=(32,32,3))\n",
    "\n",
    "def res_block_first(input_layer,filters=16):\n",
    "    \n",
    "    #Primera capa\n",
    "    net=Conv2D(filters=filters, kernel_size=(3, 3), padding='same')(input_layer)\n",
    "    aux_net=BatchNormalization()(net)\n",
    "    \n",
    "    #conexión directa\n",
    "    net=Conv2D(filters=filters, kernel_size=(3, 3), padding='same')(aux_net)\n",
    "    net=BatchNormalization()(net)\n",
    "    net=Activation(\"relu\")(net)\n",
    "    \n",
    "    net=Conv2D(filters=filters, kernel_size=(3, 3), padding='same')(net)\n",
    "    net=BatchNormalization()(net)\n",
    "    net=Activation(\"relu\")(net)\n",
    "    \n",
    "    net=Conv2D(filters=filters, kernel_size=(3, 3), padding='same')(net)\n",
    "    net=BatchNormalization()(net)\n",
    "    \n",
    "    #Shortcut\n",
    "    net=Add()([aux_net,net])\n",
    "    \n",
    "    net=Activation(\"relu\")(net)\n",
    "    net=MaxPooling2D()(net)\n",
    "    \n",
    "    return net\n",
    "\n",
    "def res_block(input_layer,filters=16):\n",
    "    net=Conv2D(filters=filters, kernel_size=(3, 3), padding='same')(input_layer)\n",
    "    net=BatchNormalization()(net)\n",
    "    net=Activation(\"relu\")(net)\n",
    "    \n",
    "    net=Conv2D(filters=filters, kernel_size=(3, 3), padding='same')(net)\n",
    "    net=BatchNormalization()(net)\n",
    "    net=Activation(\"relu\")(net)\n",
    "    \n",
    "    net=Conv2D(filters=filters, kernel_size=(3, 3), padding='same')(net)\n",
    "    net=BatchNormalization()(net)\n",
    "    \n",
    "    #Shortcut\n",
    "    net=Add()([input_layer,net])\n",
    "    net=Activation(\"relu\")(net)\n",
    "    \n",
    "    return net\n",
    "\n",
    "def res_block_dec(input_layer,filters=32):\n",
    "    \n",
    "    input_layer=MaxPooling2D()(input_layer)\n",
    "    net=Conv2D(filters=filters, kernel_size=(1, 1), padding='same')(input_layer)\n",
    "    aux_net=BatchNormalization()(net)\n",
    "    \n",
    "    #conexión directa\n",
    "    \n",
    "    net=Conv2D(filters=filters, kernel_size=(3, 3), padding='same')(input_layer)\n",
    "    net=BatchNormalization()(net)\n",
    "    net=Activation(\"relu\")(net)\n",
    "    \n",
    "    net=Conv2D(filters=filters, kernel_size=(3, 3), padding='same')(net)\n",
    "    net=BatchNormalization()(net)\n",
    "    net=Activation(\"relu\")(net)\n",
    "    \n",
    "    net=Conv2D(filters=filters, kernel_size=(3, 3), padding='same')(net)\n",
    "    net=BatchNormalization()(net)\n",
    "    net=Add()([aux_net,net])\n",
    "    net=Activation(\"relu\")(net)\n",
    "    \n",
    "    return net\n",
    "\n",
    "net=res_block_first(net_input,filters=32)\n",
    "net=res_block(net,filters=32)\n",
    "net=res_block(net,filters=32)\n",
    "net=res_block(net,filters=32)\n",
    "\n",
    "net=res_block_dec(net,filters=64)\n",
    "net=res_block(net,filters=64)\n",
    "net=res_block(net,filters=64)\n",
    "net=res_block(net,filters=64)\n",
    "\n",
    "net=res_block_dec(net,filters=128)\n",
    "net=res_block(net,filters=128)\n",
    "net=res_block(net,filters=128)\n",
    "net=res_block(net,filters=128)\n",
    "\n",
    "net = AveragePooling2D()(net)\n",
    "\n",
    "net=Flatten()(net)\n",
    "\n",
    "net=Dense(units=1000, activation='relu')(net)\n",
    "net=Dropout(0.2)(net)\n",
    "net=Dense(units=100, activation = 'softmax')(net)\n",
    "\n",
    "model=Model(net_input,net)\n",
    "\n",
    "model.compile(loss=\"sparse_categorical_crossentropy\", metrics = [\"accuracy\"], optimizer = Adam(learning_rate=0.001))"
   ]
  },
  {
   "cell_type": "code",
   "execution_count": 19,
   "id": "f2e92c56",
   "metadata": {
    "execution": {
     "iopub.execute_input": "2023-10-31T18:51:39.423232Z",
     "iopub.status.busy": "2023-10-31T18:51:39.422403Z",
     "iopub.status.idle": "2023-10-31T18:51:39.429172Z",
     "shell.execute_reply": "2023-10-31T18:51:39.428412Z"
    },
    "papermill": {
     "duration": 0.022868,
     "end_time": "2023-10-31T18:51:39.431083",
     "exception": false,
     "start_time": "2023-10-31T18:51:39.408215",
     "status": "completed"
    },
    "tags": []
   },
   "outputs": [
    {
     "data": {
      "text/plain": [
       "'\\nmodel = Sequential()\\n\\nmodel.add(Conv2D(filters=20, kernel_size=(3, 3), input_shape=(32,32,3), padding=\\'same\\'))\\nmodel.add(BatchNormalization())\\nmodel.add(Activation(\\'relu\\'))\\nmodel.add(MaxPooling2D())\\n\\nmodel.add(Conv2D(filters=32, kernel_size=(3, 3), padding=\\'same\\'))\\nmodel.add(BatchNormalization())\\nmodel.add(Activation(\\'relu\\'))\\nmodel.add(MaxPooling2D())\\n\\nmodel.add(Conv2D(filters=64, kernel_size=(3, 3), padding=\\'same\\'))\\nmodel.add(BatchNormalization())\\nmodel.add(Activation(\\'relu\\'))\\nmodel.add(MaxPooling2D())\\n\\nmodel.add(Conv2D(filters=128, kernel_size=(3, 3), padding=\\'same\\'))\\nmodel.add(BatchNormalization())\\nmodel.add(Activation(\\'relu\\'))\\n\\nmodel.add(Flatten())\\n\\nmodel.add(Dense(1024, activation=\\'relu\\', kernel_initializer=initializers.RandomNormal(stddev=0.1), kernel_constraint=MaxNorm(5)))\\nmodel.add(Dropout(0.1))\\nmodel.add(Dense(512, activation=\\'relu\\', kernel_constraint=MaxNorm(5)))\\nmodel.add(Dropout(0.1))\\n\\nmodel.add(Dense(units=100, activation = \\'softmax\\'))\\n\\nmodel.compile(loss=\"sparse_categorical_crossentropy\", metrics = [\"accuracy\"], optimizer = Adam(learning_rate=0.001))\\n'"
      ]
     },
     "execution_count": 19,
     "metadata": {},
     "output_type": "execute_result"
    }
   ],
   "source": [
    "# Tipo VGG\n",
    "'''\n",
    "model = Sequential()\n",
    "\n",
    "model.add(Conv2D(filters=20, kernel_size=(3, 3), input_shape=(32,32,3), padding='same'))\n",
    "model.add(BatchNormalization())\n",
    "model.add(Activation('relu'))\n",
    "model.add(MaxPooling2D())\n",
    "\n",
    "model.add(Conv2D(filters=32, kernel_size=(3, 3), padding='same'))\n",
    "model.add(BatchNormalization())\n",
    "model.add(Activation('relu'))\n",
    "model.add(MaxPooling2D())\n",
    "\n",
    "model.add(Conv2D(filters=64, kernel_size=(3, 3), padding='same'))\n",
    "model.add(BatchNormalization())\n",
    "model.add(Activation('relu'))\n",
    "model.add(MaxPooling2D())\n",
    "\n",
    "model.add(Conv2D(filters=128, kernel_size=(3, 3), padding='same'))\n",
    "model.add(BatchNormalization())\n",
    "model.add(Activation('relu'))\n",
    "\n",
    "model.add(Flatten())\n",
    "\n",
    "model.add(Dense(1024, activation='relu', kernel_initializer=initializers.RandomNormal(stddev=0.1), kernel_constraint=MaxNorm(5)))\n",
    "model.add(Dropout(0.1))\n",
    "model.add(Dense(512, activation='relu', kernel_constraint=MaxNorm(5)))\n",
    "model.add(Dropout(0.1))\n",
    "\n",
    "model.add(Dense(units=100, activation = 'softmax'))\n",
    "\n",
    "model.compile(loss=\"sparse_categorical_crossentropy\", metrics = [\"accuracy\"], optimizer = Adam(learning_rate=0.001))\n",
    "'''"
   ]
  },
  {
   "cell_type": "code",
   "execution_count": 20,
   "id": "6db9ce0a",
   "metadata": {
    "execution": {
     "iopub.execute_input": "2023-10-31T18:51:39.458671Z",
     "iopub.status.busy": "2023-10-31T18:51:39.458406Z",
     "iopub.status.idle": "2023-10-31T18:51:39.747785Z",
     "shell.execute_reply": "2023-10-31T18:51:39.746839Z"
    },
    "papermill": {
     "duration": 0.380582,
     "end_time": "2023-10-31T18:51:39.824931",
     "exception": false,
     "start_time": "2023-10-31T18:51:39.444349",
     "status": "completed"
    },
    "tags": []
   },
   "outputs": [
    {
     "name": "stdout",
     "output_type": "stream",
     "text": [
      "Model: \"model\"\n",
      "__________________________________________________________________________________________________\n",
      " Layer (type)                   Output Shape         Param #     Connected to                     \n",
      "==================================================================================================\n",
      " input_1 (InputLayer)           [(None, 32, 32, 3)]  0           []                               \n",
      "                                                                                                  \n",
      " conv2d (Conv2D)                (None, 32, 32, 32)   896         ['input_1[0][0]']                \n",
      "                                                                                                  \n",
      " batch_normalization (BatchNorm  (None, 32, 32, 32)  128         ['conv2d[0][0]']                 \n",
      " alization)                                                                                       \n",
      "                                                                                                  \n",
      " conv2d_1 (Conv2D)              (None, 32, 32, 32)   9248        ['batch_normalization[0][0]']    \n",
      "                                                                                                  \n",
      " batch_normalization_1 (BatchNo  (None, 32, 32, 32)  128         ['conv2d_1[0][0]']               \n",
      " rmalization)                                                                                     \n",
      "                                                                                                  \n",
      " activation (Activation)        (None, 32, 32, 32)   0           ['batch_normalization_1[0][0]']  \n",
      "                                                                                                  \n",
      " conv2d_2 (Conv2D)              (None, 32, 32, 32)   9248        ['activation[0][0]']             \n",
      "                                                                                                  \n",
      " batch_normalization_2 (BatchNo  (None, 32, 32, 32)  128         ['conv2d_2[0][0]']               \n",
      " rmalization)                                                                                     \n",
      "                                                                                                  \n",
      " activation_1 (Activation)      (None, 32, 32, 32)   0           ['batch_normalization_2[0][0]']  \n",
      "                                                                                                  \n",
      " conv2d_3 (Conv2D)              (None, 32, 32, 32)   9248        ['activation_1[0][0]']           \n",
      "                                                                                                  \n",
      " batch_normalization_3 (BatchNo  (None, 32, 32, 32)  128         ['conv2d_3[0][0]']               \n",
      " rmalization)                                                                                     \n",
      "                                                                                                  \n",
      " add (Add)                      (None, 32, 32, 32)   0           ['batch_normalization[0][0]',    \n",
      "                                                                  'batch_normalization_3[0][0]']  \n",
      "                                                                                                  \n",
      " activation_2 (Activation)      (None, 32, 32, 32)   0           ['add[0][0]']                    \n",
      "                                                                                                  \n",
      " max_pooling2d (MaxPooling2D)   (None, 16, 16, 32)   0           ['activation_2[0][0]']           \n",
      "                                                                                                  \n",
      " conv2d_4 (Conv2D)              (None, 16, 16, 32)   9248        ['max_pooling2d[0][0]']          \n",
      "                                                                                                  \n",
      " batch_normalization_4 (BatchNo  (None, 16, 16, 32)  128         ['conv2d_4[0][0]']               \n",
      " rmalization)                                                                                     \n",
      "                                                                                                  \n",
      " activation_3 (Activation)      (None, 16, 16, 32)   0           ['batch_normalization_4[0][0]']  \n",
      "                                                                                                  \n",
      " conv2d_5 (Conv2D)              (None, 16, 16, 32)   9248        ['activation_3[0][0]']           \n",
      "                                                                                                  \n",
      " batch_normalization_5 (BatchNo  (None, 16, 16, 32)  128         ['conv2d_5[0][0]']               \n",
      " rmalization)                                                                                     \n",
      "                                                                                                  \n",
      " activation_4 (Activation)      (None, 16, 16, 32)   0           ['batch_normalization_5[0][0]']  \n",
      "                                                                                                  \n",
      " conv2d_6 (Conv2D)              (None, 16, 16, 32)   9248        ['activation_4[0][0]']           \n",
      "                                                                                                  \n",
      " batch_normalization_6 (BatchNo  (None, 16, 16, 32)  128         ['conv2d_6[0][0]']               \n",
      " rmalization)                                                                                     \n",
      "                                                                                                  \n",
      " add_1 (Add)                    (None, 16, 16, 32)   0           ['max_pooling2d[0][0]',          \n",
      "                                                                  'batch_normalization_6[0][0]']  \n",
      "                                                                                                  \n",
      " activation_5 (Activation)      (None, 16, 16, 32)   0           ['add_1[0][0]']                  \n",
      "                                                                                                  \n",
      " conv2d_7 (Conv2D)              (None, 16, 16, 32)   9248        ['activation_5[0][0]']           \n",
      "                                                                                                  \n",
      " batch_normalization_7 (BatchNo  (None, 16, 16, 32)  128         ['conv2d_7[0][0]']               \n",
      " rmalization)                                                                                     \n",
      "                                                                                                  \n",
      " activation_6 (Activation)      (None, 16, 16, 32)   0           ['batch_normalization_7[0][0]']  \n",
      "                                                                                                  \n",
      " conv2d_8 (Conv2D)              (None, 16, 16, 32)   9248        ['activation_6[0][0]']           \n",
      "                                                                                                  \n",
      " batch_normalization_8 (BatchNo  (None, 16, 16, 32)  128         ['conv2d_8[0][0]']               \n",
      " rmalization)                                                                                     \n",
      "                                                                                                  \n",
      " activation_7 (Activation)      (None, 16, 16, 32)   0           ['batch_normalization_8[0][0]']  \n",
      "                                                                                                  \n",
      " conv2d_9 (Conv2D)              (None, 16, 16, 32)   9248        ['activation_7[0][0]']           \n",
      "                                                                                                  \n",
      " batch_normalization_9 (BatchNo  (None, 16, 16, 32)  128         ['conv2d_9[0][0]']               \n",
      " rmalization)                                                                                     \n",
      "                                                                                                  \n",
      " add_2 (Add)                    (None, 16, 16, 32)   0           ['activation_5[0][0]',           \n",
      "                                                                  'batch_normalization_9[0][0]']  \n",
      "                                                                                                  \n",
      " activation_8 (Activation)      (None, 16, 16, 32)   0           ['add_2[0][0]']                  \n",
      "                                                                                                  \n",
      " conv2d_10 (Conv2D)             (None, 16, 16, 32)   9248        ['activation_8[0][0]']           \n",
      "                                                                                                  \n",
      " batch_normalization_10 (BatchN  (None, 16, 16, 32)  128         ['conv2d_10[0][0]']              \n",
      " ormalization)                                                                                    \n",
      "                                                                                                  \n",
      " activation_9 (Activation)      (None, 16, 16, 32)   0           ['batch_normalization_10[0][0]'] \n",
      "                                                                                                  \n",
      " conv2d_11 (Conv2D)             (None, 16, 16, 32)   9248        ['activation_9[0][0]']           \n",
      "                                                                                                  \n",
      " batch_normalization_11 (BatchN  (None, 16, 16, 32)  128         ['conv2d_11[0][0]']              \n",
      " ormalization)                                                                                    \n",
      "                                                                                                  \n",
      " activation_10 (Activation)     (None, 16, 16, 32)   0           ['batch_normalization_11[0][0]'] \n",
      "                                                                                                  \n",
      " conv2d_12 (Conv2D)             (None, 16, 16, 32)   9248        ['activation_10[0][0]']          \n",
      "                                                                                                  \n",
      " batch_normalization_12 (BatchN  (None, 16, 16, 32)  128         ['conv2d_12[0][0]']              \n",
      " ormalization)                                                                                    \n",
      "                                                                                                  \n",
      " add_3 (Add)                    (None, 16, 16, 32)   0           ['activation_8[0][0]',           \n",
      "                                                                  'batch_normalization_12[0][0]'] \n",
      "                                                                                                  \n",
      " activation_11 (Activation)     (None, 16, 16, 32)   0           ['add_3[0][0]']                  \n",
      "                                                                                                  \n",
      " max_pooling2d_1 (MaxPooling2D)  (None, 8, 8, 32)    0           ['activation_11[0][0]']          \n",
      "                                                                                                  \n",
      " conv2d_14 (Conv2D)             (None, 8, 8, 64)     18496       ['max_pooling2d_1[0][0]']        \n",
      "                                                                                                  \n",
      " batch_normalization_14 (BatchN  (None, 8, 8, 64)    256         ['conv2d_14[0][0]']              \n",
      " ormalization)                                                                                    \n",
      "                                                                                                  \n",
      " activation_12 (Activation)     (None, 8, 8, 64)     0           ['batch_normalization_14[0][0]'] \n",
      "                                                                                                  \n",
      " conv2d_15 (Conv2D)             (None, 8, 8, 64)     36928       ['activation_12[0][0]']          \n",
      "                                                                                                  \n",
      " batch_normalization_15 (BatchN  (None, 8, 8, 64)    256         ['conv2d_15[0][0]']              \n",
      " ormalization)                                                                                    \n",
      "                                                                                                  \n",
      " activation_13 (Activation)     (None, 8, 8, 64)     0           ['batch_normalization_15[0][0]'] \n",
      "                                                                                                  \n",
      " conv2d_13 (Conv2D)             (None, 8, 8, 64)     2112        ['max_pooling2d_1[0][0]']        \n",
      "                                                                                                  \n",
      " conv2d_16 (Conv2D)             (None, 8, 8, 64)     36928       ['activation_13[0][0]']          \n",
      "                                                                                                  \n",
      " batch_normalization_13 (BatchN  (None, 8, 8, 64)    256         ['conv2d_13[0][0]']              \n",
      " ormalization)                                                                                    \n",
      "                                                                                                  \n",
      " batch_normalization_16 (BatchN  (None, 8, 8, 64)    256         ['conv2d_16[0][0]']              \n",
      " ormalization)                                                                                    \n",
      "                                                                                                  \n",
      " add_4 (Add)                    (None, 8, 8, 64)     0           ['batch_normalization_13[0][0]', \n",
      "                                                                  'batch_normalization_16[0][0]'] \n",
      "                                                                                                  \n",
      " activation_14 (Activation)     (None, 8, 8, 64)     0           ['add_4[0][0]']                  \n",
      "                                                                                                  \n",
      " conv2d_17 (Conv2D)             (None, 8, 8, 64)     36928       ['activation_14[0][0]']          \n",
      "                                                                                                  \n",
      " batch_normalization_17 (BatchN  (None, 8, 8, 64)    256         ['conv2d_17[0][0]']              \n",
      " ormalization)                                                                                    \n",
      "                                                                                                  \n",
      " activation_15 (Activation)     (None, 8, 8, 64)     0           ['batch_normalization_17[0][0]'] \n",
      "                                                                                                  \n",
      " conv2d_18 (Conv2D)             (None, 8, 8, 64)     36928       ['activation_15[0][0]']          \n",
      "                                                                                                  \n",
      " batch_normalization_18 (BatchN  (None, 8, 8, 64)    256         ['conv2d_18[0][0]']              \n",
      " ormalization)                                                                                    \n",
      "                                                                                                  \n",
      " activation_16 (Activation)     (None, 8, 8, 64)     0           ['batch_normalization_18[0][0]'] \n",
      "                                                                                                  \n",
      " conv2d_19 (Conv2D)             (None, 8, 8, 64)     36928       ['activation_16[0][0]']          \n",
      "                                                                                                  \n",
      " batch_normalization_19 (BatchN  (None, 8, 8, 64)    256         ['conv2d_19[0][0]']              \n",
      " ormalization)                                                                                    \n",
      "                                                                                                  \n",
      " add_5 (Add)                    (None, 8, 8, 64)     0           ['activation_14[0][0]',          \n",
      "                                                                  'batch_normalization_19[0][0]'] \n",
      "                                                                                                  \n",
      " activation_17 (Activation)     (None, 8, 8, 64)     0           ['add_5[0][0]']                  \n",
      "                                                                                                  \n",
      " conv2d_20 (Conv2D)             (None, 8, 8, 64)     36928       ['activation_17[0][0]']          \n",
      "                                                                                                  \n",
      " batch_normalization_20 (BatchN  (None, 8, 8, 64)    256         ['conv2d_20[0][0]']              \n",
      " ormalization)                                                                                    \n",
      "                                                                                                  \n",
      " activation_18 (Activation)     (None, 8, 8, 64)     0           ['batch_normalization_20[0][0]'] \n",
      "                                                                                                  \n",
      " conv2d_21 (Conv2D)             (None, 8, 8, 64)     36928       ['activation_18[0][0]']          \n",
      "                                                                                                  \n",
      " batch_normalization_21 (BatchN  (None, 8, 8, 64)    256         ['conv2d_21[0][0]']              \n",
      " ormalization)                                                                                    \n",
      "                                                                                                  \n",
      " activation_19 (Activation)     (None, 8, 8, 64)     0           ['batch_normalization_21[0][0]'] \n",
      "                                                                                                  \n",
      " conv2d_22 (Conv2D)             (None, 8, 8, 64)     36928       ['activation_19[0][0]']          \n",
      "                                                                                                  \n",
      " batch_normalization_22 (BatchN  (None, 8, 8, 64)    256         ['conv2d_22[0][0]']              \n",
      " ormalization)                                                                                    \n",
      "                                                                                                  \n",
      " add_6 (Add)                    (None, 8, 8, 64)     0           ['activation_17[0][0]',          \n",
      "                                                                  'batch_normalization_22[0][0]'] \n",
      "                                                                                                  \n",
      " activation_20 (Activation)     (None, 8, 8, 64)     0           ['add_6[0][0]']                  \n",
      "                                                                                                  \n",
      " conv2d_23 (Conv2D)             (None, 8, 8, 64)     36928       ['activation_20[0][0]']          \n",
      "                                                                                                  \n",
      " batch_normalization_23 (BatchN  (None, 8, 8, 64)    256         ['conv2d_23[0][0]']              \n",
      " ormalization)                                                                                    \n",
      "                                                                                                  \n",
      " activation_21 (Activation)     (None, 8, 8, 64)     0           ['batch_normalization_23[0][0]'] \n",
      "                                                                                                  \n",
      " conv2d_24 (Conv2D)             (None, 8, 8, 64)     36928       ['activation_21[0][0]']          \n",
      "                                                                                                  \n",
      " batch_normalization_24 (BatchN  (None, 8, 8, 64)    256         ['conv2d_24[0][0]']              \n",
      " ormalization)                                                                                    \n",
      "                                                                                                  \n",
      " activation_22 (Activation)     (None, 8, 8, 64)     0           ['batch_normalization_24[0][0]'] \n",
      "                                                                                                  \n",
      " conv2d_25 (Conv2D)             (None, 8, 8, 64)     36928       ['activation_22[0][0]']          \n",
      "                                                                                                  \n",
      " batch_normalization_25 (BatchN  (None, 8, 8, 64)    256         ['conv2d_25[0][0]']              \n",
      " ormalization)                                                                                    \n",
      "                                                                                                  \n",
      " add_7 (Add)                    (None, 8, 8, 64)     0           ['activation_20[0][0]',          \n",
      "                                                                  'batch_normalization_25[0][0]'] \n",
      "                                                                                                  \n",
      " activation_23 (Activation)     (None, 8, 8, 64)     0           ['add_7[0][0]']                  \n",
      "                                                                                                  \n",
      " max_pooling2d_2 (MaxPooling2D)  (None, 4, 4, 64)    0           ['activation_23[0][0]']          \n",
      "                                                                                                  \n",
      " conv2d_27 (Conv2D)             (None, 4, 4, 128)    73856       ['max_pooling2d_2[0][0]']        \n",
      "                                                                                                  \n",
      " batch_normalization_27 (BatchN  (None, 4, 4, 128)   512         ['conv2d_27[0][0]']              \n",
      " ormalization)                                                                                    \n",
      "                                                                                                  \n",
      " activation_24 (Activation)     (None, 4, 4, 128)    0           ['batch_normalization_27[0][0]'] \n",
      "                                                                                                  \n",
      " conv2d_28 (Conv2D)             (None, 4, 4, 128)    147584      ['activation_24[0][0]']          \n",
      "                                                                                                  \n",
      " batch_normalization_28 (BatchN  (None, 4, 4, 128)   512         ['conv2d_28[0][0]']              \n",
      " ormalization)                                                                                    \n",
      "                                                                                                  \n",
      " activation_25 (Activation)     (None, 4, 4, 128)    0           ['batch_normalization_28[0][0]'] \n",
      "                                                                                                  \n",
      " conv2d_26 (Conv2D)             (None, 4, 4, 128)    8320        ['max_pooling2d_2[0][0]']        \n",
      "                                                                                                  \n",
      " conv2d_29 (Conv2D)             (None, 4, 4, 128)    147584      ['activation_25[0][0]']          \n",
      "                                                                                                  \n",
      " batch_normalization_26 (BatchN  (None, 4, 4, 128)   512         ['conv2d_26[0][0]']              \n",
      " ormalization)                                                                                    \n",
      "                                                                                                  \n",
      " batch_normalization_29 (BatchN  (None, 4, 4, 128)   512         ['conv2d_29[0][0]']              \n",
      " ormalization)                                                                                    \n",
      "                                                                                                  \n",
      " add_8 (Add)                    (None, 4, 4, 128)    0           ['batch_normalization_26[0][0]', \n",
      "                                                                  'batch_normalization_29[0][0]'] \n",
      "                                                                                                  \n",
      " activation_26 (Activation)     (None, 4, 4, 128)    0           ['add_8[0][0]']                  \n",
      "                                                                                                  \n",
      " conv2d_30 (Conv2D)             (None, 4, 4, 128)    147584      ['activation_26[0][0]']          \n",
      "                                                                                                  \n",
      " batch_normalization_30 (BatchN  (None, 4, 4, 128)   512         ['conv2d_30[0][0]']              \n",
      " ormalization)                                                                                    \n",
      "                                                                                                  \n",
      " activation_27 (Activation)     (None, 4, 4, 128)    0           ['batch_normalization_30[0][0]'] \n",
      "                                                                                                  \n",
      " conv2d_31 (Conv2D)             (None, 4, 4, 128)    147584      ['activation_27[0][0]']          \n",
      "                                                                                                  \n",
      " batch_normalization_31 (BatchN  (None, 4, 4, 128)   512         ['conv2d_31[0][0]']              \n",
      " ormalization)                                                                                    \n",
      "                                                                                                  \n",
      " activation_28 (Activation)     (None, 4, 4, 128)    0           ['batch_normalization_31[0][0]'] \n",
      "                                                                                                  \n",
      " conv2d_32 (Conv2D)             (None, 4, 4, 128)    147584      ['activation_28[0][0]']          \n",
      "                                                                                                  \n",
      " batch_normalization_32 (BatchN  (None, 4, 4, 128)   512         ['conv2d_32[0][0]']              \n",
      " ormalization)                                                                                    \n",
      "                                                                                                  \n",
      " add_9 (Add)                    (None, 4, 4, 128)    0           ['activation_26[0][0]',          \n",
      "                                                                  'batch_normalization_32[0][0]'] \n",
      "                                                                                                  \n",
      " activation_29 (Activation)     (None, 4, 4, 128)    0           ['add_9[0][0]']                  \n",
      "                                                                                                  \n",
      " conv2d_33 (Conv2D)             (None, 4, 4, 128)    147584      ['activation_29[0][0]']          \n",
      "                                                                                                  \n",
      " batch_normalization_33 (BatchN  (None, 4, 4, 128)   512         ['conv2d_33[0][0]']              \n",
      " ormalization)                                                                                    \n",
      "                                                                                                  \n",
      " activation_30 (Activation)     (None, 4, 4, 128)    0           ['batch_normalization_33[0][0]'] \n",
      "                                                                                                  \n",
      " conv2d_34 (Conv2D)             (None, 4, 4, 128)    147584      ['activation_30[0][0]']          \n",
      "                                                                                                  \n",
      " batch_normalization_34 (BatchN  (None, 4, 4, 128)   512         ['conv2d_34[0][0]']              \n",
      " ormalization)                                                                                    \n",
      "                                                                                                  \n",
      " activation_31 (Activation)     (None, 4, 4, 128)    0           ['batch_normalization_34[0][0]'] \n",
      "                                                                                                  \n",
      " conv2d_35 (Conv2D)             (None, 4, 4, 128)    147584      ['activation_31[0][0]']          \n",
      "                                                                                                  \n",
      " batch_normalization_35 (BatchN  (None, 4, 4, 128)   512         ['conv2d_35[0][0]']              \n",
      " ormalization)                                                                                    \n",
      "                                                                                                  \n",
      " add_10 (Add)                   (None, 4, 4, 128)    0           ['activation_29[0][0]',          \n",
      "                                                                  'batch_normalization_35[0][0]'] \n",
      "                                                                                                  \n",
      " activation_32 (Activation)     (None, 4, 4, 128)    0           ['add_10[0][0]']                 \n",
      "                                                                                                  \n",
      " conv2d_36 (Conv2D)             (None, 4, 4, 128)    147584      ['activation_32[0][0]']          \n",
      "                                                                                                  \n",
      " batch_normalization_36 (BatchN  (None, 4, 4, 128)   512         ['conv2d_36[0][0]']              \n",
      " ormalization)                                                                                    \n",
      "                                                                                                  \n",
      " activation_33 (Activation)     (None, 4, 4, 128)    0           ['batch_normalization_36[0][0]'] \n",
      "                                                                                                  \n",
      " conv2d_37 (Conv2D)             (None, 4, 4, 128)    147584      ['activation_33[0][0]']          \n",
      "                                                                                                  \n",
      " batch_normalization_37 (BatchN  (None, 4, 4, 128)   512         ['conv2d_37[0][0]']              \n",
      " ormalization)                                                                                    \n",
      "                                                                                                  \n",
      " activation_34 (Activation)     (None, 4, 4, 128)    0           ['batch_normalization_37[0][0]'] \n",
      "                                                                                                  \n",
      " conv2d_38 (Conv2D)             (None, 4, 4, 128)    147584      ['activation_34[0][0]']          \n",
      "                                                                                                  \n",
      " batch_normalization_38 (BatchN  (None, 4, 4, 128)   512         ['conv2d_38[0][0]']              \n",
      " ormalization)                                                                                    \n",
      "                                                                                                  \n",
      " add_11 (Add)                   (None, 4, 4, 128)    0           ['activation_32[0][0]',          \n",
      "                                                                  'batch_normalization_38[0][0]'] \n",
      "                                                                                                  \n",
      " activation_35 (Activation)     (None, 4, 4, 128)    0           ['add_11[0][0]']                 \n",
      "                                                                                                  \n",
      " average_pooling2d (AveragePool  (None, 2, 2, 128)   0           ['activation_35[0][0]']          \n",
      " ing2D)                                                                                           \n",
      "                                                                                                  \n",
      " flatten (Flatten)              (None, 512)          0           ['average_pooling2d[0][0]']      \n",
      "                                                                                                  \n",
      " dense (Dense)                  (None, 1000)         513000      ['flatten[0][0]']                \n",
      "                                                                                                  \n",
      " dropout (Dropout)              (None, 1000)         0           ['dense[0][0]']                  \n",
      "                                                                                                  \n",
      " dense_1 (Dense)                (None, 100)          100100      ['dropout[0][0]']                \n",
      "                                                                                                  \n",
      "==================================================================================================\n",
      "Total params: 2,869,036\n",
      "Trainable params: 2,863,212\n",
      "Non-trainable params: 5,824\n",
      "__________________________________________________________________________________________________\n"
     ]
    }
   ],
   "source": [
    "model.summary()"
   ]
  },
  {
   "cell_type": "code",
   "execution_count": 21,
   "id": "b1eca2d5",
   "metadata": {
    "execution": {
     "iopub.execute_input": "2023-10-31T18:51:39.900737Z",
     "iopub.status.busy": "2023-10-31T18:51:39.900472Z",
     "iopub.status.idle": "2023-10-31T18:51:39.903954Z",
     "shell.execute_reply": "2023-10-31T18:51:39.903128Z"
    },
    "papermill": {
     "duration": 0.043528,
     "end_time": "2023-10-31T18:51:39.905846",
     "exception": false,
     "start_time": "2023-10-31T18:51:39.862318",
     "status": "completed"
    },
    "tags": []
   },
   "outputs": [],
   "source": [
    "# Descomentar para visualidar las capas de la red\n",
    "#plot_model(model,show_shapes=True,show_layer_names=True)"
   ]
  },
  {
   "cell_type": "markdown",
   "id": "9d757919",
   "metadata": {
    "papermill": {
     "duration": 0.036519,
     "end_time": "2023-10-31T18:51:39.979175",
     "exception": false,
     "start_time": "2023-10-31T18:51:39.942656",
     "status": "completed"
    },
    "tags": []
   },
   "source": [
    "### Callbacks:"
   ]
  },
  {
   "cell_type": "code",
   "execution_count": 22,
   "id": "2f89bbbe",
   "metadata": {
    "execution": {
     "iopub.execute_input": "2023-10-31T18:51:40.054751Z",
     "iopub.status.busy": "2023-10-31T18:51:40.054469Z",
     "iopub.status.idle": "2023-10-31T18:51:40.058532Z",
     "shell.execute_reply": "2023-10-31T18:51:40.057735Z"
    },
    "papermill": {
     "duration": 0.044129,
     "end_time": "2023-10-31T18:51:40.060361",
     "exception": false,
     "start_time": "2023-10-31T18:51:40.016232",
     "status": "completed"
    },
    "tags": []
   },
   "outputs": [],
   "source": [
    "rlrop = ReduceLROnPlateau(\n",
    "    monitor = \"val_accuracy\",\n",
    "    factor = 0.5,\n",
    "    patience = 3,\n",
    "    verbose = 1,\n",
    "    min_lr = 1e-5\n",
    ")"
   ]
  },
  {
   "cell_type": "code",
   "execution_count": 23,
   "id": "10408a41",
   "metadata": {
    "execution": {
     "iopub.execute_input": "2023-10-31T18:51:40.135556Z",
     "iopub.status.busy": "2023-10-31T18:51:40.135291Z",
     "iopub.status.idle": "2023-10-31T18:51:40.139494Z",
     "shell.execute_reply": "2023-10-31T18:51:40.138774Z"
    },
    "papermill": {
     "duration": 0.043796,
     "end_time": "2023-10-31T18:51:40.141363",
     "exception": false,
     "start_time": "2023-10-31T18:51:40.097567",
     "status": "completed"
    },
    "tags": []
   },
   "outputs": [],
   "source": [
    "mc = ModelCheckpoint(\n",
    "    \"best_weights.hfd5\",\n",
    "    monitor = \"val_accuracy\",\n",
    "    verbose = 1,\n",
    "    save_best_only = True,\n",
    "    save_weights_only = True,\n",
    ")"
   ]
  },
  {
   "cell_type": "code",
   "execution_count": 24,
   "id": "32f1500f",
   "metadata": {
    "execution": {
     "iopub.execute_input": "2023-10-31T18:51:40.217068Z",
     "iopub.status.busy": "2023-10-31T18:51:40.216791Z",
     "iopub.status.idle": "2023-10-31T18:51:40.220824Z",
     "shell.execute_reply": "2023-10-31T18:51:40.219961Z"
    },
    "papermill": {
     "duration": 0.043824,
     "end_time": "2023-10-31T18:51:40.222638",
     "exception": false,
     "start_time": "2023-10-31T18:51:40.178814",
     "status": "completed"
    },
    "tags": []
   },
   "outputs": [],
   "source": [
    "es = EarlyStopping(\n",
    "    monitor = \"val_accuracy\",\n",
    "    patience = 6, \n",
    "    verbose = 1,\n",
    "    restore_best_weights = True,\n",
    ")"
   ]
  },
  {
   "cell_type": "code",
   "execution_count": 25,
   "id": "df7bbb64",
   "metadata": {
    "execution": {
     "iopub.execute_input": "2023-10-31T18:51:40.297479Z",
     "iopub.status.busy": "2023-10-31T18:51:40.297243Z",
     "iopub.status.idle": "2023-10-31T18:51:40.300951Z",
     "shell.execute_reply": "2023-10-31T18:51:40.300133Z"
    },
    "papermill": {
     "duration": 0.043214,
     "end_time": "2023-10-31T18:51:40.302862",
     "exception": false,
     "start_time": "2023-10-31T18:51:40.259648",
     "status": "completed"
    },
    "tags": []
   },
   "outputs": [],
   "source": [
    "tb = TensorBoard(\n",
    "    log_dir=\"logs\",\n",
    ")"
   ]
  },
  {
   "cell_type": "markdown",
   "id": "f03b55c2",
   "metadata": {
    "papermill": {
     "duration": 0.038635,
     "end_time": "2023-10-31T18:51:40.378818",
     "exception": false,
     "start_time": "2023-10-31T18:51:40.340183",
     "status": "completed"
    },
    "tags": []
   },
   "source": [
    "### Entreno el modelo:"
   ]
  },
  {
   "cell_type": "code",
   "execution_count": 26,
   "id": "47e8c3df",
   "metadata": {
    "execution": {
     "iopub.execute_input": "2023-10-31T18:51:40.454466Z",
     "iopub.status.busy": "2023-10-31T18:51:40.453786Z",
     "iopub.status.idle": "2023-10-31T19:20:46.959376Z",
     "shell.execute_reply": "2023-10-31T19:20:46.958442Z"
    },
    "papermill": {
     "duration": 1746.54568,
     "end_time": "2023-10-31T19:20:46.961629",
     "exception": false,
     "start_time": "2023-10-31T18:51:40.415949",
     "status": "completed"
    },
    "tags": []
   },
   "outputs": [
    {
     "name": "stdout",
     "output_type": "stream",
     "text": [
      "Epoch 1/200\n",
      "1248/1250 [============================>.] - ETA: 0s - loss: 3.6191 - accuracy: 0.1404\n",
      "Epoch 1: val_accuracy improved from -inf to 0.21340, saving model to best_weights.hfd5\n",
      "1250/1250 [==============================] - 65s 26ms/step - loss: 3.6180 - accuracy: 0.1406 - val_loss: 3.5019 - val_accuracy: 0.2134 - lr: 0.0010\n",
      "Epoch 2/200\n",
      "1250/1250 [==============================] - ETA: 0s - loss: 2.6217 - accuracy: 0.3165\n",
      "Epoch 2: val_accuracy improved from 0.21340 to 0.32350, saving model to best_weights.hfd5\n",
      "1250/1250 [==============================] - 31s 25ms/step - loss: 2.6217 - accuracy: 0.3165 - val_loss: 2.5858 - val_accuracy: 0.3235 - lr: 0.0010\n",
      "Epoch 3/200\n",
      "1248/1250 [============================>.] - ETA: 0s - loss: 2.0974 - accuracy: 0.4280\n",
      "Epoch 3: val_accuracy improved from 0.32350 to 0.37510, saving model to best_weights.hfd5\n",
      "1250/1250 [==============================] - 31s 24ms/step - loss: 2.0971 - accuracy: 0.4281 - val_loss: 2.4206 - val_accuracy: 0.3751 - lr: 0.0010\n",
      "Epoch 4/200\n",
      "1248/1250 [============================>.] - ETA: 0s - loss: 1.7781 - accuracy: 0.5041\n",
      "Epoch 4: val_accuracy improved from 0.37510 to 0.44660, saving model to best_weights.hfd5\n",
      "1250/1250 [==============================] - 31s 24ms/step - loss: 1.7783 - accuracy: 0.5040 - val_loss: 2.1270 - val_accuracy: 0.4466 - lr: 0.0010\n",
      "Epoch 5/200\n",
      "1248/1250 [============================>.] - ETA: 0s - loss: 1.5475 - accuracy: 0.5574\n",
      "Epoch 5: val_accuracy improved from 0.44660 to 0.50170, saving model to best_weights.hfd5\n",
      "1250/1250 [==============================] - 30s 24ms/step - loss: 1.5475 - accuracy: 0.5573 - val_loss: 1.8508 - val_accuracy: 0.5017 - lr: 0.0010\n",
      "Epoch 6/200\n",
      "1249/1250 [============================>.] - ETA: 0s - loss: 1.3505 - accuracy: 0.6061\n",
      "Epoch 6: val_accuracy improved from 0.50170 to 0.51880, saving model to best_weights.hfd5\n",
      "1250/1250 [==============================] - 30s 24ms/step - loss: 1.3504 - accuracy: 0.6061 - val_loss: 1.8227 - val_accuracy: 0.5188 - lr: 0.0010\n",
      "Epoch 7/200\n",
      "1250/1250 [==============================] - ETA: 0s - loss: 1.1790 - accuracy: 0.6492\n",
      "Epoch 7: val_accuracy did not improve from 0.51880\n",
      "1250/1250 [==============================] - 30s 24ms/step - loss: 1.1790 - accuracy: 0.6492 - val_loss: 1.9213 - val_accuracy: 0.5045 - lr: 0.0010\n",
      "Epoch 8/200\n",
      "1248/1250 [============================>.] - ETA: 0s - loss: 1.0232 - accuracy: 0.6915\n",
      "Epoch 8: val_accuracy did not improve from 0.51880\n",
      "1250/1250 [==============================] - 30s 24ms/step - loss: 1.0234 - accuracy: 0.6915 - val_loss: 2.0034 - val_accuracy: 0.5093 - lr: 0.0010\n",
      "Epoch 9/200\n",
      "1250/1250 [==============================] - ETA: 0s - loss: 0.8864 - accuracy: 0.7275\n",
      "Epoch 9: val_accuracy improved from 0.51880 to 0.53920, saving model to best_weights.hfd5\n",
      "1250/1250 [==============================] - 33s 26ms/step - loss: 0.8864 - accuracy: 0.7275 - val_loss: 1.8597 - val_accuracy: 0.5392 - lr: 0.0010\n",
      "Epoch 10/200\n",
      "1250/1250 [==============================] - ETA: 0s - loss: 0.7601 - accuracy: 0.7602\n",
      "Epoch 10: val_accuracy did not improve from 0.53920\n",
      "1250/1250 [==============================] - 31s 25ms/step - loss: 0.7601 - accuracy: 0.7602 - val_loss: 1.9961 - val_accuracy: 0.5274 - lr: 0.0010\n",
      "Epoch 11/200\n",
      "1250/1250 [==============================] - ETA: 0s - loss: 0.6569 - accuracy: 0.7903\n",
      "Epoch 11: val_accuracy improved from 0.53920 to 0.53980, saving model to best_weights.hfd5\n",
      "1250/1250 [==============================] - 32s 26ms/step - loss: 0.6569 - accuracy: 0.7903 - val_loss: 2.0194 - val_accuracy: 0.5398 - lr: 0.0010\n",
      "Epoch 12/200\n",
      "1248/1250 [============================>.] - ETA: 0s - loss: 0.5632 - accuracy: 0.8181\n",
      "Epoch 12: val_accuracy did not improve from 0.53980\n",
      "1250/1250 [==============================] - 31s 25ms/step - loss: 0.5635 - accuracy: 0.8181 - val_loss: 2.2044 - val_accuracy: 0.5382 - lr: 0.0010\n",
      "Epoch 13/200\n",
      "1248/1250 [============================>.] - ETA: 0s - loss: 0.4866 - accuracy: 0.8392\n",
      "Epoch 13: val_accuracy did not improve from 0.53980\n",
      "1250/1250 [==============================] - 30s 24ms/step - loss: 0.4869 - accuracy: 0.8391 - val_loss: 2.2687 - val_accuracy: 0.5398 - lr: 0.0010\n",
      "Epoch 14/200\n",
      "1249/1250 [============================>.] - ETA: 0s - loss: 0.4292 - accuracy: 0.8571\n",
      "Epoch 14: val_accuracy improved from 0.53980 to 0.54160, saving model to best_weights.hfd5\n",
      "1250/1250 [==============================] - 31s 25ms/step - loss: 0.4293 - accuracy: 0.8572 - val_loss: 2.2927 - val_accuracy: 0.5416 - lr: 0.0010\n",
      "Epoch 15/200\n",
      "1249/1250 [============================>.] - ETA: 0s - loss: 0.3783 - accuracy: 0.8756\n",
      "Epoch 15: val_accuracy improved from 0.54160 to 0.54610, saving model to best_weights.hfd5\n",
      "1250/1250 [==============================] - 31s 25ms/step - loss: 0.3783 - accuracy: 0.8756 - val_loss: 2.2966 - val_accuracy: 0.5461 - lr: 0.0010\n",
      "Epoch 16/200\n",
      "1248/1250 [============================>.] - ETA: 0s - loss: 0.3319 - accuracy: 0.8894\n",
      "Epoch 16: val_accuracy did not improve from 0.54610\n",
      "1250/1250 [==============================] - 30s 24ms/step - loss: 0.3318 - accuracy: 0.8894 - val_loss: 2.5777 - val_accuracy: 0.5355 - lr: 0.0010\n",
      "Epoch 17/200\n",
      "1250/1250 [==============================] - ETA: 0s - loss: 0.3046 - accuracy: 0.8983\n",
      "Epoch 17: val_accuracy improved from 0.54610 to 0.55540, saving model to best_weights.hfd5\n",
      "1250/1250 [==============================] - 31s 25ms/step - loss: 0.3046 - accuracy: 0.8983 - val_loss: 2.4980 - val_accuracy: 0.5554 - lr: 0.0010\n",
      "Epoch 18/200\n",
      "1250/1250 [==============================] - ETA: 0s - loss: 0.2835 - accuracy: 0.9058\n",
      "Epoch 18: val_accuracy did not improve from 0.55540\n",
      "1250/1250 [==============================] - 30s 24ms/step - loss: 0.2835 - accuracy: 0.9058 - val_loss: 2.5693 - val_accuracy: 0.5488 - lr: 0.0010\n",
      "Epoch 19/200\n",
      "1250/1250 [==============================] - ETA: 0s - loss: 0.2644 - accuracy: 0.9119\n",
      "Epoch 19: val_accuracy did not improve from 0.55540\n",
      "1250/1250 [==============================] - 31s 25ms/step - loss: 0.2644 - accuracy: 0.9119 - val_loss: 2.6628 - val_accuracy: 0.5401 - lr: 0.0010\n",
      "Epoch 20/200\n",
      "1249/1250 [============================>.] - ETA: 0s - loss: 0.2391 - accuracy: 0.9191\n",
      "Epoch 20: ReduceLROnPlateau reducing learning rate to 0.0005000000237487257.\n",
      "\n",
      "Epoch 20: val_accuracy did not improve from 0.55540\n",
      "1250/1250 [==============================] - 30s 24ms/step - loss: 0.2393 - accuracy: 0.9190 - val_loss: 2.8347 - val_accuracy: 0.5410 - lr: 0.0010\n",
      "Epoch 21/200\n",
      "1249/1250 [============================>.] - ETA: 0s - loss: 0.1063 - accuracy: 0.9654\n",
      "Epoch 21: val_accuracy improved from 0.55540 to 0.57760, saving model to best_weights.hfd5\n",
      "1250/1250 [==============================] - 31s 25ms/step - loss: 0.1063 - accuracy: 0.9654 - val_loss: 2.9073 - val_accuracy: 0.5776 - lr: 5.0000e-04\n",
      "Epoch 22/200\n",
      "1248/1250 [============================>.] - ETA: 0s - loss: 0.0794 - accuracy: 0.9739\n",
      "Epoch 22: val_accuracy improved from 0.57760 to 0.57990, saving model to best_weights.hfd5\n",
      "1250/1250 [==============================] - 31s 25ms/step - loss: 0.0794 - accuracy: 0.9739 - val_loss: 3.1465 - val_accuracy: 0.5799 - lr: 5.0000e-04\n",
      "Epoch 23/200\n",
      "1249/1250 [============================>.] - ETA: 0s - loss: 0.0777 - accuracy: 0.9746\n",
      "Epoch 23: val_accuracy did not improve from 0.57990\n",
      "1250/1250 [==============================] - 30s 24ms/step - loss: 0.0776 - accuracy: 0.9746 - val_loss: 3.1533 - val_accuracy: 0.5681 - lr: 5.0000e-04\n",
      "Epoch 24/200\n",
      "1250/1250 [==============================] - ETA: 0s - loss: 0.0733 - accuracy: 0.9758\n",
      "Epoch 24: val_accuracy did not improve from 0.57990\n",
      "1250/1250 [==============================] - 30s 24ms/step - loss: 0.0733 - accuracy: 0.9758 - val_loss: 3.2928 - val_accuracy: 0.5668 - lr: 5.0000e-04\n",
      "Epoch 25/200\n",
      "1248/1250 [============================>.] - ETA: 0s - loss: 0.0726 - accuracy: 0.9757\n",
      "Epoch 25: ReduceLROnPlateau reducing learning rate to 0.0002500000118743628.\n",
      "\n",
      "Epoch 25: val_accuracy did not improve from 0.57990\n",
      "1250/1250 [==============================] - 30s 24ms/step - loss: 0.0727 - accuracy: 0.9756 - val_loss: 3.2476 - val_accuracy: 0.5626 - lr: 5.0000e-04\n",
      "Epoch 26/200\n",
      "1249/1250 [============================>.] - ETA: 0s - loss: 0.0362 - accuracy: 0.9890\n",
      "Epoch 26: val_accuracy improved from 0.57990 to 0.58070, saving model to best_weights.hfd5\n",
      "1250/1250 [==============================] - 31s 25ms/step - loss: 0.0362 - accuracy: 0.9890 - val_loss: 3.3958 - val_accuracy: 0.5807 - lr: 2.5000e-04\n",
      "Epoch 27/200\n",
      "1248/1250 [============================>.] - ETA: 0s - loss: 0.0262 - accuracy: 0.9920\n",
      "Epoch 27: val_accuracy improved from 0.58070 to 0.58320, saving model to best_weights.hfd5\n",
      "1250/1250 [==============================] - 31s 25ms/step - loss: 0.0263 - accuracy: 0.9919 - val_loss: 3.5026 - val_accuracy: 0.5832 - lr: 2.5000e-04\n",
      "Epoch 28/200\n",
      "1250/1250 [==============================] - ETA: 0s - loss: 0.0259 - accuracy: 0.9912\n",
      "Epoch 28: val_accuracy did not improve from 0.58320\n",
      "1250/1250 [==============================] - 30s 24ms/step - loss: 0.0259 - accuracy: 0.9912 - val_loss: 3.5682 - val_accuracy: 0.5817 - lr: 2.5000e-04\n",
      "Epoch 29/200\n",
      "1250/1250 [==============================] - ETA: 0s - loss: 0.0231 - accuracy: 0.9926\n",
      "Epoch 29: val_accuracy did not improve from 0.58320\n",
      "1250/1250 [==============================] - 30s 24ms/step - loss: 0.0231 - accuracy: 0.9926 - val_loss: 3.6760 - val_accuracy: 0.5735 - lr: 2.5000e-04\n",
      "Epoch 30/200\n",
      "1250/1250 [==============================] - ETA: 0s - loss: 0.0236 - accuracy: 0.9924\n",
      "Epoch 30: val_accuracy improved from 0.58320 to 0.58670, saving model to best_weights.hfd5\n",
      "1250/1250 [==============================] - 31s 25ms/step - loss: 0.0236 - accuracy: 0.9924 - val_loss: 3.6827 - val_accuracy: 0.5867 - lr: 2.5000e-04\n",
      "Epoch 31/200\n",
      "1250/1250 [==============================] - ETA: 0s - loss: 0.0241 - accuracy: 0.9925\n",
      "Epoch 31: val_accuracy did not improve from 0.58670\n",
      "1250/1250 [==============================] - 30s 24ms/step - loss: 0.0241 - accuracy: 0.9925 - val_loss: 3.6660 - val_accuracy: 0.5855 - lr: 2.5000e-04\n",
      "Epoch 32/200\n",
      "1249/1250 [============================>.] - ETA: 0s - loss: 0.0203 - accuracy: 0.9935\n",
      "Epoch 32: val_accuracy did not improve from 0.58670\n",
      "1250/1250 [==============================] - 30s 24ms/step - loss: 0.0203 - accuracy: 0.9935 - val_loss: 3.6878 - val_accuracy: 0.5853 - lr: 2.5000e-04\n",
      "Epoch 33/200\n",
      "1248/1250 [============================>.] - ETA: 0s - loss: 0.0230 - accuracy: 0.9924\n",
      "Epoch 33: ReduceLROnPlateau reducing learning rate to 0.0001250000059371814.\n",
      "\n",
      "Epoch 33: val_accuracy did not improve from 0.58670\n",
      "1250/1250 [==============================] - 30s 24ms/step - loss: 0.0230 - accuracy: 0.9924 - val_loss: 3.6297 - val_accuracy: 0.5828 - lr: 2.5000e-04\n",
      "Epoch 34/200\n",
      "1248/1250 [============================>.] - ETA: 0s - loss: 0.0129 - accuracy: 0.9960\n",
      "Epoch 34: val_accuracy improved from 0.58670 to 0.58810, saving model to best_weights.hfd5\n",
      "1250/1250 [==============================] - 31s 25ms/step - loss: 0.0128 - accuracy: 0.9960 - val_loss: 3.7127 - val_accuracy: 0.5881 - lr: 1.2500e-04\n",
      "Epoch 35/200\n",
      "1248/1250 [============================>.] - ETA: 0s - loss: 0.0099 - accuracy: 0.9967\n",
      "Epoch 35: val_accuracy improved from 0.58810 to 0.59240, saving model to best_weights.hfd5\n",
      "1250/1250 [==============================] - 31s 25ms/step - loss: 0.0099 - accuracy: 0.9967 - val_loss: 3.7596 - val_accuracy: 0.5924 - lr: 1.2500e-04\n",
      "Epoch 36/200\n",
      "1248/1250 [============================>.] - ETA: 0s - loss: 0.0087 - accuracy: 0.9974\n",
      "Epoch 36: val_accuracy did not improve from 0.59240\n",
      "1250/1250 [==============================] - 30s 24ms/step - loss: 0.0087 - accuracy: 0.9974 - val_loss: 3.8684 - val_accuracy: 0.5898 - lr: 1.2500e-04\n",
      "Epoch 37/200\n",
      "1248/1250 [============================>.] - ETA: 0s - loss: 0.0094 - accuracy: 0.9972\n",
      "Epoch 37: val_accuracy did not improve from 0.59240\n",
      "1250/1250 [==============================] - 30s 24ms/step - loss: 0.0094 - accuracy: 0.9972 - val_loss: 3.8978 - val_accuracy: 0.5907 - lr: 1.2500e-04\n",
      "Epoch 38/200\n",
      "1250/1250 [==============================] - ETA: 0s - loss: 0.0087 - accuracy: 0.9974\n",
      "Epoch 38: ReduceLROnPlateau reducing learning rate to 6.25000029685907e-05.\n",
      "\n",
      "Epoch 38: val_accuracy did not improve from 0.59240\n",
      "1250/1250 [==============================] - 30s 24ms/step - loss: 0.0087 - accuracy: 0.9974 - val_loss: 3.9504 - val_accuracy: 0.5898 - lr: 1.2500e-04\n",
      "Epoch 39/200\n",
      "1248/1250 [============================>.] - ETA: 0s - loss: 0.0076 - accuracy: 0.9978\n",
      "Epoch 39: val_accuracy improved from 0.59240 to 0.59280, saving model to best_weights.hfd5\n",
      "1250/1250 [==============================] - 31s 25ms/step - loss: 0.0076 - accuracy: 0.9978 - val_loss: 3.8885 - val_accuracy: 0.5928 - lr: 6.2500e-05\n",
      "Epoch 40/200\n",
      "1248/1250 [============================>.] - ETA: 0s - loss: 0.0055 - accuracy: 0.9983\n",
      "Epoch 40: val_accuracy did not improve from 0.59280\n",
      "1250/1250 [==============================] - 30s 24ms/step - loss: 0.0055 - accuracy: 0.9983 - val_loss: 3.9921 - val_accuracy: 0.5895 - lr: 6.2500e-05\n",
      "Epoch 41/200\n",
      "1248/1250 [============================>.] - ETA: 0s - loss: 0.0052 - accuracy: 0.9985\n",
      "Epoch 41: val_accuracy did not improve from 0.59280\n",
      "1250/1250 [==============================] - 30s 24ms/step - loss: 0.0052 - accuracy: 0.9985 - val_loss: 4.0347 - val_accuracy: 0.5923 - lr: 6.2500e-05\n",
      "Epoch 42/200\n",
      "1250/1250 [==============================] - ETA: 0s - loss: 0.0048 - accuracy: 0.9986\n",
      "Epoch 42: ReduceLROnPlateau reducing learning rate to 3.125000148429535e-05.\n",
      "\n",
      "Epoch 42: val_accuracy did not improve from 0.59280\n",
      "1250/1250 [==============================] - 30s 24ms/step - loss: 0.0048 - accuracy: 0.9986 - val_loss: 4.0621 - val_accuracy: 0.5918 - lr: 6.2500e-05\n",
      "Epoch 43/200\n",
      "1250/1250 [==============================] - ETA: 0s - loss: 0.0037 - accuracy: 0.9990\n",
      "Epoch 43: val_accuracy did not improve from 0.59280\n",
      "1250/1250 [==============================] - 30s 24ms/step - loss: 0.0037 - accuracy: 0.9990 - val_loss: 4.0823 - val_accuracy: 0.5911 - lr: 3.1250e-05\n",
      "Epoch 44/200\n",
      "1250/1250 [==============================] - ETA: 0s - loss: 0.0038 - accuracy: 0.9988\n",
      "Epoch 44: val_accuracy improved from 0.59280 to 0.59480, saving model to best_weights.hfd5\n",
      "1250/1250 [==============================] - 31s 25ms/step - loss: 0.0038 - accuracy: 0.9988 - val_loss: 4.1189 - val_accuracy: 0.5948 - lr: 3.1250e-05\n",
      "Epoch 45/200\n",
      "1248/1250 [============================>.] - ETA: 0s - loss: 0.0036 - accuracy: 0.9990\n",
      "Epoch 45: val_accuracy improved from 0.59480 to 0.59500, saving model to best_weights.hfd5\n",
      "1250/1250 [==============================] - 31s 25ms/step - loss: 0.0036 - accuracy: 0.9990 - val_loss: 4.1351 - val_accuracy: 0.5950 - lr: 3.1250e-05\n",
      "Epoch 46/200\n",
      "1249/1250 [============================>.] - ETA: 0s - loss: 0.0034 - accuracy: 0.9989\n",
      "Epoch 46: val_accuracy did not improve from 0.59500\n",
      "1250/1250 [==============================] - 30s 24ms/step - loss: 0.0034 - accuracy: 0.9989 - val_loss: 4.1838 - val_accuracy: 0.5943 - lr: 3.1250e-05\n",
      "Epoch 47/200\n",
      "1249/1250 [============================>.] - ETA: 0s - loss: 0.0034 - accuracy: 0.9989\n",
      "Epoch 47: val_accuracy improved from 0.59500 to 0.59540, saving model to best_weights.hfd5\n",
      "1250/1250 [==============================] - 31s 25ms/step - loss: 0.0034 - accuracy: 0.9989 - val_loss: 4.1598 - val_accuracy: 0.5954 - lr: 3.1250e-05\n",
      "Epoch 48/200\n",
      "1248/1250 [============================>.] - ETA: 0s - loss: 0.0033 - accuracy: 0.9990\n",
      "Epoch 48: val_accuracy did not improve from 0.59540\n",
      "1250/1250 [==============================] - 30s 24ms/step - loss: 0.0033 - accuracy: 0.9990 - val_loss: 4.1868 - val_accuracy: 0.5950 - lr: 3.1250e-05\n",
      "Epoch 49/200\n",
      "1248/1250 [============================>.] - ETA: 0s - loss: 0.0031 - accuracy: 0.9991\n",
      "Epoch 49: val_accuracy did not improve from 0.59540\n",
      "1250/1250 [==============================] - 30s 24ms/step - loss: 0.0031 - accuracy: 0.9991 - val_loss: 4.2324 - val_accuracy: 0.5942 - lr: 3.1250e-05\n",
      "Epoch 50/200\n",
      "1248/1250 [============================>.] - ETA: 0s - loss: 0.0027 - accuracy: 0.9993\n",
      "Epoch 50: val_accuracy improved from 0.59540 to 0.59640, saving model to best_weights.hfd5\n",
      "1250/1250 [==============================] - 31s 25ms/step - loss: 0.0027 - accuracy: 0.9993 - val_loss: 4.2237 - val_accuracy: 0.5964 - lr: 3.1250e-05\n",
      "Epoch 51/200\n",
      "1248/1250 [============================>.] - ETA: 0s - loss: 0.0031 - accuracy: 0.9991\n",
      "Epoch 51: val_accuracy did not improve from 0.59640\n",
      "1250/1250 [==============================] - 30s 24ms/step - loss: 0.0031 - accuracy: 0.9991 - val_loss: 4.1983 - val_accuracy: 0.5930 - lr: 3.1250e-05\n",
      "Epoch 52/200\n",
      "1249/1250 [============================>.] - ETA: 0s - loss: 0.0028 - accuracy: 0.9993\n",
      "Epoch 52: val_accuracy did not improve from 0.59640\n",
      "1250/1250 [==============================] - 30s 24ms/step - loss: 0.0028 - accuracy: 0.9993 - val_loss: 4.2070 - val_accuracy: 0.5945 - lr: 3.1250e-05\n",
      "Epoch 53/200\n",
      "1250/1250 [==============================] - ETA: 0s - loss: 0.0023 - accuracy: 0.9993\n",
      "Epoch 53: ReduceLROnPlateau reducing learning rate to 1.5625000742147677e-05.\n",
      "\n",
      "Epoch 53: val_accuracy did not improve from 0.59640\n",
      "1250/1250 [==============================] - 30s 24ms/step - loss: 0.0023 - accuracy: 0.9993 - val_loss: 4.2318 - val_accuracy: 0.5960 - lr: 3.1250e-05\n",
      "Epoch 54/200\n",
      "1249/1250 [============================>.] - ETA: 0s - loss: 0.0025 - accuracy: 0.9993\n",
      "Epoch 54: val_accuracy did not improve from 0.59640\n",
      "1250/1250 [==============================] - 30s 24ms/step - loss: 0.0025 - accuracy: 0.9993 - val_loss: 4.2385 - val_accuracy: 0.5946 - lr: 1.5625e-05\n",
      "Epoch 55/200\n",
      "1248/1250 [============================>.] - ETA: 0s - loss: 0.0024 - accuracy: 0.9993\n",
      "Epoch 55: val_accuracy did not improve from 0.59640\n",
      "1250/1250 [==============================] - 30s 24ms/step - loss: 0.0024 - accuracy: 0.9993 - val_loss: 4.2567 - val_accuracy: 0.5960 - lr: 1.5625e-05\n",
      "Epoch 56/200\n",
      "1248/1250 [============================>.] - ETA: 0s - loss: 0.0021 - accuracy: 0.9994\n",
      "Epoch 56: ReduceLROnPlateau reducing learning rate to 1e-05.\n",
      "Restoring model weights from the end of the best epoch: 50.\n",
      "\n",
      "Epoch 56: val_accuracy did not improve from 0.59640\n",
      "1250/1250 [==============================] - 30s 24ms/step - loss: 0.0021 - accuracy: 0.9994 - val_loss: 4.2866 - val_accuracy: 0.5959 - lr: 1.5625e-05\n",
      "Epoch 56: early stopping\n"
     ]
    }
   ],
   "source": [
    "history = model.fit(\n",
    "    x = x_train_aug2, \n",
    "    y = y_train_fine_aug2, \n",
    "    batch_size=64, \n",
    "    epochs=200, \n",
    "    validation_data = (x_val, y_val), \n",
    "    callbacks= [\n",
    "        rlrop,\n",
    "        es,\n",
    "        mc,\n",
    "        tb,\n",
    "    ]\n",
    ")"
   ]
  },
  {
   "cell_type": "markdown",
   "id": "c071b284",
   "metadata": {
    "papermill": {
     "duration": 1.942892,
     "end_time": "2023-10-31T19:20:50.882644",
     "exception": false,
     "start_time": "2023-10-31T19:20:48.939752",
     "status": "completed"
    },
    "tags": []
   },
   "source": [
    "## Results\n",
    "\n",
    "Se probaron diferentes modelos y el mejor resultado se muestra a continuación."
   ]
  },
  {
   "cell_type": "code",
   "execution_count": 27,
   "id": "fd38ec5f",
   "metadata": {
    "execution": {
     "iopub.execute_input": "2023-10-31T19:20:54.781751Z",
     "iopub.status.busy": "2023-10-31T19:20:54.780652Z",
     "iopub.status.idle": "2023-10-31T19:20:54.786782Z",
     "shell.execute_reply": "2023-10-31T19:20:54.785953Z"
    },
    "papermill": {
     "duration": 1.965898,
     "end_time": "2023-10-31T19:20:54.789252",
     "exception": false,
     "start_time": "2023-10-31T19:20:52.823354",
     "status": "completed"
    },
    "tags": []
   },
   "outputs": [
    {
     "name": "stdout",
     "output_type": "stream",
     "text": [
      "Last Validation Accuracy: 59.59 %\n",
      "Last Accuracy: 99.94 %\n"
     ]
    }
   ],
   "source": [
    "last_valacc = history.history['val_accuracy'][-1]*100\n",
    "print(\"Last Validation Accuracy:\" , format(last_valacc, \".2f\"), \"%\")\n",
    "last_acc = history.history['accuracy'][-1]*100\n",
    "print(\"Last Accuracy:\" , format(last_acc, \".2f\"), \"%\")"
   ]
  },
  {
   "cell_type": "code",
   "execution_count": 28,
   "id": "34b2d781",
   "metadata": {
    "execution": {
     "iopub.execute_input": "2023-10-31T19:20:58.765096Z",
     "iopub.status.busy": "2023-10-31T19:20:58.764236Z",
     "iopub.status.idle": "2023-10-31T19:20:59.070607Z",
     "shell.execute_reply": "2023-10-31T19:20:59.069692Z"
    },
    "papermill": {
     "duration": 2.276265,
     "end_time": "2023-10-31T19:20:59.072764",
     "exception": false,
     "start_time": "2023-10-31T19:20:56.796499",
     "status": "completed"
    },
    "tags": []
   },
   "outputs": [
    {
     "data": {
      "text/plain": [
       "<matplotlib.legend.Legend at 0x7caf36ebbbb0>"
      ]
     },
     "execution_count": 28,
     "metadata": {},
     "output_type": "execute_result"
    },
    {
     "data": {
      "image/png": "[encoded data removed]",
      "text/plain": [
       "<Figure size 640x480 with 1 Axes>"
      ]
     },
     "metadata": {},
     "output_type": "display_data"
    }
   ],
   "source": [
    "plt.plot(history.history[\"accuracy\"], label='Train')\n",
    "plt.plot(history.history[\"val_accuracy\"], label='Validation')\n",
    "plt.title(\"Accuracy\")\n",
    "plt.legend()"
   ]
  },
  {
   "cell_type": "code",
   "execution_count": 29,
   "id": "030a9d2a",
   "metadata": {
    "execution": {
     "iopub.execute_input": "2023-10-31T19:21:03.142517Z",
     "iopub.status.busy": "2023-10-31T19:21:03.142158Z",
     "iopub.status.idle": "2023-10-31T19:21:03.463146Z",
     "shell.execute_reply": "2023-10-31T19:21:03.462224Z"
    },
    "papermill": {
     "duration": 2.33375,
     "end_time": "2023-10-31T19:21:03.465167",
     "exception": false,
     "start_time": "2023-10-31T19:21:01.131417",
     "status": "completed"
    },
    "tags": []
   },
   "outputs": [
    {
     "data": {
      "text/plain": [
       "<matplotlib.legend.Legend at 0x7caf7cccf370>"
      ]
     },
     "execution_count": 29,
     "metadata": {},
     "output_type": "execute_result"
    },
    {
     "data": {
      "image/png": "[encoded data removed]",
      "text/plain": [
       "<Figure size 640x480 with 1 Axes>"
      ]
     },
     "metadata": {},
     "output_type": "display_data"
    }
   ],
   "source": [
    "plt.plot(history.history[\"loss\"], label='Train')\n",
    "plt.plot(history.history[\"val_loss\"], label='Validation')\n",
    "plt.title(\"Loss\")\n",
    "plt.legend()"
   ]
  },
  {
   "cell_type": "markdown",
   "id": "f69b8dc5",
   "metadata": {
    "papermill": {
     "duration": 1.967343,
     "end_time": "2023-10-31T19:21:07.420293",
     "exception": false,
     "start_time": "2023-10-31T19:21:05.452950",
     "status": "completed"
    },
    "tags": []
   },
   "source": [
    "## Submissions generator\n",
    "\n"
   ]
  },
  {
   "cell_type": "code",
   "execution_count": 30,
   "id": "d4ef356e",
   "metadata": {
    "execution": {
     "iopub.execute_input": "2023-10-31T19:21:11.315162Z",
     "iopub.status.busy": "2023-10-31T19:21:11.314791Z",
     "iopub.status.idle": "2023-10-31T19:21:14.062773Z",
     "shell.execute_reply": "2023-10-31T19:21:14.061974Z"
    },
    "papermill": {
     "duration": 4.692331,
     "end_time": "2023-10-31T19:21:14.064987",
     "exception": false,
     "start_time": "2023-10-31T19:21:09.372656",
     "status": "completed"
    },
    "tags": []
   },
   "outputs": [
    {
     "name": "stdout",
     "output_type": "stream",
     "text": [
      "313/313 [==============================] - 2s 5ms/step\n"
     ]
    }
   ],
   "source": [
    "predictions = model.predict(x_test).argmax(axis=1)"
   ]
  },
  {
   "cell_type": "code",
   "execution_count": 31,
   "id": "eb6d18db",
   "metadata": {
    "execution": {
     "iopub.execute_input": "2023-10-31T19:21:17.967307Z",
     "iopub.status.busy": "2023-10-31T19:21:17.966972Z",
     "iopub.status.idle": "2023-10-31T19:21:17.997993Z",
     "shell.execute_reply": "2023-10-31T19:21:17.997241Z"
    },
    "papermill": {
     "duration": 1.986994,
     "end_time": "2023-10-31T19:21:17.999983",
     "exception": false,
     "start_time": "2023-10-31T19:21:16.012989",
     "status": "completed"
    },
    "tags": []
   },
   "outputs": [],
   "source": [
    "df = pd.DataFrame(predictions, columns=[\"Label\"])\n",
    "df.index.name = \"Id\"\n",
    "df.to_csv(\"submission.csv\")"
   ]
  },
  {
   "cell_type": "markdown",
   "id": "dbb5c398",
   "metadata": {
    "papermill": {
     "duration": 1.989563,
     "end_time": "2023-10-31T19:21:21.932589",
     "exception": false,
     "start_time": "2023-10-31T19:21:19.943026",
     "status": "completed"
    },
    "tags": []
   },
   "source": [
    "En conclusión, el uso de la red arrojo un accuracy significativo para tener 100 clases a clasificar, se aprendió en el proceso el uso de MLP, normalizadores, tipos de capas y diferentes maneras de modificar parámetros para obtener el mejor resultado posible. "
   ]
  }
 ],
 "metadata": {
  "kernelspec": {
   "display_name": "Python 3",
   "language": "python",
   "name": "python3"
  },
  "language_info": {
   "codemirror_mode": {
    "name": "ipython",
    "version": 3
   },
   "file_extension": ".py",
   "mimetype": "text/x-python",
   "name": "python",
   "nbconvert_exporter": "python",
   "pygments_lexer": "ipython3",
   "version": "3.10.12"
  },
  "papermill": {
   "default_parameters": {},
   "duration": 1812.539655,
   "end_time": "2023-10-31T19:21:27.404036",
   "environment_variables": {},
   "exception": null,
   "input_path": "__notebook__.ipynb",
   "output_path": "__notebook__.ipynb",
   "parameters": {},
   "start_time": "2023-10-31T18:51:14.864381",
   "version": "2.4.0"
  }
 },
 "nbformat": 4,
 "nbformat_minor": 5
}
