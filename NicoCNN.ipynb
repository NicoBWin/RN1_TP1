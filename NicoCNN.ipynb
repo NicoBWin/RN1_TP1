{
 "cells": [
  {
   "cell_type": "markdown",
   "id": "67278dec",
   "metadata": {
    "papermill": {
     "duration": 0.009572,
     "end_time": "2023-11-27T16:47:22.069117",
     "exception": false,
     "start_time": "2023-11-27T16:47:22.059545",
     "status": "completed"
    },
    "tags": []
   },
   "source": [
    "# TP3 - Redes Neuronales (22.45)\n",
    "\n",
    "En este trabajo páctico se busca armar una red neuronal **CONVOLUCIONAL** capaz de obtener el mayor acuracy para lograr la mejor posición en la competencia de Kaggle. Se utiliza el dataset \"cifar-100\" y todos los conocimientos vistos en clase para la realización de la red capaz de identificar las fotos dentro del dataset.\n",
    "\n",
    "*Autor: Nicolás Bustelo - 61431*"
   ]
  },
  {
   "cell_type": "code",
   "execution_count": 1,
   "id": "0837f5d5",
   "metadata": {
    "_cell_guid": "b1076dfc-b9ad-4769-8c92-a6c4dae69d19",
    "_uuid": "8f2839f25d086af736a60e9eeb907d3b93b6e0e5",
    "execution": {
     "iopub.execute_input": "2023-11-27T16:47:22.088292Z",
     "iopub.status.busy": "2023-11-27T16:47:22.087972Z",
     "iopub.status.idle": "2023-11-27T16:47:30.580090Z",
     "shell.execute_reply": "2023-11-27T16:47:30.578693Z"
    },
    "papermill": {
     "duration": 8.504278,
     "end_time": "2023-11-27T16:47:30.582208",
     "exception": false,
     "start_time": "2023-11-27T16:47:22.077930",
     "status": "completed"
    },
    "tags": []
   },
   "outputs": [
    {
     "name": "stderr",
     "output_type": "stream",
     "text": [
      "/opt/conda/lib/python3.10/site-packages/scipy/__init__.py:146: UserWarning: A NumPy version >=1.16.5 and <1.23.0 is required for this version of SciPy (detected version 1.23.5\n",
      "  warnings.warn(f\"A NumPy version >={np_minversion} and <{np_maxversion}\"\n"
     ]
    },
    {
     "name": "stdout",
     "output_type": "stream",
     "text": [
      "/kaggle/input/itba-rn-2245-cifar-100-2023q2/y_train_fine.npy\n",
      "/kaggle/input/itba-rn-2245-cifar-100-2023q2/y_train_coarse.npy\n",
      "/kaggle/input/itba-rn-2245-cifar-100-2023q2/fine_label_names.pck\n",
      "/kaggle/input/itba-rn-2245-cifar-100-2023q2/coarse_label_names.pck\n",
      "/kaggle/input/itba-rn-2245-cifar-100-2023q2/x_test.npy\n",
      "/kaggle/input/itba-rn-2245-cifar-100-2023q2/x_train.npy\n"
     ]
    }
   ],
   "source": [
    "# This Python 3 environment comes with many helpful analytics libraries installed\n",
    "# It is defined by the kaggle/python Docker image: https://github.com/kaggle/docker-python\n",
    "# For example, here's several helpful packages to load\n",
    "\n",
    "import numpy as np # linear algebra\n",
    "import pandas as pd # data processing, CSV file I/O (e.g. pd.read_csv)\n",
    "from tensorflow.keras.utils import plot_model\n",
    "\n",
    "# Input data files are available in the read-only \"../input/\" directory\n",
    "# For example, running this (by clicking run or pressing Shift+Enter) will list all files under the input directory\n",
    "\n",
    "import os\n",
    "for dirname, _, filenames in os.walk('/kaggle/input'):\n",
    "    for filename in filenames:\n",
    "        print(os.path.join(dirname, filename))\n",
    "\n",
    "# You can write up to 20GB to the current directory (/kaggle/working/) that gets preserved as output when you create a version using \"Save & Run All\" \n",
    "# You can also write temporary files to /kaggle/temp/, but they won't be saved outside of the current session"
   ]
  },
  {
   "cell_type": "markdown",
   "id": "9be7b0d0",
   "metadata": {
    "papermill": {
     "duration": 0.008923,
     "end_time": "2023-11-27T16:47:30.600379",
     "exception": false,
     "start_time": "2023-11-27T16:47:30.591456",
     "status": "completed"
    },
    "tags": []
   },
   "source": [
    "## Dataset load"
   ]
  },
  {
   "cell_type": "code",
   "execution_count": 2,
   "id": "7ff157dc",
   "metadata": {
    "execution": {
     "iopub.execute_input": "2023-11-27T16:47:30.619512Z",
     "iopub.status.busy": "2023-11-27T16:47:30.618992Z",
     "iopub.status.idle": "2023-11-27T16:47:32.600742Z",
     "shell.execute_reply": "2023-11-27T16:47:32.599934Z"
    },
    "papermill": {
     "duration": 1.993706,
     "end_time": "2023-11-27T16:47:32.603008",
     "exception": false,
     "start_time": "2023-11-27T16:47:30.609302",
     "status": "completed"
    },
    "tags": []
   },
   "outputs": [],
   "source": [
    "x_train = np.load(\"/kaggle/input/itba-rn-2245-cifar-100-2023q2/x_train.npy\")/255.\n",
    "x_test = np.load(\"/kaggle/input/itba-rn-2245-cifar-100-2023q2/x_test.npy\")/255.\n",
    "y_train_coarse = np.load(\"/kaggle/input/itba-rn-2245-cifar-100-2023q2/y_train_coarse.npy\")\n",
    "y_train_fine = np.load(\"/kaggle/input/itba-rn-2245-cifar-100-2023q2/y_train_fine.npy\")"
   ]
  },
  {
   "cell_type": "code",
   "execution_count": 3,
   "id": "645e8c0d",
   "metadata": {
    "execution": {
     "iopub.execute_input": "2023-11-27T16:47:32.623672Z",
     "iopub.status.busy": "2023-11-27T16:47:32.622697Z",
     "iopub.status.idle": "2023-11-27T16:47:32.631249Z",
     "shell.execute_reply": "2023-11-27T16:47:32.630506Z"
    },
    "papermill": {
     "duration": 0.020448,
     "end_time": "2023-11-27T16:47:32.633149",
     "exception": false,
     "start_time": "2023-11-27T16:47:32.612701",
     "status": "completed"
    },
    "tags": []
   },
   "outputs": [],
   "source": [
    "import pickle\n",
    "with open(\"/kaggle/input/itba-rn-2245-cifar-100-2023q2/fine_label_names.pck\", \"rb\") as f:\n",
    "    labels_fine = pickle.load(f)\n",
    "with open(\"/kaggle/input/itba-rn-2245-cifar-100-2023q2/coarse_label_names.pck\", \"rb\") as f:\n",
    "    labels_coarse = pickle.load(f)"
   ]
  },
  {
   "cell_type": "code",
   "execution_count": 4,
   "id": "a8b4ab10",
   "metadata": {
    "execution": {
     "iopub.execute_input": "2023-11-27T16:47:32.652393Z",
     "iopub.status.busy": "2023-11-27T16:47:32.652110Z",
     "iopub.status.idle": "2023-11-27T16:47:32.656076Z",
     "shell.execute_reply": "2023-11-27T16:47:32.655156Z"
    },
    "papermill": {
     "duration": 0.015603,
     "end_time": "2023-11-27T16:47:32.657861",
     "exception": false,
     "start_time": "2023-11-27T16:47:32.642258",
     "status": "completed"
    },
    "tags": []
   },
   "outputs": [],
   "source": [
    "from matplotlib import pyplot as plt"
   ]
  },
  {
   "cell_type": "markdown",
   "id": "0d6e0280",
   "metadata": {
    "papermill": {
     "duration": 0.008796,
     "end_time": "2023-11-27T16:47:32.675778",
     "exception": false,
     "start_time": "2023-11-27T16:47:32.666982",
     "status": "completed"
    },
    "tags": []
   },
   "source": [
    "## Dataset sample viewing\n",
    "En esta sección se analizan los datos, su tamaño y sus caracteristicas"
   ]
  },
  {
   "cell_type": "code",
   "execution_count": 5,
   "id": "8238e95c",
   "metadata": {
    "execution": {
     "iopub.execute_input": "2023-11-27T16:47:32.696140Z",
     "iopub.status.busy": "2023-11-27T16:47:32.695366Z",
     "iopub.status.idle": "2023-11-27T16:47:32.700345Z",
     "shell.execute_reply": "2023-11-27T16:47:32.699490Z"
    },
    "papermill": {
     "duration": 0.017141,
     "end_time": "2023-11-27T16:47:32.702240",
     "exception": false,
     "start_time": "2023-11-27T16:47:32.685099",
     "status": "completed"
    },
    "tags": []
   },
   "outputs": [
    {
     "name": "stdout",
     "output_type": "stream",
     "text": [
      "Grano grueso: 20\n",
      "Grano fino: 100\n"
     ]
    }
   ],
   "source": [
    "# Tenemos que clasificar entre 100 clases\n",
    "print(\"Grano grueso:\", len(labels_coarse))\n",
    "print(\"Grano fino:\", len(labels_fine))"
   ]
  },
  {
   "cell_type": "code",
   "execution_count": 6,
   "id": "b9ca7b16",
   "metadata": {
    "execution": {
     "iopub.execute_input": "2023-11-27T16:47:32.722868Z",
     "iopub.status.busy": "2023-11-27T16:47:32.722592Z",
     "iopub.status.idle": "2023-11-27T16:47:33.971588Z",
     "shell.execute_reply": "2023-11-27T16:47:33.970706Z"
    },
    "papermill": {
     "duration": 1.262178,
     "end_time": "2023-11-27T16:47:33.974845",
     "exception": false,
     "start_time": "2023-11-27T16:47:32.712667",
     "status": "completed"
    },
    "tags": []
   },
   "outputs": [
    {
     "data": {
      "image/png": "[encoded data removed]",
      "text/plain": [
       "<Figure size 1500x800 with 20 Axes>"
      ]
     },
     "metadata": {},
     "output_type": "display_data"
    }
   ],
   "source": [
    "# Imprimimos una foto de cada grano grueso\n",
    "plt.figure(figsize=(15,8))\n",
    "for i in range(20):\n",
    "    plt.subplot(4,5,i+1)\n",
    "    plt.xticks([])\n",
    "    plt.yticks([])\n",
    "    plt.grid(False)\n",
    "    plt.imshow(x_train[y_train_coarse==i][0])\n",
    "    plt.xlabel(labels_coarse[i])\n",
    "plt.show()"
   ]
  },
  {
   "cell_type": "code",
   "execution_count": 7,
   "id": "db614cf4",
   "metadata": {
    "execution": {
     "iopub.execute_input": "2023-11-27T16:47:33.998468Z",
     "iopub.status.busy": "2023-11-27T16:47:33.997979Z",
     "iopub.status.idle": "2023-11-27T16:47:34.223828Z",
     "shell.execute_reply": "2023-11-27T16:47:34.222950Z"
    },
    "papermill": {
     "duration": 0.239669,
     "end_time": "2023-11-27T16:47:34.225802",
     "exception": false,
     "start_time": "2023-11-27T16:47:33.986133",
     "status": "completed"
    },
    "tags": []
   },
   "outputs": [
    {
     "data": {
      "text/plain": [
       "Text(0.5, 1.0, 'large_omnivores_and_herbivores')"
      ]
     },
     "execution_count": 7,
     "metadata": {},
     "output_type": "execute_result"
    },
    {
     "data": {
      "image/png": "[encoded data removed]",
      "text/plain": [
       "<Figure size 300x300 with 1 Axes>"
      ]
     },
     "metadata": {},
     "output_type": "display_data"
    }
   ],
   "source": [
    "# Una imagen\n",
    "plt.figure(figsize=(3,3))\n",
    "plt.imshow(x_train[y_train_coarse==11][0])\n",
    "plt.xlabel(labels_fine[y_train_fine[0]])\n",
    "plt.title(labels_coarse[11])"
   ]
  },
  {
   "cell_type": "code",
   "execution_count": 8,
   "id": "d732f269",
   "metadata": {
    "execution": {
     "iopub.execute_input": "2023-11-27T16:47:34.250630Z",
     "iopub.status.busy": "2023-11-27T16:47:34.250322Z",
     "iopub.status.idle": "2023-11-27T16:47:34.256150Z",
     "shell.execute_reply": "2023-11-27T16:47:34.255261Z"
    },
    "papermill": {
     "duration": 0.020413,
     "end_time": "2023-11-27T16:47:34.258243",
     "exception": false,
     "start_time": "2023-11-27T16:47:34.237830",
     "status": "completed"
    },
    "tags": []
   },
   "outputs": [
    {
     "name": "stdout",
     "output_type": "stream",
     "text": [
      "Grano grueso: large_omnivores_and_herbivores\n",
      "Grano fino: camel\n",
      "Grano fino: cattle\n",
      "Grano fino: chimpanzee\n",
      "Grano fino: elephant\n",
      "Grano fino: kangaroo\n"
     ]
    }
   ],
   "source": [
    "# Me fijo para la categoría anterior, cuáles son las categorías de grano fino\n",
    "coarse = 11\n",
    "print(f\"Grano grueso: {labels_coarse[coarse]}\")\n",
    "for fine in np.unique(y_train_fine[y_train_coarse == coarse]):\n",
    "    print(f\"Grano fino: {labels_fine[fine]}\")"
   ]
  },
  {
   "cell_type": "code",
   "execution_count": 9,
   "id": "7145e011",
   "metadata": {
    "execution": {
     "iopub.execute_input": "2023-11-27T16:47:34.282634Z",
     "iopub.status.busy": "2023-11-27T16:47:34.282360Z",
     "iopub.status.idle": "2023-11-27T16:47:34.704732Z",
     "shell.execute_reply": "2023-11-27T16:47:34.703805Z"
    },
    "papermill": {
     "duration": 0.437076,
     "end_time": "2023-11-27T16:47:34.706930",
     "exception": false,
     "start_time": "2023-11-27T16:47:34.269854",
     "status": "completed"
    },
    "tags": []
   },
   "outputs": [
    {
     "data": {
      "text/plain": [
       "Text(0.5, 1.0, 'Train Composition')"
      ]
     },
     "execution_count": 9,
     "metadata": {},
     "output_type": "execute_result"
    },
    {
     "data": {
      "image/png": "[encoded data removed]",
      "text/plain": [
       "<Figure size 640x480 with 1 Axes>"
      ]
     },
     "metadata": {},
     "output_type": "display_data"
    }
   ],
   "source": [
    "# Hay una misma cantidad de datos de cada clase fina, podriamos confirmar una distribución uniforme\n",
    "count=[np.count_nonzero(y_train_fine==value) for value in range(100)]\n",
    "plt.bar(range(100), count)\n",
    "plt.xlabel('Train fine classes')\n",
    "plt.title('Train Composition')"
   ]
  },
  {
   "cell_type": "markdown",
   "id": "af725c57",
   "metadata": {
    "papermill": {
     "duration": 0.012025,
     "end_time": "2023-11-27T16:47:34.732501",
     "exception": false,
     "start_time": "2023-11-27T16:47:34.720476",
     "status": "completed"
    },
    "tags": []
   },
   "source": [
    "### Data convert to GreyScale: \n",
    "grayImages es el vector con todas las imagenes en escala de grises. Se probó la red con las imagenes en escala de grises y se obtuvo un peor rendimiendo que a color."
   ]
  },
  {
   "cell_type": "code",
   "execution_count": 10,
   "id": "38192691",
   "metadata": {
    "execution": {
     "iopub.execute_input": "2023-11-27T16:47:34.757635Z",
     "iopub.status.busy": "2023-11-27T16:47:34.757333Z",
     "iopub.status.idle": "2023-11-27T16:47:35.983129Z",
     "shell.execute_reply": "2023-11-27T16:47:35.982207Z"
    },
    "papermill": {
     "duration": 1.240694,
     "end_time": "2023-11-27T16:47:35.985188",
     "exception": false,
     "start_time": "2023-11-27T16:47:34.744494",
     "status": "completed"
    },
    "tags": []
   },
   "outputs": [
    {
     "data": {
      "text/plain": [
       "51200000"
      ]
     },
     "execution_count": 10,
     "metadata": {},
     "output_type": "execute_result"
    },
    {
     "data": {
      "image/png": "[encoded data removed]",
      "text/plain": [
       "<Figure size 200x200 with 1 Axes>"
      ]
     },
     "metadata": {},
     "output_type": "display_data"
    }
   ],
   "source": [
    "grayImages = np.dot(x_train[...,:3], [0.2989, 0.5870, 0.1140])\n",
    "plt.figure(figsize=(2,2))\n",
    "plt.imshow(grayImages[0], cmap=plt.get_cmap('gray'), vmin=0, vmax=1)\n",
    "grayImages.size"
   ]
  },
  {
   "cell_type": "markdown",
   "id": "825186ee",
   "metadata": {
    "papermill": {
     "duration": 0.012199,
     "end_time": "2023-11-27T16:47:36.010213",
     "exception": false,
     "start_time": "2023-11-27T16:47:35.998014",
     "status": "completed"
    },
    "tags": []
   },
   "source": [
    "## Preprocess"
   ]
  },
  {
   "cell_type": "code",
   "execution_count": 11,
   "id": "fb37b3a6",
   "metadata": {
    "execution": {
     "iopub.execute_input": "2023-11-27T16:47:36.036085Z",
     "iopub.status.busy": "2023-11-27T16:47:36.035756Z",
     "iopub.status.idle": "2023-11-27T16:47:36.912821Z",
     "shell.execute_reply": "2023-11-27T16:47:36.911735Z"
    },
    "papermill": {
     "duration": 0.893317,
     "end_time": "2023-11-27T16:47:36.915801",
     "exception": false,
     "start_time": "2023-11-27T16:47:36.022484",
     "status": "completed"
    },
    "tags": []
   },
   "outputs": [],
   "source": [
    "from sklearn.model_selection import train_test_split"
   ]
  },
  {
   "cell_type": "code",
   "execution_count": 12,
   "id": "4b81b0d5",
   "metadata": {
    "execution": {
     "iopub.execute_input": "2023-11-27T16:47:36.943821Z",
     "iopub.status.busy": "2023-11-27T16:47:36.943106Z",
     "iopub.status.idle": "2023-11-27T16:47:37.321253Z",
     "shell.execute_reply": "2023-11-27T16:47:37.320172Z"
    },
    "papermill": {
     "duration": 0.394106,
     "end_time": "2023-11-27T16:47:37.323748",
     "exception": false,
     "start_time": "2023-11-27T16:47:36.929642",
     "status": "completed"
    },
    "tags": []
   },
   "outputs": [],
   "source": [
    " x_train, x_val, y_train, y_val = train_test_split(x_train, y_train_fine, test_size=0.2, random_state=42, stratify=y_train_fine)"
   ]
  },
  {
   "cell_type": "markdown",
   "id": "6444b07f",
   "metadata": {
    "papermill": {
     "duration": 0.01235,
     "end_time": "2023-11-27T16:47:37.349034",
     "exception": false,
     "start_time": "2023-11-27T16:47:37.336684",
     "status": "completed"
    },
    "tags": []
   },
   "source": [
    "### Data Augmentation\n",
    "Demostró aumentar significativamente el accuracy "
   ]
  },
  {
   "cell_type": "code",
   "execution_count": 13,
   "id": "1ddcb08d",
   "metadata": {
    "execution": {
     "iopub.execute_input": "2023-11-27T16:47:37.375518Z",
     "iopub.status.busy": "2023-11-27T16:47:37.375241Z",
     "iopub.status.idle": "2023-11-27T16:47:38.346911Z",
     "shell.execute_reply": "2023-11-27T16:47:38.346106Z"
    },
    "papermill": {
     "duration": 0.987544,
     "end_time": "2023-11-27T16:47:38.349262",
     "exception": false,
     "start_time": "2023-11-27T16:47:37.361718",
     "status": "completed"
    },
    "tags": []
   },
   "outputs": [],
   "source": [
    "# Flip images\n",
    "aux = np.flip(x_train, axis=2)\n",
    "x_train_aug2 = np.concatenate((x_train, aux))\n",
    "y_train_fine_aug2 = np.concatenate((y_train, y_train))"
   ]
  },
  {
   "cell_type": "code",
   "execution_count": 14,
   "id": "2f26d132",
   "metadata": {
    "execution": {
     "iopub.execute_input": "2023-11-27T16:47:38.376735Z",
     "iopub.status.busy": "2023-11-27T16:47:38.376460Z",
     "iopub.status.idle": "2023-11-27T16:47:43.258904Z",
     "shell.execute_reply": "2023-11-27T16:47:43.257852Z"
    },
    "papermill": {
     "duration": 4.898224,
     "end_time": "2023-11-27T16:47:43.261226",
     "exception": false,
     "start_time": "2023-11-27T16:47:38.363002",
     "status": "completed"
    },
    "tags": []
   },
   "outputs": [],
   "source": [
    "# Shift one pixel to the left\n",
    "x_train_shift_left = np.array([np.roll(x_train_aug2[i],-2,axis=1) for i in range(len(x_train_aug2))])\n",
    "x_train_aug4 = np.concatenate((x_train_aug2, x_train_shift_left))\n",
    "y_train_fine_aug4 = np.concatenate((y_train_fine_aug2, y_train_fine_aug2))"
   ]
  },
  {
   "cell_type": "markdown",
   "id": "3f05867e",
   "metadata": {
    "papermill": {
     "duration": 0.012352,
     "end_time": "2023-11-27T16:47:43.286637",
     "exception": false,
     "start_time": "2023-11-27T16:47:43.274285",
     "status": "completed"
    },
    "tags": []
   },
   "source": [
    "## Model Training:\n",
    "\n",
    "Se implementaron varios modelos de redes, desde la MLP del TP1 hasta las convolucionales para comparar y poder observar las mejoras"
   ]
  },
  {
   "cell_type": "code",
   "execution_count": 15,
   "id": "e2e21a8d",
   "metadata": {
    "execution": {
     "iopub.execute_input": "2023-11-27T16:47:43.312840Z",
     "iopub.status.busy": "2023-11-27T16:47:43.312565Z",
     "iopub.status.idle": "2023-11-27T16:47:43.449623Z",
     "shell.execute_reply": "2023-11-27T16:47:43.448773Z"
    },
    "papermill": {
     "duration": 0.152588,
     "end_time": "2023-11-27T16:47:43.451723",
     "exception": false,
     "start_time": "2023-11-27T16:47:43.299135",
     "status": "completed"
    },
    "tags": []
   },
   "outputs": [
    {
     "name": "stderr",
     "output_type": "stream",
     "text": [
      "/opt/conda/lib/python3.10/site-packages/tensorflow_addons/utils/tfa_eol_msg.py:23: UserWarning: \n",
      "\n",
      "TensorFlow Addons (TFA) has ended development and introduction of new features.\n",
      "TFA has entered a minimal maintenance and release mode until a planned end of life in May 2024.\n",
      "Please modify downstream libraries to take dependencies from other repositories in our TensorFlow community (e.g. Keras, Keras-CV, and Keras-NLP). \n",
      "\n",
      "For more information see: https://github.com/tensorflow/addons/issues/2807 \n",
      "\n",
      "  warnings.warn(\n"
     ]
    }
   ],
   "source": [
    "# Bibliotecas a utilizar\n",
    "import tensorflow_addons as tfa\n",
    "import tensorflow as tf\n",
    "from tensorflow.keras.models import Sequential\n",
    "from tensorflow.keras.layers import Dense, Dropout, BatchNormalization, Flatten\n",
    "from tensorflow.keras.optimizers import SGD, Adam, RMSprop\n",
    "from tensorflow.keras.regularizers import l1, l2\n",
    "from tensorflow.keras.constraints import MaxNorm\n",
    "from tensorflow.keras import initializers\n",
    "from tensorflow.keras.callbacks import ReduceLROnPlateau, EarlyStopping, ModelCheckpoint, TensorBoard\n",
    "\n",
    "import keras\n",
    "from keras import optimizers\n",
    "from keras.utils import to_categorical\n",
    "from keras.callbacks import ModelCheckpoint, EarlyStopping\n",
    "from keras.models import Model\n",
    "from keras.layers.core import Dense, Flatten, Activation\n",
    "from keras.layers import Conv2D, AveragePooling2D, BatchNormalization, Dropout, MaxPooling2D, Input,Add"
   ]
  },
  {
   "cell_type": "code",
   "execution_count": 16,
   "id": "2800ca8c",
   "metadata": {
    "execution": {
     "iopub.execute_input": "2023-11-27T16:47:43.478230Z",
     "iopub.status.busy": "2023-11-27T16:47:43.477969Z",
     "iopub.status.idle": "2023-11-27T16:47:43.484383Z",
     "shell.execute_reply": "2023-11-27T16:47:43.483504Z"
    },
    "papermill": {
     "duration": 0.021618,
     "end_time": "2023-11-27T16:47:43.486179",
     "exception": false,
     "start_time": "2023-11-27T16:47:43.464561",
     "status": "completed"
    },
    "tags": []
   },
   "outputs": [
    {
     "data": {
      "text/plain": [
       "'\\nmodel = Sequential()\\n#model.add(Flatten(input_shape=(32,32))) #B&W IMAGES\\nmodel.add(Flatten(input_shape=(32,32,3))) #COLOR IMAGES\\nmodel.add(Dense(1024, activation=\\'relu\\', kernel_initializer=initializers.RandomNormal(stddev=0.1), kernel_constraint=MaxNorm(5)))\\nmodel.add(Dropout(0.1))\\nmodel.add(Dense(512, activation=\\'sigmoid\\', kernel_constraint=MaxNorm(5)))\\nmodel.add(Dropout(0.1))\\nmodel.add(Dense(1024, activation=\\'relu\\', kernel_initializer=initializers.RandomNormal(stddev=0.1), kernel_constraint=MaxNorm(5)))\\nmodel.add(Dropout(0.1))\\nmodel.add(Dense(512, activation=\\'sigmoid\\', kernel_constraint=MaxNorm(5)))\\nmodel.add(Dropout(0.1))\\nmodel.add(Dense(100, activation=\"softmax\"))\\nmodel.compile(loss=\"sparse_categorical_crossentropy\", metrics = [\"accuracy\"], optimizer = Adam(learning_rate=0.001))\\n'"
      ]
     },
     "execution_count": 16,
     "metadata": {},
     "output_type": "execute_result"
    }
   ],
   "source": [
    "# MLP - TP1\n",
    "## Best Accuracy (TP1) -> ~30.1%\n",
    "'''\n",
    "model = Sequential()\n",
    "#model.add(Flatten(input_shape=(32,32))) #B&W IMAGES\n",
    "model.add(Flatten(input_shape=(32,32,3))) #COLOR IMAGES\n",
    "model.add(Dense(1024, activation='relu', kernel_initializer=initializers.RandomNormal(stddev=0.1), kernel_constraint=MaxNorm(5)))\n",
    "model.add(Dropout(0.1))\n",
    "model.add(Dense(512, activation='sigmoid', kernel_constraint=MaxNorm(5)))\n",
    "model.add(Dropout(0.1))\n",
    "model.add(Dense(1024, activation='relu', kernel_initializer=initializers.RandomNormal(stddev=0.1), kernel_constraint=MaxNorm(5)))\n",
    "model.add(Dropout(0.1))\n",
    "model.add(Dense(512, activation='sigmoid', kernel_constraint=MaxNorm(5)))\n",
    "model.add(Dropout(0.1))\n",
    "model.add(Dense(100, activation=\"softmax\"))\n",
    "model.compile(loss=\"sparse_categorical_crossentropy\", metrics = [\"accuracy\"], optimizer = Adam(learning_rate=0.001))\n",
    "'''"
   ]
  },
  {
   "cell_type": "code",
   "execution_count": 17,
   "id": "a74f6b0f",
   "metadata": {
    "execution": {
     "iopub.execute_input": "2023-11-27T16:47:43.553458Z",
     "iopub.status.busy": "2023-11-27T16:47:43.553138Z",
     "iopub.status.idle": "2023-11-27T16:47:43.559949Z",
     "shell.execute_reply": "2023-11-27T16:47:43.559088Z"
    },
    "papermill": {
     "duration": 0.022665,
     "end_time": "2023-11-27T16:47:43.561787",
     "exception": false,
     "start_time": "2023-11-27T16:47:43.539122",
     "status": "completed"
    },
    "tags": []
   },
   "outputs": [
    {
     "data": {
      "text/plain": [
       "'\\nnet_input = Input(shape=(32,32,3))\\n\\ndef inception_block(input_layer,filters=64):\\n    tower_1 = Conv2D(filters, (1,1), padding=\\'same\\', activation=\\'relu\\')(input_layer)\\n    tower_1 = Conv2D(filters, (3,3), padding=\\'same\\', activation=\\'relu\\')(tower_1)\\n    tower_2 = Conv2D(filters, (1,1), padding=\\'same\\', activation=\\'relu\\')(input_layer)\\n    tower_2 = Conv2D(64, (5,5), padding=\\'same\\', activation=\\'relu\\')(tower_2)\\n    tower_3 = MaxPooling2D((3,3), strides=(1,1), padding=\\'same\\')(input_layer)\\n    tower_3 = Conv2D(filters, (1,1), padding=\\'same\\', activation=\\'relu\\')(tower_3)\\n    output = keras.layers.concatenate([tower_1, tower_2, tower_3], axis = 3)\\n    return output\\n\\n\\nnet=inception_block(net_input,filters=4)\\nnet=inception_block(net,filters=4)\\nnet=inception_block(net,filters=4)\\nnet=inception_block(net,filters=4)\\n\\nnet=Flatten()(net)\\n\\nnet=Dense(units=1000, activation=\\'relu\\')(net)\\nnet=Dropout(0.1)(net)\\nnet=Dense(units=100, activation = \\'softmax\\')(net)\\n\\nmodel=Model(net_input,net)\\n\\nmodel.compile(loss=\"sparse_categorical_crossentropy\", metrics = [\"accuracy\"], optimizer = Adam(learning_rate=0.001))\\n'"
      ]
     },
     "execution_count": 17,
     "metadata": {},
     "output_type": "execute_result"
    }
   ],
   "source": [
    "# CNN Tipo Inception\n",
    "## Overfitea mucho y no se obtienen val_acurracy elevados\n",
    "## Best Accuracy -> ~37%\n",
    "'''\n",
    "net_input = Input(shape=(32,32,3))\n",
    "\n",
    "def inception_block(input_layer,filters=64):\n",
    "    tower_1 = Conv2D(filters, (1,1), padding='same', activation='relu')(input_layer)\n",
    "    tower_1 = Conv2D(filters, (3,3), padding='same', activation='relu')(tower_1)\n",
    "    tower_2 = Conv2D(filters, (1,1), padding='same', activation='relu')(input_layer)\n",
    "    tower_2 = Conv2D(64, (5,5), padding='same', activation='relu')(tower_2)\n",
    "    tower_3 = MaxPooling2D((3,3), strides=(1,1), padding='same')(input_layer)\n",
    "    tower_3 = Conv2D(filters, (1,1), padding='same', activation='relu')(tower_3)\n",
    "    output = keras.layers.concatenate([tower_1, tower_2, tower_3], axis = 3)\n",
    "    return output\n",
    "\n",
    "\n",
    "net=inception_block(net_input,filters=4)\n",
    "net=inception_block(net,filters=4)\n",
    "net=inception_block(net,filters=4)\n",
    "net=inception_block(net,filters=4)\n",
    "\n",
    "net=Flatten()(net)\n",
    "\n",
    "net=Dense(units=1000, activation='relu')(net)\n",
    "net=Dropout(0.1)(net)\n",
    "net=Dense(units=100, activation = 'softmax')(net)\n",
    "\n",
    "model=Model(net_input,net)\n",
    "\n",
    "model.compile(loss=\"sparse_categorical_crossentropy\", metrics = [\"accuracy\"], optimizer = Adam(learning_rate=0.001))\n",
    "'''"
   ]
  },
  {
   "cell_type": "code",
   "execution_count": 18,
   "id": "c5c46760",
   "metadata": {
    "execution": {
     "iopub.execute_input": "2023-11-27T16:47:43.589081Z",
     "iopub.status.busy": "2023-11-27T16:47:43.588794Z",
     "iopub.status.idle": "2023-11-27T16:47:43.595156Z",
     "shell.execute_reply": "2023-11-27T16:47:43.594337Z"
    },
    "papermill": {
     "duration": 0.022139,
     "end_time": "2023-11-27T16:47:43.596948",
     "exception": false,
     "start_time": "2023-11-27T16:47:43.574809",
     "status": "completed"
    },
    "tags": []
   },
   "outputs": [
    {
     "data": {
      "text/plain": [
       "'\\nmodel = Sequential()\\n\\nmodel.add(Conv2D(filters=32, kernel_size=(3, 3), input_shape=(32,32,3), padding=\\'same\\'))\\nmodel.add(BatchNormalization())\\nmodel.add(Activation(\\'relu\\'))\\nmodel.add(MaxPooling2D())\\n\\nmodel.add(Conv2D(filters=64, kernel_size=(3, 3), padding=\\'same\\'))\\nmodel.add(BatchNormalization())\\nmodel.add(Activation(\\'relu\\'))\\nmodel.add(MaxPooling2D())\\n\\nmodel.add(Conv2D(filters=128, kernel_size=(3, 3), padding=\\'same\\'))\\nmodel.add(BatchNormalization())\\nmodel.add(Activation(\\'relu\\'))\\nmodel.add(MaxPooling2D())\\n\\nmodel.add(Flatten())\\n\\nmodel.add(Dense(1024, activation=\\'relu\\', kernel_constraint=MaxNorm(5)))\\nmodel.add(Dropout(0.1))\\n\\nmodel.add(Dense(units=100, activation = \\'softmax\\'))\\n\\nmodel.compile(loss=\"sparse_categorical_crossentropy\", metrics = [\"accuracy\"], optimizer = Adam(learning_rate=0.001))\\n'"
      ]
     },
     "execution_count": 18,
     "metadata": {},
     "output_type": "execute_result"
    }
   ],
   "source": [
    "# CNN Tipo VGG simple\n",
    "## Best Accuracy -> ~52.3%\n",
    "'''\n",
    "model = Sequential()\n",
    "\n",
    "model.add(Conv2D(filters=32, kernel_size=(3, 3), input_shape=(32,32,3), padding='same'))\n",
    "model.add(BatchNormalization())\n",
    "model.add(Activation('relu'))\n",
    "model.add(MaxPooling2D())\n",
    "\n",
    "model.add(Conv2D(filters=64, kernel_size=(3, 3), padding='same'))\n",
    "model.add(BatchNormalization())\n",
    "model.add(Activation('relu'))\n",
    "model.add(MaxPooling2D())\n",
    "\n",
    "model.add(Conv2D(filters=128, kernel_size=(3, 3), padding='same'))\n",
    "model.add(BatchNormalization())\n",
    "model.add(Activation('relu'))\n",
    "model.add(MaxPooling2D())\n",
    "\n",
    "model.add(Flatten())\n",
    "\n",
    "model.add(Dense(1024, activation='relu', kernel_constraint=MaxNorm(5)))\n",
    "model.add(Dropout(0.1))\n",
    "\n",
    "model.add(Dense(units=100, activation = 'softmax'))\n",
    "\n",
    "model.compile(loss=\"sparse_categorical_crossentropy\", metrics = [\"accuracy\"], optimizer = Adam(learning_rate=0.001))\n",
    "'''"
   ]
  },
  {
   "cell_type": "code",
   "execution_count": 19,
   "id": "ba912085",
   "metadata": {
    "execution": {
     "iopub.execute_input": "2023-11-27T16:47:43.624647Z",
     "iopub.status.busy": "2023-11-27T16:47:43.624411Z",
     "iopub.status.idle": "2023-11-27T16:47:45.997776Z",
     "shell.execute_reply": "2023-11-27T16:47:45.996947Z"
    },
    "papermill": {
     "duration": 2.389985,
     "end_time": "2023-11-27T16:47:46.000184",
     "exception": false,
     "start_time": "2023-11-27T16:47:43.610199",
     "status": "completed"
    },
    "tags": []
   },
   "outputs": [],
   "source": [
    "steps_per_epoch = len(x_train_aug4) // 64\n",
    "clr = tfa.optimizers.CyclicalLearningRate(initial_learning_rate=0.001,\n",
    "    maximal_learning_rate=0.006,\n",
    "    scale_fn=lambda x: 1/(2.**(x-1)),\n",
    "    step_size=2 * steps_per_epoch\n",
    ")\n",
    "optimizer = tf.keras.optimizers.SGD(clr)"
   ]
  },
  {
   "cell_type": "code",
   "execution_count": 20,
   "id": "24d288f3",
   "metadata": {
    "execution": {
     "iopub.execute_input": "2023-11-27T16:47:46.029518Z",
     "iopub.status.busy": "2023-11-27T16:47:46.028647Z",
     "iopub.status.idle": "2023-11-27T16:47:47.000383Z",
     "shell.execute_reply": "2023-11-27T16:47:46.999622Z"
    },
    "papermill": {
     "duration": 0.988483,
     "end_time": "2023-11-27T16:47:47.002689",
     "exception": false,
     "start_time": "2023-11-27T16:47:46.014206",
     "status": "completed"
    },
    "tags": []
   },
   "outputs": [],
   "source": [
    "# CNN Tipo ResNET\n",
    "## Por ahora viene siendo la mejor \n",
    "## Best Accuracy -> ~62%\n",
    "\n",
    "net_input = Input(shape=(32,32,3))\n",
    "\n",
    "def res_block_first(input_layer,filters=16):\n",
    "    \n",
    "    #Primera capa\n",
    "    net=Conv2D(filters=filters, kernel_size=(3, 3), padding='same')(input_layer)\n",
    "    aux_net=BatchNormalization()(net)\n",
    "    \n",
    "    #conexión directa\n",
    "    net=Conv2D(filters=filters, kernel_size=(3, 3), padding='same')(aux_net)\n",
    "    net=BatchNormalization()(net)\n",
    "    net=Activation(\"relu\")(net)\n",
    "    \n",
    "    net=Conv2D(filters=filters, kernel_size=(3, 3), padding='same')(net)\n",
    "    net=BatchNormalization()(net)\n",
    "    net=Activation(\"relu\")(net)\n",
    "    \n",
    "    net=Conv2D(filters=filters, kernel_size=(3, 3), padding='same')(net)\n",
    "    net=BatchNormalization()(net)\n",
    "    \n",
    "    #Shortcut\n",
    "    net=Add()([aux_net,net])\n",
    "    \n",
    "    net=Activation(\"relu\")(net)\n",
    "    net=MaxPooling2D()(net)\n",
    "    \n",
    "    return net\n",
    "\n",
    "def res_block(input_layer,filters=16):\n",
    "    net=Conv2D(filters=filters, kernel_size=(3, 3), padding='same')(input_layer)\n",
    "    net=BatchNormalization()(net)\n",
    "    net=Activation(\"relu\")(net)\n",
    "    \n",
    "    net=Conv2D(filters=filters, kernel_size=(5, 5), padding='same')(net)\n",
    "    net=BatchNormalization()(net)\n",
    "    net=Activation(\"relu\")(net)\n",
    "    \n",
    "    net=Conv2D(filters=filters, kernel_size=(3, 3), padding='same')(net)\n",
    "    net=BatchNormalization()(net)\n",
    "    \n",
    "    #Shortcut\n",
    "    net=Add()([input_layer,net])\n",
    "    net=Activation(\"relu\")(net)\n",
    "    \n",
    "    return net\n",
    "\n",
    "def res_block_dec(input_layer,filters=32):\n",
    "    \n",
    "    input_layer=MaxPooling2D()(input_layer)\n",
    "    net=Conv2D(filters=filters, kernel_size=(1, 1), padding='same')(input_layer)\n",
    "    aux_net=BatchNormalization()(net)\n",
    "    \n",
    "    #conexión directa\n",
    "    \n",
    "    net=Conv2D(filters=filters, kernel_size=(3, 3), padding='same')(input_layer)\n",
    "    net=BatchNormalization()(net)\n",
    "    net=Activation(\"relu\")(net)\n",
    "    \n",
    "    net=Conv2D(filters=filters, kernel_size=(3, 3), padding='same')(net)\n",
    "    net=BatchNormalization()(net)\n",
    "    net=Activation(\"relu\")(net)\n",
    "    \n",
    "    net=Conv2D(filters=filters, kernel_size=(3, 3), padding='same')(net)\n",
    "    net=BatchNormalization()(net)\n",
    "    net=Add()([aux_net,net])\n",
    "    net=Activation(\"relu\")(net)\n",
    "    \n",
    "    return net\n",
    "\n",
    "net=res_block_first(net_input,filters=32)\n",
    "net=res_block(net,filters=32)\n",
    "net=res_block(net,filters=32)\n",
    "net=res_block(net,filters=32)\n",
    "\n",
    "net=res_block_dec(net,filters=64)\n",
    "net=res_block(net,filters=64)\n",
    "net=res_block(net,filters=64)\n",
    "net=res_block(net,filters=64)\n",
    "\n",
    "net=res_block_dec(net,filters=128)\n",
    "net=res_block(net,filters=128)\n",
    "net=res_block(net,filters=128)\n",
    "net=res_block(net,filters=128)\n",
    "\n",
    "\n",
    "net = AveragePooling2D()(net)\n",
    "\n",
    "net=Flatten()(net)\n",
    "\n",
    "net=Dense(units=1024, activation='relu', kernel_constraint=MaxNorm(5))(net)\n",
    "net=Dropout(0.2)(net)\n",
    "net=Dense(units=100, activation = 'softmax')(net)\n",
    "\n",
    "model=Model(net_input,net)\n",
    "\n",
    "model.compile(loss=\"sparse_categorical_crossentropy\", metrics = [\"accuracy\"], optimizer = Adam(learning_rate=0.001))\n",
    "# Use for CyclicalLearningRate\n",
    "#model.compile(loss=\"sparse_categorical_crossentropy\", metrics = [\"accuracy\"], optimizer = optimizer)\n"
   ]
  },
  {
   "cell_type": "code",
   "execution_count": 21,
   "id": "270b17b7",
   "metadata": {
    "execution": {
     "iopub.execute_input": "2023-11-27T16:47:47.034957Z",
     "iopub.status.busy": "2023-11-27T16:47:47.034592Z",
     "iopub.status.idle": "2023-11-27T16:47:47.332420Z",
     "shell.execute_reply": "2023-11-27T16:47:47.331523Z"
    },
    "papermill": {
     "duration": 0.409188,
     "end_time": "2023-11-27T16:47:47.426815",
     "exception": false,
     "start_time": "2023-11-27T16:47:47.017627",
     "status": "completed"
    },
    "tags": []
   },
   "outputs": [
    {
     "name": "stdout",
     "output_type": "stream",
     "text": [
      "Model: \"model\"\n",
      "__________________________________________________________________________________________________\n",
      " Layer (type)                   Output Shape         Param #     Connected to                     \n",
      "==================================================================================================\n",
      " input_1 (InputLayer)           [(None, 32, 32, 3)]  0           []                               \n",
      "                                                                                                  \n",
      " conv2d (Conv2D)                (None, 32, 32, 32)   896         ['input_1[0][0]']                \n",
      "                                                                                                  \n",
      " batch_normalization (BatchNorm  (None, 32, 32, 32)  128         ['conv2d[0][0]']                 \n",
      " alization)                                                                                       \n",
      "                                                                                                  \n",
      " conv2d_1 (Conv2D)              (None, 32, 32, 32)   9248        ['batch_normalization[0][0]']    \n",
      "                                                                                                  \n",
      " batch_normalization_1 (BatchNo  (None, 32, 32, 32)  128         ['conv2d_1[0][0]']               \n",
      " rmalization)                                                                                     \n",
      "                                                                                                  \n",
      " activation (Activation)        (None, 32, 32, 32)   0           ['batch_normalization_1[0][0]']  \n",
      "                                                                                                  \n",
      " conv2d_2 (Conv2D)              (None, 32, 32, 32)   9248        ['activation[0][0]']             \n",
      "                                                                                                  \n",
      " batch_normalization_2 (BatchNo  (None, 32, 32, 32)  128         ['conv2d_2[0][0]']               \n",
      " rmalization)                                                                                     \n",
      "                                                                                                  \n",
      " activation_1 (Activation)      (None, 32, 32, 32)   0           ['batch_normalization_2[0][0]']  \n",
      "                                                                                                  \n",
      " conv2d_3 (Conv2D)              (None, 32, 32, 32)   9248        ['activation_1[0][0]']           \n",
      "                                                                                                  \n",
      " batch_normalization_3 (BatchNo  (None, 32, 32, 32)  128         ['conv2d_3[0][0]']               \n",
      " rmalization)                                                                                     \n",
      "                                                                                                  \n",
      " add (Add)                      (None, 32, 32, 32)   0           ['batch_normalization[0][0]',    \n",
      "                                                                  'batch_normalization_3[0][0]']  \n",
      "                                                                                                  \n",
      " activation_2 (Activation)      (None, 32, 32, 32)   0           ['add[0][0]']                    \n",
      "                                                                                                  \n",
      " max_pooling2d (MaxPooling2D)   (None, 16, 16, 32)   0           ['activation_2[0][0]']           \n",
      "                                                                                                  \n",
      " conv2d_4 (Conv2D)              (None, 16, 16, 32)   9248        ['max_pooling2d[0][0]']          \n",
      "                                                                                                  \n",
      " batch_normalization_4 (BatchNo  (None, 16, 16, 32)  128         ['conv2d_4[0][0]']               \n",
      " rmalization)                                                                                     \n",
      "                                                                                                  \n",
      " activation_3 (Activation)      (None, 16, 16, 32)   0           ['batch_normalization_4[0][0]']  \n",
      "                                                                                                  \n",
      " conv2d_5 (Conv2D)              (None, 16, 16, 32)   25632       ['activation_3[0][0]']           \n",
      "                                                                                                  \n",
      " batch_normalization_5 (BatchNo  (None, 16, 16, 32)  128         ['conv2d_5[0][0]']               \n",
      " rmalization)                                                                                     \n",
      "                                                                                                  \n",
      " activation_4 (Activation)      (None, 16, 16, 32)   0           ['batch_normalization_5[0][0]']  \n",
      "                                                                                                  \n",
      " conv2d_6 (Conv2D)              (None, 16, 16, 32)   9248        ['activation_4[0][0]']           \n",
      "                                                                                                  \n",
      " batch_normalization_6 (BatchNo  (None, 16, 16, 32)  128         ['conv2d_6[0][0]']               \n",
      " rmalization)                                                                                     \n",
      "                                                                                                  \n",
      " add_1 (Add)                    (None, 16, 16, 32)   0           ['max_pooling2d[0][0]',          \n",
      "                                                                  'batch_normalization_6[0][0]']  \n",
      "                                                                                                  \n",
      " activation_5 (Activation)      (None, 16, 16, 32)   0           ['add_1[0][0]']                  \n",
      "                                                                                                  \n",
      " conv2d_7 (Conv2D)              (None, 16, 16, 32)   9248        ['activation_5[0][0]']           \n",
      "                                                                                                  \n",
      " batch_normalization_7 (BatchNo  (None, 16, 16, 32)  128         ['conv2d_7[0][0]']               \n",
      " rmalization)                                                                                     \n",
      "                                                                                                  \n",
      " activation_6 (Activation)      (None, 16, 16, 32)   0           ['batch_normalization_7[0][0]']  \n",
      "                                                                                                  \n",
      " conv2d_8 (Conv2D)              (None, 16, 16, 32)   25632       ['activation_6[0][0]']           \n",
      "                                                                                                  \n",
      " batch_normalization_8 (BatchNo  (None, 16, 16, 32)  128         ['conv2d_8[0][0]']               \n",
      " rmalization)                                                                                     \n",
      "                                                                                                  \n",
      " activation_7 (Activation)      (None, 16, 16, 32)   0           ['batch_normalization_8[0][0]']  \n",
      "                                                                                                  \n",
      " conv2d_9 (Conv2D)              (None, 16, 16, 32)   9248        ['activation_7[0][0]']           \n",
      "                                                                                                  \n",
      " batch_normalization_9 (BatchNo  (None, 16, 16, 32)  128         ['conv2d_9[0][0]']               \n",
      " rmalization)                                                                                     \n",
      "                                                                                                  \n",
      " add_2 (Add)                    (None, 16, 16, 32)   0           ['activation_5[0][0]',           \n",
      "                                                                  'batch_normalization_9[0][0]']  \n",
      "                                                                                                  \n",
      " activation_8 (Activation)      (None, 16, 16, 32)   0           ['add_2[0][0]']                  \n",
      "                                                                                                  \n",
      " conv2d_10 (Conv2D)             (None, 16, 16, 32)   9248        ['activation_8[0][0]']           \n",
      "                                                                                                  \n",
      " batch_normalization_10 (BatchN  (None, 16, 16, 32)  128         ['conv2d_10[0][0]']              \n",
      " ormalization)                                                                                    \n",
      "                                                                                                  \n",
      " activation_9 (Activation)      (None, 16, 16, 32)   0           ['batch_normalization_10[0][0]'] \n",
      "                                                                                                  \n",
      " conv2d_11 (Conv2D)             (None, 16, 16, 32)   25632       ['activation_9[0][0]']           \n",
      "                                                                                                  \n",
      " batch_normalization_11 (BatchN  (None, 16, 16, 32)  128         ['conv2d_11[0][0]']              \n",
      " ormalization)                                                                                    \n",
      "                                                                                                  \n",
      " activation_10 (Activation)     (None, 16, 16, 32)   0           ['batch_normalization_11[0][0]'] \n",
      "                                                                                                  \n",
      " conv2d_12 (Conv2D)             (None, 16, 16, 32)   9248        ['activation_10[0][0]']          \n",
      "                                                                                                  \n",
      " batch_normalization_12 (BatchN  (None, 16, 16, 32)  128         ['conv2d_12[0][0]']              \n",
      " ormalization)                                                                                    \n",
      "                                                                                                  \n",
      " add_3 (Add)                    (None, 16, 16, 32)   0           ['activation_8[0][0]',           \n",
      "                                                                  'batch_normalization_12[0][0]'] \n",
      "                                                                                                  \n",
      " activation_11 (Activation)     (None, 16, 16, 32)   0           ['add_3[0][0]']                  \n",
      "                                                                                                  \n",
      " max_pooling2d_1 (MaxPooling2D)  (None, 8, 8, 32)    0           ['activation_11[0][0]']          \n",
      "                                                                                                  \n",
      " conv2d_14 (Conv2D)             (None, 8, 8, 64)     18496       ['max_pooling2d_1[0][0]']        \n",
      "                                                                                                  \n",
      " batch_normalization_14 (BatchN  (None, 8, 8, 64)    256         ['conv2d_14[0][0]']              \n",
      " ormalization)                                                                                    \n",
      "                                                                                                  \n",
      " activation_12 (Activation)     (None, 8, 8, 64)     0           ['batch_normalization_14[0][0]'] \n",
      "                                                                                                  \n",
      " conv2d_15 (Conv2D)             (None, 8, 8, 64)     36928       ['activation_12[0][0]']          \n",
      "                                                                                                  \n",
      " batch_normalization_15 (BatchN  (None, 8, 8, 64)    256         ['conv2d_15[0][0]']              \n",
      " ormalization)                                                                                    \n",
      "                                                                                                  \n",
      " activation_13 (Activation)     (None, 8, 8, 64)     0           ['batch_normalization_15[0][0]'] \n",
      "                                                                                                  \n",
      " conv2d_13 (Conv2D)             (None, 8, 8, 64)     2112        ['max_pooling2d_1[0][0]']        \n",
      "                                                                                                  \n",
      " conv2d_16 (Conv2D)             (None, 8, 8, 64)     36928       ['activation_13[0][0]']          \n",
      "                                                                                                  \n",
      " batch_normalization_13 (BatchN  (None, 8, 8, 64)    256         ['conv2d_13[0][0]']              \n",
      " ormalization)                                                                                    \n",
      "                                                                                                  \n",
      " batch_normalization_16 (BatchN  (None, 8, 8, 64)    256         ['conv2d_16[0][0]']              \n",
      " ormalization)                                                                                    \n",
      "                                                                                                  \n",
      " add_4 (Add)                    (None, 8, 8, 64)     0           ['batch_normalization_13[0][0]', \n",
      "                                                                  'batch_normalization_16[0][0]'] \n",
      "                                                                                                  \n",
      " activation_14 (Activation)     (None, 8, 8, 64)     0           ['add_4[0][0]']                  \n",
      "                                                                                                  \n",
      " conv2d_17 (Conv2D)             (None, 8, 8, 64)     36928       ['activation_14[0][0]']          \n",
      "                                                                                                  \n",
      " batch_normalization_17 (BatchN  (None, 8, 8, 64)    256         ['conv2d_17[0][0]']              \n",
      " ormalization)                                                                                    \n",
      "                                                                                                  \n",
      " activation_15 (Activation)     (None, 8, 8, 64)     0           ['batch_normalization_17[0][0]'] \n",
      "                                                                                                  \n",
      " conv2d_18 (Conv2D)             (None, 8, 8, 64)     102464      ['activation_15[0][0]']          \n",
      "                                                                                                  \n",
      " batch_normalization_18 (BatchN  (None, 8, 8, 64)    256         ['conv2d_18[0][0]']              \n",
      " ormalization)                                                                                    \n",
      "                                                                                                  \n",
      " activation_16 (Activation)     (None, 8, 8, 64)     0           ['batch_normalization_18[0][0]'] \n",
      "                                                                                                  \n",
      " conv2d_19 (Conv2D)             (None, 8, 8, 64)     36928       ['activation_16[0][0]']          \n",
      "                                                                                                  \n",
      " batch_normalization_19 (BatchN  (None, 8, 8, 64)    256         ['conv2d_19[0][0]']              \n",
      " ormalization)                                                                                    \n",
      "                                                                                                  \n",
      " add_5 (Add)                    (None, 8, 8, 64)     0           ['activation_14[0][0]',          \n",
      "                                                                  'batch_normalization_19[0][0]'] \n",
      "                                                                                                  \n",
      " activation_17 (Activation)     (None, 8, 8, 64)     0           ['add_5[0][0]']                  \n",
      "                                                                                                  \n",
      " conv2d_20 (Conv2D)             (None, 8, 8, 64)     36928       ['activation_17[0][0]']          \n",
      "                                                                                                  \n",
      " batch_normalization_20 (BatchN  (None, 8, 8, 64)    256         ['conv2d_20[0][0]']              \n",
      " ormalization)                                                                                    \n",
      "                                                                                                  \n",
      " activation_18 (Activation)     (None, 8, 8, 64)     0           ['batch_normalization_20[0][0]'] \n",
      "                                                                                                  \n",
      " conv2d_21 (Conv2D)             (None, 8, 8, 64)     102464      ['activation_18[0][0]']          \n",
      "                                                                                                  \n",
      " batch_normalization_21 (BatchN  (None, 8, 8, 64)    256         ['conv2d_21[0][0]']              \n",
      " ormalization)                                                                                    \n",
      "                                                                                                  \n",
      " activation_19 (Activation)     (None, 8, 8, 64)     0           ['batch_normalization_21[0][0]'] \n",
      "                                                                                                  \n",
      " conv2d_22 (Conv2D)             (None, 8, 8, 64)     36928       ['activation_19[0][0]']          \n",
      "                                                                                                  \n",
      " batch_normalization_22 (BatchN  (None, 8, 8, 64)    256         ['conv2d_22[0][0]']              \n",
      " ormalization)                                                                                    \n",
      "                                                                                                  \n",
      " add_6 (Add)                    (None, 8, 8, 64)     0           ['activation_17[0][0]',          \n",
      "                                                                  'batch_normalization_22[0][0]'] \n",
      "                                                                                                  \n",
      " activation_20 (Activation)     (None, 8, 8, 64)     0           ['add_6[0][0]']                  \n",
      "                                                                                                  \n",
      " conv2d_23 (Conv2D)             (None, 8, 8, 64)     36928       ['activation_20[0][0]']          \n",
      "                                                                                                  \n",
      " batch_normalization_23 (BatchN  (None, 8, 8, 64)    256         ['conv2d_23[0][0]']              \n",
      " ormalization)                                                                                    \n",
      "                                                                                                  \n",
      " activation_21 (Activation)     (None, 8, 8, 64)     0           ['batch_normalization_23[0][0]'] \n",
      "                                                                                                  \n",
      " conv2d_24 (Conv2D)             (None, 8, 8, 64)     102464      ['activation_21[0][0]']          \n",
      "                                                                                                  \n",
      " batch_normalization_24 (BatchN  (None, 8, 8, 64)    256         ['conv2d_24[0][0]']              \n",
      " ormalization)                                                                                    \n",
      "                                                                                                  \n",
      " activation_22 (Activation)     (None, 8, 8, 64)     0           ['batch_normalization_24[0][0]'] \n",
      "                                                                                                  \n",
      " conv2d_25 (Conv2D)             (None, 8, 8, 64)     36928       ['activation_22[0][0]']          \n",
      "                                                                                                  \n",
      " batch_normalization_25 (BatchN  (None, 8, 8, 64)    256         ['conv2d_25[0][0]']              \n",
      " ormalization)                                                                                    \n",
      "                                                                                                  \n",
      " add_7 (Add)                    (None, 8, 8, 64)     0           ['activation_20[0][0]',          \n",
      "                                                                  'batch_normalization_25[0][0]'] \n",
      "                                                                                                  \n",
      " activation_23 (Activation)     (None, 8, 8, 64)     0           ['add_7[0][0]']                  \n",
      "                                                                                                  \n",
      " max_pooling2d_2 (MaxPooling2D)  (None, 4, 4, 64)    0           ['activation_23[0][0]']          \n",
      "                                                                                                  \n",
      " conv2d_27 (Conv2D)             (None, 4, 4, 128)    73856       ['max_pooling2d_2[0][0]']        \n",
      "                                                                                                  \n",
      " batch_normalization_27 (BatchN  (None, 4, 4, 128)   512         ['conv2d_27[0][0]']              \n",
      " ormalization)                                                                                    \n",
      "                                                                                                  \n",
      " activation_24 (Activation)     (None, 4, 4, 128)    0           ['batch_normalization_27[0][0]'] \n",
      "                                                                                                  \n",
      " conv2d_28 (Conv2D)             (None, 4, 4, 128)    147584      ['activation_24[0][0]']          \n",
      "                                                                                                  \n",
      " batch_normalization_28 (BatchN  (None, 4, 4, 128)   512         ['conv2d_28[0][0]']              \n",
      " ormalization)                                                                                    \n",
      "                                                                                                  \n",
      " activation_25 (Activation)     (None, 4, 4, 128)    0           ['batch_normalization_28[0][0]'] \n",
      "                                                                                                  \n",
      " conv2d_26 (Conv2D)             (None, 4, 4, 128)    8320        ['max_pooling2d_2[0][0]']        \n",
      "                                                                                                  \n",
      " conv2d_29 (Conv2D)             (None, 4, 4, 128)    147584      ['activation_25[0][0]']          \n",
      "                                                                                                  \n",
      " batch_normalization_26 (BatchN  (None, 4, 4, 128)   512         ['conv2d_26[0][0]']              \n",
      " ormalization)                                                                                    \n",
      "                                                                                                  \n",
      " batch_normalization_29 (BatchN  (None, 4, 4, 128)   512         ['conv2d_29[0][0]']              \n",
      " ormalization)                                                                                    \n",
      "                                                                                                  \n",
      " add_8 (Add)                    (None, 4, 4, 128)    0           ['batch_normalization_26[0][0]', \n",
      "                                                                  'batch_normalization_29[0][0]'] \n",
      "                                                                                                  \n",
      " activation_26 (Activation)     (None, 4, 4, 128)    0           ['add_8[0][0]']                  \n",
      "                                                                                                  \n",
      " conv2d_30 (Conv2D)             (None, 4, 4, 128)    147584      ['activation_26[0][0]']          \n",
      "                                                                                                  \n",
      " batch_normalization_30 (BatchN  (None, 4, 4, 128)   512         ['conv2d_30[0][0]']              \n",
      " ormalization)                                                                                    \n",
      "                                                                                                  \n",
      " activation_27 (Activation)     (None, 4, 4, 128)    0           ['batch_normalization_30[0][0]'] \n",
      "                                                                                                  \n",
      " conv2d_31 (Conv2D)             (None, 4, 4, 128)    409728      ['activation_27[0][0]']          \n",
      "                                                                                                  \n",
      " batch_normalization_31 (BatchN  (None, 4, 4, 128)   512         ['conv2d_31[0][0]']              \n",
      " ormalization)                                                                                    \n",
      "                                                                                                  \n",
      " activation_28 (Activation)     (None, 4, 4, 128)    0           ['batch_normalization_31[0][0]'] \n",
      "                                                                                                  \n",
      " conv2d_32 (Conv2D)             (None, 4, 4, 128)    147584      ['activation_28[0][0]']          \n",
      "                                                                                                  \n",
      " batch_normalization_32 (BatchN  (None, 4, 4, 128)   512         ['conv2d_32[0][0]']              \n",
      " ormalization)                                                                                    \n",
      "                                                                                                  \n",
      " add_9 (Add)                    (None, 4, 4, 128)    0           ['activation_26[0][0]',          \n",
      "                                                                  'batch_normalization_32[0][0]'] \n",
      "                                                                                                  \n",
      " activation_29 (Activation)     (None, 4, 4, 128)    0           ['add_9[0][0]']                  \n",
      "                                                                                                  \n",
      " conv2d_33 (Conv2D)             (None, 4, 4, 128)    147584      ['activation_29[0][0]']          \n",
      "                                                                                                  \n",
      " batch_normalization_33 (BatchN  (None, 4, 4, 128)   512         ['conv2d_33[0][0]']              \n",
      " ormalization)                                                                                    \n",
      "                                                                                                  \n",
      " activation_30 (Activation)     (None, 4, 4, 128)    0           ['batch_normalization_33[0][0]'] \n",
      "                                                                                                  \n",
      " conv2d_34 (Conv2D)             (None, 4, 4, 128)    409728      ['activation_30[0][0]']          \n",
      "                                                                                                  \n",
      " batch_normalization_34 (BatchN  (None, 4, 4, 128)   512         ['conv2d_34[0][0]']              \n",
      " ormalization)                                                                                    \n",
      "                                                                                                  \n",
      " activation_31 (Activation)     (None, 4, 4, 128)    0           ['batch_normalization_34[0][0]'] \n",
      "                                                                                                  \n",
      " conv2d_35 (Conv2D)             (None, 4, 4, 128)    147584      ['activation_31[0][0]']          \n",
      "                                                                                                  \n",
      " batch_normalization_35 (BatchN  (None, 4, 4, 128)   512         ['conv2d_35[0][0]']              \n",
      " ormalization)                                                                                    \n",
      "                                                                                                  \n",
      " add_10 (Add)                   (None, 4, 4, 128)    0           ['activation_29[0][0]',          \n",
      "                                                                  'batch_normalization_35[0][0]'] \n",
      "                                                                                                  \n",
      " activation_32 (Activation)     (None, 4, 4, 128)    0           ['add_10[0][0]']                 \n",
      "                                                                                                  \n",
      " conv2d_36 (Conv2D)             (None, 4, 4, 128)    147584      ['activation_32[0][0]']          \n",
      "                                                                                                  \n",
      " batch_normalization_36 (BatchN  (None, 4, 4, 128)   512         ['conv2d_36[0][0]']              \n",
      " ormalization)                                                                                    \n",
      "                                                                                                  \n",
      " activation_33 (Activation)     (None, 4, 4, 128)    0           ['batch_normalization_36[0][0]'] \n",
      "                                                                                                  \n",
      " conv2d_37 (Conv2D)             (None, 4, 4, 128)    409728      ['activation_33[0][0]']          \n",
      "                                                                                                  \n",
      " batch_normalization_37 (BatchN  (None, 4, 4, 128)   512         ['conv2d_37[0][0]']              \n",
      " ormalization)                                                                                    \n",
      "                                                                                                  \n",
      " activation_34 (Activation)     (None, 4, 4, 128)    0           ['batch_normalization_37[0][0]'] \n",
      "                                                                                                  \n",
      " conv2d_38 (Conv2D)             (None, 4, 4, 128)    147584      ['activation_34[0][0]']          \n",
      "                                                                                                  \n",
      " batch_normalization_38 (BatchN  (None, 4, 4, 128)   512         ['conv2d_38[0][0]']              \n",
      " ormalization)                                                                                    \n",
      "                                                                                                  \n",
      " add_11 (Add)                   (None, 4, 4, 128)    0           ['activation_32[0][0]',          \n",
      "                                                                  'batch_normalization_38[0][0]'] \n",
      "                                                                                                  \n",
      " activation_35 (Activation)     (None, 4, 4, 128)    0           ['add_11[0][0]']                 \n",
      "                                                                                                  \n",
      " average_pooling2d (AveragePool  (None, 2, 2, 128)   0           ['activation_35[0][0]']          \n",
      " ing2D)                                                                                           \n",
      "                                                                                                  \n",
      " flatten (Flatten)              (None, 512)          0           ['average_pooling2d[0][0]']      \n",
      "                                                                                                  \n",
      " dense (Dense)                  (None, 1024)         525312      ['flatten[0][0]']                \n",
      "                                                                                                  \n",
      " dropout (Dropout)              (None, 1024)         0           ['dense[0][0]']                  \n",
      "                                                                                                  \n",
      " dense_1 (Dense)                (None, 100)          102500      ['dropout[0][0]']                \n",
      "                                                                                                  \n",
      "==================================================================================================\n",
      "Total params: 3,915,940\n",
      "Trainable params: 3,910,116\n",
      "Non-trainable params: 5,824\n",
      "__________________________________________________________________________________________________\n"
     ]
    }
   ],
   "source": [
    "# Descomentar para visualidar las capas de la red\n",
    "model.summary()"
   ]
  },
  {
   "cell_type": "code",
   "execution_count": 22,
   "id": "4a54e879",
   "metadata": {
    "execution": {
     "iopub.execute_input": "2023-11-27T16:47:47.504252Z",
     "iopub.status.busy": "2023-11-27T16:47:47.503927Z",
     "iopub.status.idle": "2023-11-27T16:47:47.507794Z",
     "shell.execute_reply": "2023-11-27T16:47:47.506928Z"
    },
    "papermill": {
     "duration": 0.044438,
     "end_time": "2023-11-27T16:47:47.509720",
     "exception": false,
     "start_time": "2023-11-27T16:47:47.465282",
     "status": "completed"
    },
    "tags": []
   },
   "outputs": [],
   "source": [
    "# Descomentar para visualidar las capas de la red\n",
    "#plot_model(model,show_shapes=True,show_layer_names=True)"
   ]
  },
  {
   "cell_type": "markdown",
   "id": "6fd709c6",
   "metadata": {
    "papermill": {
     "duration": 0.037006,
     "end_time": "2023-11-27T16:47:47.584921",
     "exception": false,
     "start_time": "2023-11-27T16:47:47.547915",
     "status": "completed"
    },
    "tags": []
   },
   "source": [
    "### Callbacks:"
   ]
  },
  {
   "cell_type": "code",
   "execution_count": 23,
   "id": "958eb998",
   "metadata": {
    "execution": {
     "iopub.execute_input": "2023-11-27T16:47:47.661696Z",
     "iopub.status.busy": "2023-11-27T16:47:47.660703Z",
     "iopub.status.idle": "2023-11-27T16:47:47.665372Z",
     "shell.execute_reply": "2023-11-27T16:47:47.664642Z"
    },
    "papermill": {
     "duration": 0.045033,
     "end_time": "2023-11-27T16:47:47.667329",
     "exception": false,
     "start_time": "2023-11-27T16:47:47.622296",
     "status": "completed"
    },
    "tags": []
   },
   "outputs": [],
   "source": [
    "rlrop = ReduceLROnPlateau(\n",
    "    monitor = \"val_accuracy\",\n",
    "    factor = 0.5,\n",
    "    patience = 5,\n",
    "    verbose = 1,\n",
    "    min_lr = 1e-5\n",
    ")"
   ]
  },
  {
   "cell_type": "code",
   "execution_count": 24,
   "id": "06cc92f0",
   "metadata": {
    "execution": {
     "iopub.execute_input": "2023-11-27T16:47:47.743875Z",
     "iopub.status.busy": "2023-11-27T16:47:47.743305Z",
     "iopub.status.idle": "2023-11-27T16:47:47.747533Z",
     "shell.execute_reply": "2023-11-27T16:47:47.746727Z"
    },
    "papermill": {
     "duration": 0.044764,
     "end_time": "2023-11-27T16:47:47.749379",
     "exception": false,
     "start_time": "2023-11-27T16:47:47.704615",
     "status": "completed"
    },
    "tags": []
   },
   "outputs": [],
   "source": [
    "mc = ModelCheckpoint(\n",
    "    \"best_weights.hfd5\",\n",
    "    monitor = \"val_accuracy\",\n",
    "    verbose = 1,\n",
    "    save_best_only = True,\n",
    "    save_weights_only = True,\n",
    ")"
   ]
  },
  {
   "cell_type": "code",
   "execution_count": 25,
   "id": "2b8b851f",
   "metadata": {
    "execution": {
     "iopub.execute_input": "2023-11-27T16:47:47.827817Z",
     "iopub.status.busy": "2023-11-27T16:47:47.827235Z",
     "iopub.status.idle": "2023-11-27T16:47:47.831432Z",
     "shell.execute_reply": "2023-11-27T16:47:47.830668Z"
    },
    "papermill": {
     "duration": 0.044236,
     "end_time": "2023-11-27T16:47:47.833326",
     "exception": false,
     "start_time": "2023-11-27T16:47:47.789090",
     "status": "completed"
    },
    "tags": []
   },
   "outputs": [],
   "source": [
    "es = EarlyStopping(\n",
    "    monitor = \"val_accuracy\",\n",
    "    patience = 12, \n",
    "    verbose = 1,\n",
    "    restore_best_weights = True,\n",
    ")"
   ]
  },
  {
   "cell_type": "code",
   "execution_count": 26,
   "id": "19f73cf8",
   "metadata": {
    "execution": {
     "iopub.execute_input": "2023-11-27T16:47:47.909551Z",
     "iopub.status.busy": "2023-11-27T16:47:47.909001Z",
     "iopub.status.idle": "2023-11-27T16:47:47.913014Z",
     "shell.execute_reply": "2023-11-27T16:47:47.912169Z"
    },
    "papermill": {
     "duration": 0.043986,
     "end_time": "2023-11-27T16:47:47.914833",
     "exception": false,
     "start_time": "2023-11-27T16:47:47.870847",
     "status": "completed"
    },
    "tags": []
   },
   "outputs": [],
   "source": [
    "tb = TensorBoard(\n",
    "    log_dir=\"logs\",\n",
    ")"
   ]
  },
  {
   "cell_type": "markdown",
   "id": "2d474e98",
   "metadata": {
    "papermill": {
     "duration": 0.037023,
     "end_time": "2023-11-27T16:47:47.989486",
     "exception": false,
     "start_time": "2023-11-27T16:47:47.952463",
     "status": "completed"
    },
    "tags": []
   },
   "source": [
    "## Entreno el modelo:"
   ]
  },
  {
   "cell_type": "code",
   "execution_count": 27,
   "id": "b65c00c2",
   "metadata": {
    "execution": {
     "iopub.execute_input": "2023-11-27T16:47:48.064763Z",
     "iopub.status.busy": "2023-11-27T16:47:48.064519Z",
     "iopub.status.idle": "2023-11-27T18:02:57.339276Z",
     "shell.execute_reply": "2023-11-27T18:02:57.338160Z"
    },
    "papermill": {
     "duration": 4509.315028,
     "end_time": "2023-11-27T18:02:57.341671",
     "exception": false,
     "start_time": "2023-11-27T16:47:48.026643",
     "status": "completed"
    },
    "tags": []
   },
   "outputs": [
    {
     "name": "stdout",
     "output_type": "stream",
     "text": [
      "Epoch 1/200\n",
      "2498/2500 [============================>.] - ETA: 0s - loss: 3.0206 - accuracy: 0.2497\n",
      "Epoch 1: val_accuracy improved from -inf to 0.33860, saving model to best_weights.hfd5\n",
      "2500/2500 [==============================] - 96s 26ms/step - loss: 3.0198 - accuracy: 0.2499 - val_loss: 2.5810 - val_accuracy: 0.3386 - lr: 0.0010\n",
      "Epoch 2/200\n",
      "2500/2500 [==============================] - ETA: 0s - loss: 1.9387 - accuracy: 0.4666\n",
      "Epoch 2: val_accuracy improved from 0.33860 to 0.45670, saving model to best_weights.hfd5\n",
      "2500/2500 [==============================] - 64s 25ms/step - loss: 1.9387 - accuracy: 0.4666 - val_loss: 2.0333 - val_accuracy: 0.4567 - lr: 0.0010\n",
      "Epoch 3/200\n",
      "2498/2500 [============================>.] - ETA: 0s - loss: 1.4990 - accuracy: 0.5693\n",
      "Epoch 3: val_accuracy did not improve from 0.45670\n",
      "2500/2500 [==============================] - 63s 25ms/step - loss: 1.4989 - accuracy: 0.5694 - val_loss: 2.2394 - val_accuracy: 0.4471 - lr: 0.0010\n",
      "Epoch 4/200\n",
      "2500/2500 [==============================] - ETA: 0s - loss: 1.1826 - accuracy: 0.6489\n",
      "Epoch 4: val_accuracy improved from 0.45670 to 0.52380, saving model to best_weights.hfd5\n",
      "2500/2500 [==============================] - 63s 25ms/step - loss: 1.1826 - accuracy: 0.6489 - val_loss: 2.2737 - val_accuracy: 0.5238 - lr: 0.0010\n",
      "Epoch 5/200\n",
      "2500/2500 [==============================] - ETA: 0s - loss: 0.9289 - accuracy: 0.7144\n",
      "Epoch 5: val_accuracy improved from 0.52380 to 0.53740, saving model to best_weights.hfd5\n",
      "2500/2500 [==============================] - 63s 25ms/step - loss: 0.9289 - accuracy: 0.7144 - val_loss: 2.0828 - val_accuracy: 0.5374 - lr: 0.0010\n",
      "Epoch 6/200\n",
      "2499/2500 [============================>.] - ETA: 0s - loss: 0.7216 - accuracy: 0.7718\n",
      "Epoch 6: val_accuracy did not improve from 0.53740\n",
      "2500/2500 [==============================] - 62s 25ms/step - loss: 0.7215 - accuracy: 0.7718 - val_loss: 2.0852 - val_accuracy: 0.5344 - lr: 0.0010\n",
      "Epoch 7/200\n",
      "2500/2500 [==============================] - ETA: 0s - loss: 0.5649 - accuracy: 0.8181\n",
      "Epoch 7: val_accuracy improved from 0.53740 to 0.53890, saving model to best_weights.hfd5\n",
      "2500/2500 [==============================] - 63s 25ms/step - loss: 0.5649 - accuracy: 0.8181 - val_loss: 2.2064 - val_accuracy: 0.5389 - lr: 0.0010\n",
      "Epoch 8/200\n",
      "2498/2500 [============================>.] - ETA: 0s - loss: 0.4584 - accuracy: 0.8496\n",
      "Epoch 8: val_accuracy improved from 0.53890 to 0.54840, saving model to best_weights.hfd5\n",
      "2500/2500 [==============================] - 63s 25ms/step - loss: 0.4584 - accuracy: 0.8496 - val_loss: 2.2746 - val_accuracy: 0.5484 - lr: 0.0010\n",
      "Epoch 9/200\n",
      "2500/2500 [==============================] - ETA: 0s - loss: 0.3698 - accuracy: 0.8779\n",
      "Epoch 9: val_accuracy improved from 0.54840 to 0.55400, saving model to best_weights.hfd5\n",
      "2500/2500 [==============================] - 63s 25ms/step - loss: 0.3698 - accuracy: 0.8779 - val_loss: 2.4603 - val_accuracy: 0.5540 - lr: 0.0010\n",
      "Epoch 10/200\n",
      "2500/2500 [==============================] - ETA: 0s - loss: 0.3056 - accuracy: 0.8986\n",
      "Epoch 10: val_accuracy improved from 0.55400 to 0.56000, saving model to best_weights.hfd5\n",
      "2500/2500 [==============================] - 63s 25ms/step - loss: 0.3056 - accuracy: 0.8986 - val_loss: 2.5955 - val_accuracy: 0.5600 - lr: 0.0010\n",
      "Epoch 11/200\n",
      "2499/2500 [============================>.] - ETA: 0s - loss: 0.2706 - accuracy: 0.9107\n",
      "Epoch 11: val_accuracy improved from 0.56000 to 0.56440, saving model to best_weights.hfd5\n",
      "2500/2500 [==============================] - 63s 25ms/step - loss: 0.2706 - accuracy: 0.9107 - val_loss: 2.5779 - val_accuracy: 0.5644 - lr: 0.0010\n",
      "Epoch 12/200\n",
      "2498/2500 [============================>.] - ETA: 0s - loss: 0.2454 - accuracy: 0.9194\n",
      "Epoch 12: val_accuracy did not improve from 0.56440\n",
      "2500/2500 [==============================] - 62s 25ms/step - loss: 0.2454 - accuracy: 0.9194 - val_loss: 2.8540 - val_accuracy: 0.5522 - lr: 0.0010\n",
      "Epoch 13/200\n",
      "2500/2500 [==============================] - ETA: 0s - loss: 0.2138 - accuracy: 0.9299\n",
      "Epoch 13: val_accuracy did not improve from 0.56440\n",
      "2500/2500 [==============================] - 62s 25ms/step - loss: 0.2138 - accuracy: 0.9299 - val_loss: 2.9720 - val_accuracy: 0.5432 - lr: 0.0010\n",
      "Epoch 14/200\n",
      "2499/2500 [============================>.] - ETA: 0s - loss: 0.2053 - accuracy: 0.9321\n",
      "Epoch 14: val_accuracy did not improve from 0.56440\n",
      "2500/2500 [==============================] - 62s 25ms/step - loss: 0.2054 - accuracy: 0.9321 - val_loss: 2.9206 - val_accuracy: 0.5576 - lr: 0.0010\n",
      "Epoch 15/200\n",
      "2499/2500 [============================>.] - ETA: 0s - loss: 0.1875 - accuracy: 0.9387\n",
      "Epoch 15: val_accuracy improved from 0.56440 to 0.56650, saving model to best_weights.hfd5\n",
      "2500/2500 [==============================] - 63s 25ms/step - loss: 0.1874 - accuracy: 0.9387 - val_loss: 2.9292 - val_accuracy: 0.5665 - lr: 0.0010\n",
      "Epoch 16/200\n",
      "2499/2500 [============================>.] - ETA: 0s - loss: 0.1720 - accuracy: 0.9437\n",
      "Epoch 16: val_accuracy did not improve from 0.56650\n",
      "2500/2500 [==============================] - 63s 25ms/step - loss: 0.1720 - accuracy: 0.9437 - val_loss: 3.0763 - val_accuracy: 0.5433 - lr: 0.0010\n",
      "Epoch 17/200\n",
      "2498/2500 [============================>.] - ETA: 0s - loss: 0.1545 - accuracy: 0.9498\n",
      "Epoch 17: val_accuracy improved from 0.56650 to 0.56880, saving model to best_weights.hfd5\n",
      "2500/2500 [==============================] - 64s 26ms/step - loss: 0.1546 - accuracy: 0.9498 - val_loss: 2.9955 - val_accuracy: 0.5688 - lr: 0.0010\n",
      "Epoch 18/200\n",
      "2500/2500 [==============================] - ETA: 0s - loss: 0.1676 - accuracy: 0.9454\n",
      "Epoch 18: val_accuracy did not improve from 0.56880\n",
      "2500/2500 [==============================] - 64s 26ms/step - loss: 0.1676 - accuracy: 0.9454 - val_loss: 3.0080 - val_accuracy: 0.5596 - lr: 0.0010\n",
      "Epoch 19/200\n",
      "2498/2500 [============================>.] - ETA: 0s - loss: 0.1446 - accuracy: 0.9532\n",
      "Epoch 19: val_accuracy did not improve from 0.56880\n",
      "2500/2500 [==============================] - 64s 26ms/step - loss: 0.1446 - accuracy: 0.9532 - val_loss: 3.1781 - val_accuracy: 0.5639 - lr: 0.0010\n",
      "Epoch 20/200\n",
      "2499/2500 [============================>.] - ETA: 0s - loss: 0.1309 - accuracy: 0.9574\n",
      "Epoch 20: val_accuracy did not improve from 0.56880\n",
      "2500/2500 [==============================] - 63s 25ms/step - loss: 0.1310 - accuracy: 0.9573 - val_loss: 3.1593 - val_accuracy: 0.5628 - lr: 0.0010\n",
      "Epoch 21/200\n",
      "2500/2500 [==============================] - ETA: 0s - loss: 0.1313 - accuracy: 0.9569\n",
      "Epoch 21: val_accuracy did not improve from 0.56880\n",
      "2500/2500 [==============================] - 63s 25ms/step - loss: 0.1313 - accuracy: 0.9569 - val_loss: 3.2274 - val_accuracy: 0.5636 - lr: 0.0010\n",
      "Epoch 22/200\n",
      "2500/2500 [==============================] - ETA: 0s - loss: 0.1231 - accuracy: 0.9599\n",
      "Epoch 22: ReduceLROnPlateau reducing learning rate to 0.0005000000237487257.\n",
      "\n",
      "Epoch 22: val_accuracy did not improve from 0.56880\n",
      "2500/2500 [==============================] - 63s 25ms/step - loss: 0.1231 - accuracy: 0.9599 - val_loss: 3.4422 - val_accuracy: 0.5553 - lr: 0.0010\n",
      "Epoch 23/200\n",
      "2500/2500 [==============================] - ETA: 0s - loss: 0.0483 - accuracy: 0.9840\n",
      "Epoch 23: val_accuracy improved from 0.56880 to 0.57970, saving model to best_weights.hfd5\n",
      "2500/2500 [==============================] - 64s 26ms/step - loss: 0.0483 - accuracy: 0.9840 - val_loss: 3.6379 - val_accuracy: 0.5797 - lr: 5.0000e-04\n",
      "Epoch 24/200\n",
      "2500/2500 [==============================] - ETA: 0s - loss: 0.0406 - accuracy: 0.9868\n",
      "Epoch 24: val_accuracy did not improve from 0.57970\n",
      "2500/2500 [==============================] - 63s 25ms/step - loss: 0.0406 - accuracy: 0.9868 - val_loss: 3.6752 - val_accuracy: 0.5797 - lr: 5.0000e-04\n",
      "Epoch 25/200\n",
      "2500/2500 [==============================] - ETA: 0s - loss: 0.0383 - accuracy: 0.9871\n",
      "Epoch 25: val_accuracy improved from 0.57970 to 0.58330, saving model to best_weights.hfd5\n",
      "2500/2500 [==============================] - 64s 25ms/step - loss: 0.0383 - accuracy: 0.9871 - val_loss: 3.5456 - val_accuracy: 0.5833 - lr: 5.0000e-04\n",
      "Epoch 26/200\n",
      "2499/2500 [============================>.] - ETA: 0s - loss: 0.0369 - accuracy: 0.9877\n",
      "Epoch 26: val_accuracy did not improve from 0.58330\n",
      "2500/2500 [==============================] - 63s 25ms/step - loss: 0.0369 - accuracy: 0.9876 - val_loss: 3.6450 - val_accuracy: 0.5797 - lr: 5.0000e-04\n",
      "Epoch 27/200\n",
      "2500/2500 [==============================] - ETA: 0s - loss: 0.0342 - accuracy: 0.9890\n",
      "Epoch 27: val_accuracy did not improve from 0.58330\n",
      "2500/2500 [==============================] - 64s 26ms/step - loss: 0.0342 - accuracy: 0.9890 - val_loss: 3.6818 - val_accuracy: 0.5784 - lr: 5.0000e-04\n",
      "Epoch 28/200\n",
      "2498/2500 [============================>.] - ETA: 0s - loss: 0.0359 - accuracy: 0.9886\n",
      "Epoch 28: val_accuracy did not improve from 0.58330\n",
      "2500/2500 [==============================] - 65s 26ms/step - loss: 0.0359 - accuracy: 0.9886 - val_loss: 3.7257 - val_accuracy: 0.5827 - lr: 5.0000e-04\n",
      "Epoch 29/200\n",
      "2499/2500 [============================>.] - ETA: 0s - loss: 0.0304 - accuracy: 0.9899\n",
      "Epoch 29: val_accuracy did not improve from 0.58330\n",
      "2500/2500 [==============================] - 64s 26ms/step - loss: 0.0304 - accuracy: 0.9899 - val_loss: 3.8035 - val_accuracy: 0.5815 - lr: 5.0000e-04\n",
      "Epoch 30/200\n",
      "2498/2500 [============================>.] - ETA: 0s - loss: 0.0335 - accuracy: 0.9890\n",
      "Epoch 30: ReduceLROnPlateau reducing learning rate to 0.0002500000118743628.\n",
      "\n",
      "Epoch 30: val_accuracy did not improve from 0.58330\n",
      "2500/2500 [==============================] - 65s 26ms/step - loss: 0.0335 - accuracy: 0.9890 - val_loss: 3.9926 - val_accuracy: 0.5831 - lr: 5.0000e-04\n",
      "Epoch 31/200\n",
      "2500/2500 [==============================] - ETA: 0s - loss: 0.0156 - accuracy: 0.9948\n",
      "Epoch 31: val_accuracy improved from 0.58330 to 0.59170, saving model to best_weights.hfd5\n",
      "2500/2500 [==============================] - 65s 26ms/step - loss: 0.0156 - accuracy: 0.9948 - val_loss: 3.9345 - val_accuracy: 0.5917 - lr: 2.5000e-04\n",
      "Epoch 32/200\n",
      "2498/2500 [============================>.] - ETA: 0s - loss: 0.0124 - accuracy: 0.9959\n",
      "Epoch 32: val_accuracy improved from 0.59170 to 0.59450, saving model to best_weights.hfd5\n",
      "2500/2500 [==============================] - 65s 26ms/step - loss: 0.0124 - accuracy: 0.9959 - val_loss: 4.0223 - val_accuracy: 0.5945 - lr: 2.5000e-04\n",
      "Epoch 33/200\n",
      "2499/2500 [============================>.] - ETA: 0s - loss: 0.0112 - accuracy: 0.9965\n",
      "Epoch 33: val_accuracy did not improve from 0.59450\n",
      "2500/2500 [==============================] - 64s 26ms/step - loss: 0.0112 - accuracy: 0.9965 - val_loss: 4.1174 - val_accuracy: 0.5908 - lr: 2.5000e-04\n",
      "Epoch 34/200\n",
      "2500/2500 [==============================] - ETA: 0s - loss: 0.0117 - accuracy: 0.9962\n",
      "Epoch 34: val_accuracy did not improve from 0.59450\n",
      "2500/2500 [==============================] - 64s 25ms/step - loss: 0.0117 - accuracy: 0.9962 - val_loss: 4.1639 - val_accuracy: 0.5846 - lr: 2.5000e-04\n",
      "Epoch 35/200\n",
      "2500/2500 [==============================] - ETA: 0s - loss: 0.0106 - accuracy: 0.9964\n",
      "Epoch 35: val_accuracy did not improve from 0.59450\n",
      "2500/2500 [==============================] - 64s 25ms/step - loss: 0.0106 - accuracy: 0.9964 - val_loss: 4.1797 - val_accuracy: 0.5940 - lr: 2.5000e-04\n",
      "Epoch 36/200\n",
      "2498/2500 [============================>.] - ETA: 0s - loss: 0.0102 - accuracy: 0.9966\n",
      "Epoch 36: val_accuracy improved from 0.59450 to 0.59540, saving model to best_weights.hfd5\n",
      "2500/2500 [==============================] - 64s 26ms/step - loss: 0.0102 - accuracy: 0.9966 - val_loss: 4.1590 - val_accuracy: 0.5954 - lr: 2.5000e-04\n",
      "Epoch 37/200\n",
      "2498/2500 [============================>.] - ETA: 0s - loss: 0.0104 - accuracy: 0.9965\n",
      "Epoch 37: val_accuracy did not improve from 0.59540\n",
      "2500/2500 [==============================] - 64s 26ms/step - loss: 0.0104 - accuracy: 0.9965 - val_loss: 4.2085 - val_accuracy: 0.5894 - lr: 2.5000e-04\n",
      "Epoch 38/200\n",
      "2499/2500 [============================>.] - ETA: 0s - loss: 0.0092 - accuracy: 0.9969\n",
      "Epoch 38: val_accuracy did not improve from 0.59540\n",
      "2500/2500 [==============================] - 64s 26ms/step - loss: 0.0092 - accuracy: 0.9969 - val_loss: 4.2839 - val_accuracy: 0.5888 - lr: 2.5000e-04\n",
      "Epoch 39/200\n",
      "2499/2500 [============================>.] - ETA: 0s - loss: 0.0103 - accuracy: 0.9966\n",
      "Epoch 39: val_accuracy did not improve from 0.59540\n",
      "2500/2500 [==============================] - 64s 26ms/step - loss: 0.0103 - accuracy: 0.9966 - val_loss: 4.4045 - val_accuracy: 0.5880 - lr: 2.5000e-04\n",
      "Epoch 40/200\n",
      "2499/2500 [============================>.] - ETA: 0s - loss: 0.0101 - accuracy: 0.9967\n",
      "Epoch 40: val_accuracy did not improve from 0.59540\n",
      "2500/2500 [==============================] - 64s 26ms/step - loss: 0.0101 - accuracy: 0.9967 - val_loss: 4.2464 - val_accuracy: 0.5932 - lr: 2.5000e-04\n",
      "Epoch 41/200\n",
      "2500/2500 [==============================] - ETA: 0s - loss: 0.0093 - accuracy: 0.9969\n",
      "Epoch 41: ReduceLROnPlateau reducing learning rate to 0.0001250000059371814.\n",
      "\n",
      "Epoch 41: val_accuracy did not improve from 0.59540\n",
      "2500/2500 [==============================] - 64s 26ms/step - loss: 0.0093 - accuracy: 0.9969 - val_loss: 4.3425 - val_accuracy: 0.5931 - lr: 2.5000e-04\n",
      "Epoch 42/200\n",
      "2500/2500 [==============================] - ETA: 0s - loss: 0.0052 - accuracy: 0.9983\n",
      "Epoch 42: val_accuracy improved from 0.59540 to 0.59680, saving model to best_weights.hfd5\n",
      "2500/2500 [==============================] - 64s 26ms/step - loss: 0.0052 - accuracy: 0.9983 - val_loss: 4.3609 - val_accuracy: 0.5968 - lr: 1.2500e-04\n",
      "Epoch 43/200\n",
      "2500/2500 [==============================] - ETA: 0s - loss: 0.0043 - accuracy: 0.9985\n",
      "Epoch 43: val_accuracy improved from 0.59680 to 0.59740, saving model to best_weights.hfd5\n",
      "2500/2500 [==============================] - 65s 26ms/step - loss: 0.0043 - accuracy: 0.9985 - val_loss: 4.4974 - val_accuracy: 0.5974 - lr: 1.2500e-04\n",
      "Epoch 44/200\n",
      "2499/2500 [============================>.] - ETA: 0s - loss: 0.0043 - accuracy: 0.9984\n",
      "Epoch 44: val_accuracy improved from 0.59740 to 0.60210, saving model to best_weights.hfd5\n",
      "2500/2500 [==============================] - 65s 26ms/step - loss: 0.0043 - accuracy: 0.9984 - val_loss: 4.4358 - val_accuracy: 0.6021 - lr: 1.2500e-04\n",
      "Epoch 45/200\n",
      "2498/2500 [============================>.] - ETA: 0s - loss: 0.0037 - accuracy: 0.9987\n",
      "Epoch 45: val_accuracy did not improve from 0.60210\n",
      "2500/2500 [==============================] - 64s 26ms/step - loss: 0.0037 - accuracy: 0.9987 - val_loss: 4.4907 - val_accuracy: 0.6008 - lr: 1.2500e-04\n",
      "Epoch 46/200\n",
      "2499/2500 [============================>.] - ETA: 0s - loss: 0.0036 - accuracy: 0.9987\n",
      "Epoch 46: val_accuracy did not improve from 0.60210\n",
      "2500/2500 [==============================] - 64s 26ms/step - loss: 0.0036 - accuracy: 0.9987 - val_loss: 4.5813 - val_accuracy: 0.5982 - lr: 1.2500e-04\n",
      "Epoch 47/200\n",
      "2500/2500 [==============================] - ETA: 0s - loss: 0.0040 - accuracy: 0.9987\n",
      "Epoch 47: val_accuracy did not improve from 0.60210\n",
      "2500/2500 [==============================] - 64s 26ms/step - loss: 0.0040 - accuracy: 0.9987 - val_loss: 4.5572 - val_accuracy: 0.5985 - lr: 1.2500e-04\n",
      "Epoch 48/200\n",
      "2499/2500 [============================>.] - ETA: 0s - loss: 0.0039 - accuracy: 0.9987\n",
      "Epoch 48: val_accuracy did not improve from 0.60210\n",
      "2500/2500 [==============================] - 64s 26ms/step - loss: 0.0039 - accuracy: 0.9987 - val_loss: 4.5860 - val_accuracy: 0.5998 - lr: 1.2500e-04\n",
      "Epoch 49/200\n",
      "2500/2500 [==============================] - ETA: 0s - loss: 0.0034 - accuracy: 0.9989\n",
      "Epoch 49: ReduceLROnPlateau reducing learning rate to 6.25000029685907e-05.\n",
      "\n",
      "Epoch 49: val_accuracy did not improve from 0.60210\n",
      "2500/2500 [==============================] - 64s 26ms/step - loss: 0.0034 - accuracy: 0.9989 - val_loss: 4.6459 - val_accuracy: 0.6001 - lr: 1.2500e-04\n",
      "Epoch 50/200\n",
      "2499/2500 [============================>.] - ETA: 0s - loss: 0.0026 - accuracy: 0.9991\n",
      "Epoch 50: val_accuracy improved from 0.60210 to 0.60310, saving model to best_weights.hfd5\n",
      "2500/2500 [==============================] - 65s 26ms/step - loss: 0.0026 - accuracy: 0.9991 - val_loss: 4.6326 - val_accuracy: 0.6031 - lr: 6.2500e-05\n",
      "Epoch 51/200\n",
      "2498/2500 [============================>.] - ETA: 0s - loss: 0.0023 - accuracy: 0.9993\n",
      "Epoch 51: val_accuracy did not improve from 0.60310\n",
      "2500/2500 [==============================] - 64s 26ms/step - loss: 0.0023 - accuracy: 0.9993 - val_loss: 4.6378 - val_accuracy: 0.6008 - lr: 6.2500e-05\n",
      "Epoch 52/200\n",
      "2500/2500 [==============================] - ETA: 0s - loss: 0.0021 - accuracy: 0.9992\n",
      "Epoch 52: val_accuracy did not improve from 0.60310\n",
      "2500/2500 [==============================] - 64s 25ms/step - loss: 0.0021 - accuracy: 0.9992 - val_loss: 4.6913 - val_accuracy: 0.6027 - lr: 6.2500e-05\n",
      "Epoch 53/200\n",
      "2500/2500 [==============================] - ETA: 0s - loss: 0.0020 - accuracy: 0.9993\n",
      "Epoch 53: val_accuracy did not improve from 0.60310\n",
      "2500/2500 [==============================] - 63s 25ms/step - loss: 0.0020 - accuracy: 0.9993 - val_loss: 4.7373 - val_accuracy: 0.6010 - lr: 6.2500e-05\n",
      "Epoch 54/200\n",
      "2500/2500 [==============================] - ETA: 0s - loss: 0.0019 - accuracy: 0.9993\n",
      "Epoch 54: val_accuracy did not improve from 0.60310\n",
      "2500/2500 [==============================] - 64s 26ms/step - loss: 0.0019 - accuracy: 0.9993 - val_loss: 4.7284 - val_accuracy: 0.6025 - lr: 6.2500e-05\n",
      "Epoch 55/200\n",
      "2498/2500 [============================>.] - ETA: 0s - loss: 0.0018 - accuracy: 0.9993\n",
      "Epoch 55: ReduceLROnPlateau reducing learning rate to 3.125000148429535e-05.\n",
      "\n",
      "Epoch 55: val_accuracy did not improve from 0.60310\n",
      "2500/2500 [==============================] - 65s 26ms/step - loss: 0.0018 - accuracy: 0.9993 - val_loss: 4.8017 - val_accuracy: 0.6010 - lr: 6.2500e-05\n",
      "Epoch 56/200\n",
      "2500/2500 [==============================] - ETA: 0s - loss: 0.0017 - accuracy: 0.9995\n",
      "Epoch 56: val_accuracy improved from 0.60310 to 0.60380, saving model to best_weights.hfd5\n",
      "2500/2500 [==============================] - 66s 27ms/step - loss: 0.0017 - accuracy: 0.9995 - val_loss: 4.8097 - val_accuracy: 0.6038 - lr: 3.1250e-05\n",
      "Epoch 57/200\n",
      "2500/2500 [==============================] - ETA: 0s - loss: 0.0015 - accuracy: 0.9995\n",
      "Epoch 57: val_accuracy improved from 0.60380 to 0.60530, saving model to best_weights.hfd5\n",
      "2500/2500 [==============================] - 64s 26ms/step - loss: 0.0015 - accuracy: 0.9995 - val_loss: 4.7608 - val_accuracy: 0.6053 - lr: 3.1250e-05\n",
      "Epoch 58/200\n",
      "2498/2500 [============================>.] - ETA: 0s - loss: 0.0014 - accuracy: 0.9995\n",
      "Epoch 58: val_accuracy improved from 0.60530 to 0.60670, saving model to best_weights.hfd5\n",
      "2500/2500 [==============================] - 64s 25ms/step - loss: 0.0014 - accuracy: 0.9995 - val_loss: 4.7777 - val_accuracy: 0.6067 - lr: 3.1250e-05\n",
      "Epoch 59/200\n",
      "2499/2500 [============================>.] - ETA: 0s - loss: 0.0012 - accuracy: 0.9995\n",
      "Epoch 59: val_accuracy did not improve from 0.60670\n",
      "2500/2500 [==============================] - 64s 25ms/step - loss: 0.0012 - accuracy: 0.9995 - val_loss: 4.8541 - val_accuracy: 0.6026 - lr: 3.1250e-05\n",
      "Epoch 60/200\n",
      "2499/2500 [============================>.] - ETA: 0s - loss: 0.0013 - accuracy: 0.9995\n",
      "Epoch 60: val_accuracy did not improve from 0.60670\n",
      "2500/2500 [==============================] - 63s 25ms/step - loss: 0.0013 - accuracy: 0.9995 - val_loss: 4.8358 - val_accuracy: 0.6040 - lr: 3.1250e-05\n",
      "Epoch 61/200\n",
      "2500/2500 [==============================] - ETA: 0s - loss: 0.0013 - accuracy: 0.9995\n",
      "Epoch 61: val_accuracy did not improve from 0.60670\n",
      "2500/2500 [==============================] - 64s 25ms/step - loss: 0.0013 - accuracy: 0.9995 - val_loss: 4.8698 - val_accuracy: 0.6065 - lr: 3.1250e-05\n",
      "Epoch 62/200\n",
      "2499/2500 [============================>.] - ETA: 0s - loss: 0.0012 - accuracy: 0.9996\n",
      "Epoch 62: val_accuracy did not improve from 0.60670\n",
      "2500/2500 [==============================] - 66s 26ms/step - loss: 0.0012 - accuracy: 0.9996 - val_loss: 4.8529 - val_accuracy: 0.6065 - lr: 3.1250e-05\n",
      "Epoch 63/200\n",
      "2499/2500 [============================>.] - ETA: 0s - loss: 0.0012 - accuracy: 0.9996\n",
      "Epoch 63: ReduceLROnPlateau reducing learning rate to 1.5625000742147677e-05.\n",
      "\n",
      "Epoch 63: val_accuracy did not improve from 0.60670\n",
      "2500/2500 [==============================] - 65s 26ms/step - loss: 0.0012 - accuracy: 0.9996 - val_loss: 4.8655 - val_accuracy: 0.6053 - lr: 3.1250e-05\n",
      "Epoch 64/200\n",
      "2498/2500 [============================>.] - ETA: 0s - loss: 9.1844e-04 - accuracy: 0.9997\n",
      "Epoch 64: val_accuracy did not improve from 0.60670\n",
      "2500/2500 [==============================] - 64s 26ms/step - loss: 9.1880e-04 - accuracy: 0.9997 - val_loss: 4.8848 - val_accuracy: 0.6055 - lr: 1.5625e-05\n",
      "Epoch 65/200\n",
      "2500/2500 [==============================] - ETA: 0s - loss: 9.2668e-04 - accuracy: 0.9997\n",
      "Epoch 65: val_accuracy did not improve from 0.60670\n",
      "2500/2500 [==============================] - 64s 26ms/step - loss: 9.2668e-04 - accuracy: 0.9997 - val_loss: 4.9186 - val_accuracy: 0.6052 - lr: 1.5625e-05\n",
      "Epoch 66/200\n",
      "2499/2500 [============================>.] - ETA: 0s - loss: 9.2371e-04 - accuracy: 0.9997\n",
      "Epoch 66: val_accuracy did not improve from 0.60670\n",
      "2500/2500 [==============================] - 65s 26ms/step - loss: 9.2334e-04 - accuracy: 0.9997 - val_loss: 4.8899 - val_accuracy: 0.6051 - lr: 1.5625e-05\n",
      "Epoch 67/200\n",
      "2499/2500 [============================>.] - ETA: 0s - loss: 9.3106e-04 - accuracy: 0.9997\n",
      "Epoch 67: val_accuracy did not improve from 0.60670\n",
      "2500/2500 [==============================] - 64s 26ms/step - loss: 9.3071e-04 - accuracy: 0.9997 - val_loss: 4.9318 - val_accuracy: 0.6044 - lr: 1.5625e-05\n",
      "Epoch 68/200\n",
      "2500/2500 [==============================] - ETA: 0s - loss: 8.6097e-04 - accuracy: 0.9997\n",
      "Epoch 68: ReduceLROnPlateau reducing learning rate to 1e-05.\n",
      "\n",
      "Epoch 68: val_accuracy did not improve from 0.60670\n",
      "2500/2500 [==============================] - 64s 25ms/step - loss: 8.6097e-04 - accuracy: 0.9997 - val_loss: 4.9288 - val_accuracy: 0.6064 - lr: 1.5625e-05\n",
      "Epoch 69/200\n",
      "2499/2500 [============================>.] - ETA: 0s - loss: 8.9722e-04 - accuracy: 0.9997\n",
      "Epoch 69: val_accuracy did not improve from 0.60670\n",
      "2500/2500 [==============================] - 66s 26ms/step - loss: 8.9690e-04 - accuracy: 0.9997 - val_loss: 4.9702 - val_accuracy: 0.6039 - lr: 1.0000e-05\n",
      "Epoch 70/200\n",
      "2500/2500 [==============================] - ETA: 0s - loss: 9.5858e-04 - accuracy: 0.9997Restoring model weights from the end of the best epoch: 58.\n",
      "\n",
      "Epoch 70: val_accuracy did not improve from 0.60670\n",
      "2500/2500 [==============================] - 65s 26ms/step - loss: 9.5858e-04 - accuracy: 0.9997 - val_loss: 4.9454 - val_accuracy: 0.6054 - lr: 1.0000e-05\n",
      "Epoch 70: early stopping\n"
     ]
    }
   ],
   "source": [
    "history = model.fit(\n",
    "    x = x_train_aug4, \n",
    "    y = y_train_fine_aug4, \n",
    "    batch_size=64, \n",
    "    epochs=200, \n",
    "    validation_data = (x_val, y_val), \n",
    "    callbacks= [\n",
    "        rlrop,\n",
    "        es,\n",
    "        mc,\n",
    "        tb,\n",
    "    ]\n",
    ")"
   ]
  },
  {
   "cell_type": "markdown",
   "id": "b48583ec",
   "metadata": {
    "papermill": {
     "duration": 5.285695,
     "end_time": "2023-11-27T18:03:08.182299",
     "exception": false,
     "start_time": "2023-11-27T18:03:02.896604",
     "status": "completed"
    },
    "tags": []
   },
   "source": [
    "## Results\n",
    "\n",
    "Se probaron diferentes modelos y el mejor resultado se muestra a continuación."
   ]
  },
  {
   "cell_type": "code",
   "execution_count": 28,
   "id": "79436551",
   "metadata": {
    "execution": {
     "iopub.execute_input": "2023-11-27T18:03:19.044849Z",
     "iopub.status.busy": "2023-11-27T18:03:19.044139Z",
     "iopub.status.idle": "2023-11-27T18:03:19.050196Z",
     "shell.execute_reply": "2023-11-27T18:03:19.049340Z"
    },
    "papermill": {
     "duration": 5.516021,
     "end_time": "2023-11-27T18:03:19.052218",
     "exception": false,
     "start_time": "2023-11-27T18:03:13.536197",
     "status": "completed"
    },
    "tags": []
   },
   "outputs": [
    {
     "name": "stdout",
     "output_type": "stream",
     "text": [
      "Last Validation Accuracy: 60.67 %\n",
      "Last Accuracy: 99.97 %\n"
     ]
    }
   ],
   "source": [
    "last_valacc = max(history.history['val_accuracy'])*100\n",
    "print(\"Last Validation Accuracy:\" , format(last_valacc, \".2f\"), \"%\")\n",
    "last_acc = max(history.history['accuracy'])*100\n",
    "print(\"Last Accuracy:\" , format(last_acc, \".2f\"), \"%\")"
   ]
  },
  {
   "cell_type": "code",
   "execution_count": 29,
   "id": "925eaac0",
   "metadata": {
    "execution": {
     "iopub.execute_input": "2023-11-27T18:03:29.829088Z",
     "iopub.status.busy": "2023-11-27T18:03:29.828707Z",
     "iopub.status.idle": "2023-11-27T18:04:24.653871Z",
     "shell.execute_reply": "2023-11-27T18:04:24.652926Z"
    },
    "papermill": {
     "duration": 65.465866,
     "end_time": "2023-11-27T18:04:29.761326",
     "exception": false,
     "start_time": "2023-11-27T18:03:24.295460",
     "status": "completed"
    },
    "tags": []
   },
   "outputs": [
    {
     "data": {
      "text/plain": [
       "<matplotlib.legend.Legend at 0x7aa97f686c50>"
      ]
     },
     "execution_count": 29,
     "metadata": {},
     "output_type": "execute_result"
    },
    {
     "data": {
      "image/png": "[encoded data removed]",
      "text/plain": [
       "<Figure size 640x480 with 1 Axes>"
      ]
     },
     "metadata": {},
     "output_type": "display_data"
    }
   ],
   "source": [
    "plt.plot(history.history[\"accuracy\"], label='Train')\n",
    "plt.plot(history.history[\"val_accuracy\"], label='Validation')\n",
    "plt.title(\"Accuracy\")\n",
    "plt.legend()"
   ]
  },
  {
   "cell_type": "code",
   "execution_count": 30,
   "id": "33fb35ae",
   "metadata": {
    "execution": {
     "iopub.execute_input": "2023-11-27T18:04:41.108867Z",
     "iopub.status.busy": "2023-11-27T18:04:41.108513Z",
     "iopub.status.idle": "2023-11-27T18:04:41.464822Z",
     "shell.execute_reply": "2023-11-27T18:04:41.463703Z"
    },
    "papermill": {
     "duration": 5.942728,
     "end_time": "2023-11-27T18:04:41.467235",
     "exception": false,
     "start_time": "2023-11-27T18:04:35.524507",
     "status": "completed"
    },
    "tags": []
   },
   "outputs": [
    {
     "data": {
      "text/plain": [
       "<matplotlib.legend.Legend at 0x7aa97f6597e0>"
      ]
     },
     "execution_count": 30,
     "metadata": {},
     "output_type": "execute_result"
    },
    {
     "data": {
      "image/png": "[encoded data removed]",
      "text/plain": [
       "<Figure size 640x480 with 1 Axes>"
      ]
     },
     "metadata": {},
     "output_type": "display_data"
    }
   ],
   "source": [
    "plt.plot(history.history[\"loss\"], label='Train')\n",
    "plt.plot(history.history[\"val_loss\"], label='Validation')\n",
    "plt.title(\"Loss\")\n",
    "plt.legend()"
   ]
  },
  {
   "cell_type": "markdown",
   "id": "a9909512",
   "metadata": {
    "papermill": {
     "duration": 5.43729,
     "end_time": "2023-11-27T18:04:52.372327",
     "exception": false,
     "start_time": "2023-11-27T18:04:46.935037",
     "status": "completed"
    },
    "tags": []
   },
   "source": [
    "## Submissions generator\n",
    "\n"
   ]
  },
  {
   "cell_type": "code",
   "execution_count": 31,
   "id": "039cb2e7",
   "metadata": {
    "execution": {
     "iopub.execute_input": "2023-11-27T18:05:03.298286Z",
     "iopub.status.busy": "2023-11-27T18:05:03.297541Z",
     "iopub.status.idle": "2023-11-27T18:05:06.225239Z",
     "shell.execute_reply": "2023-11-27T18:05:06.224235Z"
    },
    "papermill": {
     "duration": 8.512157,
     "end_time": "2023-11-27T18:05:06.227873",
     "exception": false,
     "start_time": "2023-11-27T18:04:57.715716",
     "status": "completed"
    },
    "tags": []
   },
   "outputs": [
    {
     "name": "stdout",
     "output_type": "stream",
     "text": [
      "313/313 [==============================] - 3s 5ms/step\n"
     ]
    }
   ],
   "source": [
    "predictions = model.predict(x_test).argmax(axis=1)"
   ]
  },
  {
   "cell_type": "code",
   "execution_count": 32,
   "id": "7a104633",
   "metadata": {
    "execution": {
     "iopub.execute_input": "2023-11-27T18:05:17.362015Z",
     "iopub.status.busy": "2023-11-27T18:05:17.361561Z",
     "iopub.status.idle": "2023-11-27T18:05:17.394405Z",
     "shell.execute_reply": "2023-11-27T18:05:17.393492Z"
    },
    "papermill": {
     "duration": 5.582007,
     "end_time": "2023-11-27T18:05:17.396539",
     "exception": false,
     "start_time": "2023-11-27T18:05:11.814532",
     "status": "completed"
    },
    "tags": []
   },
   "outputs": [],
   "source": [
    "df = pd.DataFrame(predictions, columns=[\"Label\"])\n",
    "df.index.name = \"Id\"\n",
    "df.to_csv(\"submission.csv\")"
   ]
  },
  {
   "cell_type": "markdown",
   "id": "909c9bdb",
   "metadata": {
    "papermill": {
     "duration": 5.519957,
     "end_time": "2023-11-27T18:05:28.654513",
     "exception": false,
     "start_time": "2023-11-27T18:05:23.134556",
     "status": "completed"
    },
    "tags": []
   },
   "source": [
    "## Conclusión\n",
    "\n",
    "En conclusión, la red convolucional nos arroja un accuracy mayor a comparacion de la red MLP lo que significa una mejora. Se probaron diferentes redes pero la que mejor resultado otorgó fue la CNN Tipo ResNET aunque tarda mucho tiempo en poder entrenar. \n",
    "\n",
    "Como mejoras futuras se puede agregar ciclycal learning rate y/o transfer learning para poder acortar el tiempo de entrenamiento."
   ]
  }
 ],
 "metadata": {
  "kaggle": {
   "accelerator": "gpu",
   "dataSources": [
    {
     "databundleVersionId": 6582249,
     "sourceId": 61015,
     "sourceType": "competition"
    }
   ],
   "dockerImageVersionId": 30559,
   "isGpuEnabled": true,
   "isInternetEnabled": true,
   "language": "python",
   "sourceType": "notebook"
  },
  "kernelspec": {
   "display_name": "Python 3",
   "language": "python",
   "name": "python3"
  },
  "language_info": {
   "codemirror_mode": {
    "name": "ipython",
    "version": 3
   },
   "file_extension": ".py",
   "mimetype": "text/x-python",
   "name": "python",
   "nbconvert_exporter": "python",
   "pygments_lexer": "ipython3",
   "version": "3.10.12"
  },
  "papermill": {
   "default_parameters": {},
   "duration": 4698.615136,
   "end_time": "2023-11-27T18:05:37.347836",
   "environment_variables": {},
   "exception": null,
   "input_path": "__notebook__.ipynb",
   "output_path": "__notebook__.ipynb",
   "parameters": {},
   "start_time": "2023-11-27T16:47:18.732700",
   "version": "2.4.0"
  }
 },
 "nbformat": 4,
 "nbformat_minor": 5
}
