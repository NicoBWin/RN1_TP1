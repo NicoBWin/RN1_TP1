{
 "cells": [
  {
   "cell_type": "markdown",
   "id": "b274e547",
   "metadata": {
    "papermill": {
     "duration": 0.006087,
     "end_time": "2023-10-14T19:30:06.544958",
     "exception": false,
     "start_time": "2023-10-14T19:30:06.538871",
     "status": "completed"
    },
    "tags": []
   },
   "source": [
    "# TP1 - Redes Neuronales (22.45)\n",
    "\n",
    "En este trabajo páctico se busca armar una red neuronal capaz de obtener el mayor acuracy para lograr la mejor posición en la competencia de Kaggle. Se utiliza el dataset \"cifar-100\" y todos los conocimientos vistos en clase para la realización de la red capaz de identificar las fotos dentro del dataset.\n",
    "\n",
    "*Autor: Nicolás Bustelo - 61431*"
   ]
  },
  {
   "cell_type": "code",
   "execution_count": 1,
   "id": "a2e37a8a",
   "metadata": {
    "_cell_guid": "b1076dfc-b9ad-4769-8c92-a6c4dae69d19",
    "_uuid": "8f2839f25d086af736a60e9eeb907d3b93b6e0e5",
    "execution": {
     "iopub.execute_input": "2023-10-14T19:30:06.557607Z",
     "iopub.status.busy": "2023-10-14T19:30:06.557313Z",
     "iopub.status.idle": "2023-10-14T19:30:14.257395Z",
     "shell.execute_reply": "2023-10-14T19:30:14.255993Z"
    },
    "papermill": {
     "duration": 7.708734,
     "end_time": "2023-10-14T19:30:14.259278",
     "exception": false,
     "start_time": "2023-10-14T19:30:06.550544",
     "status": "completed"
    },
    "tags": []
   },
   "outputs": [
    {
     "name": "stderr",
     "output_type": "stream",
     "text": [
      "/opt/conda/lib/python3.10/site-packages/scipy/__init__.py:146: UserWarning: A NumPy version >=1.16.5 and <1.23.0 is required for this version of SciPy (detected version 1.23.5\n",
      "  warnings.warn(f\"A NumPy version >={np_minversion} and <{np_maxversion}\"\n"
     ]
    },
    {
     "name": "stdout",
     "output_type": "stream",
     "text": [
      "/kaggle/input/itba-rn-2245-cifar-100-2023q2/y_train_fine.npy\n",
      "/kaggle/input/itba-rn-2245-cifar-100-2023q2/y_train_coarse.npy\n",
      "/kaggle/input/itba-rn-2245-cifar-100-2023q2/fine_label_names.pck\n",
      "/kaggle/input/itba-rn-2245-cifar-100-2023q2/coarse_label_names.pck\n",
      "/kaggle/input/itba-rn-2245-cifar-100-2023q2/x_test.npy\n",
      "/kaggle/input/itba-rn-2245-cifar-100-2023q2/x_train.npy\n"
     ]
    }
   ],
   "source": [
    "# This Python 3 environment comes with many helpful analytics libraries installed\n",
    "# It is defined by the kaggle/python Docker image: https://github.com/kaggle/docker-python\n",
    "# For example, here's several helpful packages to load\n",
    "\n",
    "import numpy as np # linear algebra\n",
    "import pandas as pd # data processing, CSV file I/O (e.g. pd.read_csv)\n",
    "from tensorflow.keras.utils import plot_model\n",
    "\n",
    "# Input data files are available in the read-only \"../input/\" directory\n",
    "# For example, running this (by clicking run or pressing Shift+Enter) will list all files under the input directory\n",
    "\n",
    "import os\n",
    "for dirname, _, filenames in os.walk('/kaggle/input'):\n",
    "    for filename in filenames:\n",
    "        print(os.path.join(dirname, filename))\n",
    "\n",
    "# You can write up to 20GB to the current directory (/kaggle/working/) that gets preserved as output when you create a version using \"Save & Run All\" \n",
    "# You can also write temporary files to /kaggle/temp/, but they won't be saved outside of the current session"
   ]
  },
  {
   "cell_type": "markdown",
   "id": "9574510e",
   "metadata": {
    "papermill": {
     "duration": 0.005087,
     "end_time": "2023-10-14T19:30:14.269849",
     "exception": false,
     "start_time": "2023-10-14T19:30:14.264762",
     "status": "completed"
    },
    "tags": []
   },
   "source": [
    "## Dataset load"
   ]
  },
  {
   "cell_type": "code",
   "execution_count": 2,
   "id": "29dc8f16",
   "metadata": {
    "execution": {
     "iopub.execute_input": "2023-10-14T19:30:14.281759Z",
     "iopub.status.busy": "2023-10-14T19:30:14.281014Z",
     "iopub.status.idle": "2023-10-14T19:30:16.385231Z",
     "shell.execute_reply": "2023-10-14T19:30:16.384308Z"
    },
    "papermill": {
     "duration": 2.112369,
     "end_time": "2023-10-14T19:30:16.387402",
     "exception": false,
     "start_time": "2023-10-14T19:30:14.275033",
     "status": "completed"
    },
    "tags": []
   },
   "outputs": [],
   "source": [
    "x_train = np.load(\"/kaggle/input/itba-rn-2245-cifar-100-2023q2/x_train.npy\")/255.\n",
    "x_test = np.load(\"/kaggle/input/itba-rn-2245-cifar-100-2023q2/x_test.npy\")/255.\n",
    "y_train_coarse = np.load(\"/kaggle/input/itba-rn-2245-cifar-100-2023q2/y_train_coarse.npy\")\n",
    "y_train_fine = np.load(\"/kaggle/input/itba-rn-2245-cifar-100-2023q2/y_train_fine.npy\")"
   ]
  },
  {
   "cell_type": "code",
   "execution_count": 3,
   "id": "63b48477",
   "metadata": {
    "execution": {
     "iopub.execute_input": "2023-10-14T19:30:16.399563Z",
     "iopub.status.busy": "2023-10-14T19:30:16.399290Z",
     "iopub.status.idle": "2023-10-14T19:30:16.409937Z",
     "shell.execute_reply": "2023-10-14T19:30:16.409120Z"
    },
    "papermill": {
     "duration": 0.018698,
     "end_time": "2023-10-14T19:30:16.411788",
     "exception": false,
     "start_time": "2023-10-14T19:30:16.393090",
     "status": "completed"
    },
    "tags": []
   },
   "outputs": [],
   "source": [
    "import pickle\n",
    "with open(\"/kaggle/input/itba-rn-2245-cifar-100-2023q2/fine_label_names.pck\", \"rb\") as f:\n",
    "    labels_fine = pickle.load(f)\n",
    "with open(\"/kaggle/input/itba-rn-2245-cifar-100-2023q2/coarse_label_names.pck\", \"rb\") as f:\n",
    "    labels_coarse = pickle.load(f)"
   ]
  },
  {
   "cell_type": "code",
   "execution_count": 4,
   "id": "f990fbbc",
   "metadata": {
    "execution": {
     "iopub.execute_input": "2023-10-14T19:30:16.423808Z",
     "iopub.status.busy": "2023-10-14T19:30:16.423023Z",
     "iopub.status.idle": "2023-10-14T19:30:16.427307Z",
     "shell.execute_reply": "2023-10-14T19:30:16.426522Z"
    },
    "papermill": {
     "duration": 0.011821,
     "end_time": "2023-10-14T19:30:16.428940",
     "exception": false,
     "start_time": "2023-10-14T19:30:16.417119",
     "status": "completed"
    },
    "tags": []
   },
   "outputs": [],
   "source": [
    "from matplotlib import pyplot as plt"
   ]
  },
  {
   "cell_type": "markdown",
   "id": "384f8a81",
   "metadata": {
    "papermill": {
     "duration": 0.005057,
     "end_time": "2023-10-14T19:30:16.439179",
     "exception": false,
     "start_time": "2023-10-14T19:30:16.434122",
     "status": "completed"
    },
    "tags": []
   },
   "source": [
    "## Dataset sample viewing\n",
    "En esta sección se analizan los datos, su tamaño y sus caracteristicas"
   ]
  },
  {
   "cell_type": "code",
   "execution_count": 5,
   "id": "c85c5010",
   "metadata": {
    "execution": {
     "iopub.execute_input": "2023-10-14T19:30:16.450518Z",
     "iopub.status.busy": "2023-10-14T19:30:16.450289Z",
     "iopub.status.idle": "2023-10-14T19:30:16.454473Z",
     "shell.execute_reply": "2023-10-14T19:30:16.453701Z"
    },
    "papermill": {
     "duration": 0.011918,
     "end_time": "2023-10-14T19:30:16.456328",
     "exception": false,
     "start_time": "2023-10-14T19:30:16.444410",
     "status": "completed"
    },
    "tags": []
   },
   "outputs": [
    {
     "name": "stdout",
     "output_type": "stream",
     "text": [
      "Grano grueso: 20\n",
      "Grano fino: 100\n"
     ]
    }
   ],
   "source": [
    "# Tenemos que clasificar entre 100 clases\n",
    "print(\"Grano grueso:\", len(labels_coarse))\n",
    "print(\"Grano fino:\", len(labels_fine))"
   ]
  },
  {
   "cell_type": "code",
   "execution_count": 6,
   "id": "39265fb0",
   "metadata": {
    "execution": {
     "iopub.execute_input": "2023-10-14T19:30:16.468414Z",
     "iopub.status.busy": "2023-10-14T19:30:16.467700Z",
     "iopub.status.idle": "2023-10-14T19:30:17.565097Z",
     "shell.execute_reply": "2023-10-14T19:30:17.564220Z"
    },
    "papermill": {
     "duration": 1.106673,
     "end_time": "2023-10-14T19:30:17.568190",
     "exception": false,
     "start_time": "2023-10-14T19:30:16.461517",
     "status": "completed"
    },
    "tags": []
   },
   "outputs": [
    {
     "data": {
      "image/png": "[encoded data removed]",
      "text/plain": [
       "<Figure size 1500x800 with 20 Axes>"
      ]
     },
     "metadata": {},
     "output_type": "display_data"
    }
   ],
   "source": [
    "# Imprimimos una foto de cada grano grueso\n",
    "plt.figure(figsize=(15,8))\n",
    "for i in range(20):\n",
    "    plt.subplot(4,5,i+1)\n",
    "    plt.xticks([])\n",
    "    plt.yticks([])\n",
    "    plt.grid(False)\n",
    "    plt.imshow(x_train[y_train_coarse==i][0])\n",
    "    plt.xlabel(labels_coarse[i])\n",
    "plt.show()"
   ]
  },
  {
   "cell_type": "code",
   "execution_count": 7,
   "id": "9dbda8be",
   "metadata": {
    "execution": {
     "iopub.execute_input": "2023-10-14T19:30:17.583828Z",
     "iopub.status.busy": "2023-10-14T19:30:17.583537Z",
     "iopub.status.idle": "2023-10-14T19:30:17.840380Z",
     "shell.execute_reply": "2023-10-14T19:30:17.839529Z"
    },
    "papermill": {
     "duration": 0.266883,
     "end_time": "2023-10-14T19:30:17.842343",
     "exception": false,
     "start_time": "2023-10-14T19:30:17.575460",
     "status": "completed"
    },
    "tags": []
   },
   "outputs": [
    {
     "data": {
      "text/plain": [
       "Text(0.5, 1.0, 'large_omnivores_and_herbivores')"
      ]
     },
     "execution_count": 7,
     "metadata": {},
     "output_type": "execute_result"
    },
    {
     "data": {
      "image/png": "[encoded data removed]",
      "text/plain": [
       "<Figure size 300x300 with 1 Axes>"
      ]
     },
     "metadata": {},
     "output_type": "display_data"
    }
   ],
   "source": [
    "# Una imagen\n",
    "plt.figure(figsize=(3,3))\n",
    "plt.imshow(x_train[y_train_coarse==11][0])\n",
    "plt.xlabel(labels_fine[y_train_fine[0]])\n",
    "plt.title(labels_coarse[11])"
   ]
  },
  {
   "cell_type": "code",
   "execution_count": 8,
   "id": "6f8344a0",
   "metadata": {
    "execution": {
     "iopub.execute_input": "2023-10-14T19:30:17.859028Z",
     "iopub.status.busy": "2023-10-14T19:30:17.858761Z",
     "iopub.status.idle": "2023-10-14T19:30:17.864355Z",
     "shell.execute_reply": "2023-10-14T19:30:17.863335Z"
    },
    "papermill": {
     "duration": 0.015763,
     "end_time": "2023-10-14T19:30:17.866078",
     "exception": false,
     "start_time": "2023-10-14T19:30:17.850315",
     "status": "completed"
    },
    "tags": []
   },
   "outputs": [
    {
     "name": "stdout",
     "output_type": "stream",
     "text": [
      "Grano grueso: large_omnivores_and_herbivores\n",
      "Grano fino: camel\n",
      "Grano fino: cattle\n",
      "Grano fino: chimpanzee\n",
      "Grano fino: elephant\n",
      "Grano fino: kangaroo\n"
     ]
    }
   ],
   "source": [
    "# Me fijo para la categoría anterior, cuáles son las categorías de grano fino\n",
    "coarse = 11\n",
    "print(f\"Grano grueso: {labels_coarse[coarse]}\")\n",
    "for fine in np.unique(y_train_fine[y_train_coarse == coarse]):\n",
    "    print(f\"Grano fino: {labels_fine[fine]}\")"
   ]
  },
  {
   "cell_type": "code",
   "execution_count": 9,
   "id": "53ffea01",
   "metadata": {
    "execution": {
     "iopub.execute_input": "2023-10-14T19:30:17.882739Z",
     "iopub.status.busy": "2023-10-14T19:30:17.882468Z",
     "iopub.status.idle": "2023-10-14T19:30:18.235833Z",
     "shell.execute_reply": "2023-10-14T19:30:18.234950Z"
    },
    "papermill": {
     "duration": 0.363606,
     "end_time": "2023-10-14T19:30:18.237555",
     "exception": false,
     "start_time": "2023-10-14T19:30:17.873949",
     "status": "completed"
    },
    "tags": []
   },
   "outputs": [
    {
     "data": {
      "text/plain": [
       "Text(0.5, 1.0, 'Train Composition')"
      ]
     },
     "execution_count": 9,
     "metadata": {},
     "output_type": "execute_result"
    },
    {
     "data": {
      "image/png": "[encoded data removed]",
      "text/plain": [
       "<Figure size 640x480 with 1 Axes>"
      ]
     },
     "metadata": {},
     "output_type": "display_data"
    }
   ],
   "source": [
    "# Hay una misma cantidad de datos de cada clase fina, podriamos confirmar una distribución uniforme\n",
    "count=[np.count_nonzero(y_train_fine==value) for value in range(100)]\n",
    "plt.bar(range(100), count)\n",
    "plt.xlabel('Train fine classes')\n",
    "plt.title('Train Composition')"
   ]
  },
  {
   "cell_type": "markdown",
   "id": "5bdb990b",
   "metadata": {
    "papermill": {
     "duration": 0.007762,
     "end_time": "2023-10-14T19:30:18.253276",
     "exception": false,
     "start_time": "2023-10-14T19:30:18.245514",
     "status": "completed"
    },
    "tags": []
   },
   "source": [
    "### Data convert to GreyScale: \n",
    "grayImages es el vector con todas las imagenes en escala de grises. Se probó la red con las imagenes en escala de grises y se obtuvo un peor rendimiendo que a color."
   ]
  },
  {
   "cell_type": "code",
   "execution_count": 10,
   "id": "bcc5f29d",
   "metadata": {
    "execution": {
     "iopub.execute_input": "2023-10-14T19:30:18.270770Z",
     "iopub.status.busy": "2023-10-14T19:30:18.270137Z",
     "iopub.status.idle": "2023-10-14T19:30:19.508020Z",
     "shell.execute_reply": "2023-10-14T19:30:19.507128Z"
    },
    "papermill": {
     "duration": 1.248934,
     "end_time": "2023-10-14T19:30:19.509868",
     "exception": false,
     "start_time": "2023-10-14T19:30:18.260934",
     "status": "completed"
    },
    "tags": []
   },
   "outputs": [
    {
     "data": {
      "text/plain": [
       "51200000"
      ]
     },
     "execution_count": 10,
     "metadata": {},
     "output_type": "execute_result"
    },
    {
     "data": {
      "image/png": "[encoded data removed]",
      "text/plain": [
       "<Figure size 200x200 with 1 Axes>"
      ]
     },
     "metadata": {},
     "output_type": "display_data"
    }
   ],
   "source": [
    "grayImages = np.dot(x_train[...,:3], [0.2989, 0.5870, 0.1140])\n",
    "plt.figure(figsize=(2,2))\n",
    "plt.imshow(grayImages[0], cmap=plt.get_cmap('gray'), vmin=0, vmax=1)\n",
    "grayImages.size"
   ]
  },
  {
   "cell_type": "markdown",
   "id": "8768a3fc",
   "metadata": {
    "papermill": {
     "duration": 0.00943,
     "end_time": "2023-10-14T19:30:19.528285",
     "exception": false,
     "start_time": "2023-10-14T19:30:19.518855",
     "status": "completed"
    },
    "tags": []
   },
   "source": [
    "## Data Augmentation with flip image"
   ]
  },
  {
   "cell_type": "code",
   "execution_count": 11,
   "id": "ae016c05",
   "metadata": {
    "execution": {
     "iopub.execute_input": "2023-10-14T19:30:19.546148Z",
     "iopub.status.busy": "2023-10-14T19:30:19.545359Z",
     "iopub.status.idle": "2023-10-14T19:30:20.594261Z",
     "shell.execute_reply": "2023-10-14T19:30:20.593305Z"
    },
    "papermill": {
     "duration": 1.059747,
     "end_time": "2023-10-14T19:30:20.596189",
     "exception": false,
     "start_time": "2023-10-14T19:30:19.536442",
     "status": "completed"
    },
    "tags": []
   },
   "outputs": [
    {
     "data": {
      "text/plain": [
       "(50000,)"
      ]
     },
     "execution_count": 11,
     "metadata": {},
     "output_type": "execute_result"
    }
   ],
   "source": [
    "aux = np.flip(x_train, axis=2)\n",
    "x_train_aug = np.concatenate((x_train, aux))\n",
    "y_train_fine_aug = np.concatenate((y_train_fine, y_train_fine))\n",
    "y_train_fine.shape"
   ]
  },
  {
   "cell_type": "markdown",
   "id": "ab159132",
   "metadata": {
    "papermill": {
     "duration": 0.007992,
     "end_time": "2023-10-14T19:30:20.612457",
     "exception": false,
     "start_time": "2023-10-14T19:30:20.604465",
     "status": "completed"
    },
    "tags": []
   },
   "source": [
    "## Model Training:"
   ]
  },
  {
   "cell_type": "code",
   "execution_count": 12,
   "id": "a6fd3c04",
   "metadata": {
    "execution": {
     "iopub.execute_input": "2023-10-14T19:30:20.629785Z",
     "iopub.status.busy": "2023-10-14T19:30:20.629488Z",
     "iopub.status.idle": "2023-10-14T19:30:20.637156Z",
     "shell.execute_reply": "2023-10-14T19:30:20.636356Z"
    },
    "papermill": {
     "duration": 0.018397,
     "end_time": "2023-10-14T19:30:20.638860",
     "exception": false,
     "start_time": "2023-10-14T19:30:20.620463",
     "status": "completed"
    },
    "tags": []
   },
   "outputs": [],
   "source": [
    "# Importo las bibliotecas a utilizar\n",
    "from tensorflow.keras.models import Sequential\n",
    "from tensorflow.keras.layers import Dense, Dropout, BatchNormalization, Flatten\n",
    "from tensorflow.keras.optimizers import SGD, Adam, RMSprop\n",
    "from tensorflow.keras.regularizers import l1, l2\n",
    "from tensorflow.keras.constraints import MaxNorm\n",
    "from tensorflow.keras import initializers\n",
    "from tensorflow.keras.callbacks import ReduceLROnPlateau, EarlyStopping, ModelCheckpoint, TensorBoard"
   ]
  },
  {
   "cell_type": "markdown",
   "id": "9dfe471f",
   "metadata": {
    "papermill": {
     "duration": 0.008062,
     "end_time": "2023-10-14T19:30:20.655105",
     "exception": false,
     "start_time": "2023-10-14T19:30:20.647043",
     "status": "completed"
    },
    "tags": []
   },
   "source": [
    "**Red utilizada**\n",
    "\n",
    "Primero se utilizó una flatten de entrada. Luego como hidden layers se utilizó una combinación entre capas con activación Relu y capas con activación Sigmoide ya que eran las que mejores resultados arrojaba. \n",
    "En la capa de salida se utilizo la Softmax.\n",
    "\n",
    "Una mejora importante se dió con el uso del kernel Constraint!"
   ]
  },
  {
   "cell_type": "code",
   "execution_count": 13,
   "id": "8dd1f682",
   "metadata": {
    "execution": {
     "iopub.execute_input": "2023-10-14T19:30:20.672578Z",
     "iopub.status.busy": "2023-10-14T19:30:20.672024Z",
     "iopub.status.idle": "2023-10-14T19:30:24.223683Z",
     "shell.execute_reply": "2023-10-14T19:30:24.222849Z"
    },
    "papermill": {
     "duration": 3.562808,
     "end_time": "2023-10-14T19:30:24.225791",
     "exception": false,
     "start_time": "2023-10-14T19:30:20.662983",
     "status": "completed"
    },
    "tags": []
   },
   "outputs": [],
   "source": [
    "model = Sequential()\n",
    "#model.add(Flatten(input_shape=(32,32))) #B&W IMAGES\n",
    "model.add(Flatten(input_shape=(32,32,3))) #COLOR IMAGES\n",
    "model.add(Dense(1024, activation='relu', kernel_initializer=initializers.RandomNormal(stddev=0.1), kernel_constraint=MaxNorm(5)))\n",
    "model.add(Dropout(0.1))\n",
    "model.add(Dense(512, activation='sigmoid', kernel_constraint=MaxNorm(5)))\n",
    "model.add(Dropout(0.1))\n",
    "model.add(Dense(1042, activation='relu', kernel_initializer=initializers.RandomNormal(stddev=0.1), kernel_constraint=MaxNorm(5)))\n",
    "model.add(Dropout(0.1))\n",
    "model.add(Dense(512, activation='sigmoid', kernel_constraint=MaxNorm(5)))\n",
    "model.add(Dropout(0.1))\n",
    "model.add(Dense(100, activation=\"softmax\"))\n",
    "model.compile(loss=\"sparse_categorical_crossentropy\", metrics = [\"accuracy\"], optimizer = Adam(learning_rate=0.001))"
   ]
  },
  {
   "cell_type": "code",
   "execution_count": 14,
   "id": "f3bf85db",
   "metadata": {
    "execution": {
     "iopub.execute_input": "2023-10-14T19:30:24.243688Z",
     "iopub.status.busy": "2023-10-14T19:30:24.243394Z",
     "iopub.status.idle": "2023-10-14T19:30:24.267141Z",
     "shell.execute_reply": "2023-10-14T19:30:24.266434Z"
    },
    "papermill": {
     "duration": 0.04973,
     "end_time": "2023-10-14T19:30:24.284004",
     "exception": false,
     "start_time": "2023-10-14T19:30:24.234274",
     "status": "completed"
    },
    "tags": []
   },
   "outputs": [
    {
     "name": "stdout",
     "output_type": "stream",
     "text": [
      "Model: \"sequential\"\n",
      "_________________________________________________________________\n",
      " Layer (type)                Output Shape              Param #   \n",
      "=================================================================\n",
      " flatten (Flatten)           (None, 3072)              0         \n",
      "                                                                 \n",
      " dense (Dense)               (None, 1024)              3146752   \n",
      "                                                                 \n",
      " dropout (Dropout)           (None, 1024)              0         \n",
      "                                                                 \n",
      " dense_1 (Dense)             (None, 512)               524800    \n",
      "                                                                 \n",
      " dropout_1 (Dropout)         (None, 512)               0         \n",
      "                                                                 \n",
      " dense_2 (Dense)             (None, 1042)              534546    \n",
      "                                                                 \n",
      " dropout_2 (Dropout)         (None, 1042)              0         \n",
      "                                                                 \n",
      " dense_3 (Dense)             (None, 512)               534016    \n",
      "                                                                 \n",
      " dropout_3 (Dropout)         (None, 512)               0         \n",
      "                                                                 \n",
      " dense_4 (Dense)             (None, 100)               51300     \n",
      "                                                                 \n",
      "=================================================================\n",
      "Total params: 4,791,414\n",
      "Trainable params: 4,791,414\n",
      "Non-trainable params: 0\n",
      "_________________________________________________________________\n"
     ]
    }
   ],
   "source": [
    "model.summary()"
   ]
  },
  {
   "cell_type": "code",
   "execution_count": 15,
   "id": "defd2637",
   "metadata": {
    "execution": {
     "iopub.execute_input": "2023-10-14T19:30:24.303444Z",
     "iopub.status.busy": "2023-10-14T19:30:24.303202Z",
     "iopub.status.idle": "2023-10-14T19:30:24.306830Z",
     "shell.execute_reply": "2023-10-14T19:30:24.305915Z"
    },
    "papermill": {
     "duration": 0.015388,
     "end_time": "2023-10-14T19:30:24.308490",
     "exception": false,
     "start_time": "2023-10-14T19:30:24.293102",
     "status": "completed"
    },
    "tags": []
   },
   "outputs": [],
   "source": [
    "# Descomentar para visualidar las capas de la red\n",
    "#plot_model(model,show_shapes=True,show_layer_names=True)"
   ]
  },
  {
   "cell_type": "markdown",
   "id": "29bb8cb8",
   "metadata": {
    "papermill": {
     "duration": 0.009239,
     "end_time": "2023-10-14T19:30:24.326940",
     "exception": false,
     "start_time": "2023-10-14T19:30:24.317701",
     "status": "completed"
    },
    "tags": []
   },
   "source": [
    "### Callbacks:"
   ]
  },
  {
   "cell_type": "code",
   "execution_count": 16,
   "id": "b64ca9eb",
   "metadata": {
    "execution": {
     "iopub.execute_input": "2023-10-14T19:30:24.346789Z",
     "iopub.status.busy": "2023-10-14T19:30:24.346529Z",
     "iopub.status.idle": "2023-10-14T19:30:24.350699Z",
     "shell.execute_reply": "2023-10-14T19:30:24.349885Z"
    },
    "papermill": {
     "duration": 0.016209,
     "end_time": "2023-10-14T19:30:24.352413",
     "exception": false,
     "start_time": "2023-10-14T19:30:24.336204",
     "status": "completed"
    },
    "tags": []
   },
   "outputs": [],
   "source": [
    "rlrop = ReduceLROnPlateau(\n",
    "    monitor = \"val_accuracy\",\n",
    "    factor = 0.5,\n",
    "    patience = 5,\n",
    "    verbose = 1,\n",
    "    min_lr = 1e-5\n",
    ")"
   ]
  },
  {
   "cell_type": "code",
   "execution_count": 17,
   "id": "0728bebc",
   "metadata": {
    "execution": {
     "iopub.execute_input": "2023-10-14T19:30:24.415979Z",
     "iopub.status.busy": "2023-10-14T19:30:24.415612Z",
     "iopub.status.idle": "2023-10-14T19:30:24.420201Z",
     "shell.execute_reply": "2023-10-14T19:30:24.419301Z"
    },
    "papermill": {
     "duration": 0.017302,
     "end_time": "2023-10-14T19:30:24.421958",
     "exception": false,
     "start_time": "2023-10-14T19:30:24.404656",
     "status": "completed"
    },
    "tags": []
   },
   "outputs": [],
   "source": [
    "mc = ModelCheckpoint(\n",
    "    \"best_weights.hfd5\",\n",
    "    monitor = \"val_accuracy\",\n",
    "    verbose = 1,\n",
    "    save_best_only = True,\n",
    "    save_weights_only = True,\n",
    ")"
   ]
  },
  {
   "cell_type": "code",
   "execution_count": 18,
   "id": "39c5ae79",
   "metadata": {
    "execution": {
     "iopub.execute_input": "2023-10-14T19:30:24.442080Z",
     "iopub.status.busy": "2023-10-14T19:30:24.441286Z",
     "iopub.status.idle": "2023-10-14T19:30:24.445729Z",
     "shell.execute_reply": "2023-10-14T19:30:24.444929Z"
    },
    "papermill": {
     "duration": 0.016331,
     "end_time": "2023-10-14T19:30:24.447460",
     "exception": false,
     "start_time": "2023-10-14T19:30:24.431129",
     "status": "completed"
    },
    "tags": []
   },
   "outputs": [],
   "source": [
    "es = EarlyStopping(\n",
    "    monitor = \"val_accuracy\",\n",
    "    patience = 15, \n",
    "    verbose = 1,\n",
    "    restore_best_weights = True,\n",
    ")"
   ]
  },
  {
   "cell_type": "code",
   "execution_count": 19,
   "id": "233d888c",
   "metadata": {
    "execution": {
     "iopub.execute_input": "2023-10-14T19:30:24.468113Z",
     "iopub.status.busy": "2023-10-14T19:30:24.467763Z",
     "iopub.status.idle": "2023-10-14T19:30:24.471688Z",
     "shell.execute_reply": "2023-10-14T19:30:24.470844Z"
    },
    "papermill": {
     "duration": 0.016256,
     "end_time": "2023-10-14T19:30:24.473341",
     "exception": false,
     "start_time": "2023-10-14T19:30:24.457085",
     "status": "completed"
    },
    "tags": []
   },
   "outputs": [],
   "source": [
    "tb = TensorBoard(\n",
    "    log_dir=\"logs\",\n",
    ")"
   ]
  },
  {
   "cell_type": "markdown",
   "id": "df470049",
   "metadata": {
    "papermill": {
     "duration": 0.009171,
     "end_time": "2023-10-14T19:30:24.492040",
     "exception": false,
     "start_time": "2023-10-14T19:30:24.482869",
     "status": "completed"
    },
    "tags": []
   },
   "source": [
    "### Entreno el modelo:"
   ]
  },
  {
   "cell_type": "code",
   "execution_count": 20,
   "id": "1b916ff7",
   "metadata": {
    "execution": {
     "iopub.execute_input": "2023-10-14T19:30:24.512502Z",
     "iopub.status.busy": "2023-10-14T19:30:24.511770Z",
     "iopub.status.idle": "2023-10-14T19:35:49.888063Z",
     "shell.execute_reply": "2023-10-14T19:35:49.887040Z"
    },
    "papermill": {
     "duration": 325.388765,
     "end_time": "2023-10-14T19:35:49.890453",
     "exception": false,
     "start_time": "2023-10-14T19:30:24.501688",
     "status": "completed"
    },
    "tags": []
   },
   "outputs": [
    {
     "name": "stdout",
     "output_type": "stream",
     "text": [
      "Epoch 1/200\n",
      "77/80 [===========================>..] - ETA: 0s - loss: 4.2523 - accuracy: 0.0539\n",
      "Epoch 1: val_accuracy improved from -inf to 0.11235, saving model to best_weights.hfd5\n",
      "80/80 [==============================] - 7s 29ms/step - loss: 4.2397 - accuracy: 0.0554 - val_loss: 3.8230 - val_accuracy: 0.1124 - lr: 0.0010\n",
      "Epoch 2/200\n",
      "79/80 [============================>.] - ETA: 0s - loss: 3.7157 - accuracy: 0.1302\n",
      "Epoch 2: val_accuracy improved from 0.11235 to 0.16380, saving model to best_weights.hfd5\n",
      "80/80 [==============================] - 2s 23ms/step - loss: 3.7153 - accuracy: 0.1303 - val_loss: 3.5415 - val_accuracy: 0.1638 - lr: 0.0010\n",
      "Epoch 3/200\n",
      "80/80 [==============================] - ETA: 0s - loss: 3.5098 - accuracy: 0.1668\n",
      "Epoch 3: val_accuracy improved from 0.16380 to 0.18770, saving model to best_weights.hfd5\n",
      "80/80 [==============================] - 2s 19ms/step - loss: 3.5098 - accuracy: 0.1668 - val_loss: 3.3740 - val_accuracy: 0.1877 - lr: 0.0010\n",
      "Epoch 4/200\n",
      "78/80 [============================>.] - ETA: 0s - loss: 3.3656 - accuracy: 0.1907\n",
      "Epoch 4: val_accuracy improved from 0.18770 to 0.20585, saving model to best_weights.hfd5\n",
      "80/80 [==============================] - 1s 19ms/step - loss: 3.3651 - accuracy: 0.1913 - val_loss: 3.2905 - val_accuracy: 0.2059 - lr: 0.0010\n",
      "Epoch 5/200\n",
      "79/80 [============================>.] - ETA: 0s - loss: 3.2495 - accuracy: 0.2109\n",
      "Epoch 5: val_accuracy improved from 0.20585 to 0.22310, saving model to best_weights.hfd5\n",
      "80/80 [==============================] - 2s 19ms/step - loss: 3.2487 - accuracy: 0.2112 - val_loss: 3.1752 - val_accuracy: 0.2231 - lr: 0.0010\n",
      "Epoch 6/200\n",
      "76/80 [===========================>..] - ETA: 0s - loss: 3.1627 - accuracy: 0.2276\n",
      "Epoch 6: val_accuracy improved from 0.22310 to 0.23150, saving model to best_weights.hfd5\n",
      "80/80 [==============================] - 2s 19ms/step - loss: 3.1624 - accuracy: 0.2278 - val_loss: 3.1415 - val_accuracy: 0.2315 - lr: 0.0010\n",
      "Epoch 7/200\n",
      "80/80 [==============================] - ETA: 0s - loss: 3.0834 - accuracy: 0.2442\n",
      "Epoch 7: val_accuracy improved from 0.23150 to 0.25265, saving model to best_weights.hfd5\n",
      "80/80 [==============================] - 2s 25ms/step - loss: 3.0834 - accuracy: 0.2442 - val_loss: 3.0399 - val_accuracy: 0.2526 - lr: 0.0010\n",
      "Epoch 8/200\n",
      "80/80 [==============================] - ETA: 0s - loss: 3.0204 - accuracy: 0.2545\n",
      "Epoch 8: val_accuracy improved from 0.25265 to 0.26620, saving model to best_weights.hfd5\n",
      "80/80 [==============================] - 1s 19ms/step - loss: 3.0204 - accuracy: 0.2545 - val_loss: 2.9728 - val_accuracy: 0.2662 - lr: 0.0010\n",
      "Epoch 9/200\n",
      "80/80 [==============================] - ETA: 0s - loss: 2.9447 - accuracy: 0.2672\n",
      "Epoch 9: val_accuracy did not improve from 0.26620\n",
      "80/80 [==============================] - 1s 14ms/step - loss: 2.9447 - accuracy: 0.2672 - val_loss: 2.9473 - val_accuracy: 0.2656 - lr: 0.0010\n",
      "Epoch 10/200\n",
      "76/80 [===========================>..] - ETA: 0s - loss: 2.8926 - accuracy: 0.2791\n",
      "Epoch 10: val_accuracy improved from 0.26620 to 0.26990, saving model to best_weights.hfd5\n",
      "80/80 [==============================] - 1s 17ms/step - loss: 2.8921 - accuracy: 0.2790 - val_loss: 2.9361 - val_accuracy: 0.2699 - lr: 0.0010\n",
      "Epoch 11/200\n",
      "78/80 [============================>.] - ETA: 0s - loss: 2.8335 - accuracy: 0.2891\n",
      "Epoch 11: val_accuracy improved from 0.26990 to 0.28535, saving model to best_weights.hfd5\n",
      "80/80 [==============================] - 1s 18ms/step - loss: 2.8329 - accuracy: 0.2892 - val_loss: 2.8658 - val_accuracy: 0.2853 - lr: 0.0010\n",
      "Epoch 12/200\n",
      "80/80 [==============================] - ETA: 0s - loss: 2.7651 - accuracy: 0.3036\n",
      "Epoch 12: val_accuracy improved from 0.28535 to 0.29795, saving model to best_weights.hfd5\n",
      "80/80 [==============================] - 2s 19ms/step - loss: 2.7651 - accuracy: 0.3036 - val_loss: 2.8037 - val_accuracy: 0.2979 - lr: 0.0010\n",
      "Epoch 13/200\n",
      "80/80 [==============================] - ETA: 0s - loss: 2.7109 - accuracy: 0.3135\n",
      "Epoch 13: val_accuracy did not improve from 0.29795\n",
      "80/80 [==============================] - 1s 16ms/step - loss: 2.7109 - accuracy: 0.3135 - val_loss: 2.7951 - val_accuracy: 0.2968 - lr: 0.0010\n",
      "Epoch 14/200\n",
      "79/80 [============================>.] - ETA: 0s - loss: 2.6598 - accuracy: 0.3238\n",
      "Epoch 14: val_accuracy improved from 0.29795 to 0.31070, saving model to best_weights.hfd5\n",
      "80/80 [==============================] - 1s 19ms/step - loss: 2.6599 - accuracy: 0.3237 - val_loss: 2.7429 - val_accuracy: 0.3107 - lr: 0.0010\n",
      "Epoch 15/200\n",
      "78/80 [============================>.] - ETA: 0s - loss: 2.6108 - accuracy: 0.3325\n",
      "Epoch 15: val_accuracy improved from 0.31070 to 0.31930, saving model to best_weights.hfd5\n",
      "80/80 [==============================] - 1s 18ms/step - loss: 2.6099 - accuracy: 0.3331 - val_loss: 2.7040 - val_accuracy: 0.3193 - lr: 0.0010\n",
      "Epoch 16/200\n",
      "80/80 [==============================] - ETA: 0s - loss: 2.5551 - accuracy: 0.3444\n",
      "Epoch 16: val_accuracy improved from 0.31930 to 0.32235, saving model to best_weights.hfd5\n",
      "80/80 [==============================] - 1s 19ms/step - loss: 2.5551 - accuracy: 0.3444 - val_loss: 2.6870 - val_accuracy: 0.3223 - lr: 0.0010\n",
      "Epoch 17/200\n",
      "77/80 [===========================>..] - ETA: 0s - loss: 2.5027 - accuracy: 0.3554\n",
      "Epoch 17: val_accuracy improved from 0.32235 to 0.33315, saving model to best_weights.hfd5\n",
      "80/80 [==============================] - 1s 18ms/step - loss: 2.5048 - accuracy: 0.3547 - val_loss: 2.6320 - val_accuracy: 0.3331 - lr: 0.0010\n",
      "Epoch 18/200\n",
      "79/80 [============================>.] - ETA: 0s - loss: 2.4505 - accuracy: 0.3642\n",
      "Epoch 18: val_accuracy improved from 0.33315 to 0.33585, saving model to best_weights.hfd5\n",
      "80/80 [==============================] - 2s 20ms/step - loss: 2.4505 - accuracy: 0.3642 - val_loss: 2.6173 - val_accuracy: 0.3359 - lr: 0.0010\n",
      "Epoch 19/200\n",
      "77/80 [===========================>..] - ETA: 0s - loss: 2.3979 - accuracy: 0.3779\n",
      "Epoch 19: val_accuracy improved from 0.33585 to 0.34455, saving model to best_weights.hfd5\n",
      "80/80 [==============================] - 1s 18ms/step - loss: 2.4003 - accuracy: 0.3774 - val_loss: 2.5892 - val_accuracy: 0.3446 - lr: 0.0010\n",
      "Epoch 20/200\n",
      "76/80 [===========================>..] - ETA: 0s - loss: 2.3496 - accuracy: 0.3867\n",
      "Epoch 20: val_accuracy improved from 0.34455 to 0.35035, saving model to best_weights.hfd5\n",
      "80/80 [==============================] - 1s 16ms/step - loss: 2.3514 - accuracy: 0.3865 - val_loss: 2.5456 - val_accuracy: 0.3503 - lr: 0.0010\n",
      "Epoch 21/200\n",
      "79/80 [============================>.] - ETA: 0s - loss: 2.3012 - accuracy: 0.3980\n",
      "Epoch 21: val_accuracy improved from 0.35035 to 0.35905, saving model to best_weights.hfd5\n",
      "80/80 [==============================] - 1s 17ms/step - loss: 2.3017 - accuracy: 0.3977 - val_loss: 2.5057 - val_accuracy: 0.3591 - lr: 0.0010\n",
      "Epoch 22/200\n",
      "80/80 [==============================] - ETA: 0s - loss: 2.2470 - accuracy: 0.4101\n",
      "Epoch 22: val_accuracy improved from 0.35905 to 0.36590, saving model to best_weights.hfd5\n",
      "80/80 [==============================] - 2s 22ms/step - loss: 2.2470 - accuracy: 0.4101 - val_loss: 2.4675 - val_accuracy: 0.3659 - lr: 0.0010\n",
      "Epoch 23/200\n",
      "77/80 [===========================>..] - ETA: 0s - loss: 2.1948 - accuracy: 0.4212\n",
      "Epoch 23: val_accuracy improved from 0.36590 to 0.36950, saving model to best_weights.hfd5\n",
      "80/80 [==============================] - 2s 22ms/step - loss: 2.1942 - accuracy: 0.4216 - val_loss: 2.4530 - val_accuracy: 0.3695 - lr: 0.0010\n",
      "Epoch 24/200\n",
      "78/80 [============================>.] - ETA: 0s - loss: 2.1427 - accuracy: 0.4338\n",
      "Epoch 24: val_accuracy improved from 0.36950 to 0.37845, saving model to best_weights.hfd5\n",
      "80/80 [==============================] - 1s 19ms/step - loss: 2.1429 - accuracy: 0.4340 - val_loss: 2.4179 - val_accuracy: 0.3785 - lr: 0.0010\n",
      "Epoch 25/200\n",
      "80/80 [==============================] - ETA: 0s - loss: 2.0969 - accuracy: 0.4439\n",
      "Epoch 25: val_accuracy improved from 0.37845 to 0.38970, saving model to best_weights.hfd5\n",
      "80/80 [==============================] - 1s 17ms/step - loss: 2.0969 - accuracy: 0.4439 - val_loss: 2.3551 - val_accuracy: 0.3897 - lr: 0.0010\n",
      "Epoch 26/200\n",
      "79/80 [============================>.] - ETA: 0s - loss: 2.0429 - accuracy: 0.4556\n",
      "Epoch 26: val_accuracy improved from 0.38970 to 0.39725, saving model to best_weights.hfd5\n",
      "80/80 [==============================] - 1s 17ms/step - loss: 2.0439 - accuracy: 0.4554 - val_loss: 2.3300 - val_accuracy: 0.3972 - lr: 0.0010\n",
      "Epoch 27/200\n",
      "78/80 [============================>.] - ETA: 0s - loss: 1.9950 - accuracy: 0.4671\n",
      "Epoch 27: val_accuracy did not improve from 0.39725\n",
      "80/80 [==============================] - 1s 14ms/step - loss: 1.9962 - accuracy: 0.4670 - val_loss: 2.3343 - val_accuracy: 0.3939 - lr: 0.0010\n",
      "Epoch 28/200\n",
      "76/80 [===========================>..] - ETA: 0s - loss: 1.9510 - accuracy: 0.4764\n",
      "Epoch 28: val_accuracy improved from 0.39725 to 0.41095, saving model to best_weights.hfd5\n",
      "80/80 [==============================] - 1s 16ms/step - loss: 1.9517 - accuracy: 0.4767 - val_loss: 2.2611 - val_accuracy: 0.4110 - lr: 0.0010\n",
      "Epoch 29/200\n",
      "76/80 [===========================>..] - ETA: 0s - loss: 1.8812 - accuracy: 0.4946\n",
      "Epoch 29: val_accuracy improved from 0.41095 to 0.41475, saving model to best_weights.hfd5\n",
      "80/80 [==============================] - 1s 18ms/step - loss: 1.8815 - accuracy: 0.4944 - val_loss: 2.2482 - val_accuracy: 0.4148 - lr: 0.0010\n",
      "Epoch 30/200\n",
      "77/80 [===========================>..] - ETA: 0s - loss: 1.8485 - accuracy: 0.5037\n",
      "Epoch 30: val_accuracy improved from 0.41475 to 0.41925, saving model to best_weights.hfd5\n",
      "80/80 [==============================] - 1s 19ms/step - loss: 1.8491 - accuracy: 0.5034 - val_loss: 2.2314 - val_accuracy: 0.4193 - lr: 0.0010\n",
      "Epoch 31/200\n",
      "79/80 [============================>.] - ETA: 0s - loss: 1.8021 - accuracy: 0.5127\n",
      "Epoch 31: val_accuracy improved from 0.41925 to 0.43055, saving model to best_weights.hfd5\n",
      "80/80 [==============================] - 1s 16ms/step - loss: 1.8038 - accuracy: 0.5124 - val_loss: 2.1725 - val_accuracy: 0.4306 - lr: 0.0010\n",
      "Epoch 32/200\n",
      "76/80 [===========================>..] - ETA: 0s - loss: 1.7599 - accuracy: 0.5230\n",
      "Epoch 32: val_accuracy improved from 0.43055 to 0.43345, saving model to best_weights.hfd5\n",
      "80/80 [==============================] - 1s 16ms/step - loss: 1.7625 - accuracy: 0.5221 - val_loss: 2.1588 - val_accuracy: 0.4335 - lr: 0.0010\n",
      "Epoch 33/200\n",
      "76/80 [===========================>..] - ETA: 0s - loss: 1.7109 - accuracy: 0.5362\n",
      "Epoch 33: val_accuracy did not improve from 0.43345\n",
      "80/80 [==============================] - 1s 14ms/step - loss: 1.7126 - accuracy: 0.5357 - val_loss: 2.1583 - val_accuracy: 0.4333 - lr: 0.0010\n",
      "Epoch 34/200\n",
      "79/80 [============================>.] - ETA: 0s - loss: 1.6725 - accuracy: 0.5423\n",
      "Epoch 34: val_accuracy improved from 0.43345 to 0.44630, saving model to best_weights.hfd5\n",
      "80/80 [==============================] - 2s 19ms/step - loss: 1.6735 - accuracy: 0.5421 - val_loss: 2.0887 - val_accuracy: 0.4463 - lr: 0.0010\n",
      "Epoch 35/200\n",
      "79/80 [============================>.] - ETA: 0s - loss: 1.6374 - accuracy: 0.5510\n",
      "Epoch 35: val_accuracy improved from 0.44630 to 0.45120, saving model to best_weights.hfd5\n",
      "80/80 [==============================] - 1s 18ms/step - loss: 1.6380 - accuracy: 0.5508 - val_loss: 2.0578 - val_accuracy: 0.4512 - lr: 0.0010\n",
      "Epoch 36/200\n",
      "80/80 [==============================] - ETA: 0s - loss: 1.5890 - accuracy: 0.5646\n",
      "Epoch 36: val_accuracy improved from 0.45120 to 0.45910, saving model to best_weights.hfd5\n",
      "80/80 [==============================] - 1s 19ms/step - loss: 1.5890 - accuracy: 0.5646 - val_loss: 2.0340 - val_accuracy: 0.4591 - lr: 0.0010\n",
      "Epoch 37/200\n",
      "78/80 [============================>.] - ETA: 0s - loss: 1.5477 - accuracy: 0.5744\n",
      "Epoch 37: val_accuracy improved from 0.45910 to 0.47210, saving model to best_weights.hfd5\n",
      "80/80 [==============================] - 2s 22ms/step - loss: 1.5479 - accuracy: 0.5742 - val_loss: 1.9925 - val_accuracy: 0.4721 - lr: 0.0010\n",
      "Epoch 38/200\n",
      "77/80 [===========================>..] - ETA: 0s - loss: 1.5144 - accuracy: 0.5823\n",
      "Epoch 38: val_accuracy improved from 0.47210 to 0.47820, saving model to best_weights.hfd5\n",
      "80/80 [==============================] - 1s 17ms/step - loss: 1.5146 - accuracy: 0.5823 - val_loss: 1.9539 - val_accuracy: 0.4782 - lr: 0.0010\n",
      "Epoch 39/200\n",
      "76/80 [===========================>..] - ETA: 0s - loss: 1.4622 - accuracy: 0.5963\n",
      "Epoch 39: val_accuracy improved from 0.47820 to 0.48270, saving model to best_weights.hfd5\n",
      "80/80 [==============================] - 1s 17ms/step - loss: 1.4647 - accuracy: 0.5957 - val_loss: 1.9288 - val_accuracy: 0.4827 - lr: 0.0010\n",
      "Epoch 40/200\n",
      "79/80 [============================>.] - ETA: 0s - loss: 1.4277 - accuracy: 0.6047\n",
      "Epoch 40: val_accuracy improved from 0.48270 to 0.49120, saving model to best_weights.hfd5\n",
      "80/80 [==============================] - 1s 18ms/step - loss: 1.4277 - accuracy: 0.6045 - val_loss: 1.8896 - val_accuracy: 0.4912 - lr: 0.0010\n",
      "Epoch 41/200\n",
      "80/80 [==============================] - ETA: 0s - loss: 1.3982 - accuracy: 0.6108\n",
      "Epoch 41: val_accuracy improved from 0.49120 to 0.49495, saving model to best_weights.hfd5\n",
      "80/80 [==============================] - 2s 20ms/step - loss: 1.3982 - accuracy: 0.6108 - val_loss: 1.8736 - val_accuracy: 0.4949 - lr: 0.0010\n",
      "Epoch 42/200\n",
      "80/80 [==============================] - ETA: 0s - loss: 1.3537 - accuracy: 0.6243\n",
      "Epoch 42: val_accuracy improved from 0.49495 to 0.50085, saving model to best_weights.hfd5\n",
      "80/80 [==============================] - 1s 19ms/step - loss: 1.3537 - accuracy: 0.6243 - val_loss: 1.8322 - val_accuracy: 0.5009 - lr: 0.0010\n",
      "Epoch 43/200\n",
      "78/80 [============================>.] - ETA: 0s - loss: 1.3234 - accuracy: 0.6322\n",
      "Epoch 43: val_accuracy improved from 0.50085 to 0.50950, saving model to best_weights.hfd5\n",
      "80/80 [==============================] - 1s 18ms/step - loss: 1.3243 - accuracy: 0.6319 - val_loss: 1.8152 - val_accuracy: 0.5095 - lr: 0.0010\n",
      "Epoch 44/200\n",
      "76/80 [===========================>..] - ETA: 0s - loss: 1.2863 - accuracy: 0.6399\n",
      "Epoch 44: val_accuracy improved from 0.50950 to 0.51010, saving model to best_weights.hfd5\n",
      "80/80 [==============================] - 1s 16ms/step - loss: 1.2877 - accuracy: 0.6392 - val_loss: 1.8003 - val_accuracy: 0.5101 - lr: 0.0010\n",
      "Epoch 45/200\n",
      "78/80 [============================>.] - ETA: 0s - loss: 1.2650 - accuracy: 0.6464\n",
      "Epoch 45: val_accuracy improved from 0.51010 to 0.52845, saving model to best_weights.hfd5\n",
      "80/80 [==============================] - 2s 20ms/step - loss: 1.2654 - accuracy: 0.6464 - val_loss: 1.7357 - val_accuracy: 0.5285 - lr: 0.0010\n",
      "Epoch 46/200\n",
      "80/80 [==============================] - ETA: 0s - loss: 1.2191 - accuracy: 0.6590\n",
      "Epoch 46: val_accuracy did not improve from 0.52845\n",
      "80/80 [==============================] - 1s 16ms/step - loss: 1.2191 - accuracy: 0.6590 - val_loss: 1.7341 - val_accuracy: 0.5238 - lr: 0.0010\n",
      "Epoch 47/200\n",
      "80/80 [==============================] - ETA: 0s - loss: 1.1951 - accuracy: 0.6646\n",
      "Epoch 47: val_accuracy improved from 0.52845 to 0.53900, saving model to best_weights.hfd5\n",
      "80/80 [==============================] - 1s 17ms/step - loss: 1.1951 - accuracy: 0.6646 - val_loss: 1.6880 - val_accuracy: 0.5390 - lr: 0.0010\n",
      "Epoch 48/200\n",
      "80/80 [==============================] - ETA: 0s - loss: 1.1559 - accuracy: 0.6738\n",
      "Epoch 48: val_accuracy improved from 0.53900 to 0.55110, saving model to best_weights.hfd5\n",
      "80/80 [==============================] - 1s 16ms/step - loss: 1.1559 - accuracy: 0.6738 - val_loss: 1.6411 - val_accuracy: 0.5511 - lr: 0.0010\n",
      "Epoch 49/200\n",
      "80/80 [==============================] - ETA: 0s - loss: 1.1312 - accuracy: 0.6802\n",
      "Epoch 49: val_accuracy did not improve from 0.55110\n",
      "80/80 [==============================] - 1s 14ms/step - loss: 1.1312 - accuracy: 0.6802 - val_loss: 1.6251 - val_accuracy: 0.5479 - lr: 0.0010\n",
      "Epoch 50/200\n",
      "76/80 [===========================>..] - ETA: 0s - loss: 1.0879 - accuracy: 0.6913\n",
      "Epoch 50: val_accuracy improved from 0.55110 to 0.56075, saving model to best_weights.hfd5\n",
      "80/80 [==============================] - 1s 16ms/step - loss: 1.0902 - accuracy: 0.6908 - val_loss: 1.5917 - val_accuracy: 0.5608 - lr: 0.0010\n",
      "Epoch 51/200\n",
      "76/80 [===========================>..] - ETA: 0s - loss: 1.0635 - accuracy: 0.6957\n",
      "Epoch 51: val_accuracy improved from 0.56075 to 0.56975, saving model to best_weights.hfd5\n",
      "80/80 [==============================] - 1s 18ms/step - loss: 1.0640 - accuracy: 0.6957 - val_loss: 1.5571 - val_accuracy: 0.5698 - lr: 0.0010\n",
      "Epoch 52/200\n",
      "76/80 [===========================>..] - ETA: 0s - loss: 1.0387 - accuracy: 0.7049\n",
      "Epoch 52: val_accuracy improved from 0.56975 to 0.57120, saving model to best_weights.hfd5\n",
      "80/80 [==============================] - 1s 18ms/step - loss: 1.0407 - accuracy: 0.7045 - val_loss: 1.5392 - val_accuracy: 0.5712 - lr: 0.0010\n",
      "Epoch 53/200\n",
      "80/80 [==============================] - ETA: 0s - loss: 1.0241 - accuracy: 0.7094\n",
      "Epoch 53: val_accuracy improved from 0.57120 to 0.58325, saving model to best_weights.hfd5\n",
      "80/80 [==============================] - 1s 18ms/step - loss: 1.0241 - accuracy: 0.7094 - val_loss: 1.5049 - val_accuracy: 0.5832 - lr: 0.0010\n",
      "Epoch 54/200\n",
      "79/80 [============================>.] - ETA: 0s - loss: 1.0059 - accuracy: 0.7137\n",
      "Epoch 54: val_accuracy did not improve from 0.58325\n",
      "80/80 [==============================] - 1s 14ms/step - loss: 1.0055 - accuracy: 0.7138 - val_loss: 1.5121 - val_accuracy: 0.5788 - lr: 0.0010\n",
      "Epoch 55/200\n",
      "79/80 [============================>.] - ETA: 0s - loss: 0.9788 - accuracy: 0.7201\n",
      "Epoch 55: val_accuracy improved from 0.58325 to 0.59465, saving model to best_weights.hfd5\n",
      "80/80 [==============================] - 1s 18ms/step - loss: 0.9801 - accuracy: 0.7198 - val_loss: 1.4497 - val_accuracy: 0.5946 - lr: 0.0010\n",
      "Epoch 56/200\n",
      "78/80 [============================>.] - ETA: 0s - loss: 0.9565 - accuracy: 0.7262\n",
      "Epoch 56: val_accuracy improved from 0.59465 to 0.60640, saving model to best_weights.hfd5\n",
      "80/80 [==============================] - 1s 17ms/step - loss: 0.9570 - accuracy: 0.7261 - val_loss: 1.4150 - val_accuracy: 0.6064 - lr: 0.0010\n",
      "Epoch 57/200\n",
      "80/80 [==============================] - ETA: 0s - loss: 0.9364 - accuracy: 0.7314\n",
      "Epoch 57: val_accuracy did not improve from 0.60640\n",
      "80/80 [==============================] - 1s 16ms/step - loss: 0.9364 - accuracy: 0.7314 - val_loss: 1.4182 - val_accuracy: 0.6046 - lr: 0.0010\n",
      "Epoch 58/200\n",
      "78/80 [============================>.] - ETA: 0s - loss: 0.9086 - accuracy: 0.7387\n",
      "Epoch 58: val_accuracy improved from 0.60640 to 0.61350, saving model to best_weights.hfd5\n",
      "80/80 [==============================] - 2s 19ms/step - loss: 0.9101 - accuracy: 0.7383 - val_loss: 1.3665 - val_accuracy: 0.6135 - lr: 0.0010\n",
      "Epoch 59/200\n",
      "80/80 [==============================] - ETA: 0s - loss: 0.9026 - accuracy: 0.7386\n",
      "Epoch 59: val_accuracy improved from 0.61350 to 0.62005, saving model to best_weights.hfd5\n",
      "80/80 [==============================] - 1s 18ms/step - loss: 0.9026 - accuracy: 0.7386 - val_loss: 1.3556 - val_accuracy: 0.6201 - lr: 0.0010\n",
      "Epoch 60/200\n",
      "77/80 [===========================>..] - ETA: 0s - loss: 0.8635 - accuracy: 0.7516\n",
      "Epoch 60: val_accuracy improved from 0.62005 to 0.62545, saving model to best_weights.hfd5\n",
      "80/80 [==============================] - 2s 19ms/step - loss: 0.8648 - accuracy: 0.7511 - val_loss: 1.3279 - val_accuracy: 0.6255 - lr: 0.0010\n",
      "Epoch 61/200\n",
      "80/80 [==============================] - ETA: 0s - loss: 0.8483 - accuracy: 0.7562\n",
      "Epoch 61: val_accuracy did not improve from 0.62545\n",
      "80/80 [==============================] - 1s 14ms/step - loss: 0.8483 - accuracy: 0.7562 - val_loss: 1.3454 - val_accuracy: 0.6192 - lr: 0.0010\n",
      "Epoch 62/200\n",
      "76/80 [===========================>..] - ETA: 0s - loss: 0.8421 - accuracy: 0.7572\n",
      "Epoch 62: val_accuracy improved from 0.62545 to 0.63985, saving model to best_weights.hfd5\n",
      "80/80 [==============================] - 2s 19ms/step - loss: 0.8428 - accuracy: 0.7566 - val_loss: 1.2821 - val_accuracy: 0.6399 - lr: 0.0010\n",
      "Epoch 63/200\n",
      "76/80 [===========================>..] - ETA: 0s - loss: 0.8151 - accuracy: 0.7649\n",
      "Epoch 63: val_accuracy improved from 0.63985 to 0.65015, saving model to best_weights.hfd5\n",
      "80/80 [==============================] - 1s 16ms/step - loss: 0.8168 - accuracy: 0.7638 - val_loss: 1.2390 - val_accuracy: 0.6502 - lr: 0.0010\n",
      "Epoch 64/200\n",
      "79/80 [============================>.] - ETA: 0s - loss: 0.7949 - accuracy: 0.7688\n",
      "Epoch 64: val_accuracy improved from 0.65015 to 0.65175, saving model to best_weights.hfd5\n",
      "80/80 [==============================] - 1s 16ms/step - loss: 0.7951 - accuracy: 0.7688 - val_loss: 1.2240 - val_accuracy: 0.6518 - lr: 0.0010\n",
      "Epoch 65/200\n",
      "79/80 [============================>.] - ETA: 0s - loss: 0.7706 - accuracy: 0.7755\n",
      "Epoch 65: val_accuracy improved from 0.65175 to 0.65980, saving model to best_weights.hfd5\n",
      "80/80 [==============================] - 2s 22ms/step - loss: 0.7706 - accuracy: 0.7753 - val_loss: 1.1917 - val_accuracy: 0.6598 - lr: 0.0010\n",
      "Epoch 66/200\n",
      "77/80 [===========================>..] - ETA: 0s - loss: 0.7587 - accuracy: 0.7798\n",
      "Epoch 66: val_accuracy did not improve from 0.65980\n",
      "80/80 [==============================] - 1s 16ms/step - loss: 0.7602 - accuracy: 0.7793 - val_loss: 1.2036 - val_accuracy: 0.6575 - lr: 0.0010\n",
      "Epoch 67/200\n",
      "76/80 [===========================>..] - ETA: 0s - loss: 0.7553 - accuracy: 0.7783\n",
      "Epoch 67: val_accuracy improved from 0.65980 to 0.67230, saving model to best_weights.hfd5\n",
      "80/80 [==============================] - 1s 16ms/step - loss: 0.7562 - accuracy: 0.7780 - val_loss: 1.1702 - val_accuracy: 0.6723 - lr: 0.0010\n",
      "Epoch 68/200\n",
      "80/80 [==============================] - ETA: 0s - loss: 0.7358 - accuracy: 0.7866\n",
      "Epoch 68: val_accuracy improved from 0.67230 to 0.68345, saving model to best_weights.hfd5\n",
      "80/80 [==============================] - 1s 18ms/step - loss: 0.7358 - accuracy: 0.7866 - val_loss: 1.1283 - val_accuracy: 0.6834 - lr: 0.0010\n",
      "Epoch 69/200\n",
      "78/80 [============================>.] - ETA: 0s - loss: 0.7065 - accuracy: 0.7936\n",
      "Epoch 69: val_accuracy improved from 0.68345 to 0.68800, saving model to best_weights.hfd5\n",
      "80/80 [==============================] - 2s 23ms/step - loss: 0.7072 - accuracy: 0.7934 - val_loss: 1.0942 - val_accuracy: 0.6880 - lr: 0.0010\n",
      "Epoch 70/200\n",
      "80/80 [==============================] - ETA: 0s - loss: 0.7021 - accuracy: 0.7940\n",
      "Epoch 70: val_accuracy improved from 0.68800 to 0.69180, saving model to best_weights.hfd5\n",
      "80/80 [==============================] - 1s 19ms/step - loss: 0.7021 - accuracy: 0.7940 - val_loss: 1.0865 - val_accuracy: 0.6918 - lr: 0.0010\n",
      "Epoch 71/200\n",
      "79/80 [============================>.] - ETA: 0s - loss: 0.6920 - accuracy: 0.7964\n",
      "Epoch 71: val_accuracy improved from 0.69180 to 0.69365, saving model to best_weights.hfd5\n",
      "80/80 [==============================] - 1s 18ms/step - loss: 0.6919 - accuracy: 0.7965 - val_loss: 1.0738 - val_accuracy: 0.6937 - lr: 0.0010\n",
      "Epoch 72/200\n",
      "79/80 [============================>.] - ETA: 0s - loss: 0.6816 - accuracy: 0.7987\n",
      "Epoch 72: val_accuracy did not improve from 0.69365\n",
      "80/80 [==============================] - 1s 16ms/step - loss: 0.6818 - accuracy: 0.7989 - val_loss: 1.0729 - val_accuracy: 0.6928 - lr: 0.0010\n",
      "Epoch 73/200\n",
      "79/80 [============================>.] - ETA: 0s - loss: 0.6721 - accuracy: 0.8028\n",
      "Epoch 73: val_accuracy improved from 0.69365 to 0.69710, saving model to best_weights.hfd5\n",
      "80/80 [==============================] - 1s 18ms/step - loss: 0.6718 - accuracy: 0.8028 - val_loss: 1.0564 - val_accuracy: 0.6971 - lr: 0.0010\n",
      "Epoch 74/200\n",
      "76/80 [===========================>..] - ETA: 0s - loss: 0.6649 - accuracy: 0.8051\n",
      "Epoch 74: val_accuracy improved from 0.69710 to 0.70610, saving model to best_weights.hfd5\n",
      "80/80 [==============================] - 1s 16ms/step - loss: 0.6657 - accuracy: 0.8049 - val_loss: 1.0094 - val_accuracy: 0.7061 - lr: 0.0010\n",
      "Epoch 75/200\n",
      "80/80 [==============================] - ETA: 0s - loss: 0.6477 - accuracy: 0.8098\n",
      "Epoch 75: val_accuracy improved from 0.70610 to 0.71740, saving model to best_weights.hfd5\n",
      "80/80 [==============================] - 1s 16ms/step - loss: 0.6477 - accuracy: 0.8098 - val_loss: 0.9941 - val_accuracy: 0.7174 - lr: 0.0010\n",
      "Epoch 76/200\n",
      "77/80 [===========================>..] - ETA: 0s - loss: 0.6342 - accuracy: 0.8132\n",
      "Epoch 76: val_accuracy did not improve from 0.71740\n",
      "80/80 [==============================] - 1s 14ms/step - loss: 0.6364 - accuracy: 0.8127 - val_loss: 0.9940 - val_accuracy: 0.7151 - lr: 0.0010\n",
      "Epoch 77/200\n",
      "80/80 [==============================] - ETA: 0s - loss: 0.6278 - accuracy: 0.8146\n",
      "Epoch 77: val_accuracy improved from 0.71740 to 0.72850, saving model to best_weights.hfd5\n",
      "80/80 [==============================] - 1s 18ms/step - loss: 0.6278 - accuracy: 0.8146 - val_loss: 0.9430 - val_accuracy: 0.7285 - lr: 0.0010\n",
      "Epoch 78/200\n",
      "76/80 [===========================>..] - ETA: 0s - loss: 0.6130 - accuracy: 0.8185\n",
      "Epoch 78: val_accuracy improved from 0.72850 to 0.73450, saving model to best_weights.hfd5\n",
      "80/80 [==============================] - 1s 16ms/step - loss: 0.6150 - accuracy: 0.8180 - val_loss: 0.9387 - val_accuracy: 0.7345 - lr: 0.0010\n",
      "Epoch 79/200\n",
      "80/80 [==============================] - ETA: 0s - loss: 0.6185 - accuracy: 0.8157\n",
      "Epoch 79: val_accuracy improved from 0.73450 to 0.73715, saving model to best_weights.hfd5\n",
      "80/80 [==============================] - 1s 18ms/step - loss: 0.6185 - accuracy: 0.8157 - val_loss: 0.9108 - val_accuracy: 0.7372 - lr: 0.0010\n",
      "Epoch 80/200\n",
      "78/80 [============================>.] - ETA: 0s - loss: 0.5957 - accuracy: 0.8239\n",
      "Epoch 80: val_accuracy improved from 0.73715 to 0.74340, saving model to best_weights.hfd5\n",
      "80/80 [==============================] - 1s 17ms/step - loss: 0.5951 - accuracy: 0.8241 - val_loss: 0.9007 - val_accuracy: 0.7434 - lr: 0.0010\n",
      "Epoch 81/200\n",
      "76/80 [===========================>..] - ETA: 0s - loss: 0.5870 - accuracy: 0.8241\n",
      "Epoch 81: val_accuracy improved from 0.74340 to 0.74385, saving model to best_weights.hfd5\n",
      "80/80 [==============================] - 1s 18ms/step - loss: 0.5888 - accuracy: 0.8238 - val_loss: 0.8941 - val_accuracy: 0.7438 - lr: 0.0010\n",
      "Epoch 82/200\n",
      "80/80 [==============================] - ETA: 0s - loss: 0.5745 - accuracy: 0.8283\n",
      "Epoch 82: val_accuracy improved from 0.74385 to 0.75420, saving model to best_weights.hfd5\n",
      "80/80 [==============================] - 1s 18ms/step - loss: 0.5745 - accuracy: 0.8283 - val_loss: 0.8655 - val_accuracy: 0.7542 - lr: 0.0010\n",
      "Epoch 83/200\n",
      "76/80 [===========================>..] - ETA: 0s - loss: 0.5645 - accuracy: 0.8314\n",
      "Epoch 83: val_accuracy did not improve from 0.75420\n",
      "80/80 [==============================] - 1s 14ms/step - loss: 0.5659 - accuracy: 0.8311 - val_loss: 0.8692 - val_accuracy: 0.7527 - lr: 0.0010\n",
      "Epoch 84/200\n",
      "79/80 [============================>.] - ETA: 0s - loss: 0.5626 - accuracy: 0.8324\n",
      "Epoch 84: val_accuracy did not improve from 0.75420\n",
      "80/80 [==============================] - 1s 14ms/step - loss: 0.5628 - accuracy: 0.8324 - val_loss: 0.8631 - val_accuracy: 0.7532 - lr: 0.0010\n",
      "Epoch 85/200\n",
      "76/80 [===========================>..] - ETA: 0s - loss: 0.5448 - accuracy: 0.8376\n",
      "Epoch 85: val_accuracy improved from 0.75420 to 0.76195, saving model to best_weights.hfd5\n",
      "80/80 [==============================] - 1s 16ms/step - loss: 0.5451 - accuracy: 0.8376 - val_loss: 0.8313 - val_accuracy: 0.7620 - lr: 0.0010\n",
      "Epoch 86/200\n",
      "79/80 [============================>.] - ETA: 0s - loss: 0.5456 - accuracy: 0.8368\n",
      "Epoch 86: val_accuracy improved from 0.76195 to 0.76260, saving model to best_weights.hfd5\n",
      "80/80 [==============================] - 1s 17ms/step - loss: 0.5457 - accuracy: 0.8367 - val_loss: 0.8267 - val_accuracy: 0.7626 - lr: 0.0010\n",
      "Epoch 87/200\n",
      "79/80 [============================>.] - ETA: 0s - loss: 0.5332 - accuracy: 0.8399\n",
      "Epoch 87: val_accuracy did not improve from 0.76260\n",
      "80/80 [==============================] - 1s 14ms/step - loss: 0.5344 - accuracy: 0.8398 - val_loss: 0.8450 - val_accuracy: 0.7549 - lr: 0.0010\n",
      "Epoch 88/200\n",
      "76/80 [===========================>..] - ETA: 0s - loss: 0.5413 - accuracy: 0.8366\n",
      "Epoch 88: val_accuracy did not improve from 0.76260\n",
      "80/80 [==============================] - 1s 14ms/step - loss: 0.5432 - accuracy: 0.8361 - val_loss: 0.8387 - val_accuracy: 0.7588 - lr: 0.0010\n",
      "Epoch 89/200\n",
      "76/80 [===========================>..] - ETA: 0s - loss: 0.5283 - accuracy: 0.8416\n",
      "Epoch 89: val_accuracy improved from 0.76260 to 0.76345, saving model to best_weights.hfd5\n",
      "80/80 [==============================] - 1s 16ms/step - loss: 0.5287 - accuracy: 0.8415 - val_loss: 0.8238 - val_accuracy: 0.7635 - lr: 0.0010\n",
      "Epoch 90/200\n",
      "76/80 [===========================>..] - ETA: 0s - loss: 0.5175 - accuracy: 0.8436\n",
      "Epoch 90: val_accuracy improved from 0.76345 to 0.77610, saving model to best_weights.hfd5\n",
      "80/80 [==============================] - 1s 17ms/step - loss: 0.5184 - accuracy: 0.8434 - val_loss: 0.7902 - val_accuracy: 0.7761 - lr: 0.0010\n",
      "Epoch 91/200\n",
      "79/80 [============================>.] - ETA: 0s - loss: 0.5177 - accuracy: 0.8443\n",
      "Epoch 91: val_accuracy improved from 0.77610 to 0.77725, saving model to best_weights.hfd5\n",
      "80/80 [==============================] - 2s 19ms/step - loss: 0.5181 - accuracy: 0.8441 - val_loss: 0.7762 - val_accuracy: 0.7772 - lr: 0.0010\n",
      "Epoch 92/200\n",
      "79/80 [============================>.] - ETA: 0s - loss: 0.5006 - accuracy: 0.8502\n",
      "Epoch 92: val_accuracy improved from 0.77725 to 0.78250, saving model to best_weights.hfd5\n",
      "80/80 [==============================] - 2s 21ms/step - loss: 0.5004 - accuracy: 0.8501 - val_loss: 0.7688 - val_accuracy: 0.7825 - lr: 0.0010\n",
      "Epoch 93/200\n",
      "76/80 [===========================>..] - ETA: 0s - loss: 0.4954 - accuracy: 0.8494\n",
      "Epoch 93: val_accuracy improved from 0.78250 to 0.78280, saving model to best_weights.hfd5\n",
      "80/80 [==============================] - 2s 22ms/step - loss: 0.4977 - accuracy: 0.8484 - val_loss: 0.7617 - val_accuracy: 0.7828 - lr: 0.0010\n",
      "Epoch 94/200\n",
      "77/80 [===========================>..] - ETA: 0s - loss: 0.4977 - accuracy: 0.8486\n",
      "Epoch 94: val_accuracy improved from 0.78280 to 0.79600, saving model to best_weights.hfd5\n",
      "80/80 [==============================] - 1s 19ms/step - loss: 0.4979 - accuracy: 0.8485 - val_loss: 0.7253 - val_accuracy: 0.7960 - lr: 0.0010\n",
      "Epoch 95/200\n",
      "80/80 [==============================] - ETA: 0s - loss: 0.4848 - accuracy: 0.8526\n",
      "Epoch 95: val_accuracy did not improve from 0.79600\n",
      "80/80 [==============================] - 1s 16ms/step - loss: 0.4848 - accuracy: 0.8526 - val_loss: 0.7298 - val_accuracy: 0.7919 - lr: 0.0010\n",
      "Epoch 96/200\n",
      "80/80 [==============================] - ETA: 0s - loss: 0.4791 - accuracy: 0.8546\n",
      "Epoch 96: val_accuracy improved from 0.79600 to 0.80090, saving model to best_weights.hfd5\n",
      "80/80 [==============================] - 1s 17ms/step - loss: 0.4791 - accuracy: 0.8546 - val_loss: 0.7056 - val_accuracy: 0.8009 - lr: 0.0010\n",
      "Epoch 97/200\n",
      "80/80 [==============================] - ETA: 0s - loss: 0.4718 - accuracy: 0.8569\n",
      "Epoch 97: val_accuracy did not improve from 0.80090\n",
      "80/80 [==============================] - 1s 14ms/step - loss: 0.4718 - accuracy: 0.8569 - val_loss: 0.7084 - val_accuracy: 0.8002 - lr: 0.0010\n",
      "Epoch 98/200\n",
      "80/80 [==============================] - ETA: 0s - loss: 0.4844 - accuracy: 0.8524\n",
      "Epoch 98: val_accuracy did not improve from 0.80090\n",
      "80/80 [==============================] - 1s 15ms/step - loss: 0.4844 - accuracy: 0.8524 - val_loss: 0.7073 - val_accuracy: 0.7993 - lr: 0.0010\n",
      "Epoch 99/200\n",
      "80/80 [==============================] - ETA: 0s - loss: 0.4636 - accuracy: 0.8597\n",
      "Epoch 99: val_accuracy improved from 0.80090 to 0.81160, saving model to best_weights.hfd5\n",
      "80/80 [==============================] - 1s 18ms/step - loss: 0.4636 - accuracy: 0.8597 - val_loss: 0.6690 - val_accuracy: 0.8116 - lr: 0.0010\n",
      "Epoch 100/200\n",
      "78/80 [============================>.] - ETA: 0s - loss: 0.4637 - accuracy: 0.8590\n",
      "Epoch 100: val_accuracy did not improve from 0.81160\n",
      "80/80 [==============================] - 1s 16ms/step - loss: 0.4639 - accuracy: 0.8591 - val_loss: 0.6811 - val_accuracy: 0.8092 - lr: 0.0010\n",
      "Epoch 101/200\n",
      "79/80 [============================>.] - ETA: 0s - loss: 0.4562 - accuracy: 0.8610\n",
      "Epoch 101: val_accuracy did not improve from 0.81160\n",
      "80/80 [==============================] - 1s 16ms/step - loss: 0.4560 - accuracy: 0.8612 - val_loss: 0.6761 - val_accuracy: 0.8102 - lr: 0.0010\n",
      "Epoch 102/200\n",
      "79/80 [============================>.] - ETA: 0s - loss: 0.4616 - accuracy: 0.8594\n",
      "Epoch 102: val_accuracy improved from 0.81160 to 0.81445, saving model to best_weights.hfd5\n",
      "80/80 [==============================] - 1s 17ms/step - loss: 0.4609 - accuracy: 0.8596 - val_loss: 0.6510 - val_accuracy: 0.8145 - lr: 0.0010\n",
      "Epoch 103/200\n",
      "76/80 [===========================>..] - ETA: 0s - loss: 0.4456 - accuracy: 0.8650\n",
      "Epoch 103: val_accuracy improved from 0.81445 to 0.81585, saving model to best_weights.hfd5\n",
      "80/80 [==============================] - 1s 18ms/step - loss: 0.4487 - accuracy: 0.8640 - val_loss: 0.6432 - val_accuracy: 0.8159 - lr: 0.0010\n",
      "Epoch 104/200\n",
      "76/80 [===========================>..] - ETA: 0s - loss: 0.4390 - accuracy: 0.8652\n",
      "Epoch 104: val_accuracy improved from 0.81585 to 0.82205, saving model to best_weights.hfd5\n",
      "80/80 [==============================] - 1s 17ms/step - loss: 0.4399 - accuracy: 0.8644 - val_loss: 0.6425 - val_accuracy: 0.8220 - lr: 0.0010\n",
      "Epoch 105/200\n",
      "80/80 [==============================] - ETA: 0s - loss: 0.4405 - accuracy: 0.8647\n",
      "Epoch 105: val_accuracy did not improve from 0.82205\n",
      "80/80 [==============================] - 1s 16ms/step - loss: 0.4405 - accuracy: 0.8647 - val_loss: 0.6384 - val_accuracy: 0.8187 - lr: 0.0010\n",
      "Epoch 106/200\n",
      "77/80 [===========================>..] - ETA: 0s - loss: 0.4467 - accuracy: 0.8636\n",
      "Epoch 106: val_accuracy did not improve from 0.82205\n",
      "80/80 [==============================] - 1s 17ms/step - loss: 0.4467 - accuracy: 0.8636 - val_loss: 0.6628 - val_accuracy: 0.8110 - lr: 0.0010\n",
      "Epoch 107/200\n",
      "76/80 [===========================>..] - ETA: 0s - loss: 0.4343 - accuracy: 0.8665\n",
      "Epoch 107: val_accuracy did not improve from 0.82205\n",
      "80/80 [==============================] - 1s 14ms/step - loss: 0.4356 - accuracy: 0.8661 - val_loss: 0.6378 - val_accuracy: 0.8188 - lr: 0.0010\n",
      "Epoch 108/200\n",
      "79/80 [============================>.] - ETA: 0s - loss: 0.4195 - accuracy: 0.8722\n",
      "Epoch 108: val_accuracy improved from 0.82205 to 0.82800, saving model to best_weights.hfd5\n",
      "80/80 [==============================] - 1s 16ms/step - loss: 0.4198 - accuracy: 0.8723 - val_loss: 0.6116 - val_accuracy: 0.8280 - lr: 0.0010\n",
      "Epoch 109/200\n",
      "79/80 [============================>.] - ETA: 0s - loss: 0.4170 - accuracy: 0.8728\n",
      "Epoch 109: val_accuracy did not improve from 0.82800\n",
      "80/80 [==============================] - 1s 16ms/step - loss: 0.4179 - accuracy: 0.8726 - val_loss: 0.6318 - val_accuracy: 0.8223 - lr: 0.0010\n",
      "Epoch 110/200\n",
      "78/80 [============================>.] - ETA: 0s - loss: 0.4195 - accuracy: 0.8705\n",
      "Epoch 110: val_accuracy improved from 0.82800 to 0.83420, saving model to best_weights.hfd5\n",
      "80/80 [==============================] - 1s 17ms/step - loss: 0.4191 - accuracy: 0.8708 - val_loss: 0.5962 - val_accuracy: 0.8342 - lr: 0.0010\n",
      "Epoch 111/200\n",
      "80/80 [==============================] - ETA: 0s - loss: 0.4182 - accuracy: 0.8725\n",
      "Epoch 111: val_accuracy improved from 0.83420 to 0.83575, saving model to best_weights.hfd5\n",
      "80/80 [==============================] - 1s 17ms/step - loss: 0.4182 - accuracy: 0.8725 - val_loss: 0.5850 - val_accuracy: 0.8357 - lr: 0.0010\n",
      "Epoch 112/200\n",
      "79/80 [============================>.] - ETA: 0s - loss: 0.4126 - accuracy: 0.8734\n",
      "Epoch 112: val_accuracy improved from 0.83575 to 0.83790, saving model to best_weights.hfd5\n",
      "80/80 [==============================] - 2s 19ms/step - loss: 0.4126 - accuracy: 0.8733 - val_loss: 0.5753 - val_accuracy: 0.8379 - lr: 0.0010\n",
      "Epoch 113/200\n",
      "80/80 [==============================] - ETA: 0s - loss: 0.4045 - accuracy: 0.8767\n",
      "Epoch 113: val_accuracy did not improve from 0.83790\n",
      "80/80 [==============================] - 1s 16ms/step - loss: 0.4045 - accuracy: 0.8767 - val_loss: 0.5845 - val_accuracy: 0.8370 - lr: 0.0010\n",
      "Epoch 114/200\n",
      "78/80 [============================>.] - ETA: 0s - loss: 0.4130 - accuracy: 0.8737\n",
      "Epoch 114: val_accuracy did not improve from 0.83790\n",
      "80/80 [==============================] - 1s 16ms/step - loss: 0.4126 - accuracy: 0.8737 - val_loss: 0.5941 - val_accuracy: 0.8342 - lr: 0.0010\n",
      "Epoch 115/200\n",
      "79/80 [============================>.] - ETA: 0s - loss: 0.4105 - accuracy: 0.8738\n",
      "Epoch 115: val_accuracy improved from 0.83790 to 0.84035, saving model to best_weights.hfd5\n",
      "80/80 [==============================] - 2s 19ms/step - loss: 0.4112 - accuracy: 0.8735 - val_loss: 0.5721 - val_accuracy: 0.8403 - lr: 0.0010\n",
      "Epoch 116/200\n",
      "78/80 [============================>.] - ETA: 0s - loss: 0.4084 - accuracy: 0.8738\n",
      "Epoch 116: val_accuracy did not improve from 0.84035\n",
      "80/80 [==============================] - 1s 16ms/step - loss: 0.4092 - accuracy: 0.8735 - val_loss: 0.5753 - val_accuracy: 0.8376 - lr: 0.0010\n",
      "Epoch 117/200\n",
      "76/80 [===========================>..] - ETA: 0s - loss: 0.3974 - accuracy: 0.8772\n",
      "Epoch 117: val_accuracy improved from 0.84035 to 0.84770, saving model to best_weights.hfd5\n",
      "80/80 [==============================] - 1s 18ms/step - loss: 0.3984 - accuracy: 0.8769 - val_loss: 0.5442 - val_accuracy: 0.8477 - lr: 0.0010\n",
      "Epoch 118/200\n",
      "78/80 [============================>.] - ETA: 0s - loss: 0.3963 - accuracy: 0.8770\n",
      "Epoch 118: val_accuracy did not improve from 0.84770\n",
      "80/80 [==============================] - 1s 16ms/step - loss: 0.3967 - accuracy: 0.8769 - val_loss: 0.6243 - val_accuracy: 0.8209 - lr: 0.0010\n",
      "Epoch 119/200\n",
      "76/80 [===========================>..] - ETA: 0s - loss: 0.4023 - accuracy: 0.8764\n",
      "Epoch 119: val_accuracy improved from 0.84770 to 0.84960, saving model to best_weights.hfd5\n",
      "80/80 [==============================] - 1s 16ms/step - loss: 0.4027 - accuracy: 0.8763 - val_loss: 0.5368 - val_accuracy: 0.8496 - lr: 0.0010\n",
      "Epoch 120/200\n",
      "76/80 [===========================>..] - ETA: 0s - loss: 0.3948 - accuracy: 0.8765\n",
      "Epoch 120: val_accuracy did not improve from 0.84960\n",
      "80/80 [==============================] - 1s 14ms/step - loss: 0.3974 - accuracy: 0.8759 - val_loss: 0.5639 - val_accuracy: 0.8413 - lr: 0.0010\n",
      "Epoch 121/200\n",
      "80/80 [==============================] - ETA: 0s - loss: 0.3850 - accuracy: 0.8810\n",
      "Epoch 121: val_accuracy improved from 0.84960 to 0.85135, saving model to best_weights.hfd5\n",
      "80/80 [==============================] - 2s 19ms/step - loss: 0.3850 - accuracy: 0.8810 - val_loss: 0.5340 - val_accuracy: 0.8514 - lr: 0.0010\n",
      "Epoch 122/200\n",
      "80/80 [==============================] - ETA: 0s - loss: 0.3890 - accuracy: 0.8799\n",
      "Epoch 122: val_accuracy did not improve from 0.85135\n",
      "80/80 [==============================] - 1s 14ms/step - loss: 0.3890 - accuracy: 0.8799 - val_loss: 0.5892 - val_accuracy: 0.8328 - lr: 0.0010\n",
      "Epoch 123/200\n",
      "79/80 [============================>.] - ETA: 0s - loss: 0.4008 - accuracy: 0.8757\n",
      "Epoch 123: val_accuracy did not improve from 0.85135\n",
      "80/80 [==============================] - 1s 16ms/step - loss: 0.4009 - accuracy: 0.8758 - val_loss: 0.5618 - val_accuracy: 0.8407 - lr: 0.0010\n",
      "Epoch 124/200\n",
      "80/80 [==============================] - ETA: 0s - loss: 0.3760 - accuracy: 0.8832\n",
      "Epoch 124: val_accuracy improved from 0.85135 to 0.85340, saving model to best_weights.hfd5\n",
      "80/80 [==============================] - 1s 19ms/step - loss: 0.3760 - accuracy: 0.8832 - val_loss: 0.5311 - val_accuracy: 0.8534 - lr: 0.0010\n",
      "Epoch 125/200\n",
      "80/80 [==============================] - ETA: 0s - loss: 0.3714 - accuracy: 0.8849\n",
      "Epoch 125: val_accuracy did not improve from 0.85340\n",
      "80/80 [==============================] - 1s 16ms/step - loss: 0.3714 - accuracy: 0.8849 - val_loss: 0.5219 - val_accuracy: 0.8534 - lr: 0.0010\n",
      "Epoch 126/200\n",
      "80/80 [==============================] - ETA: 0s - loss: 0.3833 - accuracy: 0.8817\n",
      "Epoch 126: val_accuracy improved from 0.85340 to 0.85540, saving model to best_weights.hfd5\n",
      "80/80 [==============================] - 1s 19ms/step - loss: 0.3833 - accuracy: 0.8817 - val_loss: 0.5186 - val_accuracy: 0.8554 - lr: 0.0010\n",
      "Epoch 127/200\n",
      "80/80 [==============================] - ETA: 0s - loss: 0.3729 - accuracy: 0.8847\n",
      "Epoch 127: val_accuracy improved from 0.85540 to 0.85550, saving model to best_weights.hfd5\n",
      "80/80 [==============================] - 1s 17ms/step - loss: 0.3729 - accuracy: 0.8847 - val_loss: 0.5216 - val_accuracy: 0.8555 - lr: 0.0010\n",
      "Epoch 128/200\n",
      "79/80 [============================>.] - ETA: 0s - loss: 0.3785 - accuracy: 0.8829\n",
      "Epoch 128: val_accuracy did not improve from 0.85550\n",
      "80/80 [==============================] - 1s 16ms/step - loss: 0.3788 - accuracy: 0.8830 - val_loss: 0.5240 - val_accuracy: 0.8550 - lr: 0.0010\n",
      "Epoch 129/200\n",
      "80/80 [==============================] - ETA: 0s - loss: 0.3835 - accuracy: 0.8813\n",
      "Epoch 129: val_accuracy improved from 0.85550 to 0.86850, saving model to best_weights.hfd5\n",
      "80/80 [==============================] - 2s 19ms/step - loss: 0.3835 - accuracy: 0.8813 - val_loss: 0.4836 - val_accuracy: 0.8685 - lr: 0.0010\n",
      "Epoch 130/200\n",
      "78/80 [============================>.] - ETA: 0s - loss: 0.3706 - accuracy: 0.8853\n",
      "Epoch 130: val_accuracy did not improve from 0.86850\n",
      "80/80 [==============================] - 1s 14ms/step - loss: 0.3706 - accuracy: 0.8850 - val_loss: 0.4951 - val_accuracy: 0.8656 - lr: 0.0010\n",
      "Epoch 131/200\n",
      "80/80 [==============================] - ETA: 0s - loss: 0.3655 - accuracy: 0.8870\n",
      "Epoch 131: val_accuracy improved from 0.86850 to 0.87135, saving model to best_weights.hfd5\n",
      "80/80 [==============================] - 1s 19ms/step - loss: 0.3655 - accuracy: 0.8870 - val_loss: 0.4712 - val_accuracy: 0.8713 - lr: 0.0010\n",
      "Epoch 132/200\n",
      "80/80 [==============================] - ETA: 0s - loss: 0.3517 - accuracy: 0.8907\n",
      "Epoch 132: val_accuracy improved from 0.87135 to 0.87270, saving model to best_weights.hfd5\n",
      "80/80 [==============================] - 1s 17ms/step - loss: 0.3517 - accuracy: 0.8907 - val_loss: 0.4631 - val_accuracy: 0.8727 - lr: 0.0010\n",
      "Epoch 133/200\n",
      "80/80 [==============================] - ETA: 0s - loss: 0.3512 - accuracy: 0.8913\n",
      "Epoch 133: val_accuracy did not improve from 0.87270\n",
      "80/80 [==============================] - 1s 16ms/step - loss: 0.3512 - accuracy: 0.8913 - val_loss: 0.4826 - val_accuracy: 0.8673 - lr: 0.0010\n",
      "Epoch 134/200\n",
      "76/80 [===========================>..] - ETA: 0s - loss: 0.3554 - accuracy: 0.8902\n",
      "Epoch 134: val_accuracy did not improve from 0.87270\n",
      "80/80 [==============================] - 1s 16ms/step - loss: 0.3564 - accuracy: 0.8899 - val_loss: 0.5026 - val_accuracy: 0.8627 - lr: 0.0010\n",
      "Epoch 135/200\n",
      "76/80 [===========================>..] - ETA: 0s - loss: 0.3557 - accuracy: 0.8894\n",
      "Epoch 135: val_accuracy did not improve from 0.87270\n",
      "80/80 [==============================] - 1s 16ms/step - loss: 0.3560 - accuracy: 0.8889 - val_loss: 0.4692 - val_accuracy: 0.8714 - lr: 0.0010\n",
      "Epoch 136/200\n",
      "76/80 [===========================>..] - ETA: 0s - loss: 0.3562 - accuracy: 0.8887\n",
      "Epoch 136: val_accuracy did not improve from 0.87270\n",
      "80/80 [==============================] - 1s 16ms/step - loss: 0.3562 - accuracy: 0.8887 - val_loss: 0.4766 - val_accuracy: 0.8716 - lr: 0.0010\n",
      "Epoch 137/200\n",
      "76/80 [===========================>..] - ETA: 0s - loss: 0.3472 - accuracy: 0.8922\n",
      "Epoch 137: val_accuracy improved from 0.87270 to 0.87395, saving model to best_weights.hfd5\n",
      "80/80 [==============================] - 1s 17ms/step - loss: 0.3470 - accuracy: 0.8925 - val_loss: 0.4589 - val_accuracy: 0.8740 - lr: 0.0010\n",
      "Epoch 138/200\n",
      "80/80 [==============================] - ETA: 0s - loss: 0.3554 - accuracy: 0.8888\n",
      "Epoch 138: val_accuracy did not improve from 0.87395\n",
      "80/80 [==============================] - 1s 14ms/step - loss: 0.3554 - accuracy: 0.8888 - val_loss: 0.4643 - val_accuracy: 0.8733 - lr: 0.0010\n",
      "Epoch 139/200\n",
      "78/80 [============================>.] - ETA: 0s - loss: 0.3496 - accuracy: 0.8916\n",
      "Epoch 139: val_accuracy did not improve from 0.87395\n",
      "80/80 [==============================] - 1s 16ms/step - loss: 0.3504 - accuracy: 0.8916 - val_loss: 0.4592 - val_accuracy: 0.8731 - lr: 0.0010\n",
      "Epoch 140/200\n",
      "76/80 [===========================>..] - ETA: 0s - loss: 0.3405 - accuracy: 0.8938\n",
      "Epoch 140: val_accuracy did not improve from 0.87395\n",
      "80/80 [==============================] - 1s 18ms/step - loss: 0.3406 - accuracy: 0.8937 - val_loss: 0.4674 - val_accuracy: 0.8733 - lr: 0.0010\n",
      "Epoch 141/200\n",
      "76/80 [===========================>..] - ETA: 0s - loss: 0.3344 - accuracy: 0.8960\n",
      "Epoch 141: val_accuracy improved from 0.87395 to 0.88275, saving model to best_weights.hfd5\n",
      "80/80 [==============================] - 1s 16ms/step - loss: 0.3358 - accuracy: 0.8956 - val_loss: 0.4407 - val_accuracy: 0.8827 - lr: 0.0010\n",
      "Epoch 142/200\n",
      "76/80 [===========================>..] - ETA: 0s - loss: 0.3540 - accuracy: 0.8896\n",
      "Epoch 142: val_accuracy did not improve from 0.88275\n",
      "80/80 [==============================] - 1s 14ms/step - loss: 0.3535 - accuracy: 0.8894 - val_loss: 0.4548 - val_accuracy: 0.8752 - lr: 0.0010\n",
      "Epoch 143/200\n",
      "76/80 [===========================>..] - ETA: 0s - loss: 0.3402 - accuracy: 0.8939\n",
      "Epoch 143: val_accuracy did not improve from 0.88275\n",
      "80/80 [==============================] - 1s 16ms/step - loss: 0.3410 - accuracy: 0.8936 - val_loss: 0.4496 - val_accuracy: 0.8783 - lr: 0.0010\n",
      "Epoch 144/200\n",
      "77/80 [===========================>..] - ETA: 0s - loss: 0.3413 - accuracy: 0.8935\n",
      "Epoch 144: val_accuracy did not improve from 0.88275\n",
      "80/80 [==============================] - 1s 14ms/step - loss: 0.3424 - accuracy: 0.8931 - val_loss: 0.4514 - val_accuracy: 0.8771 - lr: 0.0010\n",
      "Epoch 145/200\n",
      "76/80 [===========================>..] - ETA: 0s - loss: 0.3399 - accuracy: 0.8951\n",
      "Epoch 145: val_accuracy did not improve from 0.88275\n",
      "80/80 [==============================] - 1s 16ms/step - loss: 0.3407 - accuracy: 0.8948 - val_loss: 0.4449 - val_accuracy: 0.8799 - lr: 0.0010\n",
      "Epoch 146/200\n",
      "80/80 [==============================] - ETA: 0s - loss: 0.3523 - accuracy: 0.8903\n",
      "Epoch 146: ReduceLROnPlateau reducing learning rate to 0.0005000000237487257.\n",
      "\n",
      "Epoch 146: val_accuracy did not improve from 0.88275\n",
      "80/80 [==============================] - 1s 16ms/step - loss: 0.3523 - accuracy: 0.8903 - val_loss: 0.4447 - val_accuracy: 0.8813 - lr: 0.0010\n",
      "Epoch 147/200\n",
      "80/80 [==============================] - ETA: 0s - loss: 0.2418 - accuracy: 0.9251\n",
      "Epoch 147: val_accuracy improved from 0.88275 to 0.91570, saving model to best_weights.hfd5\n",
      "80/80 [==============================] - 1s 17ms/step - loss: 0.2418 - accuracy: 0.9251 - val_loss: 0.3259 - val_accuracy: 0.9157 - lr: 5.0000e-04\n",
      "Epoch 148/200\n",
      "77/80 [===========================>..] - ETA: 0s - loss: 0.2200 - accuracy: 0.9335\n",
      "Epoch 148: val_accuracy improved from 0.91570 to 0.91830, saving model to best_weights.hfd5\n",
      "80/80 [==============================] - 2s 19ms/step - loss: 0.2198 - accuracy: 0.9334 - val_loss: 0.3220 - val_accuracy: 0.9183 - lr: 5.0000e-04\n",
      "Epoch 149/200\n",
      "79/80 [============================>.] - ETA: 0s - loss: 0.2125 - accuracy: 0.9361\n",
      "Epoch 149: val_accuracy did not improve from 0.91830\n",
      "80/80 [==============================] - 1s 14ms/step - loss: 0.2127 - accuracy: 0.9361 - val_loss: 0.3219 - val_accuracy: 0.9176 - lr: 5.0000e-04\n",
      "Epoch 150/200\n",
      "79/80 [============================>.] - ETA: 0s - loss: 0.2044 - accuracy: 0.9377\n",
      "Epoch 150: val_accuracy improved from 0.91830 to 0.91865, saving model to best_weights.hfd5\n",
      "80/80 [==============================] - 1s 19ms/step - loss: 0.2044 - accuracy: 0.9378 - val_loss: 0.3182 - val_accuracy: 0.9186 - lr: 5.0000e-04\n",
      "Epoch 151/200\n",
      "77/80 [===========================>..] - ETA: 0s - loss: 0.2053 - accuracy: 0.9375\n",
      "Epoch 151: val_accuracy improved from 0.91865 to 0.92335, saving model to best_weights.hfd5\n",
      "80/80 [==============================] - 2s 20ms/step - loss: 0.2052 - accuracy: 0.9377 - val_loss: 0.3074 - val_accuracy: 0.9233 - lr: 5.0000e-04\n",
      "Epoch 152/200\n",
      "79/80 [============================>.] - ETA: 0s - loss: 0.2054 - accuracy: 0.9382\n",
      "Epoch 152: val_accuracy did not improve from 0.92335\n",
      "80/80 [==============================] - 1s 16ms/step - loss: 0.2054 - accuracy: 0.9382 - val_loss: 0.3169 - val_accuracy: 0.9172 - lr: 5.0000e-04\n",
      "Epoch 153/200\n",
      "79/80 [============================>.] - ETA: 0s - loss: 0.2025 - accuracy: 0.9391\n",
      "Epoch 153: val_accuracy did not improve from 0.92335\n",
      "80/80 [==============================] - 1s 14ms/step - loss: 0.2022 - accuracy: 0.9393 - val_loss: 0.3190 - val_accuracy: 0.9166 - lr: 5.0000e-04\n",
      "Epoch 154/200\n",
      "76/80 [===========================>..] - ETA: 0s - loss: 0.2037 - accuracy: 0.9381\n",
      "Epoch 154: val_accuracy did not improve from 0.92335\n",
      "80/80 [==============================] - 1s 14ms/step - loss: 0.2036 - accuracy: 0.9382 - val_loss: 0.3090 - val_accuracy: 0.9214 - lr: 5.0000e-04\n",
      "Epoch 155/200\n",
      "78/80 [============================>.] - ETA: 0s - loss: 0.1995 - accuracy: 0.9391\n",
      "Epoch 155: val_accuracy did not improve from 0.92335\n",
      "80/80 [==============================] - 1s 14ms/step - loss: 0.1998 - accuracy: 0.9390 - val_loss: 0.3061 - val_accuracy: 0.9209 - lr: 5.0000e-04\n",
      "Epoch 156/200\n",
      "80/80 [==============================] - ETA: 0s - loss: 0.1956 - accuracy: 0.9414\n",
      "Epoch 156: ReduceLROnPlateau reducing learning rate to 0.0002500000118743628.\n",
      "\n",
      "Epoch 156: val_accuracy did not improve from 0.92335\n",
      "80/80 [==============================] - 1s 14ms/step - loss: 0.1956 - accuracy: 0.9414 - val_loss: 0.3144 - val_accuracy: 0.9183 - lr: 5.0000e-04\n",
      "Epoch 157/200\n",
      "76/80 [===========================>..] - ETA: 0s - loss: 0.1741 - accuracy: 0.9481\n",
      "Epoch 157: val_accuracy improved from 0.92335 to 0.92940, saving model to best_weights.hfd5\n",
      "80/80 [==============================] - 1s 16ms/step - loss: 0.1736 - accuracy: 0.9483 - val_loss: 0.2763 - val_accuracy: 0.9294 - lr: 2.5000e-04\n",
      "Epoch 158/200\n",
      "80/80 [==============================] - ETA: 0s - loss: 0.1621 - accuracy: 0.9524\n",
      "Epoch 158: val_accuracy improved from 0.92940 to 0.93265, saving model to best_weights.hfd5\n",
      "80/80 [==============================] - 1s 17ms/step - loss: 0.1621 - accuracy: 0.9524 - val_loss: 0.2688 - val_accuracy: 0.9327 - lr: 2.5000e-04\n",
      "Epoch 159/200\n",
      "80/80 [==============================] - ETA: 0s - loss: 0.1615 - accuracy: 0.9524\n",
      "Epoch 159: val_accuracy did not improve from 0.93265\n",
      "80/80 [==============================] - 1s 14ms/step - loss: 0.1615 - accuracy: 0.9524 - val_loss: 0.2730 - val_accuracy: 0.9312 - lr: 2.5000e-04\n",
      "Epoch 160/200\n",
      "77/80 [===========================>..] - ETA: 0s - loss: 0.1612 - accuracy: 0.9521\n",
      "Epoch 160: val_accuracy did not improve from 0.93265\n",
      "80/80 [==============================] - 1s 14ms/step - loss: 0.1611 - accuracy: 0.9520 - val_loss: 0.2741 - val_accuracy: 0.9308 - lr: 2.5000e-04\n",
      "Epoch 161/200\n",
      "77/80 [===========================>..] - ETA: 0s - loss: 0.1564 - accuracy: 0.9544\n",
      "Epoch 161: val_accuracy improved from 0.93265 to 0.93340, saving model to best_weights.hfd5\n",
      "80/80 [==============================] - 2s 19ms/step - loss: 0.1562 - accuracy: 0.9545 - val_loss: 0.2666 - val_accuracy: 0.9334 - lr: 2.5000e-04\n",
      "Epoch 162/200\n",
      "80/80 [==============================] - ETA: 0s - loss: 0.1554 - accuracy: 0.9546\n",
      "Epoch 162: val_accuracy did not improve from 0.93340\n",
      "80/80 [==============================] - 1s 16ms/step - loss: 0.1554 - accuracy: 0.9546 - val_loss: 0.2726 - val_accuracy: 0.9323 - lr: 2.5000e-04\n",
      "Epoch 163/200\n",
      "78/80 [============================>.] - ETA: 0s - loss: 0.1573 - accuracy: 0.9542\n",
      "Epoch 163: val_accuracy did not improve from 0.93340\n",
      "80/80 [==============================] - 1s 14ms/step - loss: 0.1571 - accuracy: 0.9540 - val_loss: 0.2741 - val_accuracy: 0.9301 - lr: 2.5000e-04\n",
      "Epoch 164/200\n",
      "78/80 [============================>.] - ETA: 0s - loss: 0.1564 - accuracy: 0.9540\n",
      "Epoch 164: val_accuracy improved from 0.93340 to 0.93380, saving model to best_weights.hfd5\n",
      "80/80 [==============================] - 2s 21ms/step - loss: 0.1559 - accuracy: 0.9541 - val_loss: 0.2665 - val_accuracy: 0.9338 - lr: 2.5000e-04\n",
      "Epoch 165/200\n",
      "77/80 [===========================>..] - ETA: 0s - loss: 0.1585 - accuracy: 0.9537\n",
      "Epoch 165: val_accuracy improved from 0.93380 to 0.93460, saving model to best_weights.hfd5\n",
      "80/80 [==============================] - 2s 21ms/step - loss: 0.1584 - accuracy: 0.9537 - val_loss: 0.2621 - val_accuracy: 0.9346 - lr: 2.5000e-04\n",
      "Epoch 166/200\n",
      "80/80 [==============================] - ETA: 0s - loss: 0.1541 - accuracy: 0.9543\n",
      "Epoch 166: val_accuracy did not improve from 0.93460\n",
      "80/80 [==============================] - 1s 14ms/step - loss: 0.1541 - accuracy: 0.9543 - val_loss: 0.2643 - val_accuracy: 0.9331 - lr: 2.5000e-04\n",
      "Epoch 167/200\n",
      "80/80 [==============================] - ETA: 0s - loss: 0.1545 - accuracy: 0.9546\n",
      "Epoch 167: val_accuracy improved from 0.93460 to 0.93500, saving model to best_weights.hfd5\n",
      "80/80 [==============================] - 1s 18ms/step - loss: 0.1545 - accuracy: 0.9546 - val_loss: 0.2611 - val_accuracy: 0.9350 - lr: 2.5000e-04\n",
      "Epoch 168/200\n",
      "76/80 [===========================>..] - ETA: 0s - loss: 0.1549 - accuracy: 0.9550\n",
      "Epoch 168: val_accuracy improved from 0.93500 to 0.93600, saving model to best_weights.hfd5\n",
      "80/80 [==============================] - 1s 17ms/step - loss: 0.1547 - accuracy: 0.9549 - val_loss: 0.2593 - val_accuracy: 0.9360 - lr: 2.5000e-04\n",
      "Epoch 169/200\n",
      "80/80 [==============================] - ETA: 0s - loss: 0.1516 - accuracy: 0.9552\n",
      "Epoch 169: val_accuracy did not improve from 0.93600\n",
      "80/80 [==============================] - 1s 14ms/step - loss: 0.1516 - accuracy: 0.9552 - val_loss: 0.2704 - val_accuracy: 0.9316 - lr: 2.5000e-04\n",
      "Epoch 170/200\n",
      "79/80 [============================>.] - ETA: 0s - loss: 0.1547 - accuracy: 0.9540\n",
      "Epoch 170: val_accuracy did not improve from 0.93600\n",
      "80/80 [==============================] - 1s 16ms/step - loss: 0.1545 - accuracy: 0.9540 - val_loss: 0.2641 - val_accuracy: 0.9344 - lr: 2.5000e-04\n",
      "Epoch 171/200\n",
      "79/80 [============================>.] - ETA: 0s - loss: 0.1509 - accuracy: 0.9556\n",
      "Epoch 171: val_accuracy improved from 0.93600 to 0.93620, saving model to best_weights.hfd5\n",
      "80/80 [==============================] - 2s 20ms/step - loss: 0.1510 - accuracy: 0.9556 - val_loss: 0.2569 - val_accuracy: 0.9362 - lr: 2.5000e-04\n",
      "Epoch 172/200\n",
      "77/80 [===========================>..] - ETA: 0s - loss: 0.1502 - accuracy: 0.9554\n",
      "Epoch 172: val_accuracy did not improve from 0.93620\n",
      "80/80 [==============================] - 1s 16ms/step - loss: 0.1500 - accuracy: 0.9555 - val_loss: 0.2599 - val_accuracy: 0.9358 - lr: 2.5000e-04\n",
      "Epoch 173/200\n",
      "78/80 [============================>.] - ETA: 0s - loss: 0.1527 - accuracy: 0.9549\n",
      "Epoch 173: val_accuracy did not improve from 0.93620\n",
      "80/80 [==============================] - 1s 16ms/step - loss: 0.1526 - accuracy: 0.9551 - val_loss: 0.2663 - val_accuracy: 0.9345 - lr: 2.5000e-04\n",
      "Epoch 174/200\n",
      "76/80 [===========================>..] - ETA: 0s - loss: 0.1523 - accuracy: 0.9554\n",
      "Epoch 174: val_accuracy improved from 0.93620 to 0.93800, saving model to best_weights.hfd5\n",
      "80/80 [==============================] - 1s 17ms/step - loss: 0.1522 - accuracy: 0.9555 - val_loss: 0.2550 - val_accuracy: 0.9380 - lr: 2.5000e-04\n",
      "Epoch 175/200\n",
      "76/80 [===========================>..] - ETA: 0s - loss: 0.1509 - accuracy: 0.9553\n",
      "Epoch 175: val_accuracy did not improve from 0.93800\n",
      "80/80 [==============================] - 1s 14ms/step - loss: 0.1515 - accuracy: 0.9550 - val_loss: 0.2594 - val_accuracy: 0.9348 - lr: 2.5000e-04\n",
      "Epoch 176/200\n",
      "76/80 [===========================>..] - ETA: 0s - loss: 0.1482 - accuracy: 0.9564\n",
      "Epoch 176: val_accuracy did not improve from 0.93800\n",
      "80/80 [==============================] - 1s 16ms/step - loss: 0.1487 - accuracy: 0.9562 - val_loss: 0.2595 - val_accuracy: 0.9352 - lr: 2.5000e-04\n",
      "Epoch 177/200\n",
      "76/80 [===========================>..] - ETA: 0s - loss: 0.1535 - accuracy: 0.9541\n",
      "Epoch 177: val_accuracy did not improve from 0.93800\n",
      "80/80 [==============================] - 1s 14ms/step - loss: 0.1533 - accuracy: 0.9540 - val_loss: 0.2627 - val_accuracy: 0.9352 - lr: 2.5000e-04\n",
      "Epoch 178/200\n",
      "76/80 [===========================>..] - ETA: 0s - loss: 0.1476 - accuracy: 0.9567\n",
      "Epoch 178: val_accuracy did not improve from 0.93800\n",
      "80/80 [==============================] - 1s 14ms/step - loss: 0.1482 - accuracy: 0.9564 - val_loss: 0.2561 - val_accuracy: 0.9370 - lr: 2.5000e-04\n",
      "Epoch 179/200\n",
      "76/80 [===========================>..] - ETA: 0s - loss: 0.1496 - accuracy: 0.9555\n",
      "Epoch 179: ReduceLROnPlateau reducing learning rate to 0.0001250000059371814.\n",
      "\n",
      "Epoch 179: val_accuracy improved from 0.93800 to 0.93810, saving model to best_weights.hfd5\n",
      "80/80 [==============================] - 1s 17ms/step - loss: 0.1497 - accuracy: 0.9555 - val_loss: 0.2555 - val_accuracy: 0.9381 - lr: 2.5000e-04\n",
      "Epoch 180/200\n",
      "76/80 [===========================>..] - ETA: 0s - loss: 0.1347 - accuracy: 0.9605\n",
      "Epoch 180: val_accuracy improved from 0.93810 to 0.93990, saving model to best_weights.hfd5\n",
      "80/80 [==============================] - 1s 19ms/step - loss: 0.1345 - accuracy: 0.9606 - val_loss: 0.2445 - val_accuracy: 0.9399 - lr: 1.2500e-04\n",
      "Epoch 181/200\n",
      "78/80 [============================>.] - ETA: 0s - loss: 0.1321 - accuracy: 0.9621\n",
      "Epoch 181: val_accuracy improved from 0.93990 to 0.94205, saving model to best_weights.hfd5\n",
      "80/80 [==============================] - 1s 17ms/step - loss: 0.1318 - accuracy: 0.9623 - val_loss: 0.2424 - val_accuracy: 0.9420 - lr: 1.2500e-04\n",
      "Epoch 182/200\n",
      "79/80 [============================>.] - ETA: 0s - loss: 0.1325 - accuracy: 0.9610\n",
      "Epoch 182: val_accuracy did not improve from 0.94205\n",
      "80/80 [==============================] - 1s 14ms/step - loss: 0.1323 - accuracy: 0.9610 - val_loss: 0.2424 - val_accuracy: 0.9419 - lr: 1.2500e-04\n",
      "Epoch 183/200\n",
      "79/80 [============================>.] - ETA: 0s - loss: 0.1282 - accuracy: 0.9628\n",
      "Epoch 183: val_accuracy improved from 0.94205 to 0.94215, saving model to best_weights.hfd5\n",
      "80/80 [==============================] - 1s 18ms/step - loss: 0.1279 - accuracy: 0.9629 - val_loss: 0.2413 - val_accuracy: 0.9421 - lr: 1.2500e-04\n",
      "Epoch 184/200\n",
      "76/80 [===========================>..] - ETA: 0s - loss: 0.1299 - accuracy: 0.9616\n",
      "Epoch 184: val_accuracy did not improve from 0.94215\n",
      "80/80 [==============================] - 1s 16ms/step - loss: 0.1297 - accuracy: 0.9616 - val_loss: 0.2432 - val_accuracy: 0.9395 - lr: 1.2500e-04\n",
      "Epoch 185/200\n",
      "79/80 [============================>.] - ETA: 0s - loss: 0.1257 - accuracy: 0.9644\n",
      "Epoch 185: val_accuracy did not improve from 0.94215\n",
      "80/80 [==============================] - 1s 14ms/step - loss: 0.1260 - accuracy: 0.9643 - val_loss: 0.2378 - val_accuracy: 0.9420 - lr: 1.2500e-04\n",
      "Epoch 186/200\n",
      "76/80 [===========================>..] - ETA: 0s - loss: 0.1289 - accuracy: 0.9632\n",
      "Epoch 186: val_accuracy did not improve from 0.94215\n",
      "80/80 [==============================] - 1s 16ms/step - loss: 0.1285 - accuracy: 0.9632 - val_loss: 0.2410 - val_accuracy: 0.9419 - lr: 1.2500e-04\n",
      "Epoch 187/200\n",
      "79/80 [============================>.] - ETA: 0s - loss: 0.1254 - accuracy: 0.9627\n",
      "Epoch 187: val_accuracy improved from 0.94215 to 0.94260, saving model to best_weights.hfd5\n",
      "80/80 [==============================] - 1s 18ms/step - loss: 0.1255 - accuracy: 0.9627 - val_loss: 0.2381 - val_accuracy: 0.9426 - lr: 1.2500e-04\n",
      "Epoch 188/200\n",
      "78/80 [============================>.] - ETA: 0s - loss: 0.1279 - accuracy: 0.9627\n",
      "Epoch 188: val_accuracy did not improve from 0.94260\n",
      "80/80 [==============================] - 1s 17ms/step - loss: 0.1279 - accuracy: 0.9627 - val_loss: 0.2371 - val_accuracy: 0.9416 - lr: 1.2500e-04\n",
      "Epoch 189/200\n",
      "76/80 [===========================>..] - ETA: 0s - loss: 0.1288 - accuracy: 0.9629\n",
      "Epoch 189: val_accuracy did not improve from 0.94260\n",
      "80/80 [==============================] - 1s 17ms/step - loss: 0.1288 - accuracy: 0.9628 - val_loss: 0.2398 - val_accuracy: 0.9417 - lr: 1.2500e-04\n",
      "Epoch 190/200\n",
      "80/80 [==============================] - ETA: 0s - loss: 0.1238 - accuracy: 0.9641\n",
      "Epoch 190: val_accuracy did not improve from 0.94260\n",
      "80/80 [==============================] - 1s 14ms/step - loss: 0.1238 - accuracy: 0.9641 - val_loss: 0.2411 - val_accuracy: 0.9410 - lr: 1.2500e-04\n",
      "Epoch 191/200\n",
      "76/80 [===========================>..] - ETA: 0s - loss: 0.1257 - accuracy: 0.9643\n",
      "Epoch 191: val_accuracy did not improve from 0.94260\n",
      "80/80 [==============================] - 1s 16ms/step - loss: 0.1254 - accuracy: 0.9643 - val_loss: 0.2377 - val_accuracy: 0.9417 - lr: 1.2500e-04\n",
      "Epoch 192/200\n",
      "78/80 [============================>.] - ETA: 0s - loss: 0.1303 - accuracy: 0.9623\n",
      "Epoch 192: ReduceLROnPlateau reducing learning rate to 6.25000029685907e-05.\n",
      "\n",
      "Epoch 192: val_accuracy did not improve from 0.94260\n",
      "80/80 [==============================] - 1s 14ms/step - loss: 0.1303 - accuracy: 0.9624 - val_loss: 0.2347 - val_accuracy: 0.9425 - lr: 1.2500e-04\n",
      "Epoch 193/200\n",
      "76/80 [===========================>..] - ETA: 0s - loss: 0.1183 - accuracy: 0.9665\n",
      "Epoch 193: val_accuracy improved from 0.94260 to 0.94470, saving model to best_weights.hfd5\n",
      "80/80 [==============================] - 1s 17ms/step - loss: 0.1179 - accuracy: 0.9666 - val_loss: 0.2289 - val_accuracy: 0.9447 - lr: 6.2500e-05\n",
      "Epoch 194/200\n",
      "80/80 [==============================] - ETA: 0s - loss: 0.1166 - accuracy: 0.9671\n",
      "Epoch 194: val_accuracy did not improve from 0.94470\n",
      "80/80 [==============================] - 1s 16ms/step - loss: 0.1166 - accuracy: 0.9671 - val_loss: 0.2287 - val_accuracy: 0.9440 - lr: 6.2500e-05\n",
      "Epoch 195/200\n",
      "76/80 [===========================>..] - ETA: 0s - loss: 0.1154 - accuracy: 0.9669\n",
      "Epoch 195: val_accuracy did not improve from 0.94470\n",
      "80/80 [==============================] - 1s 14ms/step - loss: 0.1151 - accuracy: 0.9669 - val_loss: 0.2318 - val_accuracy: 0.9430 - lr: 6.2500e-05\n",
      "Epoch 196/200\n",
      "78/80 [============================>.] - ETA: 0s - loss: 0.1171 - accuracy: 0.9656\n",
      "Epoch 196: val_accuracy did not improve from 0.94470\n",
      "80/80 [==============================] - 1s 14ms/step - loss: 0.1173 - accuracy: 0.9655 - val_loss: 0.2307 - val_accuracy: 0.9433 - lr: 6.2500e-05\n",
      "Epoch 197/200\n",
      "80/80 [==============================] - ETA: 0s - loss: 0.1159 - accuracy: 0.9670\n",
      "Epoch 197: val_accuracy did not improve from 0.94470\n",
      "80/80 [==============================] - 1s 16ms/step - loss: 0.1159 - accuracy: 0.9670 - val_loss: 0.2304 - val_accuracy: 0.9439 - lr: 6.2500e-05\n",
      "Epoch 198/200\n",
      "80/80 [==============================] - ETA: 0s - loss: 0.1157 - accuracy: 0.9668\n",
      "Epoch 198: ReduceLROnPlateau reducing learning rate to 3.125000148429535e-05.\n",
      "\n",
      "Epoch 198: val_accuracy did not improve from 0.94470\n",
      "80/80 [==============================] - 1s 16ms/step - loss: 0.1157 - accuracy: 0.9668 - val_loss: 0.2288 - val_accuracy: 0.9445 - lr: 6.2500e-05\n",
      "Epoch 199/200\n",
      "79/80 [============================>.] - ETA: 0s - loss: 0.1125 - accuracy: 0.9681\n",
      "Epoch 199: val_accuracy did not improve from 0.94470\n",
      "80/80 [==============================] - 1s 16ms/step - loss: 0.1126 - accuracy: 0.9681 - val_loss: 0.2270 - val_accuracy: 0.9445 - lr: 3.1250e-05\n",
      "Epoch 200/200\n",
      "76/80 [===========================>..] - ETA: 0s - loss: 0.1131 - accuracy: 0.9682\n",
      "Epoch 200: val_accuracy did not improve from 0.94470\n",
      "80/80 [==============================] - 1s 16ms/step - loss: 0.1133 - accuracy: 0.9681 - val_loss: 0.2241 - val_accuracy: 0.9445 - lr: 3.1250e-05\n"
     ]
    }
   ],
   "source": [
    "history = model.fit(\n",
    "    x = x_train_aug, \n",
    "    y = y_train_fine_aug, \n",
    "    batch_size=1000, \n",
    "    epochs=200, \n",
    "    validation_split = 0.2, \n",
    "    callbacks= [\n",
    "        rlrop,\n",
    "        es,\n",
    "        mc,\n",
    "        tb,\n",
    "    ]\n",
    ")"
   ]
  },
  {
   "cell_type": "markdown",
   "id": "fe2d46c4",
   "metadata": {
    "papermill": {
     "duration": 0.181367,
     "end_time": "2023-10-14T19:35:50.303945",
     "exception": false,
     "start_time": "2023-10-14T19:35:50.122578",
     "status": "completed"
    },
    "tags": []
   },
   "source": [
    "## Results\n",
    "\n",
    "Se probaron diferentes modelos y el mejor resultado se muestra a continuación."
   ]
  },
  {
   "cell_type": "code",
   "execution_count": 21,
   "id": "9877586c",
   "metadata": {
    "execution": {
     "iopub.execute_input": "2023-10-14T19:35:50.664071Z",
     "iopub.status.busy": "2023-10-14T19:35:50.663747Z",
     "iopub.status.idle": "2023-10-14T19:35:50.669346Z",
     "shell.execute_reply": "2023-10-14T19:35:50.668508Z"
    },
    "papermill": {
     "duration": 0.186943,
     "end_time": "2023-10-14T19:35:50.671316",
     "exception": false,
     "start_time": "2023-10-14T19:35:50.484373",
     "status": "completed"
    },
    "tags": []
   },
   "outputs": [
    {
     "name": "stdout",
     "output_type": "stream",
     "text": [
      "Last Validation Accuracy: 94.45 %\n",
      "Last Accuracy: 96.81 %\n"
     ]
    }
   ],
   "source": [
    "last_valacc = history.history['val_accuracy'][-1]*100\n",
    "print(\"Last Validation Accuracy:\" , format(last_valacc, \".2f\"), \"%\")\n",
    "last_acc = history.history['accuracy'][-1]*100\n",
    "print(\"Last Accuracy:\" , format(last_acc, \".2f\"), \"%\")"
   ]
  },
  {
   "cell_type": "code",
   "execution_count": 22,
   "id": "84fd1378",
   "metadata": {
    "execution": {
     "iopub.execute_input": "2023-10-14T19:35:51.240972Z",
     "iopub.status.busy": "2023-10-14T19:35:51.240564Z",
     "iopub.status.idle": "2023-10-14T19:35:51.626485Z",
     "shell.execute_reply": "2023-10-14T19:35:51.625416Z"
    },
    "papermill": {
     "duration": 0.768037,
     "end_time": "2023-10-14T19:35:51.629229",
     "exception": false,
     "start_time": "2023-10-14T19:35:50.861192",
     "status": "completed"
    },
    "tags": []
   },
   "outputs": [
    {
     "data": {
      "text/plain": [
       "<matplotlib.legend.Legend at 0x79856fdcf100>"
      ]
     },
     "execution_count": 22,
     "metadata": {},
     "output_type": "execute_result"
    },
    {
     "data": {
      "image/png": "[encoded data removed]",
      "text/plain": [
       "<Figure size 640x480 with 1 Axes>"
      ]
     },
     "metadata": {},
     "output_type": "display_data"
    }
   ],
   "source": [
    "plt.plot(history.history[\"accuracy\"], label='Train')\n",
    "plt.plot(history.history[\"val_accuracy\"], label='Validation')\n",
    "plt.title(\"Accuracy\")\n",
    "plt.legend()"
   ]
  },
  {
   "cell_type": "code",
   "execution_count": 23,
   "id": "d46d20a1",
   "metadata": {
    "execution": {
     "iopub.execute_input": "2023-10-14T19:35:52.395739Z",
     "iopub.status.busy": "2023-10-14T19:35:52.395338Z",
     "iopub.status.idle": "2023-10-14T19:35:52.674154Z",
     "shell.execute_reply": "2023-10-14T19:35:52.673315Z"
    },
    "papermill": {
     "duration": 0.692223,
     "end_time": "2023-10-14T19:35:52.675919",
     "exception": false,
     "start_time": "2023-10-14T19:35:51.983696",
     "status": "completed"
    },
    "tags": []
   },
   "outputs": [
    {
     "data": {
      "text/plain": [
       "<matplotlib.legend.Legend at 0x79856fdcc040>"
      ]
     },
     "execution_count": 23,
     "metadata": {},
     "output_type": "execute_result"
    },
    {
     "data": {
      "image/png": "[encoded data removed]",
      "text/plain": [
       "<Figure size 640x480 with 1 Axes>"
      ]
     },
     "metadata": {},
     "output_type": "display_data"
    }
   ],
   "source": [
    "plt.plot(history.history[\"loss\"], label='Train')\n",
    "plt.plot(history.history[\"val_loss\"], label='Validation')\n",
    "plt.title(\"Loss\")\n",
    "plt.legend()"
   ]
  },
  {
   "cell_type": "markdown",
   "id": "95fce694",
   "metadata": {
    "papermill": {
     "duration": 0.180783,
     "end_time": "2023-10-14T19:35:53.035145",
     "exception": false,
     "start_time": "2023-10-14T19:35:52.854362",
     "status": "completed"
    },
    "tags": []
   },
   "source": [
    "## Submissions generator\n",
    "\n"
   ]
  },
  {
   "cell_type": "code",
   "execution_count": 24,
   "id": "06fde27f",
   "metadata": {
    "execution": {
     "iopub.execute_input": "2023-10-14T19:35:53.395916Z",
     "iopub.status.busy": "2023-10-14T19:35:53.395493Z",
     "iopub.status.idle": "2023-10-14T19:35:55.177951Z",
     "shell.execute_reply": "2023-10-14T19:35:55.176742Z"
    },
    "papermill": {
     "duration": 1.965825,
     "end_time": "2023-10-14T19:35:55.180465",
     "exception": false,
     "start_time": "2023-10-14T19:35:53.214640",
     "status": "completed"
    },
    "tags": []
   },
   "outputs": [
    {
     "name": "stdout",
     "output_type": "stream",
     "text": [
      "313/313 [==============================] - 1s 1ms/step\n"
     ]
    }
   ],
   "source": [
    "predictions = model.predict(x_test).argmax(axis=1)"
   ]
  },
  {
   "cell_type": "code",
   "execution_count": 25,
   "id": "095c7a7b",
   "metadata": {
    "execution": {
     "iopub.execute_input": "2023-10-14T19:35:55.583992Z",
     "iopub.status.busy": "2023-10-14T19:35:55.583607Z",
     "iopub.status.idle": "2023-10-14T19:35:55.611538Z",
     "shell.execute_reply": "2023-10-14T19:35:55.610683Z"
    },
    "papermill": {
     "duration": 0.2134,
     "end_time": "2023-10-14T19:35:55.613321",
     "exception": false,
     "start_time": "2023-10-14T19:35:55.399921",
     "status": "completed"
    },
    "tags": []
   },
   "outputs": [],
   "source": [
    "df = pd.DataFrame(predictions, columns=[\"Label\"])\n",
    "df.index.name = \"Id\"\n",
    "df.to_csv(\"submission.csv\")"
   ]
  },
  {
   "cell_type": "markdown",
   "id": "988bc3d5",
   "metadata": {
    "papermill": {
     "duration": 0.179641,
     "end_time": "2023-10-14T19:35:56.016118",
     "exception": false,
     "start_time": "2023-10-14T19:35:55.836477",
     "status": "completed"
    },
    "tags": []
   },
   "source": [
    "En conclusión, el uso de la red arrojo un accuracy significativo para tener 100 clases a clasificar, se aprendió en el proceso el uso de MLP, normalizadores, tipos de capas y diferentes maneras de modificar parámetros para obtener el mejor resultado posible. "
   ]
  }
 ],
 "metadata": {
  "kernelspec": {
   "display_name": "Python 3",
   "language": "python",
   "name": "python3"
  },
  "language_info": {
   "codemirror_mode": {
    "name": "ipython",
    "version": 3
   },
   "file_extension": ".py",
   "mimetype": "text/x-python",
   "name": "python",
   "nbconvert_exporter": "python",
   "pygments_lexer": "ipython3",
   "version": "3.10.12"
  },
  "papermill": {
   "default_parameters": {},
   "duration": 355.732467,
   "end_time": "2023-10-14T19:35:59.225483",
   "environment_variables": {},
   "exception": null,
   "input_path": "__notebook__.ipynb",
   "output_path": "__notebook__.ipynb",
   "parameters": {},
   "start_time": "2023-10-14T19:30:03.493016",
   "version": "2.4.0"
  }
 },
 "nbformat": 4,
 "nbformat_minor": 5
}
