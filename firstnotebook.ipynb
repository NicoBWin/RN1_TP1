{
 "cells": [
  {
   "cell_type": "markdown",
   "id": "00d762ae",
   "metadata": {
    "papermill": {
     "duration": 0.009509,
     "end_time": "2023-10-09T20:26:55.604858",
     "exception": false,
     "start_time": "2023-10-09T20:26:55.595349",
     "status": "completed"
    },
    "tags": []
   },
   "source": [
    "# TP1 - Redes Neuronales (22.45)\n",
    "\n",
    "En este trabajo páctico se busca armar una red neuronal capaz de obtener el mayor acuracy para lograr la mejor posición en la competencia de Kaggle. Se utiliza el dataset \"cifar-100\" y todos los conocimientos vistos en clase para la realización de la red capaz de identificar las fotos dentro del dataset.\n",
    "\n",
    "*Autor: Nicolás Bustelo - 61431*"
   ]
  },
  {
   "cell_type": "code",
   "execution_count": 1,
   "id": "b640f6a9",
   "metadata": {
    "_cell_guid": "b1076dfc-b9ad-4769-8c92-a6c4dae69d19",
    "_uuid": "8f2839f25d086af736a60e9eeb907d3b93b6e0e5",
    "execution": {
     "iopub.execute_input": "2023-10-09T20:26:55.623741Z",
     "iopub.status.busy": "2023-10-09T20:26:55.623329Z",
     "iopub.status.idle": "2023-10-09T20:27:03.817516Z",
     "shell.execute_reply": "2023-10-09T20:27:03.816587Z"
    },
    "papermill": {
     "duration": 8.205852,
     "end_time": "2023-10-09T20:27:03.819418",
     "exception": false,
     "start_time": "2023-10-09T20:26:55.613566",
     "status": "completed"
    },
    "tags": []
   },
   "outputs": [
    {
     "name": "stderr",
     "output_type": "stream",
     "text": [
      "/opt/conda/lib/python3.10/site-packages/scipy/__init__.py:146: UserWarning: A NumPy version >=1.16.5 and <1.23.0 is required for this version of SciPy (detected version 1.23.5\n",
      "  warnings.warn(f\"A NumPy version >={np_minversion} and <{np_maxversion}\"\n"
     ]
    },
    {
     "name": "stdout",
     "output_type": "stream",
     "text": [
      "/kaggle/input/itba-rn-2245-cifar-100-2023q2/y_train_fine.npy\n",
      "/kaggle/input/itba-rn-2245-cifar-100-2023q2/y_train_coarse.npy\n",
      "/kaggle/input/itba-rn-2245-cifar-100-2023q2/fine_label_names.pck\n",
      "/kaggle/input/itba-rn-2245-cifar-100-2023q2/coarse_label_names.pck\n",
      "/kaggle/input/itba-rn-2245-cifar-100-2023q2/x_test.npy\n",
      "/kaggle/input/itba-rn-2245-cifar-100-2023q2/x_train.npy\n"
     ]
    }
   ],
   "source": [
    "# This Python 3 environment comes with many helpful analytics libraries installed\n",
    "# It is defined by the kaggle/python Docker image: https://github.com/kaggle/docker-python\n",
    "# For example, here's several helpful packages to load\n",
    "\n",
    "import numpy as np # linear algebra\n",
    "import pandas as pd # data processing, CSV file I/O (e.g. pd.read_csv)\n",
    "from tensorflow.keras.utils import plot_model\n",
    "\n",
    "# Input data files are available in the read-only \"../input/\" directory\n",
    "# For example, running this (by clicking run or pressing Shift+Enter) will list all files under the input directory\n",
    "\n",
    "import os\n",
    "for dirname, _, filenames in os.walk('/kaggle/input'):\n",
    "    for filename in filenames:\n",
    "        print(os.path.join(dirname, filename))\n",
    "\n",
    "# You can write up to 20GB to the current directory (/kaggle/working/) that gets preserved as output when you create a version using \"Save & Run All\" \n",
    "# You can also write temporary files to /kaggle/temp/, but they won't be saved outside of the current session"
   ]
  },
  {
   "cell_type": "markdown",
   "id": "3d74462b",
   "metadata": {
    "papermill": {
     "duration": 0.004747,
     "end_time": "2023-10-09T20:27:03.831618",
     "exception": false,
     "start_time": "2023-10-09T20:27:03.826871",
     "status": "completed"
    },
    "tags": []
   },
   "source": [
    "## Dataset load"
   ]
  },
  {
   "cell_type": "code",
   "execution_count": 2,
   "id": "1571e753",
   "metadata": {
    "execution": {
     "iopub.execute_input": "2023-10-09T20:27:03.842412Z",
     "iopub.status.busy": "2023-10-09T20:27:03.841668Z",
     "iopub.status.idle": "2023-10-09T20:27:05.985710Z",
     "shell.execute_reply": "2023-10-09T20:27:05.984754Z"
    },
    "papermill": {
     "duration": 2.151619,
     "end_time": "2023-10-09T20:27:05.987929",
     "exception": false,
     "start_time": "2023-10-09T20:27:03.836310",
     "status": "completed"
    },
    "tags": []
   },
   "outputs": [],
   "source": [
    "x_train = np.load(\"/kaggle/input/itba-rn-2245-cifar-100-2023q2/x_train.npy\")/255.\n",
    "x_test = np.load(\"/kaggle/input/itba-rn-2245-cifar-100-2023q2/x_test.npy\")/255.\n",
    "y_train_coarse = np.load(\"/kaggle/input/itba-rn-2245-cifar-100-2023q2/y_train_coarse.npy\")\n",
    "y_train_fine = np.load(\"/kaggle/input/itba-rn-2245-cifar-100-2023q2/y_train_fine.npy\")"
   ]
  },
  {
   "cell_type": "code",
   "execution_count": 3,
   "id": "407f4b55",
   "metadata": {
    "execution": {
     "iopub.execute_input": "2023-10-09T20:27:06.001372Z",
     "iopub.status.busy": "2023-10-09T20:27:06.001088Z",
     "iopub.status.idle": "2023-10-09T20:27:06.010223Z",
     "shell.execute_reply": "2023-10-09T20:27:06.009398Z"
    },
    "papermill": {
     "duration": 0.017989,
     "end_time": "2023-10-09T20:27:06.011980",
     "exception": false,
     "start_time": "2023-10-09T20:27:05.993991",
     "status": "completed"
    },
    "tags": []
   },
   "outputs": [],
   "source": [
    "import pickle\n",
    "with open(\"/kaggle/input/itba-rn-2245-cifar-100-2023q2/fine_label_names.pck\", \"rb\") as f:\n",
    "    labels_fine = pickle.load(f)\n",
    "with open(\"/kaggle/input/itba-rn-2245-cifar-100-2023q2/coarse_label_names.pck\", \"rb\") as f:\n",
    "    labels_coarse = pickle.load(f)"
   ]
  },
  {
   "cell_type": "code",
   "execution_count": 4,
   "id": "3d15b437",
   "metadata": {
    "execution": {
     "iopub.execute_input": "2023-10-09T20:27:06.023034Z",
     "iopub.status.busy": "2023-10-09T20:27:06.022293Z",
     "iopub.status.idle": "2023-10-09T20:27:06.026743Z",
     "shell.execute_reply": "2023-10-09T20:27:06.025854Z"
    },
    "papermill": {
     "duration": 0.011587,
     "end_time": "2023-10-09T20:27:06.028399",
     "exception": false,
     "start_time": "2023-10-09T20:27:06.016812",
     "status": "completed"
    },
    "tags": []
   },
   "outputs": [],
   "source": [
    "from matplotlib import pyplot as plt"
   ]
  },
  {
   "cell_type": "markdown",
   "id": "0fcd93ad",
   "metadata": {
    "papermill": {
     "duration": 0.004753,
     "end_time": "2023-10-09T20:27:06.037798",
     "exception": false,
     "start_time": "2023-10-09T20:27:06.033045",
     "status": "completed"
    },
    "tags": []
   },
   "source": [
    "## Dataset sample viewing"
   ]
  },
  {
   "cell_type": "code",
   "execution_count": 5,
   "id": "6829a509",
   "metadata": {
    "execution": {
     "iopub.execute_input": "2023-10-09T20:27:06.048864Z",
     "iopub.status.busy": "2023-10-09T20:27:06.048334Z",
     "iopub.status.idle": "2023-10-09T20:27:06.253965Z",
     "shell.execute_reply": "2023-10-09T20:27:06.253024Z"
    },
    "papermill": {
     "duration": 0.212972,
     "end_time": "2023-10-09T20:27:06.255717",
     "exception": false,
     "start_time": "2023-10-09T20:27:06.042745",
     "status": "completed"
    },
    "tags": []
   },
   "outputs": [
    {
     "data": {
      "text/plain": [
       "<matplotlib.image.AxesImage at 0x7988727e7370>"
      ]
     },
     "execution_count": 5,
     "metadata": {},
     "output_type": "execute_result"
    },
    {
     "data": {
      "image/png": "[encoded data removed]",
      "text/plain": [
       "<Figure size 200x200 with 1 Axes>"
      ]
     },
     "metadata": {},
     "output_type": "display_data"
    }
   ],
   "source": [
    "plt.figure(figsize=(2,2))\n",
    "plt.imshow(x_train[0])"
   ]
  },
  {
   "cell_type": "code",
   "execution_count": 6,
   "id": "da1f198d",
   "metadata": {
    "execution": {
     "iopub.execute_input": "2023-10-09T20:27:06.267135Z",
     "iopub.status.busy": "2023-10-09T20:27:06.266769Z",
     "iopub.status.idle": "2023-10-09T20:27:06.272095Z",
     "shell.execute_reply": "2023-10-09T20:27:06.271162Z"
    },
    "papermill": {
     "duration": 0.012894,
     "end_time": "2023-10-09T20:27:06.273684",
     "exception": false,
     "start_time": "2023-10-09T20:27:06.260790",
     "status": "completed"
    },
    "tags": []
   },
   "outputs": [
    {
     "data": {
      "text/plain": [
       "'large_omnivores_and_herbivores'"
      ]
     },
     "execution_count": 6,
     "metadata": {},
     "output_type": "execute_result"
    }
   ],
   "source": [
    "labels_coarse[11]"
   ]
  },
  {
   "cell_type": "markdown",
   "id": "e5c7afee",
   "metadata": {
    "papermill": {
     "duration": 0.004812,
     "end_time": "2023-10-09T20:27:06.283436",
     "exception": false,
     "start_time": "2023-10-09T20:27:06.278624",
     "status": "completed"
    },
    "tags": []
   },
   "source": [
    "### Data convert to GreyScale: \n",
    "grayImages es el vector con todas las imagenes en escala de grises."
   ]
  },
  {
   "cell_type": "code",
   "execution_count": 7,
   "id": "3de6fbfa",
   "metadata": {
    "execution": {
     "iopub.execute_input": "2023-10-09T20:27:06.294568Z",
     "iopub.status.busy": "2023-10-09T20:27:06.293894Z",
     "iopub.status.idle": "2023-10-09T20:27:07.535080Z",
     "shell.execute_reply": "2023-10-09T20:27:07.534155Z"
    },
    "papermill": {
     "duration": 1.248532,
     "end_time": "2023-10-09T20:27:07.536848",
     "exception": false,
     "start_time": "2023-10-09T20:27:06.288316",
     "status": "completed"
    },
    "tags": []
   },
   "outputs": [
    {
     "data": {
      "text/plain": [
       "51200000"
      ]
     },
     "execution_count": 7,
     "metadata": {},
     "output_type": "execute_result"
    },
    {
     "data": {
      "image/png": "[encoded data removed]",
      "text/plain": [
       "<Figure size 200x200 with 1 Axes>"
      ]
     },
     "metadata": {},
     "output_type": "display_data"
    }
   ],
   "source": [
    "grayImages = np.dot(x_train[...,:3], [0.2989, 0.5870, 0.1140])\n",
    "plt.figure(figsize=(2,2))\n",
    "plt.imshow(grayImages[0], cmap=plt.get_cmap('gray'), vmin=0, vmax=1)\n",
    "grayImages.size"
   ]
  },
  {
   "cell_type": "code",
   "execution_count": 8,
   "id": "c03f8eec",
   "metadata": {
    "execution": {
     "iopub.execute_input": "2023-10-09T20:27:07.549305Z",
     "iopub.status.busy": "2023-10-09T20:27:07.548723Z",
     "iopub.status.idle": "2023-10-09T20:27:07.554901Z",
     "shell.execute_reply": "2023-10-09T20:27:07.553974Z"
    },
    "papermill": {
     "duration": 0.013973,
     "end_time": "2023-10-09T20:27:07.556527",
     "exception": false,
     "start_time": "2023-10-09T20:27:07.542554",
     "status": "completed"
    },
    "tags": []
   },
   "outputs": [
    {
     "name": "stdout",
     "output_type": "stream",
     "text": [
      "Grano grueso: large_omnivores_and_herbivores\n",
      "Grano fino: camel\n",
      "Grano fino: cattle\n",
      "Grano fino: chimpanzee\n",
      "Grano fino: elephant\n",
      "Grano fino: kangaroo\n"
     ]
    }
   ],
   "source": [
    "# Me fijo para una categoría de grano grueso, cuáles son las categorías de grano fino\n",
    "coarse = 11\n",
    "print(f\"Grano grueso: {labels_coarse[coarse]}\")\n",
    "for fine in np.unique(y_train_fine[y_train_coarse == coarse]):\n",
    "    print(f\"Grano fino: {labels_fine[fine]}\")"
   ]
  },
  {
   "cell_type": "markdown",
   "id": "30785eb6",
   "metadata": {
    "papermill": {
     "duration": 0.005114,
     "end_time": "2023-10-09T20:27:07.566794",
     "exception": false,
     "start_time": "2023-10-09T20:27:07.561680",
     "status": "completed"
    },
    "tags": []
   },
   "source": [
    "## Model Training:"
   ]
  },
  {
   "cell_type": "code",
   "execution_count": 9,
   "id": "b6f447cc",
   "metadata": {
    "execution": {
     "iopub.execute_input": "2023-10-09T20:27:07.578091Z",
     "iopub.status.busy": "2023-10-09T20:27:07.577843Z",
     "iopub.status.idle": "2023-10-09T20:27:07.584657Z",
     "shell.execute_reply": "2023-10-09T20:27:07.583883Z"
    },
    "papermill": {
     "duration": 0.01438,
     "end_time": "2023-10-09T20:27:07.586301",
     "exception": false,
     "start_time": "2023-10-09T20:27:07.571921",
     "status": "completed"
    },
    "tags": []
   },
   "outputs": [],
   "source": [
    "# Importo las bibliotecas a utilizar\n",
    "from tensorflow.keras.models import Sequential\n",
    "from tensorflow.keras.layers import Dense, Dropout, BatchNormalization, Flatten\n",
    "from tensorflow.keras.optimizers import SGD, Adam, RMSprop\n",
    "from tensorflow.keras.regularizers import l1, l2\n",
    "from tensorflow.keras.constraints import MaxNorm\n",
    "from tensorflow.keras import initializers\n",
    "from tensorflow.keras.callbacks import ReduceLROnPlateau, EarlyStopping, ModelCheckpoint, TensorBoard"
   ]
  },
  {
   "cell_type": "markdown",
   "id": "312c253a",
   "metadata": {
    "papermill": {
     "duration": 0.005363,
     "end_time": "2023-10-09T20:27:07.596942",
     "exception": false,
     "start_time": "2023-10-09T20:27:07.591579",
     "status": "completed"
    },
    "tags": []
   },
   "source": [
    "**Ecplicar un poco mejor las capas de la red**\n",
    "\n",
    "Flatten es la capa de entrada\n",
    "\n",
    "El relu es la hidden layer -> \n",
    "\n",
    "Softmax -> Capa de salida transforma los números a probabilidades"
   ]
  },
  {
   "cell_type": "code",
   "execution_count": 10,
   "id": "4243ad5b",
   "metadata": {
    "execution": {
     "iopub.execute_input": "2023-10-09T20:27:07.608830Z",
     "iopub.status.busy": "2023-10-09T20:27:07.607964Z",
     "iopub.status.idle": "2023-10-09T20:27:10.962313Z",
     "shell.execute_reply": "2023-10-09T20:27:10.961388Z"
    },
    "papermill": {
     "duration": 3.362306,
     "end_time": "2023-10-09T20:27:10.964367",
     "exception": false,
     "start_time": "2023-10-09T20:27:07.602061",
     "status": "completed"
    },
    "tags": []
   },
   "outputs": [],
   "source": [
    "model = Sequential()\n",
    "#hacer un optimizer...\n",
    "model.add(Flatten(input_shape=(32,32,3)))\n",
    "model.add(Dense(512, activation='relu', kernel_initializer=initializers.RandomNormal(stddev=0.1), kernel_constraint=MaxNorm(5)))\n",
    "model.add(Dropout(0.1))\n",
    "model.add(Dense(512, activation='relu', kernel_initializer=initializers.RandomNormal(stddev=0.1), kernel_constraint=MaxNorm(5)))\n",
    "model.add(Dropout(0.1))\n",
    "model.add(Dense(512, activation='sigmoid', kernel_constraint=MaxNorm(5)))\n",
    "model.add(Dropout(0.1))\n",
    "model.add(Dense(100, activation=\"softmax\"))\n",
    "model.compile(loss=\"sparse_categorical_crossentropy\", metrics = [\"accuracy\"], optimizer = Adam(learning_rate=0.001))"
   ]
  },
  {
   "cell_type": "code",
   "execution_count": 11,
   "id": "cc5a69b7",
   "metadata": {
    "execution": {
     "iopub.execute_input": "2023-10-09T20:27:10.977186Z",
     "iopub.status.busy": "2023-10-09T20:27:10.976382Z",
     "iopub.status.idle": "2023-10-09T20:27:10.998625Z",
     "shell.execute_reply": "2023-10-09T20:27:10.997950Z"
    },
    "papermill": {
     "duration": 0.04284,
     "end_time": "2023-10-09T20:27:11.012989",
     "exception": false,
     "start_time": "2023-10-09T20:27:10.970149",
     "status": "completed"
    },
    "tags": []
   },
   "outputs": [
    {
     "name": "stdout",
     "output_type": "stream",
     "text": [
      "Model: \"sequential\"\n",
      "_________________________________________________________________\n",
      " Layer (type)                Output Shape              Param #   \n",
      "=================================================================\n",
      " flatten (Flatten)           (None, 3072)              0         \n",
      "                                                                 \n",
      " dense (Dense)               (None, 512)               1573376   \n",
      "                                                                 \n",
      " dropout (Dropout)           (None, 512)               0         \n",
      "                                                                 \n",
      " dense_1 (Dense)             (None, 512)               262656    \n",
      "                                                                 \n",
      " dropout_1 (Dropout)         (None, 512)               0         \n",
      "                                                                 \n",
      " dense_2 (Dense)             (None, 512)               262656    \n",
      "                                                                 \n",
      " dropout_2 (Dropout)         (None, 512)               0         \n",
      "                                                                 \n",
      " dense_3 (Dense)             (None, 100)               51300     \n",
      "                                                                 \n",
      "=================================================================\n",
      "Total params: 2,149,988\n",
      "Trainable params: 2,149,988\n",
      "Non-trainable params: 0\n",
      "_________________________________________________________________\n"
     ]
    }
   ],
   "source": [
    "model.summary()"
   ]
  },
  {
   "cell_type": "code",
   "execution_count": 12,
   "id": "31416055",
   "metadata": {
    "execution": {
     "iopub.execute_input": "2023-10-09T20:27:11.026388Z",
     "iopub.status.busy": "2023-10-09T20:27:11.026151Z",
     "iopub.status.idle": "2023-10-09T20:27:11.254766Z",
     "shell.execute_reply": "2023-10-09T20:27:11.253890Z"
    },
    "papermill": {
     "duration": 0.237783,
     "end_time": "2023-10-09T20:27:11.256949",
     "exception": false,
     "start_time": "2023-10-09T20:27:11.019166",
     "status": "completed"
    },
    "tags": []
   },
   "outputs": [
    {
     "data": {
      "image/png": "[encoded data removed]",
      "text/plain": [
       "<IPython.core.display.Image object>"
      ]
     },
     "execution_count": 12,
     "metadata": {},
     "output_type": "execute_result"
    }
   ],
   "source": [
    "plot_model(model,show_shapes=True,show_layer_names=True)"
   ]
  },
  {
   "cell_type": "markdown",
   "id": "983ed55d",
   "metadata": {
    "papermill": {
     "duration": 0.007435,
     "end_time": "2023-10-09T20:27:11.272300",
     "exception": false,
     "start_time": "2023-10-09T20:27:11.264865",
     "status": "completed"
    },
    "tags": []
   },
   "source": [
    "### Callbacks:"
   ]
  },
  {
   "cell_type": "code",
   "execution_count": 13,
   "id": "3ec61436",
   "metadata": {
    "execution": {
     "iopub.execute_input": "2023-10-09T20:27:11.288535Z",
     "iopub.status.busy": "2023-10-09T20:27:11.288267Z",
     "iopub.status.idle": "2023-10-09T20:27:11.292398Z",
     "shell.execute_reply": "2023-10-09T20:27:11.291485Z"
    },
    "papermill": {
     "duration": 0.014127,
     "end_time": "2023-10-09T20:27:11.294091",
     "exception": false,
     "start_time": "2023-10-09T20:27:11.279964",
     "status": "completed"
    },
    "tags": []
   },
   "outputs": [],
   "source": [
    "rlrop = ReduceLROnPlateau(\n",
    "    monitor = \"val_accuracy\",\n",
    "    factor = 0.5,\n",
    "    patience = 5,\n",
    "    verbose = 1,\n",
    "    min_lr = 1e-5\n",
    ")"
   ]
  },
  {
   "cell_type": "code",
   "execution_count": 14,
   "id": "b74c7241",
   "metadata": {
    "execution": {
     "iopub.execute_input": "2023-10-09T20:27:11.310069Z",
     "iopub.status.busy": "2023-10-09T20:27:11.309688Z",
     "iopub.status.idle": "2023-10-09T20:27:11.313902Z",
     "shell.execute_reply": "2023-10-09T20:27:11.312893Z"
    },
    "papermill": {
     "duration": 0.013939,
     "end_time": "2023-10-09T20:27:11.315476",
     "exception": false,
     "start_time": "2023-10-09T20:27:11.301537",
     "status": "completed"
    },
    "tags": []
   },
   "outputs": [],
   "source": [
    "mc = ModelCheckpoint(\n",
    "    \"best_weights.hfd5\",\n",
    "    monitor = \"val_accuracy\",\n",
    "    verbose = 1,\n",
    "    save_best_only = True,\n",
    "    save_weights_only = True,\n",
    ")"
   ]
  },
  {
   "cell_type": "code",
   "execution_count": 15,
   "id": "cd23e1ac",
   "metadata": {
    "execution": {
     "iopub.execute_input": "2023-10-09T20:27:11.330970Z",
     "iopub.status.busy": "2023-10-09T20:27:11.330455Z",
     "iopub.status.idle": "2023-10-09T20:27:11.334858Z",
     "shell.execute_reply": "2023-10-09T20:27:11.334076Z"
    },
    "papermill": {
     "duration": 0.013915,
     "end_time": "2023-10-09T20:27:11.336449",
     "exception": false,
     "start_time": "2023-10-09T20:27:11.322534",
     "status": "completed"
    },
    "tags": []
   },
   "outputs": [],
   "source": [
    "es = EarlyStopping(\n",
    "    monitor = \"val_accuracy\",\n",
    "    patience = 15, \n",
    "    verbose = 1,\n",
    "    restore_best_weights = True,\n",
    ")"
   ]
  },
  {
   "cell_type": "code",
   "execution_count": 16,
   "id": "83bafb21",
   "metadata": {
    "execution": {
     "iopub.execute_input": "2023-10-09T20:27:11.352395Z",
     "iopub.status.busy": "2023-10-09T20:27:11.351677Z",
     "iopub.status.idle": "2023-10-09T20:27:11.356038Z",
     "shell.execute_reply": "2023-10-09T20:27:11.355255Z"
    },
    "papermill": {
     "duration": 0.013923,
     "end_time": "2023-10-09T20:27:11.357638",
     "exception": false,
     "start_time": "2023-10-09T20:27:11.343715",
     "status": "completed"
    },
    "tags": []
   },
   "outputs": [],
   "source": [
    "tb = TensorBoard(\n",
    "    log_dir=\"logs\",\n",
    ")"
   ]
  },
  {
   "cell_type": "markdown",
   "id": "ddec8508",
   "metadata": {
    "papermill": {
     "duration": 0.007389,
     "end_time": "2023-10-09T20:27:11.372180",
     "exception": false,
     "start_time": "2023-10-09T20:27:11.364791",
     "status": "completed"
    },
    "tags": []
   },
   "source": [
    "### Entreno el modelo:"
   ]
  },
  {
   "cell_type": "code",
   "execution_count": 17,
   "id": "615dcc6b",
   "metadata": {
    "execution": {
     "iopub.execute_input": "2023-10-09T20:27:11.388431Z",
     "iopub.status.busy": "2023-10-09T20:27:11.387763Z",
     "iopub.status.idle": "2023-10-09T20:28:07.374257Z",
     "shell.execute_reply": "2023-10-09T20:28:07.373415Z"
    },
    "papermill": {
     "duration": 55.996178,
     "end_time": "2023-10-09T20:28:07.376001",
     "exception": false,
     "start_time": "2023-10-09T20:27:11.379823",
     "status": "completed"
    },
    "tags": []
   },
   "outputs": [
    {
     "name": "stdout",
     "output_type": "stream",
     "text": [
      "Epoch 1/200\n",
      "37/40 [==========================>...] - ETA: 0s - loss: 4.4438 - accuracy: 0.0375\n",
      "Epoch 1: val_accuracy improved from -inf to 0.07230, saving model to best_weights.hfd5\n",
      "40/40 [==============================] - 6s 31ms/step - loss: 4.4286 - accuracy: 0.0391 - val_loss: 4.0998 - val_accuracy: 0.0723 - lr: 0.0010\n",
      "Epoch 2/200\n",
      "36/40 [==========================>...] - ETA: 0s - loss: 4.0208 - accuracy: 0.0891\n",
      "Epoch 2: val_accuracy improved from 0.07230 to 0.10900, saving model to best_weights.hfd5\n",
      "40/40 [==============================] - 1s 18ms/step - loss: 4.0087 - accuracy: 0.0909 - val_loss: 3.8599 - val_accuracy: 0.1090 - lr: 0.0010\n",
      "Epoch 3/200\n",
      "40/40 [==============================] - ETA: 0s - loss: 3.8002 - accuracy: 0.1227\n",
      "Epoch 3: val_accuracy improved from 0.10900 to 0.13470, saving model to best_weights.hfd5\n",
      "40/40 [==============================] - 1s 17ms/step - loss: 3.8002 - accuracy: 0.1227 - val_loss: 3.7484 - val_accuracy: 0.1347 - lr: 0.0010\n",
      "Epoch 4/200\n",
      "38/40 [===========================>..] - ETA: 0s - loss: 3.6767 - accuracy: 0.1434\n",
      "Epoch 4: val_accuracy improved from 0.13470 to 0.15660, saving model to best_weights.hfd5\n",
      "40/40 [==============================] - 1s 17ms/step - loss: 3.6756 - accuracy: 0.1434 - val_loss: 3.6415 - val_accuracy: 0.1566 - lr: 0.0010\n",
      "Epoch 5/200\n",
      "36/40 [==========================>...] - ETA: 0s - loss: 3.5767 - accuracy: 0.1598\n",
      "Epoch 5: val_accuracy improved from 0.15660 to 0.16880, saving model to best_weights.hfd5\n",
      "40/40 [==============================] - 1s 18ms/step - loss: 3.5730 - accuracy: 0.1603 - val_loss: 3.5365 - val_accuracy: 0.1688 - lr: 0.0010\n",
      "Epoch 6/200\n",
      "36/40 [==========================>...] - ETA: 0s - loss: 3.4915 - accuracy: 0.1750\n",
      "Epoch 6: val_accuracy improved from 0.16880 to 0.17410, saving model to best_weights.hfd5\n",
      "40/40 [==============================] - 1s 17ms/step - loss: 3.4860 - accuracy: 0.1762 - val_loss: 3.4894 - val_accuracy: 0.1741 - lr: 0.0010\n",
      "Epoch 7/200\n",
      "36/40 [==========================>...] - ETA: 0s - loss: 3.4174 - accuracy: 0.1874\n",
      "Epoch 7: val_accuracy improved from 0.17410 to 0.17690, saving model to best_weights.hfd5\n",
      "40/40 [==============================] - 1s 16ms/step - loss: 3.4149 - accuracy: 0.1877 - val_loss: 3.4726 - val_accuracy: 0.1769 - lr: 0.0010\n",
      "Epoch 8/200\n",
      "35/40 [=========================>....] - ETA: 0s - loss: 3.3719 - accuracy: 0.1942\n",
      "Epoch 8: val_accuracy improved from 0.17690 to 0.19690, saving model to best_weights.hfd5\n",
      "40/40 [==============================] - 1s 18ms/step - loss: 3.3655 - accuracy: 0.1952 - val_loss: 3.3892 - val_accuracy: 0.1969 - lr: 0.0010\n",
      "Epoch 9/200\n",
      "36/40 [==========================>...] - ETA: 0s - loss: 3.2986 - accuracy: 0.2095\n",
      "Epoch 9: val_accuracy did not improve from 0.19690\n",
      "40/40 [==============================] - 1s 15ms/step - loss: 3.2976 - accuracy: 0.2092 - val_loss: 3.3583 - val_accuracy: 0.1960 - lr: 0.0010\n",
      "Epoch 10/200\n",
      "37/40 [==========================>...] - ETA: 0s - loss: 3.2534 - accuracy: 0.2166\n",
      "Epoch 10: val_accuracy did not improve from 0.19690\n",
      "40/40 [==============================] - 1s 14ms/step - loss: 3.2517 - accuracy: 0.2172 - val_loss: 3.3705 - val_accuracy: 0.1962 - lr: 0.0010\n",
      "Epoch 11/200\n",
      "38/40 [===========================>..] - ETA: 0s - loss: 3.2069 - accuracy: 0.2238\n",
      "Epoch 11: val_accuracy improved from 0.19690 to 0.21500, saving model to best_weights.hfd5\n",
      "40/40 [==============================] - 1s 17ms/step - loss: 3.2059 - accuracy: 0.2239 - val_loss: 3.2818 - val_accuracy: 0.2150 - lr: 0.0010\n",
      "Epoch 12/200\n",
      "37/40 [==========================>...] - ETA: 0s - loss: 3.1630 - accuracy: 0.2309\n",
      "Epoch 12: val_accuracy improved from 0.21500 to 0.21990, saving model to best_weights.hfd5\n",
      "40/40 [==============================] - 1s 17ms/step - loss: 3.1621 - accuracy: 0.2310 - val_loss: 3.2646 - val_accuracy: 0.2199 - lr: 0.0010\n",
      "Epoch 13/200\n",
      "37/40 [==========================>...] - ETA: 0s - loss: 3.1182 - accuracy: 0.2400\n",
      "Epoch 13: val_accuracy improved from 0.21990 to 0.22080, saving model to best_weights.hfd5\n",
      "40/40 [==============================] - 1s 21ms/step - loss: 3.1178 - accuracy: 0.2402 - val_loss: 3.2403 - val_accuracy: 0.2208 - lr: 0.0010\n",
      "Epoch 14/200\n",
      "36/40 [==========================>...] - ETA: 0s - loss: 3.0724 - accuracy: 0.2486\n",
      "Epoch 14: val_accuracy improved from 0.22080 to 0.23070, saving model to best_weights.hfd5\n",
      "40/40 [==============================] - 1s 23ms/step - loss: 3.0719 - accuracy: 0.2492 - val_loss: 3.2112 - val_accuracy: 0.2307 - lr: 0.0010\n",
      "Epoch 15/200\n",
      "37/40 [==========================>...] - ETA: 0s - loss: 3.0297 - accuracy: 0.2561\n",
      "Epoch 15: val_accuracy did not improve from 0.23070\n",
      "40/40 [==============================] - 1s 15ms/step - loss: 3.0279 - accuracy: 0.2569 - val_loss: 3.2226 - val_accuracy: 0.2240 - lr: 0.0010\n",
      "Epoch 16/200\n",
      "40/40 [==============================] - ETA: 0s - loss: 3.0094 - accuracy: 0.2582\n",
      "Epoch 16: val_accuracy did not improve from 0.23070\n",
      "40/40 [==============================] - 1s 13ms/step - loss: 3.0094 - accuracy: 0.2582 - val_loss: 3.1988 - val_accuracy: 0.2264 - lr: 0.0010\n",
      "Epoch 17/200\n",
      "39/40 [============================>.] - ETA: 0s - loss: 2.9628 - accuracy: 0.2684\n",
      "Epoch 17: val_accuracy did not improve from 0.23070\n",
      "40/40 [==============================] - 1s 14ms/step - loss: 2.9627 - accuracy: 0.2684 - val_loss: 3.2312 - val_accuracy: 0.2242 - lr: 0.0010\n",
      "Epoch 18/200\n",
      "35/40 [=========================>....] - ETA: 0s - loss: 2.9485 - accuracy: 0.2689\n",
      "Epoch 18: val_accuracy did not improve from 0.23070\n",
      "40/40 [==============================] - 1s 14ms/step - loss: 2.9468 - accuracy: 0.2698 - val_loss: 3.1788 - val_accuracy: 0.2285 - lr: 0.0010\n",
      "Epoch 19/200\n",
      "37/40 [==========================>...] - ETA: 0s - loss: 2.9027 - accuracy: 0.2796\n",
      "Epoch 19: val_accuracy improved from 0.23070 to 0.23270, saving model to best_weights.hfd5\n",
      "40/40 [==============================] - 1s 18ms/step - loss: 2.9040 - accuracy: 0.2793 - val_loss: 3.1935 - val_accuracy: 0.2327 - lr: 0.0010\n",
      "Epoch 20/200\n",
      "37/40 [==========================>...] - ETA: 0s - loss: 2.8582 - accuracy: 0.2890\n",
      "Epoch 20: val_accuracy improved from 0.23270 to 0.23390, saving model to best_weights.hfd5\n",
      "40/40 [==============================] - 1s 17ms/step - loss: 2.8610 - accuracy: 0.2885 - val_loss: 3.1559 - val_accuracy: 0.2339 - lr: 0.0010\n",
      "Epoch 21/200\n",
      "37/40 [==========================>...] - ETA: 0s - loss: 2.8416 - accuracy: 0.2900\n",
      "Epoch 21: val_accuracy improved from 0.23390 to 0.23840, saving model to best_weights.hfd5\n",
      "40/40 [==============================] - 1s 17ms/step - loss: 2.8407 - accuracy: 0.2901 - val_loss: 3.1650 - val_accuracy: 0.2384 - lr: 0.0010\n",
      "Epoch 22/200\n",
      "37/40 [==========================>...] - ETA: 0s - loss: 2.8128 - accuracy: 0.2956\n",
      "Epoch 22: val_accuracy improved from 0.23840 to 0.24080, saving model to best_weights.hfd5\n",
      "40/40 [==============================] - 1s 16ms/step - loss: 2.8127 - accuracy: 0.2957 - val_loss: 3.1425 - val_accuracy: 0.2408 - lr: 0.0010\n",
      "Epoch 23/200\n",
      "36/40 [==========================>...] - ETA: 0s - loss: 2.7868 - accuracy: 0.3008\n",
      "Epoch 23: val_accuracy did not improve from 0.24080\n",
      "40/40 [==============================] - 1s 16ms/step - loss: 2.7841 - accuracy: 0.3016 - val_loss: 3.1843 - val_accuracy: 0.2341 - lr: 0.0010\n",
      "Epoch 24/200\n",
      "39/40 [============================>.] - ETA: 0s - loss: 2.7483 - accuracy: 0.3102\n",
      "Epoch 24: val_accuracy improved from 0.24080 to 0.24720, saving model to best_weights.hfd5\n",
      "40/40 [==============================] - 1s 17ms/step - loss: 2.7481 - accuracy: 0.3103 - val_loss: 3.1335 - val_accuracy: 0.2472 - lr: 0.0010\n",
      "Epoch 25/200\n",
      "36/40 [==========================>...] - ETA: 0s - loss: 2.7174 - accuracy: 0.3155\n",
      "Epoch 25: val_accuracy improved from 0.24720 to 0.25050, saving model to best_weights.hfd5\n",
      "40/40 [==============================] - 1s 17ms/step - loss: 2.7186 - accuracy: 0.3157 - val_loss: 3.0979 - val_accuracy: 0.2505 - lr: 0.0010\n",
      "Epoch 26/200\n",
      "36/40 [==========================>...] - ETA: 0s - loss: 2.6955 - accuracy: 0.3203\n",
      "Epoch 26: val_accuracy did not improve from 0.25050\n",
      "40/40 [==============================] - 1s 13ms/step - loss: 2.6956 - accuracy: 0.3200 - val_loss: 3.1820 - val_accuracy: 0.2387 - lr: 0.0010\n",
      "Epoch 27/200\n",
      "38/40 [===========================>..] - ETA: 0s - loss: 2.6894 - accuracy: 0.3197\n",
      "Epoch 27: val_accuracy did not improve from 0.25050\n",
      "40/40 [==============================] - 1s 13ms/step - loss: 2.6897 - accuracy: 0.3199 - val_loss: 3.1821 - val_accuracy: 0.2364 - lr: 0.0010\n",
      "Epoch 28/200\n",
      "36/40 [==========================>...] - ETA: 0s - loss: 2.6488 - accuracy: 0.3304\n",
      "Epoch 28: val_accuracy improved from 0.25050 to 0.25090, saving model to best_weights.hfd5\n",
      "40/40 [==============================] - 1s 17ms/step - loss: 2.6476 - accuracy: 0.3311 - val_loss: 3.1226 - val_accuracy: 0.2509 - lr: 0.0010\n",
      "Epoch 29/200\n",
      "36/40 [==========================>...] - ETA: 0s - loss: 2.6032 - accuracy: 0.3419\n",
      "Epoch 29: val_accuracy did not improve from 0.25090\n",
      "40/40 [==============================] - 1s 14ms/step - loss: 2.6049 - accuracy: 0.3414 - val_loss: 3.1321 - val_accuracy: 0.2464 - lr: 0.0010\n",
      "Epoch 30/200\n",
      "38/40 [===========================>..] - ETA: 0s - loss: 2.5848 - accuracy: 0.3435\n",
      "Epoch 30: val_accuracy improved from 0.25090 to 0.25400, saving model to best_weights.hfd5\n",
      "40/40 [==============================] - 1s 18ms/step - loss: 2.5853 - accuracy: 0.3435 - val_loss: 3.1041 - val_accuracy: 0.2540 - lr: 0.0010\n",
      "Epoch 31/200\n",
      "38/40 [===========================>..] - ETA: 0s - loss: 2.5510 - accuracy: 0.3509\n",
      "Epoch 31: val_accuracy did not improve from 0.25400\n",
      "40/40 [==============================] - 1s 15ms/step - loss: 2.5488 - accuracy: 0.3514 - val_loss: 3.0894 - val_accuracy: 0.2540 - lr: 0.0010\n",
      "Epoch 32/200\n",
      "37/40 [==========================>...] - ETA: 0s - loss: 2.5185 - accuracy: 0.3561\n",
      "Epoch 32: val_accuracy improved from 0.25400 to 0.25490, saving model to best_weights.hfd5\n",
      "40/40 [==============================] - 1s 16ms/step - loss: 2.5196 - accuracy: 0.3562 - val_loss: 3.1202 - val_accuracy: 0.2549 - lr: 0.0010\n",
      "Epoch 33/200\n",
      "39/40 [============================>.] - ETA: 0s - loss: 2.5051 - accuracy: 0.3580\n",
      "Epoch 33: val_accuracy did not improve from 0.25490\n",
      "40/40 [==============================] - 1s 13ms/step - loss: 2.5048 - accuracy: 0.3581 - val_loss: 3.1041 - val_accuracy: 0.2543 - lr: 0.0010\n",
      "Epoch 34/200\n",
      "37/40 [==========================>...] - ETA: 0s - loss: 2.4748 - accuracy: 0.3686\n",
      "Epoch 34: val_accuracy improved from 0.25490 to 0.25860, saving model to best_weights.hfd5\n",
      "40/40 [==============================] - 1s 19ms/step - loss: 2.4761 - accuracy: 0.3679 - val_loss: 3.0998 - val_accuracy: 0.2586 - lr: 0.0010\n",
      "Epoch 35/200\n",
      "36/40 [==========================>...] - ETA: 0s - loss: 2.4496 - accuracy: 0.3712\n",
      "Epoch 35: val_accuracy did not improve from 0.25860\n",
      "40/40 [==============================] - 1s 15ms/step - loss: 2.4475 - accuracy: 0.3712 - val_loss: 3.1188 - val_accuracy: 0.2561 - lr: 0.0010\n",
      "Epoch 36/200\n",
      "39/40 [============================>.] - ETA: 0s - loss: 2.4215 - accuracy: 0.3765\n",
      "Epoch 36: val_accuracy did not improve from 0.25860\n",
      "40/40 [==============================] - 1s 13ms/step - loss: 2.4212 - accuracy: 0.3765 - val_loss: 3.1037 - val_accuracy: 0.2580 - lr: 0.0010\n",
      "Epoch 37/200\n",
      "40/40 [==============================] - ETA: 0s - loss: 2.3896 - accuracy: 0.3834\n",
      "Epoch 37: val_accuracy improved from 0.25860 to 0.26230, saving model to best_weights.hfd5\n",
      "40/40 [==============================] - 1s 16ms/step - loss: 2.3896 - accuracy: 0.3834 - val_loss: 3.1035 - val_accuracy: 0.2623 - lr: 0.0010\n",
      "Epoch 38/200\n",
      "40/40 [==============================] - ETA: 0s - loss: 2.3718 - accuracy: 0.3895\n",
      "Epoch 38: val_accuracy improved from 0.26230 to 0.26430, saving model to best_weights.hfd5\n",
      "40/40 [==============================] - 1s 17ms/step - loss: 2.3718 - accuracy: 0.3895 - val_loss: 3.0834 - val_accuracy: 0.2643 - lr: 0.0010\n",
      "Epoch 39/200\n",
      "36/40 [==========================>...] - ETA: 0s - loss: 2.3275 - accuracy: 0.3981\n",
      "Epoch 39: val_accuracy did not improve from 0.26430\n",
      "40/40 [==============================] - 1s 13ms/step - loss: 2.3259 - accuracy: 0.3979 - val_loss: 3.1424 - val_accuracy: 0.2550 - lr: 0.0010\n",
      "Epoch 40/200\n",
      "36/40 [==========================>...] - ETA: 0s - loss: 2.3188 - accuracy: 0.4009\n",
      "Epoch 40: val_accuracy did not improve from 0.26430\n",
      "40/40 [==============================] - 1s 14ms/step - loss: 2.3192 - accuracy: 0.4006 - val_loss: 3.1102 - val_accuracy: 0.2623 - lr: 0.0010\n",
      "Epoch 41/200\n",
      "37/40 [==========================>...] - ETA: 0s - loss: 2.2825 - accuracy: 0.4074\n",
      "Epoch 41: val_accuracy did not improve from 0.26430\n",
      "40/40 [==============================] - 1s 13ms/step - loss: 2.2808 - accuracy: 0.4076 - val_loss: 3.1007 - val_accuracy: 0.2630 - lr: 0.0010\n",
      "Epoch 42/200\n",
      "38/40 [===========================>..] - ETA: 0s - loss: 2.2432 - accuracy: 0.4156\n",
      "Epoch 42: val_accuracy did not improve from 0.26430\n",
      "40/40 [==============================] - 1s 15ms/step - loss: 2.2429 - accuracy: 0.4155 - val_loss: 3.1145 - val_accuracy: 0.2630 - lr: 0.0010\n",
      "Epoch 43/200\n",
      "36/40 [==========================>...] - ETA: 0s - loss: 2.2409 - accuracy: 0.4150\n",
      "Epoch 43: ReduceLROnPlateau reducing learning rate to 0.0005000000237487257.\n",
      "\n",
      "Epoch 43: val_accuracy did not improve from 0.26430\n",
      "40/40 [==============================] - 1s 15ms/step - loss: 2.2441 - accuracy: 0.4142 - val_loss: 3.1454 - val_accuracy: 0.2540 - lr: 0.0010\n",
      "Epoch 44/200\n",
      "37/40 [==========================>...] - ETA: 0s - loss: 2.1568 - accuracy: 0.4373\n",
      "Epoch 44: val_accuracy improved from 0.26430 to 0.27130, saving model to best_weights.hfd5\n",
      "40/40 [==============================] - 1s 17ms/step - loss: 2.1539 - accuracy: 0.4375 - val_loss: 3.0767 - val_accuracy: 0.2713 - lr: 5.0000e-04\n",
      "Epoch 45/200\n",
      "36/40 [==========================>...] - ETA: 0s - loss: 2.1012 - accuracy: 0.4509\n",
      "Epoch 45: val_accuracy improved from 0.27130 to 0.27350, saving model to best_weights.hfd5\n",
      "40/40 [==============================] - 1s 16ms/step - loss: 2.1030 - accuracy: 0.4514 - val_loss: 3.0679 - val_accuracy: 0.2735 - lr: 5.0000e-04\n",
      "Epoch 46/200\n",
      "39/40 [============================>.] - ETA: 0s - loss: 2.0824 - accuracy: 0.4538\n",
      "Epoch 46: val_accuracy improved from 0.27350 to 0.27370, saving model to best_weights.hfd5\n",
      "40/40 [==============================] - 1s 17ms/step - loss: 2.0827 - accuracy: 0.4536 - val_loss: 3.0832 - val_accuracy: 0.2737 - lr: 5.0000e-04\n",
      "Epoch 47/200\n",
      "35/40 [=========================>....] - ETA: 0s - loss: 2.0668 - accuracy: 0.4586\n",
      "Epoch 47: val_accuracy did not improve from 0.27370\n",
      "40/40 [==============================] - 1s 14ms/step - loss: 2.0664 - accuracy: 0.4585 - val_loss: 3.0702 - val_accuracy: 0.2724 - lr: 5.0000e-04\n",
      "Epoch 48/200\n",
      "38/40 [===========================>..] - ETA: 0s - loss: 2.0464 - accuracy: 0.4648\n",
      "Epoch 48: val_accuracy improved from 0.27370 to 0.27790, saving model to best_weights.hfd5\n",
      "40/40 [==============================] - 1s 16ms/step - loss: 2.0479 - accuracy: 0.4650 - val_loss: 3.0640 - val_accuracy: 0.2779 - lr: 5.0000e-04\n",
      "Epoch 49/200\n",
      "36/40 [==========================>...] - ETA: 0s - loss: 2.0323 - accuracy: 0.4674\n",
      "Epoch 49: val_accuracy did not improve from 0.27790\n",
      "40/40 [==============================] - 1s 14ms/step - loss: 2.0350 - accuracy: 0.4669 - val_loss: 3.0787 - val_accuracy: 0.2695 - lr: 5.0000e-04\n",
      "Epoch 50/200\n",
      "38/40 [===========================>..] - ETA: 0s - loss: 2.0244 - accuracy: 0.4679\n",
      "Epoch 50: val_accuracy did not improve from 0.27790\n",
      "40/40 [==============================] - 1s 13ms/step - loss: 2.0238 - accuracy: 0.4682 - val_loss: 3.0890 - val_accuracy: 0.2706 - lr: 5.0000e-04\n",
      "Epoch 51/200\n",
      "36/40 [==========================>...] - ETA: 0s - loss: 1.9991 - accuracy: 0.4753\n",
      "Epoch 51: val_accuracy did not improve from 0.27790\n",
      "40/40 [==============================] - 1s 17ms/step - loss: 2.0005 - accuracy: 0.4743 - val_loss: 3.0936 - val_accuracy: 0.2771 - lr: 5.0000e-04\n",
      "Epoch 52/200\n",
      "37/40 [==========================>...] - ETA: 0s - loss: 1.9948 - accuracy: 0.4759\n",
      "Epoch 52: val_accuracy did not improve from 0.27790\n",
      "40/40 [==============================] - 1s 13ms/step - loss: 1.9920 - accuracy: 0.4767 - val_loss: 3.1045 - val_accuracy: 0.2736 - lr: 5.0000e-04\n",
      "Epoch 53/200\n",
      "37/40 [==========================>...] - ETA: 0s - loss: 1.9787 - accuracy: 0.4774\n",
      "Epoch 53: ReduceLROnPlateau reducing learning rate to 0.0002500000118743628.\n",
      "\n",
      "Epoch 53: val_accuracy did not improve from 0.27790\n",
      "40/40 [==============================] - 1s 13ms/step - loss: 1.9779 - accuracy: 0.4782 - val_loss: 3.0923 - val_accuracy: 0.2741 - lr: 5.0000e-04\n",
      "Epoch 54/200\n",
      "37/40 [==========================>...] - ETA: 0s - loss: 1.9196 - accuracy: 0.4947\n",
      "Epoch 54: val_accuracy improved from 0.27790 to 0.28120, saving model to best_weights.hfd5\n",
      "40/40 [==============================] - 1s 18ms/step - loss: 1.9195 - accuracy: 0.4939 - val_loss: 3.0811 - val_accuracy: 0.2812 - lr: 2.5000e-04\n",
      "Epoch 55/200\n",
      "36/40 [==========================>...] - ETA: 0s - loss: 1.9018 - accuracy: 0.4991\n",
      "Epoch 55: val_accuracy did not improve from 0.28120\n",
      "40/40 [==============================] - 1s 13ms/step - loss: 1.9023 - accuracy: 0.4990 - val_loss: 3.0756 - val_accuracy: 0.2799 - lr: 2.5000e-04\n",
      "Epoch 56/200\n",
      "37/40 [==========================>...] - ETA: 0s - loss: 1.8879 - accuracy: 0.5012\n",
      "Epoch 56: val_accuracy did not improve from 0.28120\n",
      "40/40 [==============================] - 1s 13ms/step - loss: 1.8911 - accuracy: 0.5002 - val_loss: 3.0765 - val_accuracy: 0.2781 - lr: 2.5000e-04\n",
      "Epoch 57/200\n",
      "38/40 [===========================>..] - ETA: 0s - loss: 1.8855 - accuracy: 0.5050\n",
      "Epoch 57: val_accuracy improved from 0.28120 to 0.28200, saving model to best_weights.hfd5\n",
      "40/40 [==============================] - 1s 16ms/step - loss: 1.8852 - accuracy: 0.5049 - val_loss: 3.0774 - val_accuracy: 0.2820 - lr: 2.5000e-04\n",
      "Epoch 58/200\n",
      "36/40 [==========================>...] - ETA: 0s - loss: 1.8821 - accuracy: 0.5060\n",
      "Epoch 58: val_accuracy did not improve from 0.28200\n",
      "40/40 [==============================] - 1s 15ms/step - loss: 1.8798 - accuracy: 0.5066 - val_loss: 3.0766 - val_accuracy: 0.2810 - lr: 2.5000e-04\n",
      "Epoch 59/200\n",
      "35/40 [=========================>....] - ETA: 0s - loss: 1.8708 - accuracy: 0.5063\n",
      "Epoch 59: val_accuracy did not improve from 0.28200\n",
      "40/40 [==============================] - 1s 15ms/step - loss: 1.8688 - accuracy: 0.5064 - val_loss: 3.0842 - val_accuracy: 0.2761 - lr: 2.5000e-04\n",
      "Epoch 60/200\n",
      "39/40 [============================>.] - ETA: 0s - loss: 1.8605 - accuracy: 0.5081\n",
      "Epoch 60: val_accuracy did not improve from 0.28200\n",
      "40/40 [==============================] - 1s 15ms/step - loss: 1.8604 - accuracy: 0.5082 - val_loss: 3.0913 - val_accuracy: 0.2789 - lr: 2.5000e-04\n",
      "Epoch 61/200\n",
      "36/40 [==========================>...] - ETA: 0s - loss: 1.8454 - accuracy: 0.5130\n",
      "Epoch 61: val_accuracy did not improve from 0.28200\n",
      "40/40 [==============================] - 1s 15ms/step - loss: 1.8450 - accuracy: 0.5129 - val_loss: 3.0809 - val_accuracy: 0.2808 - lr: 2.5000e-04\n",
      "Epoch 62/200\n",
      "36/40 [==========================>...] - ETA: 0s - loss: 1.8398 - accuracy: 0.5174\n",
      "Epoch 62: ReduceLROnPlateau reducing learning rate to 0.0001250000059371814.\n",
      "\n",
      "Epoch 62: val_accuracy did not improve from 0.28200\n",
      "40/40 [==============================] - 1s 14ms/step - loss: 1.8422 - accuracy: 0.5161 - val_loss: 3.0852 - val_accuracy: 0.2782 - lr: 2.5000e-04\n",
      "Epoch 63/200\n",
      "36/40 [==========================>...] - ETA: 0s - loss: 1.8128 - accuracy: 0.5202\n",
      "Epoch 63: val_accuracy did not improve from 0.28200\n",
      "40/40 [==============================] - 1s 15ms/step - loss: 1.8160 - accuracy: 0.5192 - val_loss: 3.0776 - val_accuracy: 0.2819 - lr: 1.2500e-04\n",
      "Epoch 64/200\n",
      "37/40 [==========================>...] - ETA: 0s - loss: 1.8039 - accuracy: 0.5220\n",
      "Epoch 64: val_accuracy did not improve from 0.28200\n",
      "40/40 [==============================] - 1s 14ms/step - loss: 1.8024 - accuracy: 0.5220 - val_loss: 3.0832 - val_accuracy: 0.2813 - lr: 1.2500e-04\n",
      "Epoch 65/200\n",
      "37/40 [==========================>...] - ETA: 0s - loss: 1.7964 - accuracy: 0.5261\n",
      "Epoch 65: val_accuracy improved from 0.28200 to 0.28360, saving model to best_weights.hfd5\n",
      "40/40 [==============================] - 1s 23ms/step - loss: 1.7996 - accuracy: 0.5253 - val_loss: 3.0815 - val_accuracy: 0.2836 - lr: 1.2500e-04\n",
      "Epoch 66/200\n",
      "39/40 [============================>.] - ETA: 0s - loss: 1.8023 - accuracy: 0.5233\n",
      "Epoch 66: val_accuracy did not improve from 0.28360\n",
      "40/40 [==============================] - 1s 20ms/step - loss: 1.8020 - accuracy: 0.5235 - val_loss: 3.0875 - val_accuracy: 0.2820 - lr: 1.2500e-04\n",
      "Epoch 67/200\n",
      "36/40 [==========================>...] - ETA: 0s - loss: 1.7853 - accuracy: 0.5296\n",
      "Epoch 67: val_accuracy did not improve from 0.28360\n",
      "40/40 [==============================] - 1s 15ms/step - loss: 1.7880 - accuracy: 0.5293 - val_loss: 3.0880 - val_accuracy: 0.2796 - lr: 1.2500e-04\n",
      "Epoch 68/200\n",
      "35/40 [=========================>....] - ETA: 0s - loss: 1.7926 - accuracy: 0.5252\n",
      "Epoch 68: val_accuracy did not improve from 0.28360\n",
      "40/40 [==============================] - 0s 12ms/step - loss: 1.7911 - accuracy: 0.5262 - val_loss: 3.0859 - val_accuracy: 0.2818 - lr: 1.2500e-04\n",
      "Epoch 69/200\n",
      "35/40 [=========================>....] - ETA: 0s - loss: 1.7788 - accuracy: 0.5300\n",
      "Epoch 69: val_accuracy did not improve from 0.28360\n",
      "40/40 [==============================] - 0s 12ms/step - loss: 1.7808 - accuracy: 0.5286 - val_loss: 3.0904 - val_accuracy: 0.2824 - lr: 1.2500e-04\n",
      "Epoch 70/200\n",
      "38/40 [===========================>..] - ETA: 0s - loss: 1.7738 - accuracy: 0.5289\n",
      "Epoch 70: ReduceLROnPlateau reducing learning rate to 6.25000029685907e-05.\n",
      "\n",
      "Epoch 70: val_accuracy did not improve from 0.28360\n",
      "40/40 [==============================] - 1s 13ms/step - loss: 1.7736 - accuracy: 0.5293 - val_loss: 3.0917 - val_accuracy: 0.2822 - lr: 1.2500e-04\n",
      "Epoch 71/200\n",
      "36/40 [==========================>...] - ETA: 0s - loss: 1.7655 - accuracy: 0.5337\n",
      "Epoch 71: val_accuracy did not improve from 0.28360\n",
      "40/40 [==============================] - 1s 13ms/step - loss: 1.7626 - accuracy: 0.5349 - val_loss: 3.0876 - val_accuracy: 0.2816 - lr: 6.2500e-05\n",
      "Epoch 72/200\n",
      "36/40 [==========================>...] - ETA: 0s - loss: 1.7633 - accuracy: 0.5339\n",
      "Epoch 72: val_accuracy did not improve from 0.28360\n",
      "40/40 [==============================] - 1s 15ms/step - loss: 1.7633 - accuracy: 0.5344 - val_loss: 3.0891 - val_accuracy: 0.2804 - lr: 6.2500e-05\n",
      "Epoch 73/200\n",
      "36/40 [==========================>...] - ETA: 0s - loss: 1.7595 - accuracy: 0.5351\n",
      "Epoch 73: val_accuracy did not improve from 0.28360\n",
      "40/40 [==============================] - 1s 15ms/step - loss: 1.7592 - accuracy: 0.5347 - val_loss: 3.0891 - val_accuracy: 0.2821 - lr: 6.2500e-05\n",
      "Epoch 74/200\n",
      "37/40 [==========================>...] - ETA: 0s - loss: 1.7505 - accuracy: 0.5393\n",
      "Epoch 74: val_accuracy did not improve from 0.28360\n",
      "40/40 [==============================] - 1s 13ms/step - loss: 1.7519 - accuracy: 0.5380 - val_loss: 3.0906 - val_accuracy: 0.2816 - lr: 6.2500e-05\n",
      "Epoch 75/200\n",
      "36/40 [==========================>...] - ETA: 0s - loss: 1.7534 - accuracy: 0.5352\n",
      "Epoch 75: ReduceLROnPlateau reducing learning rate to 3.125000148429535e-05.\n",
      "\n",
      "Epoch 75: val_accuracy did not improve from 0.28360\n",
      "40/40 [==============================] - 1s 15ms/step - loss: 1.7523 - accuracy: 0.5357 - val_loss: 3.0926 - val_accuracy: 0.2801 - lr: 6.2500e-05\n",
      "Epoch 76/200\n",
      "37/40 [==========================>...] - ETA: 0s - loss: 1.7492 - accuracy: 0.5386\n",
      "Epoch 76: val_accuracy did not improve from 0.28360\n",
      "40/40 [==============================] - 1s 14ms/step - loss: 1.7498 - accuracy: 0.5383 - val_loss: 3.0917 - val_accuracy: 0.2809 - lr: 3.1250e-05\n",
      "Epoch 77/200\n",
      "37/40 [==========================>...] - ETA: 0s - loss: 1.7425 - accuracy: 0.5383\n",
      "Epoch 77: val_accuracy did not improve from 0.28360\n",
      "40/40 [==============================] - 1s 13ms/step - loss: 1.7455 - accuracy: 0.5381 - val_loss: 3.0887 - val_accuracy: 0.2821 - lr: 3.1250e-05\n",
      "Epoch 78/200\n",
      "37/40 [==========================>...] - ETA: 0s - loss: 1.7417 - accuracy: 0.5390\n",
      "Epoch 78: val_accuracy did not improve from 0.28360\n",
      "40/40 [==============================] - 1s 15ms/step - loss: 1.7420 - accuracy: 0.5390 - val_loss: 3.0895 - val_accuracy: 0.2816 - lr: 3.1250e-05\n",
      "Epoch 79/200\n",
      "37/40 [==========================>...] - ETA: 0s - loss: 1.7443 - accuracy: 0.5389\n",
      "Epoch 79: val_accuracy did not improve from 0.28360\n",
      "40/40 [==============================] - 1s 13ms/step - loss: 1.7452 - accuracy: 0.5390 - val_loss: 3.0919 - val_accuracy: 0.2811 - lr: 3.1250e-05\n",
      "Epoch 80/200\n",
      "38/40 [===========================>..] - ETA: 0s - loss: 1.7408 - accuracy: 0.5427\n",
      "Epoch 80: ReduceLROnPlateau reducing learning rate to 1.5625000742147677e-05.\n",
      "Restoring model weights from the end of the best epoch: 65.\n",
      "\n",
      "Epoch 80: val_accuracy did not improve from 0.28360\n",
      "40/40 [==============================] - 1s 15ms/step - loss: 1.7396 - accuracy: 0.5429 - val_loss: 3.0909 - val_accuracy: 0.2830 - lr: 3.1250e-05\n",
      "Epoch 80: early stopping\n"
     ]
    }
   ],
   "source": [
    "history = model.fit(\n",
    "    x = x_train, \n",
    "    y = y_train_fine, \n",
    "    batch_size=1024, \n",
    "    epochs=200, \n",
    "    validation_split = 0.2, \n",
    "    callbacks= [\n",
    "        rlrop,\n",
    "        es,\n",
    "        mc,\n",
    "        tb,\n",
    "    ]\n",
    ")"
   ]
  },
  {
   "cell_type": "markdown",
   "id": "79c5c541",
   "metadata": {
    "papermill": {
     "duration": 0.044087,
     "end_time": "2023-10-09T20:28:07.469057",
     "exception": false,
     "start_time": "2023-10-09T20:28:07.424970",
     "status": "completed"
    },
    "tags": []
   },
   "source": [
    "## Results\n",
    "\n",
    "Se probaron diferentes modelos y el mejor resultado se muestra a continuación."
   ]
  },
  {
   "cell_type": "code",
   "execution_count": 18,
   "id": "5972a0fe",
   "metadata": {
    "execution": {
     "iopub.execute_input": "2023-10-09T20:28:07.557029Z",
     "iopub.status.busy": "2023-10-09T20:28:07.556629Z",
     "iopub.status.idle": "2023-10-09T20:28:07.562678Z",
     "shell.execute_reply": "2023-10-09T20:28:07.561475Z"
    },
    "papermill": {
     "duration": 0.052454,
     "end_time": "2023-10-09T20:28:07.564422",
     "exception": false,
     "start_time": "2023-10-09T20:28:07.511968",
     "status": "completed"
    },
    "tags": []
   },
   "outputs": [
    {
     "name": "stdout",
     "output_type": "stream",
     "text": [
      "Last Validation Accuracy: 28.30 %\n",
      "Last Accuracy: 54.29 %\n"
     ]
    }
   ],
   "source": [
    "last_valacc = history.history['val_accuracy'][-1]*100\n",
    "print(\"Last Validation Accuracy:\" , format(last_valacc, \".2f\"), \"%\")\n",
    "last_acc = history.history['accuracy'][-1]*100\n",
    "print(\"Last Accuracy:\" , format(last_acc, \".2f\"), \"%\")"
   ]
  },
  {
   "cell_type": "code",
   "execution_count": 19,
   "id": "260f2522",
   "metadata": {
    "execution": {
     "iopub.execute_input": "2023-10-09T20:28:07.653054Z",
     "iopub.status.busy": "2023-10-09T20:28:07.652773Z",
     "iopub.status.idle": "2023-10-09T20:28:35.689749Z",
     "shell.execute_reply": "2023-10-09T20:28:35.688899Z"
    },
    "papermill": {
     "duration": 28.08347,
     "end_time": "2023-10-09T20:28:35.691532",
     "exception": false,
     "start_time": "2023-10-09T20:28:07.608062",
     "status": "completed"
    },
    "tags": []
   },
   "outputs": [
    {
     "data": {
      "text/plain": [
       "<matplotlib.legend.Legend at 0x7988706d7ee0>"
      ]
     },
     "execution_count": 19,
     "metadata": {},
     "output_type": "execute_result"
    },
    {
     "data": {
      "image/png": "[encoded data removed]",
      "text/plain": [
       "<Figure size 640x480 with 1 Axes>"
      ]
     },
     "metadata": {},
     "output_type": "display_data"
    }
   ],
   "source": [
    "plt.plot(history.history[\"accuracy\"], label='Train')\n",
    "plt.plot(history.history[\"val_accuracy\"], label='Validation')\n",
    "plt.title(\"Accuracy\")\n",
    "plt.legend()"
   ]
  },
  {
   "cell_type": "code",
   "execution_count": 20,
   "id": "f65d45b1",
   "metadata": {
    "execution": {
     "iopub.execute_input": "2023-10-09T20:28:35.782047Z",
     "iopub.status.busy": "2023-10-09T20:28:35.781489Z",
     "iopub.status.idle": "2023-10-09T20:28:36.066547Z",
     "shell.execute_reply": "2023-10-09T20:28:36.065679Z"
    },
    "papermill": {
     "duration": 0.33186,
     "end_time": "2023-10-09T20:28:36.068490",
     "exception": false,
     "start_time": "2023-10-09T20:28:35.736630",
     "status": "completed"
    },
    "tags": []
   },
   "outputs": [
    {
     "data": {
      "text/plain": [
       "<matplotlib.legend.Legend at 0x7987f0284df0>"
      ]
     },
     "execution_count": 20,
     "metadata": {},
     "output_type": "execute_result"
    },
    {
     "data": {
      "image/png": "[encoded data removed]",
      "text/plain": [
       "<Figure size 640x480 with 1 Axes>"
      ]
     },
     "metadata": {},
     "output_type": "display_data"
    }
   ],
   "source": [
    "plt.plot(history.history[\"loss\"], label='Train')\n",
    "plt.plot(history.history[\"val_loss\"], label='Validation')\n",
    "plt.title(\"Loss\")\n",
    "plt.legend()"
   ]
  },
  {
   "cell_type": "markdown",
   "id": "3cfa15c1",
   "metadata": {
    "papermill": {
     "duration": 0.045133,
     "end_time": "2023-10-09T20:28:36.159933",
     "exception": false,
     "start_time": "2023-10-09T20:28:36.114800",
     "status": "completed"
    },
    "tags": []
   },
   "source": [
    "## Submissions generator\n",
    "\n"
   ]
  },
  {
   "cell_type": "code",
   "execution_count": 21,
   "id": "4a472ddb",
   "metadata": {
    "execution": {
     "iopub.execute_input": "2023-10-09T20:28:36.253836Z",
     "iopub.status.busy": "2023-10-09T20:28:36.253491Z",
     "iopub.status.idle": "2023-10-09T20:28:37.934114Z",
     "shell.execute_reply": "2023-10-09T20:28:37.932913Z"
    },
    "papermill": {
     "duration": 1.729108,
     "end_time": "2023-10-09T20:28:37.936342",
     "exception": false,
     "start_time": "2023-10-09T20:28:36.207234",
     "status": "completed"
    },
    "tags": []
   },
   "outputs": [
    {
     "name": "stdout",
     "output_type": "stream",
     "text": [
      "313/313 [==============================] - 1s 2ms/step\n"
     ]
    }
   ],
   "source": [
    "predictions = model.predict(x_test).argmax(axis=1)"
   ]
  },
  {
   "cell_type": "code",
   "execution_count": 22,
   "id": "4bd01b34",
   "metadata": {
    "execution": {
     "iopub.execute_input": "2023-10-09T20:28:38.035314Z",
     "iopub.status.busy": "2023-10-09T20:28:38.034990Z",
     "iopub.status.idle": "2023-10-09T20:28:38.055435Z",
     "shell.execute_reply": "2023-10-09T20:28:38.054582Z"
    },
    "papermill": {
     "duration": 0.072693,
     "end_time": "2023-10-09T20:28:38.057354",
     "exception": false,
     "start_time": "2023-10-09T20:28:37.984661",
     "status": "completed"
    },
    "tags": []
   },
   "outputs": [],
   "source": [
    "df = pd.DataFrame(predictions, columns=[\"Label\"])\n",
    "df.index.name = \"Id\"\n",
    "df.to_csv(\"submission.csv\")"
   ]
  }
 ],
 "metadata": {
  "kernelspec": {
   "display_name": "Python 3",
   "language": "python",
   "name": "python3"
  },
  "language_info": {
   "codemirror_mode": {
    "name": "ipython",
    "version": 3
   },
   "file_extension": ".py",
   "mimetype": "text/x-python",
   "name": "python",
   "nbconvert_exporter": "python",
   "pygments_lexer": "ipython3",
   "version": "3.10.12"
  },
  "papermill": {
   "default_parameters": {},
   "duration": 109.393334,
   "end_time": "2023-10-09T20:28:41.792585",
   "environment_variables": {},
   "exception": null,
   "input_path": "__notebook__.ipynb",
   "output_path": "__notebook__.ipynb",
   "parameters": {},
   "start_time": "2023-10-09T20:26:52.399251",
   "version": "2.4.0"
  }
 },
 "nbformat": 4,
 "nbformat_minor": 5
}
