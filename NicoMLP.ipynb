{
 "cells": [
  {
   "cell_type": "markdown",
   "id": "f4e43ca1",
   "metadata": {
    "papermill": {
     "duration": 0.01014,
     "end_time": "2023-11-01T00:23:59.959999",
     "exception": false,
     "start_time": "2023-11-01T00:23:59.949859",
     "status": "completed"
    },
    "tags": []
   },
   "source": [
    "# TP1 - Redes Neuronales (22.45)\n",
    "\n",
    "En este trabajo páctico se busca armar una red neuronal capaz de obtener el mayor acuracy para lograr la mejor posición en la competencia de Kaggle. Se utiliza el dataset \"cifar-100\" y todos los conocimientos vistos en clase para la realización de la red capaz de identificar las fotos dentro del dataset.\n",
    "\n",
    "*Autor: Nicolás Bustelo - 61431*"
   ]
  },
  {
   "cell_type": "code",
   "execution_count": 1,
   "id": "ba6acd3f",
   "metadata": {
    "_cell_guid": "b1076dfc-b9ad-4769-8c92-a6c4dae69d19",
    "_uuid": "8f2839f25d086af736a60e9eeb907d3b93b6e0e5",
    "execution": {
     "iopub.execute_input": "2023-11-01T00:23:59.980810Z",
     "iopub.status.busy": "2023-11-01T00:23:59.980447Z",
     "iopub.status.idle": "2023-11-01T00:24:08.821877Z",
     "shell.execute_reply": "2023-11-01T00:24:08.820748Z"
    },
    "papermill": {
     "duration": 8.854265,
     "end_time": "2023-11-01T00:24:08.824129",
     "exception": false,
     "start_time": "2023-11-01T00:23:59.969864",
     "status": "completed"
    },
    "tags": []
   },
   "outputs": [
    {
     "name": "stderr",
     "output_type": "stream",
     "text": [
      "/opt/conda/lib/python3.10/site-packages/scipy/__init__.py:146: UserWarning: A NumPy version >=1.16.5 and <1.23.0 is required for this version of SciPy (detected version 1.23.5\n",
      "  warnings.warn(f\"A NumPy version >={np_minversion} and <{np_maxversion}\"\n"
     ]
    },
    {
     "name": "stdout",
     "output_type": "stream",
     "text": [
      "/kaggle/input/itba-rn-2245-cifar-100-2023q2/y_train_fine.npy\n",
      "/kaggle/input/itba-rn-2245-cifar-100-2023q2/y_train_coarse.npy\n",
      "/kaggle/input/itba-rn-2245-cifar-100-2023q2/fine_label_names.pck\n",
      "/kaggle/input/itba-rn-2245-cifar-100-2023q2/coarse_label_names.pck\n",
      "/kaggle/input/itba-rn-2245-cifar-100-2023q2/x_test.npy\n",
      "/kaggle/input/itba-rn-2245-cifar-100-2023q2/x_train.npy\n"
     ]
    }
   ],
   "source": [
    "# This Python 3 environment comes with many helpful analytics libraries installed\n",
    "# It is defined by the kaggle/python Docker image: https://github.com/kaggle/docker-python\n",
    "# For example, here's several helpful packages to load\n",
    "\n",
    "import numpy as np # linear algebra\n",
    "import pandas as pd # data processing, CSV file I/O (e.g. pd.read_csv)\n",
    "from tensorflow.keras.utils import plot_model\n",
    "\n",
    "# Input data files are available in the read-only \"../input/\" directory\n",
    "# For example, running this (by clicking run or pressing Shift+Enter) will list all files under the input directory\n",
    "\n",
    "import os\n",
    "for dirname, _, filenames in os.walk('/kaggle/input'):\n",
    "    for filename in filenames:\n",
    "        print(os.path.join(dirname, filename))\n",
    "\n",
    "# You can write up to 20GB to the current directory (/kaggle/working/) that gets preserved as output when you create a version using \"Save & Run All\" \n",
    "# You can also write temporary files to /kaggle/temp/, but they won't be saved outside of the current session"
   ]
  },
  {
   "cell_type": "markdown",
   "id": "11cad4f7",
   "metadata": {
    "papermill": {
     "duration": 0.010118,
     "end_time": "2023-11-01T00:24:08.844812",
     "exception": false,
     "start_time": "2023-11-01T00:24:08.834694",
     "status": "completed"
    },
    "tags": []
   },
   "source": [
    "## Dataset load"
   ]
  },
  {
   "cell_type": "code",
   "execution_count": 2,
   "id": "306a818f",
   "metadata": {
    "execution": {
     "iopub.execute_input": "2023-11-01T00:24:08.866353Z",
     "iopub.status.busy": "2023-11-01T00:24:08.865294Z",
     "iopub.status.idle": "2023-11-01T00:24:11.934340Z",
     "shell.execute_reply": "2023-11-01T00:24:11.933112Z"
    },
    "papermill": {
     "duration": 3.082762,
     "end_time": "2023-11-01T00:24:11.937245",
     "exception": false,
     "start_time": "2023-11-01T00:24:08.854483",
     "status": "completed"
    },
    "tags": []
   },
   "outputs": [],
   "source": [
    "x_train = np.load(\"/kaggle/input/itba-rn-2245-cifar-100-2023q2/x_train.npy\")/255.\n",
    "x_test = np.load(\"/kaggle/input/itba-rn-2245-cifar-100-2023q2/x_test.npy\")/255.\n",
    "y_train_coarse = np.load(\"/kaggle/input/itba-rn-2245-cifar-100-2023q2/y_train_coarse.npy\")\n",
    "y_train_fine = np.load(\"/kaggle/input/itba-rn-2245-cifar-100-2023q2/y_train_fine.npy\")"
   ]
  },
  {
   "cell_type": "code",
   "execution_count": 3,
   "id": "3400489c",
   "metadata": {
    "execution": {
     "iopub.execute_input": "2023-11-01T00:24:11.958784Z",
     "iopub.status.busy": "2023-11-01T00:24:11.958112Z",
     "iopub.status.idle": "2023-11-01T00:24:11.967867Z",
     "shell.execute_reply": "2023-11-01T00:24:11.966962Z"
    },
    "papermill": {
     "duration": 0.022346,
     "end_time": "2023-11-01T00:24:11.969789",
     "exception": false,
     "start_time": "2023-11-01T00:24:11.947443",
     "status": "completed"
    },
    "tags": []
   },
   "outputs": [],
   "source": [
    "import pickle\n",
    "with open(\"/kaggle/input/itba-rn-2245-cifar-100-2023q2/fine_label_names.pck\", \"rb\") as f:\n",
    "    labels_fine = pickle.load(f)\n",
    "with open(\"/kaggle/input/itba-rn-2245-cifar-100-2023q2/coarse_label_names.pck\", \"rb\") as f:\n",
    "    labels_coarse = pickle.load(f)"
   ]
  },
  {
   "cell_type": "code",
   "execution_count": 4,
   "id": "edf3721c",
   "metadata": {
    "execution": {
     "iopub.execute_input": "2023-11-01T00:24:11.990197Z",
     "iopub.status.busy": "2023-11-01T00:24:11.989925Z",
     "iopub.status.idle": "2023-11-01T00:24:11.995494Z",
     "shell.execute_reply": "2023-11-01T00:24:11.994706Z"
    },
    "papermill": {
     "duration": 0.018191,
     "end_time": "2023-11-01T00:24:11.997681",
     "exception": false,
     "start_time": "2023-11-01T00:24:11.979490",
     "status": "completed"
    },
    "tags": []
   },
   "outputs": [],
   "source": [
    "from matplotlib import pyplot as plt"
   ]
  },
  {
   "cell_type": "markdown",
   "id": "0899c3b4",
   "metadata": {
    "papermill": {
     "duration": 0.009275,
     "end_time": "2023-11-01T00:24:12.016805",
     "exception": false,
     "start_time": "2023-11-01T00:24:12.007530",
     "status": "completed"
    },
    "tags": []
   },
   "source": [
    "## Dataset sample viewing\n",
    "En esta sección se analizan los datos, su tamaño y sus caracteristicas"
   ]
  },
  {
   "cell_type": "code",
   "execution_count": 5,
   "id": "08145bdf",
   "metadata": {
    "execution": {
     "iopub.execute_input": "2023-11-01T00:24:12.037852Z",
     "iopub.status.busy": "2023-11-01T00:24:12.037511Z",
     "iopub.status.idle": "2023-11-01T00:24:12.042175Z",
     "shell.execute_reply": "2023-11-01T00:24:12.041268Z"
    },
    "papermill": {
     "duration": 0.018309,
     "end_time": "2023-11-01T00:24:12.044671",
     "exception": false,
     "start_time": "2023-11-01T00:24:12.026362",
     "status": "completed"
    },
    "tags": []
   },
   "outputs": [
    {
     "name": "stdout",
     "output_type": "stream",
     "text": [
      "Grano grueso: 20\n",
      "Grano fino: 100\n"
     ]
    }
   ],
   "source": [
    "# Tenemos que clasificar entre 100 clases\n",
    "print(\"Grano grueso:\", len(labels_coarse))\n",
    "print(\"Grano fino:\", len(labels_fine))"
   ]
  },
  {
   "cell_type": "code",
   "execution_count": 6,
   "id": "3ed7d04f",
   "metadata": {
    "execution": {
     "iopub.execute_input": "2023-11-01T00:24:12.066315Z",
     "iopub.status.busy": "2023-11-01T00:24:12.065656Z",
     "iopub.status.idle": "2023-11-01T00:24:13.351437Z",
     "shell.execute_reply": "2023-11-01T00:24:13.350413Z"
    },
    "papermill": {
     "duration": 1.299501,
     "end_time": "2023-11-01T00:24:13.354190",
     "exception": false,
     "start_time": "2023-11-01T00:24:12.054689",
     "status": "completed"
    },
    "tags": []
   },
   "outputs": [
    {
     "data": {
      "image/png": "[encoded data removed]",
      "text/plain": [
       "<Figure size 1500x800 with 20 Axes>"
      ]
     },
     "metadata": {},
     "output_type": "display_data"
    }
   ],
   "source": [
    "# Imprimimos una foto de cada grano grueso\n",
    "plt.figure(figsize=(15,8))\n",
    "for i in range(20):\n",
    "    plt.subplot(4,5,i+1)\n",
    "    plt.xticks([])\n",
    "    plt.yticks([])\n",
    "    plt.grid(False)\n",
    "    plt.imshow(x_train[y_train_coarse==i][0])\n",
    "    plt.xlabel(labels_coarse[i])\n",
    "plt.show()"
   ]
  },
  {
   "cell_type": "code",
   "execution_count": 7,
   "id": "c61ba8de",
   "metadata": {
    "execution": {
     "iopub.execute_input": "2023-11-01T00:24:13.380268Z",
     "iopub.status.busy": "2023-11-01T00:24:13.379347Z",
     "iopub.status.idle": "2023-11-01T00:24:13.679878Z",
     "shell.execute_reply": "2023-11-01T00:24:13.679017Z"
    },
    "papermill": {
     "duration": 0.315921,
     "end_time": "2023-11-01T00:24:13.681982",
     "exception": false,
     "start_time": "2023-11-01T00:24:13.366061",
     "status": "completed"
    },
    "tags": []
   },
   "outputs": [
    {
     "data": {
      "text/plain": [
       "Text(0.5, 1.0, 'large_omnivores_and_herbivores')"
      ]
     },
     "execution_count": 7,
     "metadata": {},
     "output_type": "execute_result"
    },
    {
     "data": {
      "image/png": "[encoded data removed]",
      "text/plain": [
       "<Figure size 300x300 with 1 Axes>"
      ]
     },
     "metadata": {},
     "output_type": "display_data"
    }
   ],
   "source": [
    "# Una imagen\n",
    "plt.figure(figsize=(3,3))\n",
    "plt.imshow(x_train[y_train_coarse==11][0])\n",
    "plt.xlabel(labels_fine[y_train_fine[0]])\n",
    "plt.title(labels_coarse[11])"
   ]
  },
  {
   "cell_type": "code",
   "execution_count": 8,
   "id": "88cf2768",
   "metadata": {
    "execution": {
     "iopub.execute_input": "2023-11-01T00:24:13.708294Z",
     "iopub.status.busy": "2023-11-01T00:24:13.707751Z",
     "iopub.status.idle": "2023-11-01T00:24:13.713641Z",
     "shell.execute_reply": "2023-11-01T00:24:13.712764Z"
    },
    "papermill": {
     "duration": 0.02111,
     "end_time": "2023-11-01T00:24:13.715745",
     "exception": false,
     "start_time": "2023-11-01T00:24:13.694635",
     "status": "completed"
    },
    "tags": []
   },
   "outputs": [
    {
     "name": "stdout",
     "output_type": "stream",
     "text": [
      "Grano grueso: large_omnivores_and_herbivores\n",
      "Grano fino: camel\n",
      "Grano fino: cattle\n",
      "Grano fino: chimpanzee\n",
      "Grano fino: elephant\n",
      "Grano fino: kangaroo\n"
     ]
    }
   ],
   "source": [
    "# Me fijo para la categoría anterior, cuáles son las categorías de grano fino\n",
    "coarse = 11\n",
    "print(f\"Grano grueso: {labels_coarse[coarse]}\")\n",
    "for fine in np.unique(y_train_fine[y_train_coarse == coarse]):\n",
    "    print(f\"Grano fino: {labels_fine[fine]}\")"
   ]
  },
  {
   "cell_type": "code",
   "execution_count": 9,
   "id": "d4aaa7ca",
   "metadata": {
    "execution": {
     "iopub.execute_input": "2023-11-01T00:24:13.741610Z",
     "iopub.status.busy": "2023-11-01T00:24:13.740865Z",
     "iopub.status.idle": "2023-11-01T00:24:14.206706Z",
     "shell.execute_reply": "2023-11-01T00:24:14.205770Z"
    },
    "papermill": {
     "duration": 0.481116,
     "end_time": "2023-11-01T00:24:14.208881",
     "exception": false,
     "start_time": "2023-11-01T00:24:13.727765",
     "status": "completed"
    },
    "tags": []
   },
   "outputs": [
    {
     "data": {
      "text/plain": [
       "Text(0.5, 1.0, 'Train Composition')"
      ]
     },
     "execution_count": 9,
     "metadata": {},
     "output_type": "execute_result"
    },
    {
     "data": {
      "image/png": "[encoded data removed]",
      "text/plain": [
       "<Figure size 640x480 with 1 Axes>"
      ]
     },
     "metadata": {},
     "output_type": "display_data"
    }
   ],
   "source": [
    "# Hay una misma cantidad de datos de cada clase fina, podriamos confirmar una distribución uniforme\n",
    "count=[np.count_nonzero(y_train_fine==value) for value in range(100)]\n",
    "plt.bar(range(100), count)\n",
    "plt.xlabel('Train fine classes')\n",
    "plt.title('Train Composition')"
   ]
  },
  {
   "cell_type": "markdown",
   "id": "7bf9fa20",
   "metadata": {
    "papermill": {
     "duration": 0.01252,
     "end_time": "2023-11-01T00:24:14.234746",
     "exception": false,
     "start_time": "2023-11-01T00:24:14.222226",
     "status": "completed"
    },
    "tags": []
   },
   "source": [
    "### Data convert to GreyScale: \n",
    "grayImages es el vector con todas las imagenes en escala de grises. Se probó la red con las imagenes en escala de grises y se obtuvo un peor rendimiendo que a color."
   ]
  },
  {
   "cell_type": "code",
   "execution_count": 10,
   "id": "725dc0c1",
   "metadata": {
    "execution": {
     "iopub.execute_input": "2023-11-01T00:24:14.261338Z",
     "iopub.status.busy": "2023-11-01T00:24:14.260715Z",
     "iopub.status.idle": "2023-11-01T00:24:15.457274Z",
     "shell.execute_reply": "2023-11-01T00:24:15.456245Z"
    },
    "papermill": {
     "duration": 1.213928,
     "end_time": "2023-11-01T00:24:15.461155",
     "exception": false,
     "start_time": "2023-11-01T00:24:14.247227",
     "status": "completed"
    },
    "tags": []
   },
   "outputs": [
    {
     "data": {
      "text/plain": [
       "51200000"
      ]
     },
     "execution_count": 10,
     "metadata": {},
     "output_type": "execute_result"
    },
    {
     "data": {
      "image/png": "[encoded data removed]",
      "text/plain": [
       "<Figure size 200x200 with 1 Axes>"
      ]
     },
     "metadata": {},
     "output_type": "display_data"
    }
   ],
   "source": [
    "grayImages = np.dot(x_train[...,:3], [0.2989, 0.5870, 0.1140])\n",
    "plt.figure(figsize=(2,2))\n",
    "plt.imshow(grayImages[0], cmap=plt.get_cmap('gray'), vmin=0, vmax=1)\n",
    "grayImages.size"
   ]
  },
  {
   "cell_type": "code",
   "execution_count": 11,
   "id": "483a7eba",
   "metadata": {
    "execution": {
     "iopub.execute_input": "2023-11-01T00:24:15.497137Z",
     "iopub.status.busy": "2023-11-01T00:24:15.496805Z",
     "iopub.status.idle": "2023-11-01T00:24:16.386184Z",
     "shell.execute_reply": "2023-11-01T00:24:16.385302Z"
    },
    "papermill": {
     "duration": 0.906319,
     "end_time": "2023-11-01T00:24:16.389083",
     "exception": false,
     "start_time": "2023-11-01T00:24:15.482764",
     "status": "completed"
    },
    "tags": []
   },
   "outputs": [],
   "source": [
    "from sklearn.model_selection import train_test_split"
   ]
  },
  {
   "cell_type": "code",
   "execution_count": 12,
   "id": "7585f7ea",
   "metadata": {
    "execution": {
     "iopub.execute_input": "2023-11-01T00:24:16.417564Z",
     "iopub.status.busy": "2023-11-01T00:24:16.417188Z",
     "iopub.status.idle": "2023-11-01T00:24:16.807417Z",
     "shell.execute_reply": "2023-11-01T00:24:16.806334Z"
    },
    "papermill": {
     "duration": 0.40708,
     "end_time": "2023-11-01T00:24:16.810003",
     "exception": false,
     "start_time": "2023-11-01T00:24:16.402923",
     "status": "completed"
    },
    "tags": []
   },
   "outputs": [],
   "source": [
    " x_train, x_val, y_train, y_val = train_test_split(x_train, y_train_fine, test_size=0.2, random_state=42, stratify=y_train_fine)"
   ]
  },
  {
   "cell_type": "markdown",
   "id": "aa5f2197",
   "metadata": {
    "papermill": {
     "duration": 0.012943,
     "end_time": "2023-11-01T00:24:16.835993",
     "exception": false,
     "start_time": "2023-11-01T00:24:16.823050",
     "status": "completed"
    },
    "tags": []
   },
   "source": [
    "## Data Augmentation with flip image\n",
    "\n",
    "Demostró aumentar significativamente el accuracy "
   ]
  },
  {
   "cell_type": "code",
   "execution_count": 13,
   "id": "7b0f861b",
   "metadata": {
    "execution": {
     "iopub.execute_input": "2023-11-01T00:24:16.863592Z",
     "iopub.status.busy": "2023-11-01T00:24:16.862882Z",
     "iopub.status.idle": "2023-11-01T00:24:17.847876Z",
     "shell.execute_reply": "2023-11-01T00:24:17.846740Z"
    },
    "papermill": {
     "duration": 1.001511,
     "end_time": "2023-11-01T00:24:17.850433",
     "exception": false,
     "start_time": "2023-11-01T00:24:16.848922",
     "status": "completed"
    },
    "tags": []
   },
   "outputs": [],
   "source": [
    "aux = np.flip(x_train, axis=2)\n",
    "x_train_aug2 = np.concatenate((x_train, aux))\n",
    "y_train_fine_aug2 = np.concatenate((y_train, y_train))"
   ]
  },
  {
   "cell_type": "code",
   "execution_count": 14,
   "id": "bbbac35e",
   "metadata": {
    "execution": {
     "iopub.execute_input": "2023-11-01T00:24:17.878257Z",
     "iopub.status.busy": "2023-11-01T00:24:17.877560Z",
     "iopub.status.idle": "2023-11-01T00:24:19.162061Z",
     "shell.execute_reply": "2023-11-01T00:24:19.161056Z"
    },
    "papermill": {
     "duration": 1.300821,
     "end_time": "2023-11-01T00:24:19.164572",
     "exception": false,
     "start_time": "2023-11-01T00:24:17.863751",
     "status": "completed"
    },
    "tags": []
   },
   "outputs": [],
   "source": [
    "# Se intento aumentar más los datos y no resultó en un mejor accuracy\n",
    "aux2 = np.flip(x_train_aug2, axis=1)\n",
    "x_train_aug4 = np.concatenate((x_train_aug2, aux2))\n",
    "y_train_fine_aug4 = np.concatenate((y_train_fine_aug2, y_train_fine_aug2))"
   ]
  },
  {
   "cell_type": "markdown",
   "id": "24129fa0",
   "metadata": {
    "papermill": {
     "duration": 0.012845,
     "end_time": "2023-11-01T00:24:19.190826",
     "exception": false,
     "start_time": "2023-11-01T00:24:19.177981",
     "status": "completed"
    },
    "tags": []
   },
   "source": [
    "## Model Training:"
   ]
  },
  {
   "cell_type": "code",
   "execution_count": 15,
   "id": "7fcdd531",
   "metadata": {
    "execution": {
     "iopub.execute_input": "2023-11-01T00:24:19.225121Z",
     "iopub.status.busy": "2023-11-01T00:24:19.224726Z",
     "iopub.status.idle": "2023-11-01T00:24:19.233973Z",
     "shell.execute_reply": "2023-11-01T00:24:19.233135Z"
    },
    "papermill": {
     "duration": 0.029603,
     "end_time": "2023-11-01T00:24:19.235976",
     "exception": false,
     "start_time": "2023-11-01T00:24:19.206373",
     "status": "completed"
    },
    "tags": []
   },
   "outputs": [],
   "source": [
    "# Importo las bibliotecas a utilizar\n",
    "from tensorflow.keras.models import Sequential\n",
    "from tensorflow.keras.layers import Dense, Dropout, BatchNormalization, Flatten\n",
    "from tensorflow.keras.optimizers import SGD, Adam, RMSprop\n",
    "from tensorflow.keras.regularizers import l1, l2\n",
    "from tensorflow.keras.constraints import MaxNorm\n",
    "from tensorflow.keras import initializers\n",
    "from tensorflow.keras.callbacks import ReduceLROnPlateau, EarlyStopping, ModelCheckpoint, TensorBoard"
   ]
  },
  {
   "cell_type": "markdown",
   "id": "5bd9d007",
   "metadata": {
    "papermill": {
     "duration": 0.012941,
     "end_time": "2023-11-01T00:24:19.262279",
     "exception": false,
     "start_time": "2023-11-01T00:24:19.249338",
     "status": "completed"
    },
    "tags": []
   },
   "source": [
    "**Red utilizada**\n",
    "\n",
    "Primero se utilizó una flatten de entrada. Luego como hidden layers se utilizó una combinación entre capas con activación Relu y capas con activación Sigmoide ya que eran las que mejores resultados arrojaba. \n",
    "En la capa de salida se utilizo la Softmax.\n",
    "\n",
    "Una mejora importante se dió con el uso del kernel Constraint!"
   ]
  },
  {
   "cell_type": "code",
   "execution_count": 16,
   "id": "9ff68912",
   "metadata": {
    "execution": {
     "iopub.execute_input": "2023-11-01T00:24:19.290023Z",
     "iopub.status.busy": "2023-11-01T00:24:19.289674Z",
     "iopub.status.idle": "2023-11-01T00:24:22.587804Z",
     "shell.execute_reply": "2023-11-01T00:24:22.586799Z"
    },
    "papermill": {
     "duration": 3.31474,
     "end_time": "2023-11-01T00:24:22.590218",
     "exception": false,
     "start_time": "2023-11-01T00:24:19.275478",
     "status": "completed"
    },
    "tags": []
   },
   "outputs": [],
   "source": [
    "model = Sequential()\n",
    "#model.add(Flatten(input_shape=(32,32))) #B&W IMAGES\n",
    "model.add(Flatten(input_shape=(32,32,3))) #COLOR IMAGES\n",
    "model.add(Dense(1024, activation='relu', kernel_initializer=initializers.RandomNormal(stddev=0.1), kernel_constraint=MaxNorm(5)))\n",
    "model.add(Dropout(0.1))\n",
    "model.add(Dense(512, activation='sigmoid', kernel_constraint=MaxNorm(5)))\n",
    "model.add(Dropout(0.1))\n",
    "model.add(Dense(1024, activation='relu', kernel_initializer=initializers.RandomNormal(stddev=0.1), kernel_constraint=MaxNorm(5)))\n",
    "model.add(Dropout(0.1))\n",
    "model.add(Dense(512, activation='sigmoid', kernel_constraint=MaxNorm(5)))\n",
    "model.add(Dropout(0.1))\n",
    "model.add(Dense(100, activation=\"softmax\"))\n",
    "model.compile(loss=\"sparse_categorical_crossentropy\", metrics = [\"accuracy\"], optimizer = Adam(learning_rate=0.001))"
   ]
  },
  {
   "cell_type": "code",
   "execution_count": 17,
   "id": "5d5bd621",
   "metadata": {
    "execution": {
     "iopub.execute_input": "2023-11-01T00:24:22.664816Z",
     "iopub.status.busy": "2023-11-01T00:24:22.664430Z",
     "iopub.status.idle": "2023-11-01T00:24:22.696169Z",
     "shell.execute_reply": "2023-11-01T00:24:22.695324Z"
    },
    "papermill": {
     "duration": 0.054058,
     "end_time": "2023-11-01T00:24:22.704424",
     "exception": false,
     "start_time": "2023-11-01T00:24:22.650366",
     "status": "completed"
    },
    "tags": []
   },
   "outputs": [
    {
     "name": "stdout",
     "output_type": "stream",
     "text": [
      "Model: \"sequential\"\n",
      "_________________________________________________________________\n",
      " Layer (type)                Output Shape              Param #   \n",
      "=================================================================\n",
      " flatten (Flatten)           (None, 3072)              0         \n",
      "                                                                 \n",
      " dense (Dense)               (None, 1024)              3146752   \n",
      "                                                                 \n",
      " dropout (Dropout)           (None, 1024)              0         \n",
      "                                                                 \n",
      " dense_1 (Dense)             (None, 512)               524800    \n",
      "                                                                 \n",
      " dropout_1 (Dropout)         (None, 512)               0         \n",
      "                                                                 \n",
      " dense_2 (Dense)             (None, 1024)              525312    \n",
      "                                                                 \n",
      " dropout_2 (Dropout)         (None, 1024)              0         \n",
      "                                                                 \n",
      " dense_3 (Dense)             (None, 512)               524800    \n",
      "                                                                 \n",
      " dropout_3 (Dropout)         (None, 512)               0         \n",
      "                                                                 \n",
      " dense_4 (Dense)             (None, 100)               51300     \n",
      "                                                                 \n",
      "=================================================================\n",
      "Total params: 4,772,964\n",
      "Trainable params: 4,772,964\n",
      "Non-trainable params: 0\n",
      "_________________________________________________________________\n"
     ]
    }
   ],
   "source": [
    "model.summary()"
   ]
  },
  {
   "cell_type": "code",
   "execution_count": 18,
   "id": "4eef6e05",
   "metadata": {
    "execution": {
     "iopub.execute_input": "2023-11-01T00:24:22.735066Z",
     "iopub.status.busy": "2023-11-01T00:24:22.734366Z",
     "iopub.status.idle": "2023-11-01T00:24:22.738292Z",
     "shell.execute_reply": "2023-11-01T00:24:22.737428Z"
    },
    "papermill": {
     "duration": 0.021363,
     "end_time": "2023-11-01T00:24:22.740324",
     "exception": false,
     "start_time": "2023-11-01T00:24:22.718961",
     "status": "completed"
    },
    "tags": []
   },
   "outputs": [],
   "source": [
    "# Descomentar para visualidar las capas de la red\n",
    "#plot_model(model,show_shapes=True,show_layer_names=True)"
   ]
  },
  {
   "cell_type": "markdown",
   "id": "af62319b",
   "metadata": {
    "papermill": {
     "duration": 0.014272,
     "end_time": "2023-11-01T00:24:22.769105",
     "exception": false,
     "start_time": "2023-11-01T00:24:22.754833",
     "status": "completed"
    },
    "tags": []
   },
   "source": [
    "### Callbacks:"
   ]
  },
  {
   "cell_type": "code",
   "execution_count": 19,
   "id": "af7f8b38",
   "metadata": {
    "execution": {
     "iopub.execute_input": "2023-11-01T00:24:22.799234Z",
     "iopub.status.busy": "2023-11-01T00:24:22.798973Z",
     "iopub.status.idle": "2023-11-01T00:24:22.803109Z",
     "shell.execute_reply": "2023-11-01T00:24:22.802364Z"
    },
    "papermill": {
     "duration": 0.02127,
     "end_time": "2023-11-01T00:24:22.804964",
     "exception": false,
     "start_time": "2023-11-01T00:24:22.783694",
     "status": "completed"
    },
    "tags": []
   },
   "outputs": [],
   "source": [
    "rlrop = ReduceLROnPlateau(\n",
    "    monitor = \"val_accuracy\",\n",
    "    factor = 0.5,\n",
    "    patience = 8,\n",
    "    verbose = 1,\n",
    "    min_lr = 1e-5\n",
    ")"
   ]
  },
  {
   "cell_type": "code",
   "execution_count": 20,
   "id": "7cdfd90c",
   "metadata": {
    "execution": {
     "iopub.execute_input": "2023-11-01T00:24:22.835029Z",
     "iopub.status.busy": "2023-11-01T00:24:22.834738Z",
     "iopub.status.idle": "2023-11-01T00:24:22.838943Z",
     "shell.execute_reply": "2023-11-01T00:24:22.838196Z"
    },
    "papermill": {
     "duration": 0.021231,
     "end_time": "2023-11-01T00:24:22.840712",
     "exception": false,
     "start_time": "2023-11-01T00:24:22.819481",
     "status": "completed"
    },
    "tags": []
   },
   "outputs": [],
   "source": [
    "mc = ModelCheckpoint(\n",
    "    \"best_weights.hfd5\",\n",
    "    monitor = \"val_accuracy\",\n",
    "    verbose = 1,\n",
    "    save_best_only = True,\n",
    "    save_weights_only = True,\n",
    ")"
   ]
  },
  {
   "cell_type": "code",
   "execution_count": 21,
   "id": "1699b1c7",
   "metadata": {
    "execution": {
     "iopub.execute_input": "2023-11-01T00:24:22.871612Z",
     "iopub.status.busy": "2023-11-01T00:24:22.871342Z",
     "iopub.status.idle": "2023-11-01T00:24:22.875451Z",
     "shell.execute_reply": "2023-11-01T00:24:22.874617Z"
    },
    "papermill": {
     "duration": 0.021944,
     "end_time": "2023-11-01T00:24:22.877352",
     "exception": false,
     "start_time": "2023-11-01T00:24:22.855408",
     "status": "completed"
    },
    "tags": []
   },
   "outputs": [],
   "source": [
    "es = EarlyStopping(\n",
    "    monitor = \"val_accuracy\",\n",
    "    patience = 20, \n",
    "    verbose = 1,\n",
    "    restore_best_weights = True,\n",
    ")"
   ]
  },
  {
   "cell_type": "code",
   "execution_count": 22,
   "id": "a76661b1",
   "metadata": {
    "execution": {
     "iopub.execute_input": "2023-11-01T00:24:22.908181Z",
     "iopub.status.busy": "2023-11-01T00:24:22.907923Z",
     "iopub.status.idle": "2023-11-01T00:24:22.911779Z",
     "shell.execute_reply": "2023-11-01T00:24:22.911033Z"
    },
    "papermill": {
     "duration": 0.021286,
     "end_time": "2023-11-01T00:24:22.913655",
     "exception": false,
     "start_time": "2023-11-01T00:24:22.892369",
     "status": "completed"
    },
    "tags": []
   },
   "outputs": [],
   "source": [
    "tb = TensorBoard(\n",
    "    log_dir=\"logs\",\n",
    ")"
   ]
  },
  {
   "cell_type": "markdown",
   "id": "f2364dc0",
   "metadata": {
    "papermill": {
     "duration": 0.014405,
     "end_time": "2023-11-01T00:24:22.942851",
     "exception": false,
     "start_time": "2023-11-01T00:24:22.928446",
     "status": "completed"
    },
    "tags": []
   },
   "source": [
    "### Entreno el modelo:"
   ]
  },
  {
   "cell_type": "code",
   "execution_count": 23,
   "id": "f357273c",
   "metadata": {
    "execution": {
     "iopub.execute_input": "2023-11-01T00:24:22.974805Z",
     "iopub.status.busy": "2023-11-01T00:24:22.974443Z",
     "iopub.status.idle": "2023-11-01T00:26:39.995767Z",
     "shell.execute_reply": "2023-11-01T00:26:39.994733Z"
    },
    "papermill": {
     "duration": 137.040058,
     "end_time": "2023-11-01T00:26:39.997870",
     "exception": false,
     "start_time": "2023-11-01T00:24:22.957812",
     "status": "completed"
    },
    "tags": []
   },
   "outputs": [
    {
     "name": "stdout",
     "output_type": "stream",
     "text": [
      "Epoch 1/200\n",
      "76/79 [===========================>..] - ETA: 0s - loss: 4.2362 - accuracy: 0.0574\n",
      "Epoch 1: val_accuracy improved from -inf to 0.10810, saving model to best_weights.hfd5\n",
      "79/79 [==============================] - 7s 22ms/step - loss: 4.2275 - accuracy: 0.0586 - val_loss: 3.8873 - val_accuracy: 0.1081 - lr: 0.0010\n",
      "Epoch 2/200\n",
      "76/79 [===========================>..] - ETA: 0s - loss: 3.7260 - accuracy: 0.1279\n",
      "Epoch 2: val_accuracy improved from 0.10810 to 0.15510, saving model to best_weights.hfd5\n",
      "79/79 [==============================] - 1s 15ms/step - loss: 3.7212 - accuracy: 0.1284 - val_loss: 3.5843 - val_accuracy: 0.1551 - lr: 0.0010\n",
      "Epoch 3/200\n",
      "76/79 [===========================>..] - ETA: 0s - loss: 3.5002 - accuracy: 0.1694\n",
      "Epoch 3: val_accuracy improved from 0.15510 to 0.17690, saving model to best_weights.hfd5\n",
      "79/79 [==============================] - 1s 15ms/step - loss: 3.4992 - accuracy: 0.1695 - val_loss: 3.4925 - val_accuracy: 0.1769 - lr: 0.0010\n",
      "Epoch 4/200\n",
      "75/79 [===========================>..] - ETA: 0s - loss: 3.3634 - accuracy: 0.1931\n",
      "Epoch 4: val_accuracy improved from 0.17690 to 0.18770, saving model to best_weights.hfd5\n",
      "79/79 [==============================] - 1s 15ms/step - loss: 3.3626 - accuracy: 0.1931 - val_loss: 3.4305 - val_accuracy: 0.1877 - lr: 0.0010\n",
      "Epoch 5/200\n",
      "75/79 [===========================>..] - ETA: 0s - loss: 3.2576 - accuracy: 0.2106\n",
      "Epoch 5: val_accuracy improved from 0.18770 to 0.20890, saving model to best_weights.hfd5\n",
      "79/79 [==============================] - 1s 15ms/step - loss: 3.2549 - accuracy: 0.2110 - val_loss: 3.2889 - val_accuracy: 0.2089 - lr: 0.0010\n",
      "Epoch 6/200\n",
      "76/79 [===========================>..] - ETA: 0s - loss: 3.1673 - accuracy: 0.2284\n",
      "Epoch 6: val_accuracy improved from 0.20890 to 0.21280, saving model to best_weights.hfd5\n",
      "79/79 [==============================] - 1s 15ms/step - loss: 3.1650 - accuracy: 0.2290 - val_loss: 3.2684 - val_accuracy: 0.2128 - lr: 0.0010\n",
      "Epoch 7/200\n",
      "79/79 [==============================] - ETA: 0s - loss: 3.0791 - accuracy: 0.2429\n",
      "Epoch 7: val_accuracy improved from 0.21280 to 0.21760, saving model to best_weights.hfd5\n",
      "79/79 [==============================] - 1s 15ms/step - loss: 3.0791 - accuracy: 0.2429 - val_loss: 3.2208 - val_accuracy: 0.2176 - lr: 0.0010\n",
      "Epoch 8/200\n",
      "76/79 [===========================>..] - ETA: 0s - loss: 2.9983 - accuracy: 0.2588\n",
      "Epoch 8: val_accuracy improved from 0.21760 to 0.23830, saving model to best_weights.hfd5\n",
      "79/79 [==============================] - 1s 15ms/step - loss: 2.9984 - accuracy: 0.2585 - val_loss: 3.1587 - val_accuracy: 0.2383 - lr: 0.0010\n",
      "Epoch 9/200\n",
      "76/79 [===========================>..] - ETA: 0s - loss: 2.9416 - accuracy: 0.2697\n",
      "Epoch 9: val_accuracy improved from 0.23830 to 0.24230, saving model to best_weights.hfd5\n",
      "79/79 [==============================] - 1s 15ms/step - loss: 2.9413 - accuracy: 0.2696 - val_loss: 3.1212 - val_accuracy: 0.2423 - lr: 0.0010\n",
      "Epoch 10/200\n",
      "76/79 [===========================>..] - ETA: 0s - loss: 2.8773 - accuracy: 0.2815\n",
      "Epoch 10: val_accuracy did not improve from 0.24230\n",
      "79/79 [==============================] - 1s 12ms/step - loss: 2.8788 - accuracy: 0.2814 - val_loss: 3.1581 - val_accuracy: 0.2407 - lr: 0.0010\n",
      "Epoch 11/200\n",
      "76/79 [===========================>..] - ETA: 0s - loss: 2.8219 - accuracy: 0.2918\n",
      "Epoch 11: val_accuracy improved from 0.24230 to 0.25010, saving model to best_weights.hfd5\n",
      "79/79 [==============================] - 1s 15ms/step - loss: 2.8227 - accuracy: 0.2916 - val_loss: 3.0642 - val_accuracy: 0.2501 - lr: 0.0010\n",
      "Epoch 12/200\n",
      "75/79 [===========================>..] - ETA: 0s - loss: 2.7507 - accuracy: 0.3058\n",
      "Epoch 12: val_accuracy improved from 0.25010 to 0.25110, saving model to best_weights.hfd5\n",
      "79/79 [==============================] - 1s 15ms/step - loss: 2.7513 - accuracy: 0.3056 - val_loss: 3.0782 - val_accuracy: 0.2511 - lr: 0.0010\n",
      "Epoch 13/200\n",
      "76/79 [===========================>..] - ETA: 0s - loss: 2.6938 - accuracy: 0.3156\n",
      "Epoch 13: val_accuracy improved from 0.25110 to 0.26150, saving model to best_weights.hfd5\n",
      "79/79 [==============================] - 1s 14ms/step - loss: 2.6931 - accuracy: 0.3156 - val_loss: 3.0330 - val_accuracy: 0.2615 - lr: 0.0010\n",
      "Epoch 14/200\n",
      "76/79 [===========================>..] - ETA: 0s - loss: 2.6394 - accuracy: 0.3265\n",
      "Epoch 14: val_accuracy did not improve from 0.26150\n",
      "79/79 [==============================] - 1s 12ms/step - loss: 2.6401 - accuracy: 0.3259 - val_loss: 3.0913 - val_accuracy: 0.2571 - lr: 0.0010\n",
      "Epoch 15/200\n",
      "75/79 [===========================>..] - ETA: 0s - loss: 2.5876 - accuracy: 0.3367\n",
      "Epoch 15: val_accuracy improved from 0.26150 to 0.26540, saving model to best_weights.hfd5\n",
      "79/79 [==============================] - 1s 14ms/step - loss: 2.5879 - accuracy: 0.3369 - val_loss: 3.0297 - val_accuracy: 0.2654 - lr: 0.0010\n",
      "Epoch 16/200\n",
      "76/79 [===========================>..] - ETA: 0s - loss: 2.5167 - accuracy: 0.3508\n",
      "Epoch 16: val_accuracy improved from 0.26540 to 0.26660, saving model to best_weights.hfd5\n",
      "79/79 [==============================] - 1s 15ms/step - loss: 2.5171 - accuracy: 0.3504 - val_loss: 3.0444 - val_accuracy: 0.2666 - lr: 0.0010\n",
      "Epoch 17/200\n",
      "79/79 [==============================] - ETA: 0s - loss: 2.4673 - accuracy: 0.3606\n",
      "Epoch 17: val_accuracy improved from 0.26660 to 0.27160, saving model to best_weights.hfd5\n",
      "79/79 [==============================] - 1s 15ms/step - loss: 2.4673 - accuracy: 0.3606 - val_loss: 3.0074 - val_accuracy: 0.2716 - lr: 0.0010\n",
      "Epoch 18/200\n",
      "76/79 [===========================>..] - ETA: 0s - loss: 2.4113 - accuracy: 0.3735\n",
      "Epoch 18: val_accuracy did not improve from 0.27160\n",
      "79/79 [==============================] - 1s 13ms/step - loss: 2.4120 - accuracy: 0.3733 - val_loss: 3.0595 - val_accuracy: 0.2612 - lr: 0.0010\n",
      "Epoch 19/200\n",
      "76/79 [===========================>..] - ETA: 0s - loss: 2.3588 - accuracy: 0.3838\n",
      "Epoch 19: val_accuracy improved from 0.27160 to 0.27210, saving model to best_weights.hfd5\n",
      "79/79 [==============================] - 1s 15ms/step - loss: 2.3581 - accuracy: 0.3840 - val_loss: 3.0081 - val_accuracy: 0.2721 - lr: 0.0010\n",
      "Epoch 20/200\n",
      "76/79 [===========================>..] - ETA: 0s - loss: 2.3059 - accuracy: 0.3951\n",
      "Epoch 20: val_accuracy did not improve from 0.27210\n",
      "79/79 [==============================] - 1s 13ms/step - loss: 2.3049 - accuracy: 0.3952 - val_loss: 3.0493 - val_accuracy: 0.2706 - lr: 0.0010\n",
      "Epoch 21/200\n",
      "76/79 [===========================>..] - ETA: 0s - loss: 2.2555 - accuracy: 0.4060\n",
      "Epoch 21: val_accuracy improved from 0.27210 to 0.28170, saving model to best_weights.hfd5\n",
      "79/79 [==============================] - 1s 15ms/step - loss: 2.2557 - accuracy: 0.4059 - val_loss: 3.0027 - val_accuracy: 0.2817 - lr: 0.0010\n",
      "Epoch 22/200\n",
      "76/79 [===========================>..] - ETA: 0s - loss: 2.1924 - accuracy: 0.4194\n",
      "Epoch 22: val_accuracy improved from 0.28170 to 0.28350, saving model to best_weights.hfd5\n",
      "79/79 [==============================] - 1s 15ms/step - loss: 2.1920 - accuracy: 0.4197 - val_loss: 3.0264 - val_accuracy: 0.2835 - lr: 0.0010\n",
      "Epoch 23/200\n",
      "76/79 [===========================>..] - ETA: 0s - loss: 2.1343 - accuracy: 0.4335\n",
      "Epoch 23: val_accuracy improved from 0.28350 to 0.28720, saving model to best_weights.hfd5\n",
      "79/79 [==============================] - 1s 14ms/step - loss: 2.1352 - accuracy: 0.4334 - val_loss: 3.0188 - val_accuracy: 0.2872 - lr: 0.0010\n",
      "Epoch 24/200\n",
      "76/79 [===========================>..] - ETA: 0s - loss: 2.0844 - accuracy: 0.4435\n",
      "Epoch 24: val_accuracy did not improve from 0.28720\n",
      "79/79 [==============================] - 1s 12ms/step - loss: 2.0827 - accuracy: 0.4440 - val_loss: 3.0359 - val_accuracy: 0.2819 - lr: 0.0010\n",
      "Epoch 25/200\n",
      "76/79 [===========================>..] - ETA: 0s - loss: 2.0311 - accuracy: 0.4566\n",
      "Epoch 25: val_accuracy did not improve from 0.28720\n",
      "79/79 [==============================] - 1s 13ms/step - loss: 2.0311 - accuracy: 0.4564 - val_loss: 3.0544 - val_accuracy: 0.2865 - lr: 0.0010\n",
      "Epoch 26/200\n",
      "76/79 [===========================>..] - ETA: 0s - loss: 1.9797 - accuracy: 0.4662\n",
      "Epoch 26: val_accuracy did not improve from 0.28720\n",
      "79/79 [==============================] - 1s 12ms/step - loss: 1.9790 - accuracy: 0.4664 - val_loss: 3.0852 - val_accuracy: 0.2827 - lr: 0.0010\n",
      "Epoch 27/200\n",
      "76/79 [===========================>..] - ETA: 0s - loss: 1.9328 - accuracy: 0.4802\n",
      "Epoch 27: val_accuracy improved from 0.28720 to 0.28910, saving model to best_weights.hfd5\n",
      "79/79 [==============================] - 1s 14ms/step - loss: 1.9333 - accuracy: 0.4799 - val_loss: 3.0626 - val_accuracy: 0.2891 - lr: 0.0010\n",
      "Epoch 28/200\n",
      "76/79 [===========================>..] - ETA: 0s - loss: 1.8747 - accuracy: 0.4928\n",
      "Epoch 28: val_accuracy improved from 0.28910 to 0.28940, saving model to best_weights.hfd5\n",
      "79/79 [==============================] - 1s 15ms/step - loss: 1.8729 - accuracy: 0.4930 - val_loss: 3.0859 - val_accuracy: 0.2894 - lr: 0.0010\n",
      "Epoch 29/200\n",
      "76/79 [===========================>..] - ETA: 0s - loss: 1.8262 - accuracy: 0.5024\n",
      "Epoch 29: val_accuracy did not improve from 0.28940\n",
      "79/79 [==============================] - 1s 13ms/step - loss: 1.8258 - accuracy: 0.5026 - val_loss: 3.0943 - val_accuracy: 0.2888 - lr: 0.0010\n",
      "Epoch 30/200\n",
      "79/79 [==============================] - ETA: 0s - loss: 1.7683 - accuracy: 0.5175\n",
      "Epoch 30: val_accuracy did not improve from 0.28940\n",
      "79/79 [==============================] - 1s 13ms/step - loss: 1.7683 - accuracy: 0.5175 - val_loss: 3.1310 - val_accuracy: 0.2802 - lr: 0.0010\n",
      "Epoch 31/200\n",
      "76/79 [===========================>..] - ETA: 0s - loss: 1.7186 - accuracy: 0.5292\n",
      "Epoch 31: val_accuracy did not improve from 0.28940\n",
      "79/79 [==============================] - 1s 12ms/step - loss: 1.7191 - accuracy: 0.5290 - val_loss: 3.1270 - val_accuracy: 0.2878 - lr: 0.0010\n",
      "Epoch 32/200\n",
      "76/79 [===========================>..] - ETA: 0s - loss: 1.6792 - accuracy: 0.5387\n",
      "Epoch 32: val_accuracy did not improve from 0.28940\n",
      "79/79 [==============================] - 1s 12ms/step - loss: 1.6794 - accuracy: 0.5386 - val_loss: 3.1623 - val_accuracy: 0.2862 - lr: 0.0010\n",
      "Epoch 33/200\n",
      "76/79 [===========================>..] - ETA: 0s - loss: 1.6207 - accuracy: 0.5531\n",
      "Epoch 33: val_accuracy did not improve from 0.28940\n",
      "79/79 [==============================] - 1s 13ms/step - loss: 1.6195 - accuracy: 0.5534 - val_loss: 3.1563 - val_accuracy: 0.2875 - lr: 0.0010\n",
      "Epoch 34/200\n",
      "76/79 [===========================>..] - ETA: 0s - loss: 1.5659 - accuracy: 0.5662\n",
      "Epoch 34: val_accuracy improved from 0.28940 to 0.29080, saving model to best_weights.hfd5\n",
      "79/79 [==============================] - 1s 15ms/step - loss: 1.5649 - accuracy: 0.5667 - val_loss: 3.1603 - val_accuracy: 0.2908 - lr: 0.0010\n",
      "Epoch 35/200\n",
      "76/79 [===========================>..] - ETA: 0s - loss: 1.5110 - accuracy: 0.5804\n",
      "Epoch 35: val_accuracy did not improve from 0.29080\n",
      "79/79 [==============================] - 1s 13ms/step - loss: 1.5101 - accuracy: 0.5804 - val_loss: 3.1850 - val_accuracy: 0.2899 - lr: 0.0010\n",
      "Epoch 36/200\n",
      "76/79 [===========================>..] - ETA: 0s - loss: 1.4600 - accuracy: 0.5936\n",
      "Epoch 36: val_accuracy improved from 0.29080 to 0.29130, saving model to best_weights.hfd5\n",
      "79/79 [==============================] - 1s 14ms/step - loss: 1.4599 - accuracy: 0.5938 - val_loss: 3.2001 - val_accuracy: 0.2913 - lr: 0.0010\n",
      "Epoch 37/200\n",
      "76/79 [===========================>..] - ETA: 0s - loss: 1.4233 - accuracy: 0.6030\n",
      "Epoch 37: val_accuracy did not improve from 0.29130\n",
      "79/79 [==============================] - 1s 12ms/step - loss: 1.4223 - accuracy: 0.6035 - val_loss: 3.2126 - val_accuracy: 0.2897 - lr: 0.0010\n",
      "Epoch 38/200\n",
      "76/79 [===========================>..] - ETA: 0s - loss: 1.3754 - accuracy: 0.6150\n",
      "Epoch 38: val_accuracy did not improve from 0.29130\n",
      "79/79 [==============================] - 1s 13ms/step - loss: 1.3740 - accuracy: 0.6155 - val_loss: 3.2519 - val_accuracy: 0.2886 - lr: 0.0010\n",
      "Epoch 39/200\n",
      "76/79 [===========================>..] - ETA: 0s - loss: 1.3281 - accuracy: 0.6269\n",
      "Epoch 39: val_accuracy improved from 0.29130 to 0.29340, saving model to best_weights.hfd5\n",
      "79/79 [==============================] - 1s 14ms/step - loss: 1.3294 - accuracy: 0.6265 - val_loss: 3.2899 - val_accuracy: 0.2934 - lr: 0.0010\n",
      "Epoch 40/200\n",
      "75/79 [===========================>..] - ETA: 0s - loss: 1.2934 - accuracy: 0.6349\n",
      "Epoch 40: val_accuracy improved from 0.29340 to 0.29350, saving model to best_weights.hfd5\n",
      "79/79 [==============================] - 1s 15ms/step - loss: 1.2931 - accuracy: 0.6350 - val_loss: 3.3125 - val_accuracy: 0.2935 - lr: 0.0010\n",
      "Epoch 41/200\n",
      "76/79 [===========================>..] - ETA: 0s - loss: 1.2465 - accuracy: 0.6472\n",
      "Epoch 41: val_accuracy did not improve from 0.29350\n",
      "79/79 [==============================] - 1s 12ms/step - loss: 1.2460 - accuracy: 0.6474 - val_loss: 3.3338 - val_accuracy: 0.2918 - lr: 0.0010\n",
      "Epoch 42/200\n",
      "76/79 [===========================>..] - ETA: 0s - loss: 1.2160 - accuracy: 0.6543\n",
      "Epoch 42: val_accuracy did not improve from 0.29350\n",
      "79/79 [==============================] - 1s 12ms/step - loss: 1.2163 - accuracy: 0.6543 - val_loss: 3.3451 - val_accuracy: 0.2896 - lr: 0.0010\n",
      "Epoch 43/200\n",
      "76/79 [===========================>..] - ETA: 0s - loss: 1.1800 - accuracy: 0.6646\n",
      "Epoch 43: val_accuracy did not improve from 0.29350\n",
      "79/79 [==============================] - 1s 12ms/step - loss: 1.1784 - accuracy: 0.6648 - val_loss: 3.4054 - val_accuracy: 0.2877 - lr: 0.0010\n",
      "Epoch 44/200\n",
      "76/79 [===========================>..] - ETA: 0s - loss: 1.1264 - accuracy: 0.6792\n",
      "Epoch 44: val_accuracy did not improve from 0.29350\n",
      "79/79 [==============================] - 1s 12ms/step - loss: 1.1258 - accuracy: 0.6793 - val_loss: 3.4015 - val_accuracy: 0.2902 - lr: 0.0010\n",
      "Epoch 45/200\n",
      "76/79 [===========================>..] - ETA: 0s - loss: 1.0974 - accuracy: 0.6851\n",
      "Epoch 45: val_accuracy did not improve from 0.29350\n",
      "79/79 [==============================] - 1s 12ms/step - loss: 1.0955 - accuracy: 0.6857 - val_loss: 3.4359 - val_accuracy: 0.2903 - lr: 0.0010\n",
      "Epoch 46/200\n",
      "76/79 [===========================>..] - ETA: 0s - loss: 1.0611 - accuracy: 0.6945\n",
      "Epoch 46: val_accuracy did not improve from 0.29350\n",
      "79/79 [==============================] - 1s 12ms/step - loss: 1.0610 - accuracy: 0.6944 - val_loss: 3.4608 - val_accuracy: 0.2935 - lr: 0.0010\n",
      "Epoch 47/200\n",
      "78/79 [============================>.] - ETA: 0s - loss: 1.0401 - accuracy: 0.7007\n",
      "Epoch 47: val_accuracy did not improve from 0.29350\n",
      "79/79 [==============================] - 1s 13ms/step - loss: 1.0401 - accuracy: 0.7006 - val_loss: 3.5258 - val_accuracy: 0.2878 - lr: 0.0010\n",
      "Epoch 48/200\n",
      "79/79 [==============================] - ETA: 0s - loss: 0.9966 - accuracy: 0.7134\n",
      "Epoch 48: ReduceLROnPlateau reducing learning rate to 0.0005000000237487257.\n",
      "\n",
      "Epoch 48: val_accuracy did not improve from 0.29350\n",
      "79/79 [==============================] - 1s 13ms/step - loss: 0.9966 - accuracy: 0.7134 - val_loss: 3.4918 - val_accuracy: 0.2923 - lr: 0.0010\n",
      "Epoch 49/200\n",
      "76/79 [===========================>..] - ETA: 0s - loss: 0.8658 - accuracy: 0.7545\n",
      "Epoch 49: val_accuracy improved from 0.29350 to 0.29640, saving model to best_weights.hfd5\n",
      "79/79 [==============================] - 1s 14ms/step - loss: 0.8650 - accuracy: 0.7548 - val_loss: 3.4996 - val_accuracy: 0.2964 - lr: 5.0000e-04\n",
      "Epoch 50/200\n",
      "75/79 [===========================>..] - ETA: 0s - loss: 0.8248 - accuracy: 0.7668\n",
      "Epoch 50: val_accuracy improved from 0.29640 to 0.29750, saving model to best_weights.hfd5\n",
      "79/79 [==============================] - 1s 15ms/step - loss: 0.8239 - accuracy: 0.7668 - val_loss: 3.5066 - val_accuracy: 0.2975 - lr: 5.0000e-04\n",
      "Epoch 51/200\n",
      "76/79 [===========================>..] - ETA: 0s - loss: 0.8002 - accuracy: 0.7736\n",
      "Epoch 51: val_accuracy did not improve from 0.29750\n",
      "79/79 [==============================] - 1s 13ms/step - loss: 0.8008 - accuracy: 0.7733 - val_loss: 3.5328 - val_accuracy: 0.2961 - lr: 5.0000e-04\n",
      "Epoch 52/200\n",
      "76/79 [===========================>..] - ETA: 0s - loss: 0.7838 - accuracy: 0.7796\n",
      "Epoch 52: val_accuracy did not improve from 0.29750\n",
      "79/79 [==============================] - 1s 13ms/step - loss: 0.7839 - accuracy: 0.7795 - val_loss: 3.5639 - val_accuracy: 0.2971 - lr: 5.0000e-04\n",
      "Epoch 53/200\n",
      "76/79 [===========================>..] - ETA: 0s - loss: 0.7616 - accuracy: 0.7850\n",
      "Epoch 53: val_accuracy improved from 0.29750 to 0.29840, saving model to best_weights.hfd5\n",
      "79/79 [==============================] - 1s 15ms/step - loss: 0.7632 - accuracy: 0.7844 - val_loss: 3.5677 - val_accuracy: 0.2984 - lr: 5.0000e-04\n",
      "Epoch 54/200\n",
      "76/79 [===========================>..] - ETA: 0s - loss: 0.7485 - accuracy: 0.7894\n",
      "Epoch 54: val_accuracy did not improve from 0.29840\n",
      "79/79 [==============================] - 1s 12ms/step - loss: 0.7483 - accuracy: 0.7894 - val_loss: 3.5872 - val_accuracy: 0.2974 - lr: 5.0000e-04\n",
      "Epoch 55/200\n",
      "76/79 [===========================>..] - ETA: 0s - loss: 0.7299 - accuracy: 0.7939\n",
      "Epoch 55: val_accuracy did not improve from 0.29840\n",
      "79/79 [==============================] - 1s 13ms/step - loss: 0.7305 - accuracy: 0.7936 - val_loss: 3.5962 - val_accuracy: 0.2951 - lr: 5.0000e-04\n",
      "Epoch 56/200\n",
      "76/79 [===========================>..] - ETA: 0s - loss: 0.7262 - accuracy: 0.7944\n",
      "Epoch 56: val_accuracy did not improve from 0.29840\n",
      "79/79 [==============================] - 1s 13ms/step - loss: 0.7256 - accuracy: 0.7946 - val_loss: 3.6190 - val_accuracy: 0.2978 - lr: 5.0000e-04\n",
      "Epoch 57/200\n",
      "76/79 [===========================>..] - ETA: 0s - loss: 0.7068 - accuracy: 0.7993\n",
      "Epoch 57: val_accuracy did not improve from 0.29840\n",
      "79/79 [==============================] - 1s 12ms/step - loss: 0.7061 - accuracy: 0.7993 - val_loss: 3.6489 - val_accuracy: 0.2981 - lr: 5.0000e-04\n",
      "Epoch 58/200\n",
      "76/79 [===========================>..] - ETA: 0s - loss: 0.6937 - accuracy: 0.8026\n",
      "Epoch 58: val_accuracy did not improve from 0.29840\n",
      "79/79 [==============================] - 1s 12ms/step - loss: 0.6937 - accuracy: 0.8025 - val_loss: 3.6864 - val_accuracy: 0.2984 - lr: 5.0000e-04\n",
      "Epoch 59/200\n",
      "76/79 [===========================>..] - ETA: 0s - loss: 0.6849 - accuracy: 0.8062\n",
      "Epoch 59: val_accuracy did not improve from 0.29840\n",
      "79/79 [==============================] - 1s 13ms/step - loss: 0.6854 - accuracy: 0.8061 - val_loss: 3.6874 - val_accuracy: 0.2973 - lr: 5.0000e-04\n",
      "Epoch 60/200\n",
      "76/79 [===========================>..] - ETA: 0s - loss: 0.6667 - accuracy: 0.8107\n",
      "Epoch 60: val_accuracy did not improve from 0.29840\n",
      "79/79 [==============================] - 1s 12ms/step - loss: 0.6681 - accuracy: 0.8102 - val_loss: 3.7018 - val_accuracy: 0.2954 - lr: 5.0000e-04\n",
      "Epoch 61/200\n",
      "76/79 [===========================>..] - ETA: 0s - loss: 0.6539 - accuracy: 0.8130\n",
      "Epoch 61: val_accuracy improved from 0.29840 to 0.29880, saving model to best_weights.hfd5\n",
      "79/79 [==============================] - 1s 14ms/step - loss: 0.6541 - accuracy: 0.8130 - val_loss: 3.7252 - val_accuracy: 0.2988 - lr: 5.0000e-04\n",
      "Epoch 62/200\n",
      "76/79 [===========================>..] - ETA: 0s - loss: 0.6426 - accuracy: 0.8173\n",
      "Epoch 62: val_accuracy did not improve from 0.29880\n",
      "79/79 [==============================] - 1s 12ms/step - loss: 0.6428 - accuracy: 0.8170 - val_loss: 3.7556 - val_accuracy: 0.2963 - lr: 5.0000e-04\n",
      "Epoch 63/200\n",
      "76/79 [===========================>..] - ETA: 0s - loss: 0.6284 - accuracy: 0.8199\n",
      "Epoch 63: val_accuracy did not improve from 0.29880\n",
      "79/79 [==============================] - 1s 12ms/step - loss: 0.6277 - accuracy: 0.8203 - val_loss: 3.7314 - val_accuracy: 0.2988 - lr: 5.0000e-04\n",
      "Epoch 64/200\n",
      "76/79 [===========================>..] - ETA: 0s - loss: 0.6146 - accuracy: 0.8265\n",
      "Epoch 64: val_accuracy did not improve from 0.29880\n",
      "79/79 [==============================] - 1s 12ms/step - loss: 0.6149 - accuracy: 0.8263 - val_loss: 3.7570 - val_accuracy: 0.2988 - lr: 5.0000e-04\n",
      "Epoch 65/200\n",
      "75/79 [===========================>..] - ETA: 0s - loss: 0.6133 - accuracy: 0.8248\n",
      "Epoch 65: val_accuracy did not improve from 0.29880\n",
      "79/79 [==============================] - 1s 13ms/step - loss: 0.6128 - accuracy: 0.8251 - val_loss: 3.7720 - val_accuracy: 0.2981 - lr: 5.0000e-04\n",
      "Epoch 66/200\n",
      "76/79 [===========================>..] - ETA: 0s - loss: 0.5890 - accuracy: 0.8331\n",
      "Epoch 66: val_accuracy did not improve from 0.29880\n",
      "79/79 [==============================] - 1s 12ms/step - loss: 0.5891 - accuracy: 0.8331 - val_loss: 3.7926 - val_accuracy: 0.2959 - lr: 5.0000e-04\n",
      "Epoch 67/200\n",
      "76/79 [===========================>..] - ETA: 0s - loss: 0.5896 - accuracy: 0.8325\n",
      "Epoch 67: val_accuracy did not improve from 0.29880\n",
      "79/79 [==============================] - 1s 13ms/step - loss: 0.5892 - accuracy: 0.8327 - val_loss: 3.8226 - val_accuracy: 0.2969 - lr: 5.0000e-04\n",
      "Epoch 68/200\n",
      "76/79 [===========================>..] - ETA: 0s - loss: 0.5730 - accuracy: 0.8364\n",
      "Epoch 68: val_accuracy did not improve from 0.29880\n",
      "79/79 [==============================] - 1s 12ms/step - loss: 0.5730 - accuracy: 0.8364 - val_loss: 3.8105 - val_accuracy: 0.2941 - lr: 5.0000e-04\n",
      "Epoch 69/200\n",
      "74/79 [===========================>..] - ETA: 0s - loss: 0.5630 - accuracy: 0.8400\n",
      "Epoch 69: ReduceLROnPlateau reducing learning rate to 0.0002500000118743628.\n",
      "\n",
      "Epoch 69: val_accuracy did not improve from 0.29880\n",
      "79/79 [==============================] - 1s 13ms/step - loss: 0.5639 - accuracy: 0.8395 - val_loss: 3.8515 - val_accuracy: 0.2948 - lr: 5.0000e-04\n",
      "Epoch 70/200\n",
      "76/79 [===========================>..] - ETA: 0s - loss: 0.5110 - accuracy: 0.8581\n",
      "Epoch 70: val_accuracy did not improve from 0.29880\n",
      "79/79 [==============================] - 1s 12ms/step - loss: 0.5097 - accuracy: 0.8587 - val_loss: 3.8405 - val_accuracy: 0.2953 - lr: 2.5000e-04\n",
      "Epoch 71/200\n",
      "76/79 [===========================>..] - ETA: 0s - loss: 0.4987 - accuracy: 0.8612\n",
      "Epoch 71: val_accuracy improved from 0.29880 to 0.30170, saving model to best_weights.hfd5\n",
      "79/79 [==============================] - 1s 14ms/step - loss: 0.4988 - accuracy: 0.8610 - val_loss: 3.8495 - val_accuracy: 0.3017 - lr: 2.5000e-04\n",
      "Epoch 72/200\n",
      "75/79 [===========================>..] - ETA: 0s - loss: 0.4899 - accuracy: 0.8643\n",
      "Epoch 72: val_accuracy did not improve from 0.30170\n",
      "79/79 [==============================] - 1s 12ms/step - loss: 0.4895 - accuracy: 0.8647 - val_loss: 3.8535 - val_accuracy: 0.2983 - lr: 2.5000e-04\n",
      "Epoch 73/200\n",
      "76/79 [===========================>..] - ETA: 0s - loss: 0.4797 - accuracy: 0.8664\n",
      "Epoch 73: val_accuracy did not improve from 0.30170\n",
      "79/79 [==============================] - 1s 12ms/step - loss: 0.4794 - accuracy: 0.8666 - val_loss: 3.8693 - val_accuracy: 0.2991 - lr: 2.5000e-04\n",
      "Epoch 74/200\n",
      "76/79 [===========================>..] - ETA: 0s - loss: 0.4760 - accuracy: 0.8681\n",
      "Epoch 74: val_accuracy did not improve from 0.30170\n",
      "79/79 [==============================] - 1s 13ms/step - loss: 0.4757 - accuracy: 0.8684 - val_loss: 3.8688 - val_accuracy: 0.2956 - lr: 2.5000e-04\n",
      "Epoch 75/200\n",
      "76/79 [===========================>..] - ETA: 0s - loss: 0.4705 - accuracy: 0.8698\n",
      "Epoch 75: val_accuracy did not improve from 0.30170\n",
      "79/79 [==============================] - 1s 12ms/step - loss: 0.4707 - accuracy: 0.8698 - val_loss: 3.8930 - val_accuracy: 0.2996 - lr: 2.5000e-04\n",
      "Epoch 76/200\n",
      "76/79 [===========================>..] - ETA: 0s - loss: 0.4687 - accuracy: 0.8692\n",
      "Epoch 76: val_accuracy did not improve from 0.30170\n",
      "79/79 [==============================] - 1s 12ms/step - loss: 0.4682 - accuracy: 0.8694 - val_loss: 3.9035 - val_accuracy: 0.2969 - lr: 2.5000e-04\n",
      "Epoch 77/200\n",
      "76/79 [===========================>..] - ETA: 0s - loss: 0.4582 - accuracy: 0.8731\n",
      "Epoch 77: val_accuracy did not improve from 0.30170\n",
      "79/79 [==============================] - 1s 12ms/step - loss: 0.4585 - accuracy: 0.8730 - val_loss: 3.9038 - val_accuracy: 0.2965 - lr: 2.5000e-04\n",
      "Epoch 78/200\n",
      "75/79 [===========================>..] - ETA: 0s - loss: 0.4619 - accuracy: 0.8706\n",
      "Epoch 78: val_accuracy did not improve from 0.30170\n",
      "79/79 [==============================] - 1s 14ms/step - loss: 0.4621 - accuracy: 0.8705 - val_loss: 3.9132 - val_accuracy: 0.2969 - lr: 2.5000e-04\n",
      "Epoch 79/200\n",
      "74/79 [===========================>..] - ETA: 0s - loss: 0.4496 - accuracy: 0.8745\n",
      "Epoch 79: ReduceLROnPlateau reducing learning rate to 0.0001250000059371814.\n",
      "\n",
      "Epoch 79: val_accuracy did not improve from 0.30170\n",
      "79/79 [==============================] - 1s 13ms/step - loss: 0.4494 - accuracy: 0.8745 - val_loss: 3.9044 - val_accuracy: 0.2958 - lr: 2.5000e-04\n",
      "Epoch 80/200\n",
      "76/79 [===========================>..] - ETA: 0s - loss: 0.4278 - accuracy: 0.8829\n",
      "Epoch 80: val_accuracy did not improve from 0.30170\n",
      "79/79 [==============================] - 1s 12ms/step - loss: 0.4281 - accuracy: 0.8829 - val_loss: 3.9091 - val_accuracy: 0.2982 - lr: 1.2500e-04\n",
      "Epoch 81/200\n",
      "76/79 [===========================>..] - ETA: 0s - loss: 0.4167 - accuracy: 0.8865\n",
      "Epoch 81: val_accuracy did not improve from 0.30170\n",
      "79/79 [==============================] - 1s 12ms/step - loss: 0.4175 - accuracy: 0.8861 - val_loss: 3.9196 - val_accuracy: 0.3005 - lr: 1.2500e-04\n",
      "Epoch 82/200\n",
      "76/79 [===========================>..] - ETA: 0s - loss: 0.4160 - accuracy: 0.8869\n",
      "Epoch 82: val_accuracy did not improve from 0.30170\n",
      "79/79 [==============================] - 1s 13ms/step - loss: 0.4164 - accuracy: 0.8868 - val_loss: 3.9288 - val_accuracy: 0.2997 - lr: 1.2500e-04\n",
      "Epoch 83/200\n",
      "76/79 [===========================>..] - ETA: 0s - loss: 0.4144 - accuracy: 0.8865\n",
      "Epoch 83: val_accuracy did not improve from 0.30170\n",
      "79/79 [==============================] - 1s 13ms/step - loss: 0.4149 - accuracy: 0.8862 - val_loss: 3.9352 - val_accuracy: 0.2990 - lr: 1.2500e-04\n",
      "Epoch 84/200\n",
      "76/79 [===========================>..] - ETA: 0s - loss: 0.4121 - accuracy: 0.8871\n",
      "Epoch 84: val_accuracy improved from 0.30170 to 0.30210, saving model to best_weights.hfd5\n",
      "79/79 [==============================] - 1s 14ms/step - loss: 0.4111 - accuracy: 0.8874 - val_loss: 3.9478 - val_accuracy: 0.3021 - lr: 1.2500e-04\n",
      "Epoch 85/200\n",
      "76/79 [===========================>..] - ETA: 0s - loss: 0.4114 - accuracy: 0.8874\n",
      "Epoch 85: val_accuracy did not improve from 0.30210\n",
      "79/79 [==============================] - 1s 13ms/step - loss: 0.4115 - accuracy: 0.8873 - val_loss: 3.9429 - val_accuracy: 0.3005 - lr: 1.2500e-04\n",
      "Epoch 86/200\n",
      "76/79 [===========================>..] - ETA: 0s - loss: 0.4073 - accuracy: 0.8894\n",
      "Epoch 86: val_accuracy did not improve from 0.30210\n",
      "79/79 [==============================] - 1s 13ms/step - loss: 0.4076 - accuracy: 0.8892 - val_loss: 3.9464 - val_accuracy: 0.3002 - lr: 1.2500e-04\n",
      "Epoch 87/200\n",
      "75/79 [===========================>..] - ETA: 0s - loss: 0.4046 - accuracy: 0.8904\n",
      "Epoch 87: val_accuracy did not improve from 0.30210\n",
      "79/79 [==============================] - 1s 13ms/step - loss: 0.4040 - accuracy: 0.8907 - val_loss: 3.9537 - val_accuracy: 0.3012 - lr: 1.2500e-04\n",
      "Epoch 88/200\n",
      "76/79 [===========================>..] - ETA: 0s - loss: 0.4065 - accuracy: 0.8885\n",
      "Epoch 88: val_accuracy did not improve from 0.30210\n",
      "79/79 [==============================] - 1s 13ms/step - loss: 0.4068 - accuracy: 0.8884 - val_loss: 3.9612 - val_accuracy: 0.3001 - lr: 1.2500e-04\n",
      "Epoch 89/200\n",
      "79/79 [==============================] - ETA: 0s - loss: 0.3991 - accuracy: 0.8915\n",
      "Epoch 89: val_accuracy did not improve from 0.30210\n",
      "79/79 [==============================] - 1s 13ms/step - loss: 0.3991 - accuracy: 0.8915 - val_loss: 3.9555 - val_accuracy: 0.3007 - lr: 1.2500e-04\n",
      "Epoch 90/200\n",
      "76/79 [===========================>..] - ETA: 0s - loss: 0.3992 - accuracy: 0.8920\n",
      "Epoch 90: val_accuracy did not improve from 0.30210\n",
      "79/79 [==============================] - 1s 13ms/step - loss: 0.3998 - accuracy: 0.8917 - val_loss: 3.9704 - val_accuracy: 0.2997 - lr: 1.2500e-04\n",
      "Epoch 91/200\n",
      "76/79 [===========================>..] - ETA: 0s - loss: 0.3984 - accuracy: 0.8909\n",
      "Epoch 91: val_accuracy did not improve from 0.30210\n",
      "79/79 [==============================] - 1s 13ms/step - loss: 0.3985 - accuracy: 0.8908 - val_loss: 3.9783 - val_accuracy: 0.2985 - lr: 1.2500e-04\n",
      "Epoch 92/200\n",
      "76/79 [===========================>..] - ETA: 0s - loss: 0.3934 - accuracy: 0.8922\n",
      "Epoch 92: ReduceLROnPlateau reducing learning rate to 6.25000029685907e-05.\n",
      "\n",
      "Epoch 92: val_accuracy did not improve from 0.30210\n",
      "79/79 [==============================] - 1s 13ms/step - loss: 0.3936 - accuracy: 0.8921 - val_loss: 3.9744 - val_accuracy: 0.2981 - lr: 1.2500e-04\n",
      "Epoch 93/200\n",
      "76/79 [===========================>..] - ETA: 0s - loss: 0.3844 - accuracy: 0.8953\n",
      "Epoch 93: val_accuracy did not improve from 0.30210\n",
      "79/79 [==============================] - 1s 13ms/step - loss: 0.3837 - accuracy: 0.8954 - val_loss: 3.9866 - val_accuracy: 0.2985 - lr: 6.2500e-05\n",
      "Epoch 94/200\n",
      "76/79 [===========================>..] - ETA: 0s - loss: 0.3811 - accuracy: 0.8980\n",
      "Epoch 94: val_accuracy did not improve from 0.30210\n",
      "79/79 [==============================] - 1s 12ms/step - loss: 0.3810 - accuracy: 0.8979 - val_loss: 3.9848 - val_accuracy: 0.2990 - lr: 6.2500e-05\n",
      "Epoch 95/200\n",
      "76/79 [===========================>..] - ETA: 0s - loss: 0.3765 - accuracy: 0.8987\n",
      "Epoch 95: val_accuracy did not improve from 0.30210\n",
      "79/79 [==============================] - 1s 12ms/step - loss: 0.3764 - accuracy: 0.8987 - val_loss: 3.9845 - val_accuracy: 0.3008 - lr: 6.2500e-05\n",
      "Epoch 96/200\n",
      "75/79 [===========================>..] - ETA: 0s - loss: 0.3772 - accuracy: 0.8978\n",
      "Epoch 96: val_accuracy did not improve from 0.30210\n",
      "79/79 [==============================] - 1s 13ms/step - loss: 0.3765 - accuracy: 0.8980 - val_loss: 3.9843 - val_accuracy: 0.2994 - lr: 6.2500e-05\n",
      "Epoch 97/200\n",
      "76/79 [===========================>..] - ETA: 0s - loss: 0.3771 - accuracy: 0.8983\n",
      "Epoch 97: val_accuracy did not improve from 0.30210\n",
      "79/79 [==============================] - 1s 13ms/step - loss: 0.3768 - accuracy: 0.8985 - val_loss: 3.9927 - val_accuracy: 0.3003 - lr: 6.2500e-05\n",
      "Epoch 98/200\n",
      "76/79 [===========================>..] - ETA: 0s - loss: 0.3737 - accuracy: 0.8989\n",
      "Epoch 98: val_accuracy did not improve from 0.30210\n",
      "79/79 [==============================] - 1s 12ms/step - loss: 0.3737 - accuracy: 0.8990 - val_loss: 3.9984 - val_accuracy: 0.2999 - lr: 6.2500e-05\n",
      "Epoch 99/200\n",
      "78/79 [============================>.] - ETA: 0s - loss: 0.3702 - accuracy: 0.9012\n",
      "Epoch 99: val_accuracy did not improve from 0.30210\n",
      "79/79 [==============================] - 1s 13ms/step - loss: 0.3702 - accuracy: 0.9012 - val_loss: 3.9960 - val_accuracy: 0.3008 - lr: 6.2500e-05\n",
      "Epoch 100/200\n",
      "76/79 [===========================>..] - ETA: 0s - loss: 0.3712 - accuracy: 0.9001\n",
      "Epoch 100: ReduceLROnPlateau reducing learning rate to 3.125000148429535e-05.\n",
      "\n",
      "Epoch 100: val_accuracy did not improve from 0.30210\n",
      "79/79 [==============================] - 1s 13ms/step - loss: 0.3713 - accuracy: 0.9000 - val_loss: 3.9996 - val_accuracy: 0.2982 - lr: 6.2500e-05\n",
      "Epoch 101/200\n",
      "76/79 [===========================>..] - ETA: 0s - loss: 0.3690 - accuracy: 0.9000\n",
      "Epoch 101: val_accuracy did not improve from 0.30210\n",
      "79/79 [==============================] - 1s 12ms/step - loss: 0.3683 - accuracy: 0.9003 - val_loss: 4.0002 - val_accuracy: 0.3004 - lr: 3.1250e-05\n",
      "Epoch 102/200\n",
      "76/79 [===========================>..] - ETA: 0s - loss: 0.3624 - accuracy: 0.9024\n",
      "Epoch 102: val_accuracy did not improve from 0.30210\n",
      "79/79 [==============================] - 1s 13ms/step - loss: 0.3624 - accuracy: 0.9023 - val_loss: 4.0047 - val_accuracy: 0.2988 - lr: 3.1250e-05\n",
      "Epoch 103/200\n",
      "76/79 [===========================>..] - ETA: 0s - loss: 0.3648 - accuracy: 0.9019\n",
      "Epoch 103: val_accuracy did not improve from 0.30210\n",
      "79/79 [==============================] - 1s 12ms/step - loss: 0.3644 - accuracy: 0.9018 - val_loss: 4.0041 - val_accuracy: 0.2989 - lr: 3.1250e-05\n",
      "Epoch 104/200\n",
      "76/79 [===========================>..] - ETA: 0s - loss: 0.3622 - accuracy: 0.9020\n",
      "Epoch 104: val_accuracy improved from 0.30210 to 0.30260, saving model to best_weights.hfd5\n",
      "79/79 [==============================] - 1s 15ms/step - loss: 0.3622 - accuracy: 0.9020 - val_loss: 3.9990 - val_accuracy: 0.3026 - lr: 3.1250e-05\n",
      "Epoch 105/200\n",
      "76/79 [===========================>..] - ETA: 0s - loss: 0.3597 - accuracy: 0.9033\n",
      "Epoch 105: val_accuracy did not improve from 0.30260\n",
      "79/79 [==============================] - 1s 12ms/step - loss: 0.3598 - accuracy: 0.9032 - val_loss: 4.0036 - val_accuracy: 0.2990 - lr: 3.1250e-05\n",
      "Epoch 106/200\n",
      "76/79 [===========================>..] - ETA: 0s - loss: 0.3589 - accuracy: 0.9033\n",
      "Epoch 106: val_accuracy did not improve from 0.30260\n",
      "79/79 [==============================] - 1s 13ms/step - loss: 0.3595 - accuracy: 0.9031 - val_loss: 4.0076 - val_accuracy: 0.3002 - lr: 3.1250e-05\n",
      "Epoch 107/200\n",
      "76/79 [===========================>..] - ETA: 0s - loss: 0.3584 - accuracy: 0.9041\n",
      "Epoch 107: val_accuracy did not improve from 0.30260\n",
      "79/79 [==============================] - 1s 13ms/step - loss: 0.3583 - accuracy: 0.9042 - val_loss: 4.0097 - val_accuracy: 0.3000 - lr: 3.1250e-05\n",
      "Epoch 108/200\n",
      "76/79 [===========================>..] - ETA: 0s - loss: 0.3616 - accuracy: 0.9025\n",
      "Epoch 108: val_accuracy did not improve from 0.30260\n",
      "79/79 [==============================] - 1s 13ms/step - loss: 0.3613 - accuracy: 0.9027 - val_loss: 4.0051 - val_accuracy: 0.3020 - lr: 3.1250e-05\n",
      "Epoch 109/200\n",
      "79/79 [==============================] - ETA: 0s - loss: 0.3559 - accuracy: 0.9045\n",
      "Epoch 109: val_accuracy did not improve from 0.30260\n",
      "79/79 [==============================] - 1s 14ms/step - loss: 0.3559 - accuracy: 0.9045 - val_loss: 4.0104 - val_accuracy: 0.2989 - lr: 3.1250e-05\n",
      "Epoch 110/200\n",
      "76/79 [===========================>..] - ETA: 0s - loss: 0.3578 - accuracy: 0.9041\n",
      "Epoch 110: val_accuracy did not improve from 0.30260\n",
      "79/79 [==============================] - 1s 13ms/step - loss: 0.3580 - accuracy: 0.9039 - val_loss: 4.0115 - val_accuracy: 0.2990 - lr: 3.1250e-05\n",
      "Epoch 111/200\n",
      "76/79 [===========================>..] - ETA: 0s - loss: 0.3572 - accuracy: 0.9038\n",
      "Epoch 111: val_accuracy did not improve from 0.30260\n",
      "79/79 [==============================] - 1s 12ms/step - loss: 0.3569 - accuracy: 0.9039 - val_loss: 4.0133 - val_accuracy: 0.2992 - lr: 3.1250e-05\n",
      "Epoch 112/200\n",
      "75/79 [===========================>..] - ETA: 0s - loss: 0.3575 - accuracy: 0.9037\n",
      "Epoch 112: ReduceLROnPlateau reducing learning rate to 1.5625000742147677e-05.\n",
      "\n",
      "Epoch 112: val_accuracy did not improve from 0.30260\n",
      "79/79 [==============================] - 1s 12ms/step - loss: 0.3575 - accuracy: 0.9037 - val_loss: 4.0190 - val_accuracy: 0.3023 - lr: 3.1250e-05\n",
      "Epoch 113/200\n",
      "76/79 [===========================>..] - ETA: 0s - loss: 0.3540 - accuracy: 0.9051\n",
      "Epoch 113: val_accuracy did not improve from 0.30260\n",
      "79/79 [==============================] - 1s 13ms/step - loss: 0.3533 - accuracy: 0.9053 - val_loss: 4.0154 - val_accuracy: 0.2998 - lr: 1.5625e-05\n",
      "Epoch 114/200\n",
      "76/79 [===========================>..] - ETA: 0s - loss: 0.3515 - accuracy: 0.9069\n",
      "Epoch 114: val_accuracy did not improve from 0.30260\n",
      "79/79 [==============================] - 1s 13ms/step - loss: 0.3521 - accuracy: 0.9068 - val_loss: 4.0142 - val_accuracy: 0.2990 - lr: 1.5625e-05\n",
      "Epoch 115/200\n",
      "76/79 [===========================>..] - ETA: 0s - loss: 0.3538 - accuracy: 0.9046\n",
      "Epoch 115: val_accuracy did not improve from 0.30260\n",
      "79/79 [==============================] - 1s 13ms/step - loss: 0.3535 - accuracy: 0.9047 - val_loss: 4.0200 - val_accuracy: 0.2990 - lr: 1.5625e-05\n",
      "Epoch 116/200\n",
      "76/79 [===========================>..] - ETA: 0s - loss: 0.3529 - accuracy: 0.9068\n",
      "Epoch 116: val_accuracy did not improve from 0.30260\n",
      "79/79 [==============================] - 1s 13ms/step - loss: 0.3529 - accuracy: 0.9069 - val_loss: 4.0211 - val_accuracy: 0.2993 - lr: 1.5625e-05\n",
      "Epoch 117/200\n",
      "76/79 [===========================>..] - ETA: 0s - loss: 0.3523 - accuracy: 0.9057\n",
      "Epoch 117: val_accuracy did not improve from 0.30260\n",
      "79/79 [==============================] - 1s 14ms/step - loss: 0.3524 - accuracy: 0.9058 - val_loss: 4.0176 - val_accuracy: 0.2995 - lr: 1.5625e-05\n",
      "Epoch 118/200\n",
      "76/79 [===========================>..] - ETA: 0s - loss: 0.3560 - accuracy: 0.9046\n",
      "Epoch 118: val_accuracy did not improve from 0.30260\n",
      "79/79 [==============================] - 1s 13ms/step - loss: 0.3564 - accuracy: 0.9045 - val_loss: 4.0206 - val_accuracy: 0.2995 - lr: 1.5625e-05\n",
      "Epoch 119/200\n",
      "74/79 [===========================>..] - ETA: 0s - loss: 0.3581 - accuracy: 0.9032\n",
      "Epoch 119: val_accuracy did not improve from 0.30260\n",
      "79/79 [==============================] - 1s 13ms/step - loss: 0.3573 - accuracy: 0.9036 - val_loss: 4.0241 - val_accuracy: 0.2991 - lr: 1.5625e-05\n",
      "Epoch 120/200\n",
      "76/79 [===========================>..] - ETA: 0s - loss: 0.3501 - accuracy: 0.9066\n",
      "Epoch 120: ReduceLROnPlateau reducing learning rate to 1e-05.\n",
      "\n",
      "Epoch 120: val_accuracy did not improve from 0.30260\n",
      "79/79 [==============================] - 1s 13ms/step - loss: 0.3504 - accuracy: 0.9067 - val_loss: 4.0217 - val_accuracy: 0.3006 - lr: 1.5625e-05\n",
      "Epoch 121/200\n",
      "76/79 [===========================>..] - ETA: 0s - loss: 0.3521 - accuracy: 0.9066\n",
      "Epoch 121: val_accuracy did not improve from 0.30260\n",
      "79/79 [==============================] - 1s 13ms/step - loss: 0.3515 - accuracy: 0.9066 - val_loss: 4.0213 - val_accuracy: 0.2999 - lr: 1.0000e-05\n",
      "Epoch 122/200\n",
      "75/79 [===========================>..] - ETA: 0s - loss: 0.3511 - accuracy: 0.9057\n",
      "Epoch 122: val_accuracy did not improve from 0.30260\n",
      "79/79 [==============================] - 1s 13ms/step - loss: 0.3508 - accuracy: 0.9061 - val_loss: 4.0221 - val_accuracy: 0.2996 - lr: 1.0000e-05\n",
      "Epoch 123/200\n",
      "76/79 [===========================>..] - ETA: 0s - loss: 0.3484 - accuracy: 0.9080\n",
      "Epoch 123: val_accuracy did not improve from 0.30260\n",
      "79/79 [==============================] - 1s 13ms/step - loss: 0.3484 - accuracy: 0.9077 - val_loss: 4.0217 - val_accuracy: 0.2998 - lr: 1.0000e-05\n",
      "Epoch 124/200\n",
      "76/79 [===========================>..] - ETA: 0s - loss: 0.3494 - accuracy: 0.9075Restoring model weights from the end of the best epoch: 104.\n",
      "\n",
      "Epoch 124: val_accuracy did not improve from 0.30260\n",
      "79/79 [==============================] - 1s 13ms/step - loss: 0.3495 - accuracy: 0.9075 - val_loss: 4.0208 - val_accuracy: 0.3008 - lr: 1.0000e-05\n",
      "Epoch 124: early stopping\n"
     ]
    }
   ],
   "source": [
    "history = model.fit(\n",
    "    x = x_train_aug2, \n",
    "    y = y_train_fine_aug2, \n",
    "    batch_size=1024, \n",
    "    epochs=200, \n",
    "    validation_data = (x_val, y_val), \n",
    "    callbacks= [\n",
    "        rlrop,\n",
    "        es,\n",
    "        mc,\n",
    "        tb,\n",
    "    ]\n",
    ")"
   ]
  },
  {
   "cell_type": "markdown",
   "id": "f3a5e7cb",
   "metadata": {
    "papermill": {
     "duration": 0.191656,
     "end_time": "2023-11-01T00:26:40.395850",
     "exception": false,
     "start_time": "2023-11-01T00:26:40.204194",
     "status": "completed"
    },
    "tags": []
   },
   "source": [
    "## Results\n",
    "\n",
    "Se probaron diferentes modelos y el mejor resultado se muestra a continuación."
   ]
  },
  {
   "cell_type": "code",
   "execution_count": 24,
   "id": "06e2c4c4",
   "metadata": {
    "execution": {
     "iopub.execute_input": "2023-11-01T00:26:40.783583Z",
     "iopub.status.busy": "2023-11-01T00:26:40.783209Z",
     "iopub.status.idle": "2023-11-01T00:26:40.789089Z",
     "shell.execute_reply": "2023-11-01T00:26:40.788214Z"
    },
    "papermill": {
     "duration": 0.200874,
     "end_time": "2023-11-01T00:26:40.791096",
     "exception": false,
     "start_time": "2023-11-01T00:26:40.590222",
     "status": "completed"
    },
    "tags": []
   },
   "outputs": [
    {
     "name": "stdout",
     "output_type": "stream",
     "text": [
      "Last Validation Accuracy: 30.08 %\n",
      "Last Accuracy: 90.75 %\n"
     ]
    }
   ],
   "source": [
    "last_valacc = history.history['val_accuracy'][-1]*100\n",
    "print(\"Last Validation Accuracy:\" , format(last_valacc, \".2f\"), \"%\")\n",
    "last_acc = history.history['accuracy'][-1]*100\n",
    "print(\"Last Accuracy:\" , format(last_acc, \".2f\"), \"%\")"
   ]
  },
  {
   "cell_type": "code",
   "execution_count": 25,
   "id": "53b28270",
   "metadata": {
    "execution": {
     "iopub.execute_input": "2023-11-01T00:26:41.184798Z",
     "iopub.status.busy": "2023-11-01T00:26:41.184440Z",
     "iopub.status.idle": "2023-11-01T00:26:41.461575Z",
     "shell.execute_reply": "2023-11-01T00:26:41.460563Z"
    },
    "papermill": {
     "duration": 0.477062,
     "end_time": "2023-11-01T00:26:41.463695",
     "exception": false,
     "start_time": "2023-11-01T00:26:40.986633",
     "status": "completed"
    },
    "tags": []
   },
   "outputs": [
    {
     "data": {
      "text/plain": [
       "<matplotlib.legend.Legend at 0x7f131c2d0eb0>"
      ]
     },
     "execution_count": 25,
     "metadata": {},
     "output_type": "execute_result"
    },
    {
     "data": {
      "image/png": "[encoded data removed]",
      "text/plain": [
       "<Figure size 640x480 with 1 Axes>"
      ]
     },
     "metadata": {},
     "output_type": "display_data"
    }
   ],
   "source": [
    "plt.plot(history.history[\"accuracy\"], label='Train')\n",
    "plt.plot(history.history[\"val_accuracy\"], label='Validation')\n",
    "plt.title(\"Accuracy\")\n",
    "plt.legend()"
   ]
  },
  {
   "cell_type": "code",
   "execution_count": 26,
   "id": "94425f45",
   "metadata": {
    "execution": {
     "iopub.execute_input": "2023-11-01T00:26:41.865969Z",
     "iopub.status.busy": "2023-11-01T00:26:41.865074Z",
     "iopub.status.idle": "2023-11-01T00:26:42.160367Z",
     "shell.execute_reply": "2023-11-01T00:26:42.159441Z"
    },
    "papermill": {
     "duration": 0.495338,
     "end_time": "2023-11-01T00:26:42.162536",
     "exception": false,
     "start_time": "2023-11-01T00:26:41.667198",
     "status": "completed"
    },
    "tags": []
   },
   "outputs": [
    {
     "data": {
      "text/plain": [
       "<matplotlib.legend.Legend at 0x7f131c2e2bf0>"
      ]
     },
     "execution_count": 26,
     "metadata": {},
     "output_type": "execute_result"
    },
    {
     "data": {
      "image/png": "[encoded data removed]",
      "text/plain": [
       "<Figure size 640x480 with 1 Axes>"
      ]
     },
     "metadata": {},
     "output_type": "display_data"
    }
   ],
   "source": [
    "plt.plot(history.history[\"loss\"], label='Train')\n",
    "plt.plot(history.history[\"val_loss\"], label='Validation')\n",
    "plt.title(\"Loss\")\n",
    "plt.legend()"
   ]
  },
  {
   "cell_type": "markdown",
   "id": "0050c305",
   "metadata": {
    "papermill": {
     "duration": 0.242994,
     "end_time": "2023-11-01T00:26:42.603657",
     "exception": false,
     "start_time": "2023-11-01T00:26:42.360663",
     "status": "completed"
    },
    "tags": []
   },
   "source": [
    "## Submissions generator\n",
    "\n"
   ]
  },
  {
   "cell_type": "code",
   "execution_count": 27,
   "id": "da0c4d79",
   "metadata": {
    "execution": {
     "iopub.execute_input": "2023-11-01T00:26:42.990656Z",
     "iopub.status.busy": "2023-11-01T00:26:42.989764Z",
     "iopub.status.idle": "2023-11-01T00:26:44.045252Z",
     "shell.execute_reply": "2023-11-01T00:26:44.044326Z"
    },
    "papermill": {
     "duration": 1.251662,
     "end_time": "2023-11-01T00:26:44.048142",
     "exception": false,
     "start_time": "2023-11-01T00:26:42.796480",
     "status": "completed"
    },
    "tags": []
   },
   "outputs": [
    {
     "name": "stdout",
     "output_type": "stream",
     "text": [
      "313/313 [==============================] - 1s 1ms/step\n"
     ]
    }
   ],
   "source": [
    "predictions = model.predict(x_test).argmax(axis=1)"
   ]
  },
  {
   "cell_type": "code",
   "execution_count": 28,
   "id": "8ab0bf11",
   "metadata": {
    "execution": {
     "iopub.execute_input": "2023-11-01T00:26:44.457069Z",
     "iopub.status.busy": "2023-11-01T00:26:44.456704Z",
     "iopub.status.idle": "2023-11-01T00:26:44.486834Z",
     "shell.execute_reply": "2023-11-01T00:26:44.486105Z"
    },
    "papermill": {
     "duration": 0.227005,
     "end_time": "2023-11-01T00:26:44.488811",
     "exception": false,
     "start_time": "2023-11-01T00:26:44.261806",
     "status": "completed"
    },
    "tags": []
   },
   "outputs": [],
   "source": [
    "df = pd.DataFrame(predictions, columns=[\"Label\"])\n",
    "df.index.name = \"Id\"\n",
    "df.to_csv(\"submission.csv\")"
   ]
  },
  {
   "cell_type": "markdown",
   "id": "ffa2b951",
   "metadata": {
    "papermill": {
     "duration": 0.19473,
     "end_time": "2023-11-01T00:26:44.879837",
     "exception": false,
     "start_time": "2023-11-01T00:26:44.685107",
     "status": "completed"
    },
    "tags": []
   },
   "source": [
    "En conclusión, el uso de la red arrojo un accuracy significativo para tener 100 clases a clasificar, se aprendió en el proceso el uso de MLP, normalizadores, tipos de capas y diferentes maneras de modificar parámetros para obtener el mejor resultado posible. \n",
    "\n",
    "**Mejor accuracy con esta MLP => ~30.3%**"
   ]
  }
 ],
 "metadata": {
  "kernelspec": {
   "display_name": "Python 3",
   "language": "python",
   "name": "python3"
  },
  "language_info": {
   "codemirror_mode": {
    "name": "ipython",
    "version": 3
   },
   "file_extension": ".py",
   "mimetype": "text/x-python",
   "name": "python",
   "nbconvert_exporter": "python",
   "pygments_lexer": "ipython3",
   "version": "3.10.12"
  },
  "papermill": {
   "default_parameters": {},
   "duration": 171.62225,
   "end_time": "2023-11-01T00:26:48.211350",
   "environment_variables": {},
   "exception": null,
   "input_path": "__notebook__.ipynb",
   "output_path": "__notebook__.ipynb",
   "parameters": {},
   "start_time": "2023-11-01T00:23:56.589100",
   "version": "2.4.0"
  }
 },
 "nbformat": 4,
 "nbformat_minor": 5
}
